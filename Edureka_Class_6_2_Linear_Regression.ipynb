{
  "nbformat": 4,
  "nbformat_minor": 0,
  "metadata": {
    "colab": {
      "provenance": [],
      "collapsed_sections": [],
      "include_colab_link": true
    },
    "kernelspec": {
      "name": "python3",
      "display_name": "Python 3"
    },
    "language_info": {
      "name": "python"
    }
  },
  "cells": [
    {
      "cell_type": "markdown",
      "metadata": {
        "id": "view-in-github",
        "colab_type": "text"
      },
      "source": [
        "<a href=\"https://colab.research.google.com/github/azadeutsche114/Bag-of-words/blob/main/Edureka_Class_6_2_Linear_Regression.ipynb\" target=\"_parent\"><img src=\"https://colab.research.google.com/assets/colab-badge.svg\" alt=\"Open In Colab\"/></a>"
      ]
    },
    {
      "cell_type": "code",
      "execution_count": null,
      "metadata": {
        "id": "kTS_jTDZifEj"
      },
      "outputs": [],
      "source": [
        "import numpy as np\n",
        "import pandas as pd\n",
        "import seaborn as sns\n",
        "import matplotlib.pyplot as plt"
      ]
    },
    {
      "cell_type": "markdown",
      "source": [
        "# Load the dataset"
      ],
      "metadata": {
        "id": "kJ0bm4bQrf2v"
      }
    },
    {
      "cell_type": "code",
      "source": [
        "!wget https://raw.githubusercontent.com/selva86/datasets/master/BostonHousing.csv"
      ],
      "metadata": {
        "colab": {
          "base_uri": "https://localhost:8080/"
        },
        "id": "fzeABpE-i7n6",
        "outputId": "74f5b7ca-e461-4c02-e4e0-8bcfa3996c0d"
      },
      "execution_count": null,
      "outputs": [
        {
          "output_type": "stream",
          "name": "stdout",
          "text": [
            "--2022-09-06 02:01:00--  https://raw.githubusercontent.com/selva86/datasets/master/BostonHousing.csv\n",
            "Resolving raw.githubusercontent.com (raw.githubusercontent.com)... 185.199.108.133, 185.199.109.133, 185.199.110.133, ...\n",
            "Connecting to raw.githubusercontent.com (raw.githubusercontent.com)|185.199.108.133|:443... connected.\n",
            "HTTP request sent, awaiting response... 200 OK\n",
            "Length: 35735 (35K) [text/plain]\n",
            "Saving to: ‘BostonHousing.csv’\n",
            "\n",
            "\rBostonHousing.csv     0%[                    ]       0  --.-KB/s               \rBostonHousing.csv   100%[===================>]  34.90K  --.-KB/s    in 0.001s  \n",
            "\n",
            "2022-09-06 02:01:00 (36.5 MB/s) - ‘BostonHousing.csv’ saved [35735/35735]\n",
            "\n"
          ]
        }
      ]
    },
    {
      "cell_type": "code",
      "source": [
        "df = pd.read_csv('BostonHousing.csv')\n",
        "df.head()"
      ],
      "metadata": {
        "colab": {
          "base_uri": "https://localhost:8080/",
          "height": 206
        },
        "id": "CJnt73sqi_8O",
        "outputId": "44073db0-d4f6-49dc-b2f6-bd1ab644c8af"
      },
      "execution_count": null,
      "outputs": [
        {
          "output_type": "execute_result",
          "data": {
            "text/plain": [
              "      crim    zn  indus  chas    nox     rm   age     dis  rad  tax  ptratio  \\\n",
              "0  0.00632  18.0   2.31     0  0.538  6.575  65.2  4.0900    1  296     15.3   \n",
              "1  0.02731   0.0   7.07     0  0.469  6.421  78.9  4.9671    2  242     17.8   \n",
              "2  0.02729   0.0   7.07     0  0.469  7.185  61.1  4.9671    2  242     17.8   \n",
              "3  0.03237   0.0   2.18     0  0.458  6.998  45.8  6.0622    3  222     18.7   \n",
              "4  0.06905   0.0   2.18     0  0.458  7.147  54.2  6.0622    3  222     18.7   \n",
              "\n",
              "        b  lstat  medv  \n",
              "0  396.90   4.98  24.0  \n",
              "1  396.90   9.14  21.6  \n",
              "2  392.83   4.03  34.7  \n",
              "3  394.63   2.94  33.4  \n",
              "4  396.90   5.33  36.2  "
            ],
            "text/html": [
              "\n",
              "  <div id=\"df-28e7a2ab-9937-4ae5-a034-928c120baf9e\">\n",
              "    <div class=\"colab-df-container\">\n",
              "      <div>\n",
              "<style scoped>\n",
              "    .dataframe tbody tr th:only-of-type {\n",
              "        vertical-align: middle;\n",
              "    }\n",
              "\n",
              "    .dataframe tbody tr th {\n",
              "        vertical-align: top;\n",
              "    }\n",
              "\n",
              "    .dataframe thead th {\n",
              "        text-align: right;\n",
              "    }\n",
              "</style>\n",
              "<table border=\"1\" class=\"dataframe\">\n",
              "  <thead>\n",
              "    <tr style=\"text-align: right;\">\n",
              "      <th></th>\n",
              "      <th>crim</th>\n",
              "      <th>zn</th>\n",
              "      <th>indus</th>\n",
              "      <th>chas</th>\n",
              "      <th>nox</th>\n",
              "      <th>rm</th>\n",
              "      <th>age</th>\n",
              "      <th>dis</th>\n",
              "      <th>rad</th>\n",
              "      <th>tax</th>\n",
              "      <th>ptratio</th>\n",
              "      <th>b</th>\n",
              "      <th>lstat</th>\n",
              "      <th>medv</th>\n",
              "    </tr>\n",
              "  </thead>\n",
              "  <tbody>\n",
              "    <tr>\n",
              "      <th>0</th>\n",
              "      <td>0.00632</td>\n",
              "      <td>18.0</td>\n",
              "      <td>2.31</td>\n",
              "      <td>0</td>\n",
              "      <td>0.538</td>\n",
              "      <td>6.575</td>\n",
              "      <td>65.2</td>\n",
              "      <td>4.0900</td>\n",
              "      <td>1</td>\n",
              "      <td>296</td>\n",
              "      <td>15.3</td>\n",
              "      <td>396.90</td>\n",
              "      <td>4.98</td>\n",
              "      <td>24.0</td>\n",
              "    </tr>\n",
              "    <tr>\n",
              "      <th>1</th>\n",
              "      <td>0.02731</td>\n",
              "      <td>0.0</td>\n",
              "      <td>7.07</td>\n",
              "      <td>0</td>\n",
              "      <td>0.469</td>\n",
              "      <td>6.421</td>\n",
              "      <td>78.9</td>\n",
              "      <td>4.9671</td>\n",
              "      <td>2</td>\n",
              "      <td>242</td>\n",
              "      <td>17.8</td>\n",
              "      <td>396.90</td>\n",
              "      <td>9.14</td>\n",
              "      <td>21.6</td>\n",
              "    </tr>\n",
              "    <tr>\n",
              "      <th>2</th>\n",
              "      <td>0.02729</td>\n",
              "      <td>0.0</td>\n",
              "      <td>7.07</td>\n",
              "      <td>0</td>\n",
              "      <td>0.469</td>\n",
              "      <td>7.185</td>\n",
              "      <td>61.1</td>\n",
              "      <td>4.9671</td>\n",
              "      <td>2</td>\n",
              "      <td>242</td>\n",
              "      <td>17.8</td>\n",
              "      <td>392.83</td>\n",
              "      <td>4.03</td>\n",
              "      <td>34.7</td>\n",
              "    </tr>\n",
              "    <tr>\n",
              "      <th>3</th>\n",
              "      <td>0.03237</td>\n",
              "      <td>0.0</td>\n",
              "      <td>2.18</td>\n",
              "      <td>0</td>\n",
              "      <td>0.458</td>\n",
              "      <td>6.998</td>\n",
              "      <td>45.8</td>\n",
              "      <td>6.0622</td>\n",
              "      <td>3</td>\n",
              "      <td>222</td>\n",
              "      <td>18.7</td>\n",
              "      <td>394.63</td>\n",
              "      <td>2.94</td>\n",
              "      <td>33.4</td>\n",
              "    </tr>\n",
              "    <tr>\n",
              "      <th>4</th>\n",
              "      <td>0.06905</td>\n",
              "      <td>0.0</td>\n",
              "      <td>2.18</td>\n",
              "      <td>0</td>\n",
              "      <td>0.458</td>\n",
              "      <td>7.147</td>\n",
              "      <td>54.2</td>\n",
              "      <td>6.0622</td>\n",
              "      <td>3</td>\n",
              "      <td>222</td>\n",
              "      <td>18.7</td>\n",
              "      <td>396.90</td>\n",
              "      <td>5.33</td>\n",
              "      <td>36.2</td>\n",
              "    </tr>\n",
              "  </tbody>\n",
              "</table>\n",
              "</div>\n",
              "      <button class=\"colab-df-convert\" onclick=\"convertToInteractive('df-28e7a2ab-9937-4ae5-a034-928c120baf9e')\"\n",
              "              title=\"Convert this dataframe to an interactive table.\"\n",
              "              style=\"display:none;\">\n",
              "        \n",
              "  <svg xmlns=\"http://www.w3.org/2000/svg\" height=\"24px\"viewBox=\"0 0 24 24\"\n",
              "       width=\"24px\">\n",
              "    <path d=\"M0 0h24v24H0V0z\" fill=\"none\"/>\n",
              "    <path d=\"M18.56 5.44l.94 2.06.94-2.06 2.06-.94-2.06-.94-.94-2.06-.94 2.06-2.06.94zm-11 1L8.5 8.5l.94-2.06 2.06-.94-2.06-.94L8.5 2.5l-.94 2.06-2.06.94zm10 10l.94 2.06.94-2.06 2.06-.94-2.06-.94-.94-2.06-.94 2.06-2.06.94z\"/><path d=\"M17.41 7.96l-1.37-1.37c-.4-.4-.92-.59-1.43-.59-.52 0-1.04.2-1.43.59L10.3 9.45l-7.72 7.72c-.78.78-.78 2.05 0 2.83L4 21.41c.39.39.9.59 1.41.59.51 0 1.02-.2 1.41-.59l7.78-7.78 2.81-2.81c.8-.78.8-2.07 0-2.86zM5.41 20L4 18.59l7.72-7.72 1.47 1.35L5.41 20z\"/>\n",
              "  </svg>\n",
              "      </button>\n",
              "      \n",
              "  <style>\n",
              "    .colab-df-container {\n",
              "      display:flex;\n",
              "      flex-wrap:wrap;\n",
              "      gap: 12px;\n",
              "    }\n",
              "\n",
              "    .colab-df-convert {\n",
              "      background-color: #E8F0FE;\n",
              "      border: none;\n",
              "      border-radius: 50%;\n",
              "      cursor: pointer;\n",
              "      display: none;\n",
              "      fill: #1967D2;\n",
              "      height: 32px;\n",
              "      padding: 0 0 0 0;\n",
              "      width: 32px;\n",
              "    }\n",
              "\n",
              "    .colab-df-convert:hover {\n",
              "      background-color: #E2EBFA;\n",
              "      box-shadow: 0px 1px 2px rgba(60, 64, 67, 0.3), 0px 1px 3px 1px rgba(60, 64, 67, 0.15);\n",
              "      fill: #174EA6;\n",
              "    }\n",
              "\n",
              "    [theme=dark] .colab-df-convert {\n",
              "      background-color: #3B4455;\n",
              "      fill: #D2E3FC;\n",
              "    }\n",
              "\n",
              "    [theme=dark] .colab-df-convert:hover {\n",
              "      background-color: #434B5C;\n",
              "      box-shadow: 0px 1px 3px 1px rgba(0, 0, 0, 0.15);\n",
              "      filter: drop-shadow(0px 1px 2px rgba(0, 0, 0, 0.3));\n",
              "      fill: #FFFFFF;\n",
              "    }\n",
              "  </style>\n",
              "\n",
              "      <script>\n",
              "        const buttonEl =\n",
              "          document.querySelector('#df-28e7a2ab-9937-4ae5-a034-928c120baf9e button.colab-df-convert');\n",
              "        buttonEl.style.display =\n",
              "          google.colab.kernel.accessAllowed ? 'block' : 'none';\n",
              "\n",
              "        async function convertToInteractive(key) {\n",
              "          const element = document.querySelector('#df-28e7a2ab-9937-4ae5-a034-928c120baf9e');\n",
              "          const dataTable =\n",
              "            await google.colab.kernel.invokeFunction('convertToInteractive',\n",
              "                                                     [key], {});\n",
              "          if (!dataTable) return;\n",
              "\n",
              "          const docLinkHtml = 'Like what you see? Visit the ' +\n",
              "            '<a target=\"_blank\" href=https://colab.research.google.com/notebooks/data_table.ipynb>data table notebook</a>'\n",
              "            + ' to learn more about interactive tables.';\n",
              "          element.innerHTML = '';\n",
              "          dataTable['output_type'] = 'display_data';\n",
              "          await google.colab.output.renderOutput(dataTable, element);\n",
              "          const docLink = document.createElement('div');\n",
              "          docLink.innerHTML = docLinkHtml;\n",
              "          element.appendChild(docLink);\n",
              "        }\n",
              "      </script>\n",
              "    </div>\n",
              "  </div>\n",
              "  "
            ]
          },
          "metadata": {},
          "execution_count": 3
        }
      ]
    },
    {
      "cell_type": "markdown",
      "source": [
        "# Data Preprocessing"
      ],
      "metadata": {
        "id": "Zi-m3kfKrhYd"
      }
    },
    {
      "cell_type": "code",
      "source": [
        "df.shape"
      ],
      "metadata": {
        "colab": {
          "base_uri": "https://localhost:8080/"
        },
        "id": "z_dmmTTGjN7-",
        "outputId": "6aa40643-68b9-4016-de35-089817184667"
      },
      "execution_count": null,
      "outputs": [
        {
          "output_type": "execute_result",
          "data": {
            "text/plain": [
              "(506, 14)"
            ]
          },
          "metadata": {},
          "execution_count": 4
        }
      ]
    },
    {
      "cell_type": "code",
      "source": [
        "df.isna().sum() # missing values"
      ],
      "metadata": {
        "colab": {
          "base_uri": "https://localhost:8080/"
        },
        "id": "LGKOb484jTEA",
        "outputId": "ea5a4c7e-d97a-43d8-8b51-91d39489aadb"
      },
      "execution_count": null,
      "outputs": [
        {
          "output_type": "execute_result",
          "data": {
            "text/plain": [
              "crim       0\n",
              "zn         0\n",
              "indus      0\n",
              "chas       0\n",
              "nox        0\n",
              "rm         0\n",
              "age        0\n",
              "dis        0\n",
              "rad        0\n",
              "tax        0\n",
              "ptratio    0\n",
              "b          0\n",
              "lstat      0\n",
              "medv       0\n",
              "dtype: int64"
            ]
          },
          "metadata": {},
          "execution_count": 5
        }
      ]
    },
    {
      "cell_type": "markdown",
      "source": [
        "# Data Analysis"
      ],
      "metadata": {
        "id": "P91o30Rurkfd"
      }
    },
    {
      "cell_type": "code",
      "source": [
        "# fill with mean/median value for continuous data\n",
        "# fill with model for categorical data\n",
        "\n",
        "# Heatmap\n",
        "# correlation --> numerical value which represents how one variable is related to another variable\n",
        "# ranges from -1 to +1\n",
        "\n",
        "# correlation = +1 --> increase in one variable will result in increase of another\n",
        "# correlation = -1 --> increase in one variable will result in decrease of another"
      ],
      "metadata": {
        "id": "_T9zVaMZjZ_J"
      },
      "execution_count": null,
      "outputs": []
    },
    {
      "cell_type": "markdown",
      "source": [
        "![image.png](data:image/png;base64,iVBORw0KGgoAAAANSUhEUgAAAu4AAAJTCAYAAABXSZNhAAAEDmlDQ1BrQ0dDb2xvclNwYWNlR2VuZXJpY1JHQgAAOI2NVV1oHFUUPpu5syskzoPUpqaSDv41lLRsUtGE2uj+ZbNt3CyTbLRBkMns3Z1pJjPj/KRpKT4UQRDBqOCT4P9bwSchaqvtiy2itFCiBIMo+ND6R6HSFwnruTOzu5O4a73L3PnmnO9+595z7t4LkLgsW5beJQIsGq4t5dPis8fmxMQ6dMF90A190C0rjpUqlSYBG+PCv9rt7yDG3tf2t/f/Z+uuUEcBiN2F2Kw4yiLiZQD+FcWyXYAEQfvICddi+AnEO2ycIOISw7UAVxieD/Cyz5mRMohfRSwoqoz+xNuIB+cj9loEB3Pw2448NaitKSLLRck2q5pOI9O9g/t/tkXda8Tbg0+PszB9FN8DuPaXKnKW4YcQn1Xk3HSIry5ps8UQ/2W5aQnxIwBdu7yFcgrxPsRjVXu8HOh0qao30cArp9SZZxDfg3h1wTzKxu5E/LUxX5wKdX5SnAzmDx4A4OIqLbB69yMesE1pKojLjVdoNsfyiPi45hZmAn3uLWdpOtfQOaVmikEs7ovj8hFWpz7EV6mel0L9Xy23FMYlPYZenAx0yDB1/PX6dledmQjikjkXCxqMJS9WtfFCyH9XtSekEF+2dH+P4tzITduTygGfv58a5VCTH5PtXD7EFZiNyUDBhHnsFTBgE0SQIA9pfFtgo6cKGuhooeilaKH41eDs38Ip+f4At1Rq/sjr6NEwQqb/I/DQqsLvaFUjvAx+eWirddAJZnAj1DFJL0mSg/gcIpPkMBkhoyCSJ8lTZIxk0TpKDjXHliJzZPO50dR5ASNSnzeLvIvod0HG/mdkmOC0z8VKnzcQ2M/Yz2vKldduXjp9bleLu0ZWn7vWc+l0JGcaai10yNrUnXLP/8Jf59ewX+c3Wgz+B34Df+vbVrc16zTMVgp9um9bxEfzPU5kPqUtVWxhs6OiWTVW+gIfywB9uXi7CGcGW/zk98k/kmvJ95IfJn/j3uQ+4c5zn3Kfcd+AyF3gLnJfcl9xH3OfR2rUee80a+6vo7EK5mmXUdyfQlrYLTwoZIU9wsPCZEtP6BWGhAlhL3p2N6sTjRdduwbHsG9kq32sgBepc+xurLPW4T9URpYGJ3ym4+8zA05u44QjST8ZIoVtu3qE7fWmdn5LPdqvgcZz8Ww8BWJ8X3w0PhQ/wnCDGd+LvlHs8dRy6bLLDuKMaZ20tZrqisPJ5ONiCq8yKhYM5cCgKOu66Lsc0aYOtZdo5QCwezI4wm9J/v0X23mlZXOfBjj8Jzv3WrY5D+CsA9D7aMs2gGfjve8ArD6mePZSeCfEYt8CONWDw8FXTxrPqx/r9Vt4biXeANh8vV7/+/16ffMD1N8AuKD/A/8leAvFY9bLAAAAXGVYSWZNTQAqAAAACAAEAQYAAwAAAAEAAgAAARIAAwAAAAEAAQAAASgAAwAAAAEAAgAAh2kABAAAAAEAAAA+AAAAAAACoAIABAAAAAEAAALuoAMABAAAAAEAAAJTAAAAAC5oy0cAAAILaVRYdFhNTDpjb20uYWRvYmUueG1wAAAAAAA8eDp4bXBtZXRhIHhtbG5zOng9ImFkb2JlOm5zOm1ldGEvIiB4OnhtcHRrPSJYTVAgQ29yZSA2LjAuMCI+CiAgIDxyZGY6UkRGIHhtbG5zOnJkZj0iaHR0cDovL3d3dy53My5vcmcvMTk5OS8wMi8yMi1yZGYtc3ludGF4LW5zIyI+CiAgICAgIDxyZGY6RGVzY3JpcHRpb24gcmRmOmFib3V0PSIiCiAgICAgICAgICAgIHhtbG5zOnRpZmY9Imh0dHA6Ly9ucy5hZG9iZS5jb20vdGlmZi8xLjAvIj4KICAgICAgICAgPHRpZmY6UmVzb2x1dGlvblVuaXQ+MjwvdGlmZjpSZXNvbHV0aW9uVW5pdD4KICAgICAgICAgPHRpZmY6T3JpZW50YXRpb24+MTwvdGlmZjpPcmllbnRhdGlvbj4KICAgICAgICAgPHRpZmY6Q29tcHJlc3Npb24+MTwvdGlmZjpDb21wcmVzc2lvbj4KICAgICAgICAgPHRpZmY6UGhvdG9tZXRyaWNJbnRlcnByZXRhdGlvbj4yPC90aWZmOlBob3RvbWV0cmljSW50ZXJwcmV0YXRpb24+CiAgICAgIDwvcmRmOkRlc2NyaXB0aW9uPgogICA8L3JkZjpSREY+CjwveDp4bXBtZXRhPgqWqErQAABAAElEQVR4Aex9B2CVx5XuUe9dqAAqFIneMcUYg40L7iYbt8SJ05zi3c1L8jYvL1uSXW/JbrJrb/LSnWSTbLK4JbiAbWxjjLED2Mj0XiUBkpCECuoS0ptvrs7V3NF/r64KcO/VGbiafmbm+6ecf/4zZ8J6lCExgoAgIAgIAoKAICAICAKCgCAQ0AiEB3TtpHKCgCAgCAgCgoAgIAgIAoKAIKAREMZdOoIgIAgIAoKAICAICAKCgCAQBAgI4x4ED0mqKAgIAoKAICAICAKCgCAgCAjjLn1AEBAEBAFBQBAQBAQBQUAQCAIEhHEPgockVRQEBAFBQBAQBAQBQUAQEASEcZc+IAgIAoKAICAICAKCgCAgCAQBAsK4B8FDkioKAoKAICAICAKCgCAgCAgCwrhLHxAEBAFBQBAQBAQBQUAQEASCAAFh3IPgIUkVBQFBQBAQBAQBQUAQEAQEgUiBQBAQBAQBQUAQEAQEAUFAEDiy5Ri1nW+5LEB0x4TRlBVFFJ8S14/+xZomutR5ySM8IiqCEjMSKCwszCM82D093T3UdKGZomKiKDYpZtDNCetRZtC5JIMgIAgIAoKAICAICAKCQMggsOPpnbRjbQm1NbVdljbFJsZSdnEW3fOt2z0Y1i1PvUd4YWhv7aCYuGhtowJwp+SmUNbkTJpx81TKmjCGqJeHB6P/p9++r+u54tFlHvTMypcdKKc9Lx1QeTNp0f0LKCy8/0vA0T8dp4OvHqYJiwtpzp0z3dkrj54nYJKj6jz3rtkUkxDtjmPHqZ2ltOfFfR55Sz8sp13r9lBcWjzd/OWVFB7pEm6pr2igPev3E+ieP1lNsSkxNGZchs6L9kXG+LeX7l8qrqHYgoAgIAgIAoKAICAICAIhhQB2gTf9eAtdavPc9R7JRrZfbKfG8xep9MMyvfPOtMEcI87JgMk9qpj6HWt30ke+dScV31hEpLab337qXdq9bq/OghcNvAzYprurm177ziaqUjR6FL8+YVEBZU1UzL9h8ALwxo82U+2xOtr/5mFdL94Ff+nxVzSTvS8inNKyUlxlG3lRj+e+8YKu++Gtx9xM/+s/fIsq91fplHgRAOOPdjz3zReovry+j0I56XT7Nh6kw6qNd/3tasevEX0ZXC6RcbcREb8gIAgIAoKAICAICAKjCAHsRHddRqadoey51E0tDa3sddsQ/cAvIjaCwhSjzDZ22BHe0dJJL/yzi5FGGHbQOc++Vw/qHWw3sV7HGz9428W0K394eLgSu0m0k1CH2uW/1NStw7tV3cyvDW29LxMIb21xeLFQ9UAarh8Tb2twpUU4m9effMvNtHO9TRtfHF7/902El42BjOy4D4SQxAsCgoAgIAgIAoKAIDAKEDCZTa/NVQxrbGIMXXP/fEofl6aZ3SNbjtPpkjKvWfyN+Ms/foGSMvsY7NryC/SLR35L7c0dmnkHg5tTlKXFXva+foAq1M42Xgae+fo6+ovnH3XJw6tGXKxtopIXdmmmGmXf/L9W+rWbDbn6kTAaR0UqsyCdsKtftvuMuy74OlC0fBI1qToeeOMwbf3lNi0BdPRPJ6imrLbfVwG7PsK424iIXxAQBAQBQUAQEAQEAUHAjQDERwrm51PhgjzKnZVNkeGRtG/3Adq2ewclhMfT3I/PosUPLqAXlXgJ71S7Mw/DkZGXTlOWTaa9SpxE74hjF1y9OODA6orPLaMX/m6DLg8iKHs3HNDiKji6ue7v1rvFfiCqcs1H5/tfC3DdqoyhGsjmI3/uNIVTdCTVVdXplwvQA44sR49DumMezdQvFJB9BzOfkp0yYLHCuA8IkSQQBAQBQUAQEAQEAUFgdCIARnPxgwuprq2OTu8oo9d/8Bb1KPHyQ/Un3IC88t9v0xf+5WHCQdGNT7zlDh+uA7L3jWrHWhvs9BtaWCYtnkBz7pilD5Ai/v0/llCBerGoO1tPp3e7dv8jlegN6s4HRF2EBvg7DKYd9QVebeqQ7/zVszUDn5adRj3YyFfHByDyAyZ99u0z9EFZiCihfmgHDr86HZ61ayuMu42I+AUBQUAQEAQEAUFAEBAEKFVpdbnu00voL275pkZjWtIkNyrsPnTRxcD/7K9/R0998B/0/nMfanluv8Ru3NQ8HRCNObjpMEF+vbRXBCc1J4WmrSp2J4yIiKCVX7iO9mzYp8R12rXYzNs/3koQOQlTTDLKhzaYOXf0aYpxZ/blGMaOOxjvRQ8s0KI8vGsP0Z/CuflalAhfDV78x1f0S8aKh691H3g1X0h8VQ1xcjh1IIQkXhAQBAQBQUAQEAQEgVGIQFNdEzVVN9PS4vnEjLoJAzanzfCTu09rGe3hMO3guF/919dp/T+9ppl20IpJjKZ7/+X2fvLf2KW+79/udXHpKh00tEBDDfJEx0fR8k8vHbzYyzB23FWxWowHDLxb/7yqzB1/fYvWLqPjlR9aZ579mxfpB/f8jEqe3YVgv40w7n5DJQkFAUFAEBAEBAFBQBAYPQhA0wwOnWq5bAeGFgwyDDPv7d2KaY7t5s1mV+Rg/6py2ts6NfPN9MEEn/pTmaNGmgkLClzqJVU+pOc8d3/7do+Drn5Xgwn4nWGAhKpekNV/+EcPaFEi6KZHEdh9b1C63V99cpM+XItDrO7K+yApjLsPcCRKEBAEBAFBQBAQBASBUYuAYjqhgzx/3nhHplJFayadxWVmzJlO1Qdr/eE/vUOquNqln1pIs2+d7tqlVoVgF33rr7ZpDSz9Mqr4279xs/uCJNQpd2Y2TV2udL4PxYCAZbq7+6tphDz7YAwOo+IMwMd/eB8t/+xSSstLdTPw0FW/9b+2UdelrgFJCuM+IESSQBAQBAQBQUAQEAQEgVGIgOJNcWFS3qxxSsl6//aDdcUPO+4r71qsD4/OvGWaxyHS/rkGCFGMc/6MPLr3H++kz//uU/Tgkx/Rut2xQ/2Bkp+H/LttIEeeOyVH1xH1uf6Raz0OpGI3+9yhCupqV4wxEvgyvfFhkUrcpTddt4OO+47WTjeVcKV73l+D3fcbvrCcvvQ/n6F5a2brMlDk7pf3UvnuswPWz/+S/K2RpBMEBAFBQBAQBAQBQUAQCAkEcPAT+sZxwNKXqdpaQ/9+8//TB1o/9dTHCBpd+hnFCeMypMGY4qWTKW2iS00imPdapevcNlABGaN0y0Nzi23AtP/kgV/SLx/5b6URZ7OHzHu7altLQ4s7i9bj3sutp2Qlax4f3nMnXDehuhMqThvaa9gkZyWxs5+N8jf/DIdmj3vERcZE0l3fXE2paucdhsWS3G8LHqn7PINDry+fuAQBQUAQEAQEAUFAEBAEQh0BxaSe2nGaZn90um+eUjHNYPJf/t5rdOr9Urr3H+7sjwy2lgdpQLO5so+51tktOpCBBxPuVEHcjso3nO5/7aDeeedd92PvnlS3p7p2znGYNS4p1l27GTdM0fRQ1KntpVpkiCPbWzpoy1PvuYvLVrri8fLgZDZ9/216V12y9Me/flmrrjRFbC5dukQ9XZ75vNFh2qIOkpEQWxAQBAQBQUAQEAQEAUGgHwJle8/SLX+1inrCXvMtygEeVPHPb//Pu/SVtY9pbTDtTYZoC8ue9CvBxXOf3H6a4uLVznmvwW71gc1H3Jc6QSQldazaobbouHfcPXlgTQU759BKAxEbyMqv/+eN+rBt/blGrUqSmfgJ1xT26VFXdKbdOpU2/vAtvROOQ6TPffMFKlaXQUF1Y+mH5R63oeJiKrcWGa58r80HbTuVDvdNP95C50/V0JTFk7Ru99Ml5VRf2aBTokm4idYbHSYrjDsjIbYgIAgIAoKAICAICAKCQD8E6hXj2qF2mVMLk6nhVCPzuv3ScUBHZQcd2XWU0gvTtOpDNz/tdnDKPhtRuHnVlym6bpK+adRO47HjbpUBkZSVn79OXwyFqCp12PZ145IoMMwRSqzn1q/d2EdWBeIw6dKPL9IHYpEPt7O+//ROd5qe3pcH3MwKffHezE1fXqHLBIYQh9m9bq/+2ekLFuS7tOPYEZZfRGUsQMQrCAgCgoAgIAgIAoKAIOCJwBGl+WTC3MIBmXbOdaG6jpIzXHLiHAbb1NCCnfLYxD7xFDOd7YZKynv//g472O1PyU12fw2AykXTLH5godbkgh17MOHmL0btoD/0xEe1bL6ZB24cIoUmGMjrm3ngRkChYrYf+dnH3BptEGyb9PFp+oAtGHyYfnRUGDTMrFGHcf25iClMgabL19TkjyAgCAgCgoAgIAgIAoLAqEPg8UXf9dnmjKI0uuuvV9NvPr1WM58+E6vIL7/4BXr26+s8ZMOR566/XU3z7u7boYa2lyPvHKeOZpeseUe7S7QmIjKCElLjNUNdoERRcIurLwOxmoNvHlYXL0V70DfzYNf79MFSaq92lZGWn0oFc/J9Mt7IDxl5aNdpqmqiru5L+mVj/JyxlDE+vZ/Yjlme6e7u6qbS3eVaL77WHqMis4uyaMKSfJq8aKKHFhwzn+0WURkbEfELAoKAICAICAKCgCAgCHggUHuyjjLHZxJ2s8EA+zJTVrh0qJ8/UeMrmY4bOy2X8BuuScpIJOys2/LvJt3UnBSakz3LJUfeK+pixntzYyec2+QtzUDh4ZHhNGFhgf4NlNZXvIjK+EJH4gQBQUAQEAQEAUFAEBAEtKrF8t1nKH+20unuw0Ak5IYvuWTKTbEYH1lGJgqM+EDMuIoPC8efkSnyalCRHfergbqUKQgIAoKAICAICAKCQJAhcOL90/oypr0bD/arOeS0lz+2hIoXFtEb399MkIkfyICxf+n3G6jhUj1FtEbRpbhOWjR/EVXXn6fp06dRZmbmQCS00PgLL7xIN928ihITEwdO72eKAwcO6JQzZszwM4dnsnfe2UpRUVG0dOkSz4hh+oRxHyaAkl0QEAQEAUFAEBAEBIHRgABu9/zMLz7haqq6Xwmy6pOWTNDMfGtjK+38w2565wfbBhSlYaxwGdOcxbPoxNFTdHz3Sbr1/lWUnp1GJe/topzMHEpPT/e4sAmMPjTIeKhMVLvnJ3eWUv019f0Yd+hJj4jouwiKvwD4ugQKaRBvvzTwkVAu2/Zzm2CXlZXR1ne20aU6olmzZnrUy64T0juFIdzJCOPuhIqECQKCgCAgCAgCgoAgIAh4IAB1hjik+cWnP01d7V109kgFHdt6gjb9cAvVKXWJQzETigupsbmBKsurCG42297fTu9vKaGm2mb64t98ljZteosqjp3X0VNmFNE11y/gpNo2mfFjx47Ru+t3UFRspGKaE+jeT9xFb67fTGdrzlB3XRjNXj6NklOSadMz71Da5CS6bsl19Ptnfk8FBQV0/Phpuv+BNdTY0EgdnZ10pvwMvbP1HRqbO46OHDxFn/n8x6mhoYE2rH+FsrNzqKqqku6483Yyd+Y/LNlFkycX0oULF+jI4SO0YOECeu01dTHVydMUH59ALS3NdN/9H6V3t76naDXq+nOY/cLg0UjlERl3GxHxCwKCgCAgCAgCgoAgIAg4IoBLhF78p1fod3/xLL36nTdpz/r9Q2ba+xVg6DmcO2c2fewL99P5ulq6pDS57Nt+iMCwz1oyjbZufI/a29VNT14MGPL8WWNpwbJ5VFfToBntMePSafrE6ZRWmETlh85RS1MLxY2Ppj9b8xHq6rpEUdGRdP/99ykGfAqdOHFCM+2dinEH856elqmY+ftojDrcWltdSzs/+JBWrbqRHvnUJygpKYm6Oro8anL06FGaOWsGXb9iuWb6sYvf1tpOxcXF9MlHHtbM+8GDh3QbFl4znz7xyY+7wzwIOXhkx90BFAkSBAQBQUAQEAQEAUFAEOiPAHbdKw5UuSIMRrt/SucQc2ecU0R3x1Jnm2J+jUOjcTHxbjEZiKV0t16ihsZGCuvooaV3LqLo6GjO3s9uozbqqu6mc3SWiqdPotjYWHrxdxvpoS+uUTSS6eylMxQZPZFyYnKV7WKFY2Pi9MHV2Li+m1uZcGxsjBbPwW45m9g4l/55hHVdcjHuqOfe3Xup7XwP/eGZ9a6kzWFadAaeqOgoHQZ6nR0u9Zdg/CF+Y4a5Mjr/FcbdGRcJFQQEAUFAEBAEBAFBYNQgAD3tF47V+aWj3b9EztDlTs92jIBYi2miIqPIlCOfvXQW7d99kDIzMvTOO8uaI094XAQ9+6t1FKv+5czIpHvuv4OeX7uOcutztagMDokmpyXQge2HqampmZLCXTrhW2Ob3WWATk+3f28i1y5bQmt/uo42ZL1CnZ09NHPmdGTXDPjuPXtp0c2zacWKFfrF4+m1z9L+/a6Drtu3bacDyn3x4kVaddONtOnNt+jptc/oXXuE3XLLzZqOrz9yAZMvdCROEBAEBAFBQBAQBASBUYDA+ZPVtPkn7xJsmJ6uHgqLDBsRG/TiMmJp7t2z6Jp758PrYbq6uqi5uZlSUlwMdVNTk94lj4yMpJqaGn1QFEz8+fPntXjJuHHjPA6dIj3ywyQkJOjDoHUX6uhi00V9wBXaZlpbW6m6ulr7cRiUw2DDj3gOs78KQGQGcZBtx+59bW0tVZyrIOy6v7Bug5aJLyoq0i8BjeqrANLgiwDq3NLSouu68bXXKT0jnfLz83R74uPj6blnn6fFSxbpekO2HWUMZIRxHwghiRcEBAFBQBAQBAQBQWAUIAAGtqWulS51Xhrx1sYlxw14Q+mIF3qZCJ4+fZq2vL1VU8/OGUM33XQT4SXDlynZWUIZmRn6ACx/LdimduCnTplCaelpvrJ6xAnj7gGHeAQBQUAQEAQEAUFAEBAEBIHAREC0ygTmc5FaCQKCgCAgCAgCgoAgIAgIAh4ICOPuAYd4BAFBQBAQBAQBQUAQEAQEgcBEQBj3wHwuUitBQBAQBAQBQUAQEAQEAUHAAwFh3D3gEI8gIAgIAoKAICAICAKCgCAQmAgI4x6Yz0VqJQgIAoKAICAICAKCgCAgCHggIIy7BxziEQQEAUFAEBAEBAFBQBAQBAITAWHcA/O5SK0EAUFAEBAEBAFBQBAQBAQBDwSEcfeAQzyCgCAgCAgCgoAgIAgIAoJAYCIgjHtgPheplSAgCAgCgoAgIAgIAoKAIOCBgDDuHnCIRxAQBAQBQUAQEAQEAUFAEAhMBIRxD8znIrUSBAQBQUAQEAQEAUFAEBAEPBAQxt0DDvEIAoKAICAICAKCgCAgCAgCgYmAMO6B+VykVoKAICAICAKCgCAgCAgCgoAHAsK4e8AhHkFAEBAEBAFBQBAQBAQBQSAwERDGPTCfi9RKEBAEBAFBQBAQBAQBQUAQ8EBAGHcPOMQjCAgCgoAgIAgIAoKAICAIBCYCwrgH5nORWgkCgoAgIAgIAoKAICAICAIeCAjj7gGHeAQBQUAQEAQEAUFAEBAEBIHAREAY98B8LlIrQUAQEAQEAUFAEBAEBAFBwAMBYdw94BCPICAICAKCgCAgCAgCgoAgEJgICOMemM9FaiUICAKCgCAgCAgCgoAgIAh4ICCMuwcc4hEEBIHBIFD6YflgkktaQUAQGAEEjmw5NgJUhIQgIAgEIwJBz7hXHj1PbRfbgxF7qbMgENQI1Fc00DNf/yMd3HyEurq6grotUnlBIFgQcI27dXRqZyn19PS4q2263YHiEAQEgZBDIKgZ96amJnrp8VfojR9uJrjFCAKCwOVBAEwB/7iELU+9p1+a3/zPt+nYnhMcrG07rUekeAQBQWBICGBcvfT4qzrvK0++TuXl5dTeLhtXQwJTMgkCQYpAUDPuJ94+Tdhx37VuL1UcqfLYfQjS5yHVFgQCEgEwDKaBiMye9ft1EHYAy7acNaPFLQgIAsNAwB5vTOroO8fpdEmZ9tYeq6OSP+yhtrY27Q8LC+NkYgsCgkAIIxA0jLs9kUE8ZuOTm9yPZtsvPiB74rLzuBOLQxAQBAaFQHh4uB5fPMaw2+42il/Ys2EfgYFng3SclsPEFgQEAf8Q4LGDNay7u9udaeMTb7ndcOx79hBdqKqTTSsPVMQjCIQ2AkHDuNuPYcfTOz1k27ELIQd2bJTELwiMDALmSzB22nnXT1NXm/F4kfZg5kemWKEiCAgCvQhgfJkvxzr4EsnXLukhgsAoQyAoGXdMXk5Mgr0bYT5Lk/Eww8UtCAgCAyOA8YOfLwYdDL1omRkYS0khCAwGAey+Y9xhs8rJYC1sqGx0ipIwQUAQCEEEgoZx50+HeAbeGHSboTfzmO4QfI7SJEHgiiAA5qHfrp9RstMLtREtTkFAEPATAbwoY93CD2KhYN69GT6w6i1ewgUBQSB0EAgaxp0hx46eL5EYU4RGdtkZNbEFgeEhABl37OoNxJhDhIYPrQ6vRMktCIxuBHizCQoYBhpTGHfytWt09xdp/ehBIOgY9xf/4RWfTwe7EuahVZ+JJVIQEAT8RsDbly6bwEC7g3Z68QsCgoB3BF5/0vNAqreUA62N3vJJuCAgCAQXAkHFuA/0mZ6hZ1lb3rHgcLEFAUFgaAgM9KXLpOpLHtdMJ25BQBDwjQDWMo+D4D6SQ4TNmxy8j2wSJQgIAkGGQNAw7mAGBvpMb2I/mLRmPnELAoJAfwQ2PtGnerV/bP8QjD9fsvD9c0iIICAImAgMds1DXow75BMjCAgCoYtA0DDug52QRNY2dDuttOzKIoBdP8jZDtb4K1ozWLqSXhAYDQj4+4XZxAJMu4iKmoiIWxAIPQQCmnFnFXRD/QQ4WGY/9B6vtEgQGB4Cw2EEcIhcDswND3/JPToRGOqaB7SG+qI9OpGWVgsCwYdAQDPuDOdQVV0NZ/LjssUWBEYKAX4RHSl6V4LOcF9+ByticyXaJGUIAoGOwHDHnb8HWgMdB6mfICAI9EcgoBl3HC49+s5xvw/n9G8e6cM6ImvrhIyEXUkETNWkpvtK1mGwZY3Eiy9EbOTA3GCRl/SjGQF8pcKu+XAMREV9qU0eDm3JKwgIAlcXgYBm3AHNcOVk9af+J/xTp3V1H4WUHooI2LvszLTb4d7azumcbG95Rip8qF+67PKHu3to0xO/IBDKCIzUV6rhrp2hjLG0TRAIZgQCmnHHgj8Su+UiaxvMXTQ46+7EaCPMX8P5faX3J42v/L7isOvnrxo6X3QQh5dnjGUxgoAg4BuBkZRPx9op48433hIrCAQjAgHLuGOxH8lP7CO1ixGMD1nqfOUQsJlp3Dhq/vhuAbbN9OyG7a9hOv6m9zfdSF/mMhQNGf7WVdIJAqGAwHAOgntrvznuzPnFnGNMtzc6Ei4ICAKBg0DAMu4jffuiP9dGB85jkZqEMgKXi9keKcxG6kuXXZ+REr2x6YpfEAgFBMBkg3kfSSNfu0YSTaElCAQGAgHJuI/E4RwneEf6ZcCpDAkTBLCDBebciUE3w0y3E2pMw5ftlG84YSP9pcusixyYM9EQtyDQh8DlFGuB+I2pltXeYR9oHuqrpbgEAUEgEBAISMb9csnlye5DIHS50K0DL4gQjWGDsDNnztCBAwdoz6492t3Q0MDRHgy+zaC7E1kO0OSyrKhhey/3y60cmBv2IxICIYjA5f4ahTWVGXTMHewOQSilSYJAyCMQpgax/wK1VwAO7A68+Pgrl7WkL7/4BUrNTbmsZQjx0YcADyVeFNvb26mqqorKD52l6vM11N3SQ+lZaZSdn0VJ2Qk0fvz4IYFklzMkIl4ymTtzZpLu7m7t5ZcSnBmxb1O99Ws3Uk5xtpnN0Z1dlEWxSTGOcRIoCIxGBPwdd7/54tp+8GDcpeWnUktrC+3YuJOaG5qpqa6VwmLCaOq0yZQ8IYkKxxZQ3tzxFJccq1/6eRz3IyYBgoAgEPAIRAZaDbOLs+iRnz40YLV2r9/XT9ftnDtn0tw7Zw2YVxIIAiONADPTJl0w7U+vfYbat6p34/NEPWGu2LDiMEqcH0lf/epXdQBkW/EiOWVFkZldu53ommH8ktAv4xADCubnOeZEmWZZsUmx/dKBafeWv19iCRAEBAE3Ar7GjT323Jl6HVmTx1DqxGTat7+Cqt6uMaJ76HDdMRp7PpfGP5pLYdHkHsPmHGJkcMebYeIWBASBwEIg4Bj3HMW4+2NOfnC6XzIwP74mwH4ZJEAQGCEETKYWJFtbW6ntTAe1vaGY9mYVEKF+GG0dioGv6KGmTZ3U9rl2/XUJ6kqj46Mo9aZkypmRSTfcuJJSUvq+CNkLN5fFtqIakMaud0BWUiolCAQ4Av6M89a2Vjqw/4BrnrmkGqQ2CfS3dLVhUBdbR/v3HaDMzEyKjY3VzPmlS0jkMrz7zsy8P+VxXrEFAUHgyiMQcIz7lYdAShQERh4BLIxt3W19hNVIC1O8eE9tX9DPH/61+56CjpZOqt5eSwnh8dS8uNnNuAfzIhrMde97SuISBIIDgfDTakud+XFDADY8LpxSUpMpIiLCvaPOYxM2fiwKx+HB0WKppSAwOhHoO0U3OtsvrRYELgsC7h0t1u6mRLp74lVRva/KPdXkZtpRAUjRIKxuTwM1N2OL3tnwrphzrIQKAoLAaESgs+USVW0zxWT6UOgoV5sCH9ZRVFSUOxAMOnbaTUad5xbYttsMcxMRhyAgCFwVBIRxvyqwS6GhjkBycjKlpqVQWKFiycGsN6rfafWDgdvYEUOQ9qo/cQlxlJ+fjyBHYy60jgkkUBAQBEYdAt313RQTpXbcHQy+5p1+oZxe/L+vujcL7HkETDx25GEQh5+5C89hDuQlSBAQBK4wAsK4X2HApbjRgQAWuoSMBJpx3RTKXppJ8fm9hzl5B96GQfH3yz+7lG79+xvcCygnAS0xgoAgIAh4QyB/3nj6/POPUOEC55d+bAzgHgWI5+FMjWmampoIP5zLMY3MOyYa4hYEAgcBkXEPnGchNQkCBPgTsq+q8oKXmJZAS+5aSJt+vUWphXT+jA06OFR987dWUtHMSRQZ4zkkUR7o4edP2b7qJXGCgCAQmghgxzwtPY2u/8YSyt81jnb8vxJqb1In4S2Du0ye+fo6rcHqpv+9grrCOqlif5VOFR4TTqn5yZSdnU0xMTF6zjGz8/zD85sZJ25BQBC4cgh4cglXrlwpSRC4IgjwYoPCmAm23fCbi5GZB3FOBmnsdMxgc3osfh/8YjedWl/OQf1s7JDd/901XvWam/Uy3f0ISYAgMIoQgBiHPd5GUfO9NrWwoJDwm7tkNj33Ny+4mXI7w1G1635k+zHKujWDzm90nZjH4fmY5WH04EMPUF5ennuzwJ53zHnUpusrzk4rfkFAEBgaAsK4Dw03yRUECNiMtVllp8WI470tPiY9uFmNGuczaeIK82fVzpZ9SRGnhb3i0WW07NOLKTLSNQxN+iYtM4+4BQFBwIWAOV5sTEbt+OmVqsNXvE///ONU8vxu2vzTrQQ5d9PoMzVKbO/8S4pp783Toy50xp0TJ4tLtXx7YWGhe0MDWNt4mxjbcWZZ4hYEBIGRRUBk3EcWT6EW4Aj4u8D4kw4Ll/njpkOGFLKk3ph23Bq6+KvzNePOTDvnFVsQEAR8I+DP2PRNYXTEYm5ZeN88+tiPPkq5M33caAwuHj/FyEOz1YXzdVRbY+itHR1wSSsFgaBBQHbcg+ZRSUUHiwCYam+LvLlbBLpO6RBmpmMm3akenHbjE28RbkL1ZiAa89F/vYfiU+I8kjiV75FAPIKAIOAxTu0vXqEKD88t/rYP6fFjTTH5M/Lo0V89Qpt/tpXef8ZZ9t1NWzHw56urKbrSpWHGHe6nY7B19ZOsJBMEBAEDAWHcDTDEGXoImMw7M+Fsc2ux2LDhRY/9pm3nq7tQR2WlZVRRpa4ar6ymxpdbqa683szi4cbu121/dZP7ZcAs1yOheAQBQaAfAoMZL5zWHP9M0B7HHB4KNs9fbHOb0OZrP7WIZt8+g/7wzZe8fg2E2Ez9m400dUYxZ/VqM8ZmAl/Y2ul9pTVpilsQEAQ8ERDG3RMP8YUgAv4uEOZiZ+ZBOPwc1tXVRfX19fTBul3UUNZI586fo6aDrRSmPjU7GYjG3Pm3q2nK9ZPdNOx0TNsOF78gIAi4EOAxwuORbcGnDwFgBFxg2GbccFg+Ji+GHv3vR+j1Jzc7fxlUWSEP/853tlH7qU4tzof5i2mAJtPtK7VP97sZ5uTmvEzPKY2ECQKCgG8EhHH3jY/EjjIEsLDwosK2vVi1tbUp9Y5V9MEzu7RcKEHrmlrw+vbt+0BLy0ulB763hrImjukLFJcgIAgMGQGMS2YA2R4ysRDMyPMWmsb4mGEIX/b5RRQzIYre+dE214VwCLQMRP5wXueeb99OBfP7tMw40bTpW6TEKwgIAiOIgBxOHUEwhVRgIYAFxvx5qx0vOrBxeyB+kA+F3wzj/GDcjx097lrwsMvuxLGr4Dl3zqS//MPnPZh2rg/fSsg0xRYEBAH/EeAxyznYj/Flji34TcPpzLBQcpvzC7sZE+ACNzBITEyklWuW07fe/D9UfOskt2YZGwtox/rNF9cSzu7AYF7EoVfzfIGJqVmm7eb8PLdqgvJHEBAEBo2AMO6DhkwyhDICWITa29v1z75JkNvdXNZKR394mr39bXWu69av3Uirvna9O85pEUOYGEFAEBgaAhir/AMFdsP2Z2zxmBxa6Vcmlz/tMGuCtsOYWJjxoGe+2CDu+i8tpXv/43bKKc4yk3q4sftuasqy6Q8Wy8Gm96iMeASBUY6AMO6jvAOMpubbi6C5ePBCBDw6OzsJu+rNzc39GAAsYNiBwg2EjiZGhV5LlL0kU+9qIQ2Xwzte7Lfr40hPAgWBUYyAOVbM8WK6TXjMcWzndfIjrx1u0gsEt7e2equbiYHp5nbajPvYsWNp9nUz6ZFfPqS/EnqjC/W2YN63PPWeTsK0zfpxGabtRI/zDJTOKa+ECQKjHQGRcR/tPSAE28+LglPTOA42Fh7TnDlzRmmHqaJX/n4T9bSpmGb1u7mH7lmzmsbn5tGb/7FFy3yaeWx36thkmnFbMaUkq2sILcMLnRls18GME7cgIAi4EGAGj0U0fI0bc5xxPsbRHPemG3ngDwVjtx9tQtsYO/ZzWxlLHF6951u309w7Z9GL//AKQUzGyYBxh+z73SotdulB18aOaSK/6WZ6dl04v1NaziO2ICAIuBAQxl16QsghwJM/LwbcQIQjzAzntJcuXaKKk1X03jvbCTcIUpf6davfn8Joe5vSfXxku9eFLDI2gmKnRVN8XjzlFGTRwmsWUEJCgi7WLA9lcXk6Uv4IAoKA3wjw2GH73LlzdPz4Cao4V6G+kLVTds4YysvLo6lTp2pmktN5K8COt/2cD2PYWxynCXQb9TfbYM6BXHfMgR0dHVTTfZ7yP5VDDX9sJDqi5ktOYNi8+47bn/Fzom2GcVaIIcJER0e78yAdfwVwysN5xRYEBAEXAsK4S08QBBQCkGe/cLaOLh5pcWmKwf0j0eqndt2rttR4PYCKq8Vnf2o6VbVXUEpqMuVm51JycrLGlBdHWYw0HPJHEBg2AhhL+mX4Ug+dPV5BJ0pKqa7mAjUp0bbWMx0UVhdJSUlJlJ2dTdhBHikTCsy7LyzAtDc2NFLlqfNUWnJWXcJUQwn5MdQcrz497lU5Lznntnffkcqe78CsQ/SwvrqROhqggosoJjaaknITKT4h3v2c7Hw6ofwRBASBfggI494PEgkIFQTshYAZabQPOzzQHsOmoqKCGk9dpJ7jvftLrg1zFxPPiSx7yooi/WkZeo5tw/LsqAN/FjbLt9OLXxAQBPojgPHD44bHM8ZWa1sr7f3jQTq7o8LNVJ6nWqrOqqWTdcfprrvvpPHjx2smEumRl/OjFKbJdv+S+zOgSGvScMoTKGFOdTXbamPS1NREx/efpNd+r8QET6hWqM12mDB1XjV7eSZ1NXVR7S51uZwDA4/d999+aa3eeV/84EJXRuMv7rzYv++A+pr5AYV92CuemBZGSx9YSLOuma5fssy52MgqTkFAEHBAQA6nOoAiQcGNABYoc5EyW2PGme60tDRKHJNIYRm9qbFw9S5eZn52Q2sM9LPbTDtoYvcKhpkFrkuwLPrcRrEFgauNgDlGuS74OlZaWkpt1Wo3GOJsMHh3Vr+Ixgiq2dNI3Q19cwCPOx6HOn3vHx6j8LLbTM/lc17bb9IKJDe3wW6TXUduV11dHZ0tPUc9B1UKnO3Bnob6cAixwfMNNdQ5tpMe/I+P9JvvmB4O60Nl5G+/9LSHSCHolx05Q3s279dih6CHX0RpOO3dtk/H8XzJtLhO7BdbEBAEPBEQxt0TD/GNIgR4cUOTY2NjKS4zlnri1QLuAwMw6vc+cTuZO0veFhqTvg+SEiUICAKDQECLdTRedMzR1XOJeuoUc6hEqb2NS4Tj58/49EbDsfAgDoQmraamZtftz+auujrrAzwvljdT0dJJ9Nnff4LwpdGbOV1SpjXPQPsWDJ5Vc20LNR1TL1nYCMHZIfXralPhZe2uOLXbL0YQEAT8R0AYd/+xkpRBgIC50MLNIitwcxzvQqE5vHjjQpKGfYoZOK0WKi/tLFyQT19+4YtadRon4TLYD3r2BU5cBqcRWxAQBPxHgMcrjyOMr+ioKBcBDFbrTTssRonFYAe+13B+eDEf8JzA4bDLdp3xUPHKZZlzBvKbeeC/3IbLG2o55rzHNMwwbifi4sPj+8996otGmDr2Qy0ukaW0rFS6/7v30kf/7R6KScQhoP7G3H2vOXmBWmsU016h0uE5QQQRP+XuOd1D1YdqCNq8xAgCgoD/CIiMu/9YScogR4Blze1mQO3Zs19fR5DV9GZYe4IZz4s6q0MzF0EznbgFAUFg5BCAxqaZs2bSwRlHqbYK28GKdu+1CvH5sZR3Rw7FZEZ7nC3B2HQa/3vW79d6yTEHZK/MpMm3FNKkyROpsLBQM+lOeUauJVeeEuYsvLjg5cecr3AeoGVRC+0/ephoj6oXiwoqBjs9P5Uyr0/1wG/6DVNo4sJCevHxV7yqyMXuO2TfM2alU1ihYvyVhhr9nLDrjhcu9XIVkRGhDxMrnxhBQBDwEwFh3P0ESpIFBwJYjJihNhcm0222BPqIsfh4u1AJojH3/du9NGFhgc7GtE0a7Eact3I4jdiCgCAweAR43PH4AuM5cUGhJtRS30rNDc2UkJJAWbljqHjWRLc6ViTgPDqx+oOxDlEO/NzjXsl0N5RcpHOpVToZGHcY5OWydUAI/GE8zPkqSn3ByB6TTdfecA0dTztJl85dovZL7RrTKUuLaExxer+Wa7HBf7qdDm48Qm98f3MflkZK4Ht2m9puV5vzOOiq78dQDDsY+IziVMouHEMpKf3vvDBIiFMQEAQsBIRxtwARb2ghwIuUU6twmIplMZ3i0/JS6dFfP+JxIAuLHS94TrQ5zomehAkCgsDQEeCxhXEXGRlJk+dOpPDkMH1pWkVFB43Lz6YJEwppxowZHoXwOMUXNYx37LL3M0quG0zmue1V1JTaQDfcuNJjh7lf+iANYCwYS7aB5xj10nNNUhx1RbYrTKspvKWbJhcXUvH0SYTbVdlwHvihcnPe3bMpa3YmvfL4G1Sx3/Xiw2m1jd11nDmoVTZr61LMe8qsZMqamOlWn+uRRzyCgCDgFQFh3L1CIxHBiIC5qHD9u7q69CGpwwcPU8aYDIqLjKcN//A64VOuN4PDp9AcwwZ08YkZC5+5+HF8qH1S53aJLQhcSQQwzpwMxhziOB5+6GrHbyCDr2o7ni7xOd41DSUWEhcXS9cuXdqPaecxP1BZgRzPbWAsUVcTT3zFwO736tWrvTaDnwHT4oTjCsfSo796RL8YbfrxFn34lOPcNjQAKY01hXPz6Y5v30KpY1LcKnn53AHo4yVCjCAgCHhHQEaId2wkJggRsBeUqqoqqjxXSdVnL9DFY010ksro2PqTjp910VwcuLr323c4ak4waZvuIIRJqiwIBCQC9rhixhKVNeMQbvrtxmD3HAw7LgiC/Lo/JjUnhRavWUA5Y3P6JR+ovH4ZAiTAF0ZmFf1t30D0sOGRXJREH/xiV/8XJbyTqS8b2DD5xcd+S3f93W0EWXkYpms+bx0hfwQBQaAfAsK494NEAoINAadFBzs4UHG274ODVLG3kk4fOqO1GPAhNqc25hRn0Z99527KyOuT5zRpY3ExFxZebJxoSZggEEoImOPgarbLHH+ohz0GwaRDFMZDfn2ACkNb1OyPTqdp101x3+KJLHZZtt8ue4BiAj7a32c80Dw4bcEUypsyjkrW7vH6HNqbOuj5b7xIc+6cSbd+dZVbHNGmbYIWanibbRO3IDAYBIRxHwxakjZgEeBFlSd3MO21tbW07acfuA5EQUuC+hTuzWABuedbt3tEgyZeAFgMhmlzIn8XOk4vtiAQrAiYff9K9nse14wb14NtDvcpv86JLBtjHtqisNNuzw12uVbWkPECRxtLfxqHPIyRU3+Ael1gC4yf+5sXqOKAkn13kILCS1ZpSTnd8+3bqWB+nlt0BjSZPuozlDr60w5JIwgEIwLCuAfjUxvldeYJ3ZzMnRYPyGxqLQa4CRDGYeGAZgTs+My+o+9Am7lo8ALFZbHNabhcDncVJH8FgeBEAP3ZyZj9G27u905pRyLMqR78Am3SB+O3Z8P+/mIZZiLDDVG4JQ9dQzPvmkbp2WkeDCGXybaRzSOdGR6sbvN5DqUNJkam26SFMlJzU+iTP3mQtv92pxZbMuPZja8kv/niWn2pHZh9zMnIy3Vk+Xek5zDOK7YgMBoREMZ9ND71EGkzFgxM5N4WjoMvHHXpeHbmRQhaY5b8rwXqQqUZHguCEz0uK0Sgk2YIAgGPgLcxB/n1PRv20Y61JX7Lr0MMLm/FOLrlMzfqL2jCAF6ex89zp4kvNM8s+/Riyp2RTev+dT11VHY47aFosRqcS+Ddd66hrzme04gtCIwmBIRxH01POwTbit0Y/MwLRbCw+7oYRMOQTLTiq9dS3vRxFBbukqHBomMzC7wQIQ/KMRckuE1/CMIrTRpFCDj1f2/9m8PN8WGPHRs6zmOHw+9EB+nNPNiZBbMOph1jfECjhnXh/Hxa8omFVHztZMfkXK5Zd3Nnn+PNejgSCpFAbi83x1u7Bwq34yG62JnSTpkTM+hsS4XrgicuxLCddt8RDXpcN5u2kV2cgsCoQEAY91HxmEO3kZjETaYdsq4vqQuVfN2CitsVJ98zgdILUykpOUmDw4uCjZS9SLAf6dlt5xG/IBCMCJj9Gf2bGVi8sPKZEbQrLS1NqU2M001EHsQ7GXNMmbQ5rVO8WS6nK/2wnHav3+esf50TGXZ0fBRNXV5E13x2vhaHwY6vbcyyEcdttdM51dtOE0r+obQXeRhP023igvNG77++i84dV0w7jNo40YoCvLx/4XAxdt/v/94awtcSGNA2+9pQ6qoJyR9BIMgREMY9yB9gsFafJ3quv7+TsK98kHfd+OQmr7txkLfMWzmW4nPi1HXdBZSRkdFPZzDq4U9d/EnDbRNbEAhkBHhMmX2a3efOnaOGiotUdrScWipbdTNiE2NpjjoTkpCQoPV+c1pvbfQWz+WaTLOZdrDy6xjfs25X2mHuKKLMnEyPsc1lMX22vdU5UMK53oFSH2/1MPE03UiPNnS2dFF53Vl1y5X6DIIzR+oipjB1JrgHmjq9MO/Yff/5w7/Wh1wh+w5j0mZszDCdSP4IAiGOgDDuIf6AA6V5mGR5goWbJ13Uj8PtupppzDimxfnw2RwMOxZ6b2bKiiJa9Og8ioqPJH29d5a6uMWHlhlvdCRcEAglBHgsYiyZbh5bFecqqPzQOdr3zCEXk6UaD4Yra146Zedk92PcncTJGC+n8czlcJqhyK/H5ETTLZ+7UWswMV8CmCaXy7ZdJqcLVBv1DrY621iGh0coht2YcBWz3gOGnT+GwIbmLwcDXfzYfb9baf3C7jvwMJ8l48NhIBHseDnAIEGCgBsBYdzdUIjjciLAEylPuqYf5ZqTLtfDDEN6zsM20kEk5tm/+yPVn/Iy66s0uAF10QML3PmZPttmORwmtiBwpRFAPzT7ttkvzfCRrpdJ22R8jx07Rtt/VUK1R+s9mKqeaqJXvv8WLbp9HoWvCKexY8fqKqG+/EMA6JptMOuNOLMs7K4yg+aX/LoiNvvW6TRvzRytRtCkbbrN+pjh4r5yCOBZp45JpmW3LaQDZ45SfaOaq9VFTDB4CaRJRF/558do639to53P7dLh9h/M8+buu9m3vD1jpIEx+6CZj+PtssQvCAQ6AsK4B/oTCsH6mROm6eammhMthznZ2IXBIVRvCz3Uij3wvY94Xdi5HKc6OJUnYYLA5UYAfdKpP3oLv5z1aWlqcZFnUQbeHe3AbmkPNTe2UHMz61p1JTXrDre3McbpIL++fa1LntmftmBMz7ljFuXfNI4mTin0uDDJKT+Xw3G2n8PFvrwIxMbG0qTJE6lxSTPFFETT+YpaSoiPpTEFmZQ1YQzFpcbqDZZpNxTTy//4mldtQfxyZ+6+45my7Ls838v7HIV6YCAgjHtgPIdRVwueYHlhZwBMP6fhOLaR5vUnN2v1YRxm27gN8f7vrtE6gZmmSY/D7HziFwSuBgLoj2afNPsq14fjneI4zXBs0O9Hu8EQb2DGXTHyYb08fUeH4uINY+c3/aYbYm04gOjrELlBVusDL7pzIl23ZiklZSaaUQO6zXIHTCwJLgsCOCBcWFhInXd2UkVFKsWejKKMzHSaMKGQxuaOdZ9HmKDOHn3ut5+kTT/eQrvW7XWsC+++40vq4gcXuscNP2e2uT+zbRPj8cThnI/9YgsCgYqAMO6B+mRGSb0wWfIEak+wThMpPqk/+/V1Phd8HGTiw0y8E8O0QZN/XO4ogVqaGSQIcL80+z+HjXQTUIY32mOyx1DkuAgKUwcIe86rkk1ptHHqfGFyPGVmZrqrZNMy649E+DIGZh1MO8axPyZ3ZjYtvHcezbt7tmNy1B0/FrvhtthlO2aWwMuKAD8LLgTPpKioSP+uv345B/ez41Pi6K5vrqaZN0/zufu+8Ym3lOz7cSX7fpt+sTMJcdmwUS73B/jNOOQx49jNtklT3IJAoCAgjHugPIlRWg+eRNF8Xny9QXFw8xFa/0+v+S0aw5M0JmEn2jI5e0Nawq80Ar76ojlGRrpeJm27DlkZWTTp+gkUnRtN5RvOubR/dKkaKI0gs1ZPofxJeVozE+rEdGwaiBuK/PqcO2fStJuKadLiCW7GCrTYcHnwm2XCbcZxerGvDgL8LGDj2fDPrg02WDgt1PvC4Kvp53/3Kfr93z1LZ/9UYWfR/tMlZW7Zd+y+s+F+AJo898PNZSAd0thmoHg7vfgFgauBgDDuVwN1KdMDAUyW5iTa3t6u9Ua3tbURZCNhStbu8XplNuKhbQA6f1NzUtyTs00X6cxy4BcjCAQqAiYTcTXqGBkTSQVTxlNcVCzFXYgj6OKObouh8ORwKiqeTGOy+6tTNesJ+XXIJIO58sdAfn3Cqnxa8eB1lJ6f5hafsPMCF8ZGxrONTmD4+fmgNuyGPZjnhbToE8s/v4R2ZO2k0y+UO964ii853nbfuTyuw2DQGWx9B0Nb0goCw0FAGPfhoCd5B42APZFicjQnSLjBIEANXUVlJSUnJ9Phn5/wKRqDnRbIO7Lp6e6jyeUhznRzWtgoE8ZbvI6UP4LACCDAfY1Jcd9H3zP736VLl9x+M5zzXS6b68P0IdowadIkWriyk+rrlXYZZez7D+w8EIUBw+6XOIzaXI2Nj6Eb/nI5zVo1QzNqXLZtoxz8nIwZfiXxcqrLaA8znwWwsJ8HP0czHG787LzYiX9/SwmdLlVMOzbi1dceD5EtFNBr7N13pg8a7Oa0sJ3CEM71gxvGTIc40+9KIX8FgSuLgDDuVxZvKU0hYE7OmAT5B3C2b99BFXvPU8WeSmo930ZdNZfU5R2djrhhN+bOv11N02+Y4jHZ8uTKn0gdM0ugIHCVETD7vV2VK9V3eaygfNQHfnt8oi7R0dGUmpqqq8miDFxn5GP5dciwe9PyxOnZhijE4gcX0LgFuRQfH+8WaUC8XQfOI3bwIoB+wsZ0m8+a42G3trbSmTNnqGFfI/WcUAG4oDdd9VP1EbanVrl7VUoql9vw7vvpknK6R+l9xxqB/sv9Gjb8ZvnuzL0OxJlno+x48QsCVxsBYdyv9hMY5eXzBArxGEyWe9cdpOaKFmo6rdRWsBo6B4zcojHqtkTbgCbTtePELwhcLQRMBsXsn01NTVqtYqPSbw3tG/hlZ6sLwpQx84x0vQeijXiuJ2zUyzYsv+7r8jM7D+TXp9+hZORnjtcvBFyGnc722+mc6m+nsWmI//IjgGfg9Gy8lYz0Trvi+OrU2KBOREOzUe/BaNZmpHfeQdA8MG0UAFXBP7j3p5p5x+V73C9gc/1Qx87OTsKLaGSksEIGfOIMcASktwb4AwrV6plMAdqICRQ6oas+rHEx7D6Ydiz8t351lfuzOi8SPDmHKmbSrtBAwOyn6Ltg2KurqqmiqkLdRJqqxMOSKCsrSzMYzGSMdMt5zJh0ncLMeNMNxmjH00qEwU/5ddyQuXjNQlp431zKyFPbpl7MYOpgkzBxtePEf2URGIl+C8a9Q60LpulpUz6sDfgpxTQZranUdLiF2ps81ZIiD3bfn1EayMC48+47wtngZQHrDgyYd+4/6IP4mX52c16xBYGriYAw7lcT/RAv29cibE+EmDgvnFEytLjPxeETKKCKjo+iVV9ZQdfcO18jB/r2Tg3o2rR1YvkTNAjY/SaUnqfdlg0bXqGjL5+kphOtrt1DbGqrX+M/XqTp06cpRj5F92dggp+dfygP1cTXpMf0OYxtLgOMEBh2v+XXVcZU9UUMqlnxsu2P4TK5vbbIkBlv0uNwM0zcVxcB85lwn2MbNUM8p+HnzM8d4TjfNGvWTCqdeJYuNNR5qiRVm/BTrimkmbNm0Lj08fTS4696fYm0d98PHDhAx44ep73vHqGw8+rrQFYPRaQRPfbYoxSfEK+/LKF81MWs49VFU0oXBPoQEMa9Dwtx+YEAT2Y8AfPEa2blyZfDnNIgzgzf++IBrRmA8/Szk9UGy9eX0Mzrpyn5Afz3lMU16XEd+9GQgKBHgPsWL/RDaRD3Xc5r9kMOG2nbLrOrq0sf9qzb20jdtapDYwcRIsBQt6jMid2nKT83nxITE/VuIMK4nkyL/Yjz13BeOz2HO9GEOAxfmDQY+fVJ9xbQnGWzKDHB94VJ3sp2qgvX24wz3RwfSnYotA9t8NUOxHE/gM1poVUsZ34WdcZ16AOq1BJG6UkpFJkYqZl2iJSlZqbQJ3/yoH6h1GcsmtRgss4wm7vvMbMjqbK0hmKORVNHt9qpV8m7FQP/4Ye7KL8gT+uZ5/LNuoRSn5K2BDcCwrgH9/O7orXHJMaTKwo23WZFEM474Twh2xMh+zGhbnxyk2YMTBoebsW0h00iGpOXSVFRUZrBgeYY0zA9DkMd7DCOEztwEcBzM/uVzaDbfctuiZnXjjP9nA59BO6R7CsmbW9l4hN9VVUVNR5oopYyfP9XBow7DuApRuLU7jJasOwiZXZluBl3JDFpD6feTAc0ue1mGMJxQyVfmAS/P2bctbm0+iuraFzhWH+S6zTcDrYRyM/FDLMJcr3t8FDyMw6h1CZui7fnh2fOzx2y5xMXFFB4BlFFxBkl2tJDiePjaPz4cTRt2jR33wVNfNmZfPMEeuFvNlDtsTouxsPG7ju9o/rXGDWWcKlYr1ElUklJCUVFR2ktSph3UAcYrktvUnc4/N7awGnFFgQuBwLCuF8OVEOcpjmh2YwVNx0TGv/sMPaXHSinF7/1KtVBRMaLCctSDPuSDFr98CrKzc11HyLCiwHK5vLNCZTr54Vkv2Azb79ICbiiCPCzcFos//M//5N6aiKouaaNetQm7vwbZtCECYU0Y8YMXUfk4X7BdPgF0m4E61lZswAAQABJREFUx7Ntx4+kn/sjyuLyOjo6lNrTC57FFCgvgtSBu56Din+vbqf67HqPg6rIb9LzJODdx3mcUpj1Qvxg5dchwrb4oYX6+nncemka4M+Gxyr8+OLwh+f/SBXHq+liebN+nknjo2jl0htp3pI5OgvqZeZn7Jie2IGPgP3MbL/ZAo6Dzf0V7vz8fP3zddsq08EL45///lH9wrn5p1upw0kjmeLHNdPeK5amv3apl+W2kh5qzVdKEjrV2hLj0jxj1oXLEFsQuNoICON+tZ9AkJXPExls/JwMwrFIY9HFBIyffWofO3mQlfX26R2ysQsem03xKfH6anUw7Xq3vbdAZgJA21s9nOomYcGBgNm/zp07p/X6d2wOo/aW3t1p1YyjTSeptaCD0tLStG5xqCwcqC+Y8dw3bUTMNHbcUPygh7JMg7rm5+fRkZiT6mScisG5jgr16xWVoUVE8blxbhWMyMv1Yhthvow5NszykZ9/nB/jcM+GfbRjbYlf+tcx8tOL0ui6h5ZS8apJemyaY5yxNcvlsmC/9tpGqnmnni6WKaa995FeLO+kPx3bQdPnTXVr+sA490bDpCfu0EAA/ZKfN/chu69ySzkd/FhreE2Af+F986hgfr6SfX/F+x0gilnX4w1ckOrQYUrOPSJJHVKN9FzX7PLNclGWGEHgSiMgjPuVRjyIy+NJFTYMbKiy6+xwncwPjwinhIQE9wl9Tm822R/RGNYC0NqpVEIqg8+XTqroeALl+pjliDs0EMCCXFdXR+WHzlF7lZJHDe9rFw50no9Q2ljUZV04yGYy7ugb/vYL7keg7G+evlr47zLrhJfQlOQUSp2cTBdq6tQLiUvWltXcTZycT/HJcbpN/pfQPyWXaY9Fbifk18Gsg2n39hJtU4U4zIK75tDkxRP1eGdajCP77Xzwc5ozuyvpQlk99VSrQDzTXhGhCy31WvYf8wjk+2HsuutA+TMqEOD+y/3G7FscxkBwWvih7AAqgz//u0/Ruidfpv1rD9li765seGHuVYaQlJegxmRyP9E0s0xXJvkrCFxdBIRxv7r4B2Xp5kRWWlpKlRVV1NnVoVXZTZ0yhZKUOjvsvpk7IJg16ysb6Fmlnguys94M5BTxg4mFeg3D8EQN23QbScQZAgiY/Quy4BWnztO+dw8prk81DjMWugV2yy6qS1rUJV379x+k8Xnj3Yyet75h0lW5r4rhnUGMj7T0NJp+TzG1p7XTyeNlFHZEVWmcaqbiV1ffd5PebbfrzG1DONxmPMfZDeMyzbSlH5bT7vX7fJ8tMQhFxkbQ9BVTaOVjy7WmGCNKO1E2fmZZXB7HISGnqd5eSz0NKgBMO27DhDYp9UzByO/atUvLGePWVjZMi/1ihyYC6B8w5vPmMNhmOCNghsONH9YeTrvmq3fR0jsW+9x9x1ZU+/udlLCs7yA1+jIbpgXaYgSBq42AMO5X+wkEWfk8gdVdqKOGxgZ6+0fvUfvFDorsiKSu6C46ce1pyi3KolU33ejRsl0v76U3vr/Z664ebrh74HsfUZ838zzysYcnTLa5Hmyb4RzGecUOXgTA4MZFxWpmVouUQJSExUl619CUFHV62YsxXx7RR7hvmG4O80Ji0ME2PbNvwg2GAGnwKygooKQ7kmhB/Ty6UHHBLRqGW0qxa4j0Zl1RGfYjP9ymMf3cdrM+0A6zZ8N+r6rzTFpwQ2QNqhxn3qVUU2Ym9xN5Qxq7TLM8dps26tUTrzKCcYfBSxgb1Zz4+AQPsThEcZs5mdijAwH0G+5fcNt+oMB9ixFhv5kPu++f+fXD9N5/7dAimpyWbYyi9soOev4bL+qNI2we8fhBGuiUh+E6sFsHqj/SPxkJsa8EAsK4XwmUQ60MNcuBaT9x/CTVHlUHS7HwKmYqMiqCTsWX6da2L2/X4i24tvqdn2zTh4W8wYCrz+//7hr3hUre0vFEjHienL2llfDQQACLZ3hyGOWNH0vldM7VKKyh2CJTO+/hGUo9XEY6QW2cP8bsQ/6kH6k03vorxEEgNtOZ3qkY4yQteoK2sLw46mszBTYtM96OQ/0HK7+OPGB08laMo+VKhj0+Pt6DiUG8k3EqG+kQzrizO7swk6ou1LhewvAihs1NJesfprSHpCQlU1xc3yFXzgtao82M5rbzs7b7le3ndAPZGFNgyFMmJtF7v9rhVfMMzl7hgPbd37pdjwN+BmwPtfyB6ifxgoC/CAjj7i9Skq4PAcU0nT1SQe+9vlOLK7CMalfbJQrbpcQXOpU2jI/UU0x37KBEY1CA+XlS78wZO4rmhGm6eQezr4LiCmYEzAUSz7moaLK+TbR8g2Lc8ZIIxl29PIZNJ0qbmkbXXLPQfQYCefHj/sG0gIfpZj/ScVqEXQ5j0jfdXBbOb+DHMt0czvVFHu7jZn4zHnnMOPghv85MiL/y67NvnU7Tb5tKxddOBgkPY5YHN5fHtkfiXo+Zh+MxrmevmU7bGj6gtkMdhHlDHw5UTHvP/B6aPXe2mzbn57yj0TaxDvX2++pLg2k79xsn7Oaumk1TF01x6313ogtxzp8//Gv37jvXC/Rs2ojDz6ksJ9oSJggMFwFh3IeL4CjMj130zpYu161zaiKDjGqY2vCEdgh8crzYeZHee2EHHf79Mdei7IARRGNwDTUOotoToZncnDBNt5lG3KGJAD5Pg8nLzMzUP9wmWlVZRQ0NjZSRmU4zZ87Q4bw7ay6qAyHCi+1A6S53PPd9lMOLvxlmls/t43GAOOBjG8ivb1+7U+8a2nFO/pjEaJp12wy69uFFjvLrTnn8DeO62m1aumQJZaRkUGVNJR3Yf4DylIadjIwMfVMm5/G3DEknCNgIcB+CzeOGX34xZrD+3Pq1G2nqyiJ68R9e8apJiV98effdLAd0uRzTbaYRtyBwORAQxv1yoBriNKG9Iyo+khLyY6jpqEuXG5h2zbwr2dWmihba/+vD7tP6Nhz4DH//99b0YxJ4EkR60835eXL0FcdpxR5ZBJwwH9kS+lOzyywoyNc7722tbZSs5NqhBtJUEWpS4L5ihsHNNNm2400/aLDxJz2nvRw2yuf6eKsL327q6/C3WbeB5Nd9leetDiZ92+3xTNRXu/SsNIIOeIjGxCfGa/EYfp5cNtMYSnmcV2xBAAjwSy73LfQpnKn6+M/uox3/XUI7n1Ofix2MvfvOSaRPMhJiX2kEhHG/0oiHQHk4NJeYFU8ZSo9z05sVLvEFVgCjvGFKnKGP5fFs8OIHF+qdDg7lSZT9sAc7ITJDwLQGm98sW9xXFwF+hlwL9uOZjh07Vv84zptt9ge7L9h+XzQQZ9LitP7S4PT+2NxO2Ox2YjQ4jusAERi+3RSiMf4YjNuFd83Tuq4xlp0M1wPlcJmcDn4un8PYNtPaaTiOw/lLChVybk8bO6TAgNN7xopPEPAPAbO/wm33w4ycdLrtr26iMUUZ9Nav3tGHVJ0oY/cdX7Pu/tZt/TadkN4sxym/hAkCI4WAMO4jhWSI07EnpTnz5mhZ1Gdjn6OyI2ep7Vwn9exVIChxVSem3RSNAVQ8gdqLsu1nWM1wnng5TuzQQoCfNWx+1nb/M1vMn8ARxnk5nvMjnBlhjtu2bbsSu6mnttZ2KiqerMVusrOzOVrbTI9tj8gR9ph1BWn2o30wqAMz2kORXy++dRItXbPIq+YmlMFlwkZ57Eccm+FiwbSZnm1zmfbzGiifTUf8ggAQMPur6eYXQ05TFVlBqVOTqapaHZrGORoHc7qkzC37jk0oGPRL6ZsOYEnQZUNAGPfLBm1oETYnPG4ZwqC3/ezmKurZ5bqEieNMG6IxpowgT3RmGif6ZrzpttPCb4bJJGqiFVxu8zl6qzmer2m85UG4nRb5cEaj/NQZOr75FLXUt2pSPafDqaLoPLXPbtfXq9t5L1ef4nLYNtvFbmZgkWYo8utz75xNE1bn0dj83H4HYLkMtrkesPFzMt7CkZbz2/nMPKab0zk9Jzud7ee8oW6P1naP1HN1ws+pv5WXlVNrg1rHwBXhbgF1T4TTLhS+cm184i11huS4x+67Uzkj1QahIwiYCAjjbqIhbg8EzMnNnpS6urqotb6NDv/PSWrarZgfrPGe/JSmBR3Qt351FeEAHNNjmwuzaXO4vzbyMw2mDZvD/KUj6QIbAX62qCW7/XnGZpr29nY6f7aG3t9SQqdeLtdqCMNUv61KrqGM4lSK7Iwk7LrzLazmbj6XySiZdDlsKDbocH81y2D6sCG/jk/1/orDQH59yoOTaOF18yltXGq/rw1mPblsDuP6sH8kbW6T2U6mz2FIw+k4brTal/NZjFZM0W4nXKvVBYFhLUo0C6KeEP0sUD8l+ulxz4DysnHafec4sy9zmNiCwEghIIz7SCEZwHTshdmfqvLEg7ROi2j57rP07OPrvMoD6lP7imEH4w4DRh90WGbVpK8TDOOPU/2GQU6yBhAC/jxbOw33Le73ZnxVVRWd2ldKJ/+g7hvo/Ryu3zcbiWp31dOxtpM07dpifWspVDSaeW1YmL4dbvt9peM4Lodt0GD5dciw+6vOEXciLLx/Hk2/YYpdDbfffBlBeWaZnIjD2Obw4dgmLdMNmowD3HYcwsQIAiOFgGP/UpNAUlo0NZ3qcu0/qfmA8MOGFJh4qKF1MEPdfUd/Z8Nu1MuxbpxQbEGgFwFh3EO8K/CCyJOD2VxzkrDjOZ+ZhvO++tQb9MFTu/Sc5rTRborGgI4TLabLNtMerj3S9IZbH8l/eRDw9Zzxcmj3Z64Fdtzb29QqjIUYnTda/bAw47N4LyOPNKZhWijTLJfDzbTe3EjL6ZkG23Yell/HLru/Bi/I19w3j7KKxrjl4M28dtlm3Ei6uZzB0vSGxWDpSHpBwF8EPPqcmgsWLFhIpa1n6HRdOfWc76WSpKaJSUSrP76KTr5c5lXFKu++s4pjf+tgjxfbz3Q86sqBYo9aBIRxD+FHz5MAbHY7TQAcZ0KBdGZapLlQVUfv/ny7/myPtH17Bn05oZcdkxd23E1j0zPjxC0IjDQC6G9O/RrqBmNi1U56iuq/1Uap6Myqy4Ynh7tvLTVih+3kusA2x5VJ+NTOUtr6y20EJmAgozcC1RgrunMiLb1jMaUVpFBnZ6cjbS6baXorn+PFFgRGIwKFhQXUXUv63EtXyiWKjol2zQdzicZNzqWF351PR985Ts/87TrHHXjsvj/z9XX6bhKsgT2R3dTY2EjYCMBXLtw3gVuRU1LU5NNr7PlAxiojI7YvBIRx94VOEMdhAuAfN8NesDGZmAbxdhqOLz94hl77zibypSMaF1rwSXvk40/yTnTtCYrLETswEcDz8tY3ArPGrlrZdR4/fjx1tCgNSFNUPHbVsLnOG+y5inEvCKPcnFwKCwdr7BLhgO3Uh23aSMfGqX+bYZy3valD7+INVn592ccX0YzbpusX5LoLdVRdXa005DRQQUEBxcfHu58VysQ4ZG00qB+XzXUdSfty0h7JegotQQAImPNafn6+Vje78OZ5dOTwEXXJW4Zmtk1NU8XXT6aJH8uns69WehUTPbLlGP3g3p/SnM/NoPqwC3Tk4CkNdsHEsVQ8pYgWL17kPnOC8WKOGXZzvdgvT0sQMBEQxt1EI4TdpmYKbiYmBdxO6WtyaG/uoLdfeof2/OKAVzlbHITDhUoQkWHmhG0uiyci9vsqk9OILQgMBQHue2ybfS0iPILG5GTSstsW0nvlO9VhNLV44/Iw9Tl8/NSxNHv5NDfTjrLNvP7WBeVy2UwDdJgWbIjD8IVJ/sqv587MphWfW0YFC/L0VwEw4+vXb6CmHW1UW1tL0W0x9P6sXUofdRotX36d3tlDWTz2zfrb9TPjxC0IjBYEeExyezGmsDM+ZeoU/bLLF4I1NTXRubIKfai9clOvHE2yytWsfg6qI9txv8KTH1JMjpLFa1FjX90sXn2wjmo37aT42DiaVDSJEhIS9Ng0xyLXw2nMcpzYgoAw7iHeBzAx8c+pqeYEYU5imEwqKtRE9ZMPae/Gg1oc2Ck/DsPd/901eucPecxJiOnBNsOd6EiYIDCSCJj9jd16HKid9KTkJJozdzZFPBSl5d2jG2Ooe1Injc0aRznjs9zV4HwI4L4MtxkOv20Qb6Y33fhixRcm2fm8+SG/XnzvJF23tPQ0nQy763V1dXT0ZaXV6YTS6oSvBl2qnoqnaDnWohj7bbR69Wqd1iyfy3AK4zixAweBgfpa4NQ0+GvCWIN5T0xM9GhQaWkpndlbQSc3KzG2KhWlxOrAjJP69eDesw71M2RH2dleiQgVpRj8lkjXLeP7th+iMdljNOOuI+WPIDBIBIRxHyRggZrcZhZMv69F2jFOzToNlY30/FdfovpTOFrvMSe5IVjx6DLCT8crZsUUvQFdR9ru3OIQBC4PArwAM3XTjz4ZGRmpL1tacc911NHZQW1tbZScnOzRX+08oGWGmW4uh23E2f0fn893PF3il/w66ETGRtC0NcV0/UPLCDc72gZM+4njimnf5dJDr+OVdE+PktG9QPVUv7Pezbgjjutk0xF/4CLgq48Fbq2Ds2bAmscI22ZLKiuq6FxlJdFpFYrLhhXj3hOvmHf1xS5sOtS+x1HboQ7qanPYfgchBEMyVa2tJ4+X0TIlImca81lj7mC/rKEmSuJmBIRxZySC3DYHOAa9uZOOpuHSGSz2hw4eps6uDhqTOYbmL5jvwawgHdQ2ljy/mzb+6K0+2V9EGAYHTx/43kfcNzCiPLtMDuN6sW2QEWcQIRDMz4/rjj7JbkAPOXaofMTPH4O8oAHDbvYjDGPOpA8RGDDsg5VfX/7ZpTTv7tkg6dVUVFTS3n17VEVUEtaMg9RqZw87gN1HXHU16+OVmEQIAoKARoDHM2xzDb148SLV1VxwjTcw4fjCVaHGmrITx8XR9DVFtOTvl9Lv/+pZunCsztx870OWt+FVSLgS2WODsrhcnlcQZ7s5vdiCgDDuIdgH7MW6pqaGjpQco6YLzXR6l0tjRWuu66bTBQsXuBGAjuuS3+6lnc/tcofZDlM0xoxDmVwuJiEnt5le3ILA5UKA+55JnxdGtp3SmOkHciO/2c/hZ5qQX9+xtoT2bNjn9VyITR/amKasnkQF8/IoOQXCs75NshL3mVA4kfb2HNEiMpw6nMKpO6aberL6xiDHiS0ICALeEeAxbafAOM/Oyaam8a3UlKTWT3yEVmJp+oZVZSWkJKgD4QmUkpNMn/nFw7T9tzu1diibjtu/lWhv5gEa81gmxafEuecNxPMcYrvdecUhCCgEhHEPkW7giyEBQ77vg4NUfUTtGBxxvfbX5zRSZcxZYsYdu4PPf+0lqj1e5xURaIyB5hg2XCb72bYnQDudOTlxHrEFgZFCwOxf6Htm/zPdnM4M86cOnA9p2Q279MNy2r1+n1td6oC01KZbxrxUuvGzK2jizEKfO/9cRy4vKSlJMxNqQLs+w/d+oe9W3+Mhe5s4PmrA4iWBICAIeCKA8cVjjWMQlqk0zDTntdLJ9F7GHeOtd8ylxKRQSpJL1A4HW6//3LU08ZpCeu5f1lFrWZvj7vuudXvp1PZSuufbt+sv107lcvliCwI2AsK424iEoP+P//oK9VQoht0lrq5b2F7dQdVrO2h9/gaqL79IZWvPepXPg2iMebEET2xsMzNhQuc0ETmlM/OIWxC4kgig/6JPmv2S+7S3ephp+VM6tMPs2bDfL/l1LdmiNE3MXTlbnw+x7zvgcm1tT1xXxKMOUF2HX9nXyujs5ipqqmvV8rax10RR/pRxdMedtzMpbZv19ogQjyAgCGgEzDGC81qmOuOiyUU0YcIEWnDtXHrppfV0oa6GLtZ10MqbrlXjME+rYWUYcbi1YH4efeJHD9A7v/wTHXrhGEd52Pgy95svrtUqlLEhZpbvkVA8goCFgDDuFiDB6sWgt5kOnnx62hXTDpk8iNUlGC1UZ960VgrzgJsRDSdUPELVY3J2knsis8uxsri9MhG5oRCHgQD3n8vRP3zRdiqP0xvV004z3CkfvlBBFAYiMViA/TEZSk3jdQ8tpUkrCyk2KpYiY5ynX5SNl4KB6oAyV96wgs4VVlJLgzolp8yYvExKyUjWKu3g94cG0okJXATwDJ36YODWOPhrBrwZc8YfDDk0Uq2+7RZ92RnOg6WlpVF0dLQ7rdnyjIwMuuXPb6RFqxfSxie834ECLVOlH5bR3erSJqy3bMyxy2Fsc93g5/pxHNv+5uf0YgcPAs4rR/DUX2pqIeA0iBPT4pR8u0v7hFZh1ZunRx2uaTptaKWwaJmiMawxxom+lU28oxwBfmFsbm5260J2OgB6pfqSucgN9tHYeQcjv47ddZix1+bSpBWFNFPpiM/MzHQF+vHXLtspS1ZWlsa4o8OlpQLMgs1IXCmcneonYYJAMCLgNPYQBo1UfCHTQOMKaXFLasr8FPrsbz5Bb35/i1YF64QH1MT+/OFf669wrKnNKZ23MLsu8IsJXQSEcQ+yZ2sOSEwkpp+bwoMYu3b4jbshm862nKemCteuHNRY4US8+8ZIzthr4/P9rV9dRdAfDcNl8GTGdm9ysQQBDwQ6OzuppbmFDh85oi8bSctI02IdHol6PXbfckozmDC7b5p+Lsumx+Gc1vRzGOTXt6/dqbXE2Pmd/FDnOOOmabT4M/MpZ1yOkm9xSuUcxmU6x3qGIq23lwGzHZ65xBcMCODZ8jMMhvoGcx3NMWe6fbXJ33Sggd16iMNMXVlET//9H6hD6Xd3Yq2hgQqaqJx2382+wGUjjMNhI9z0Y/3ntLz5hvpwWrg5Hm4xwYGAMO4B+px48Pmqnrc05kBEGnxO39b5PlWWnqfzbytFz+e9U8WnOp40vNH3nltiQhUB9AWzX3lrJ24YPPThETr87lFqPNBElNJDyeOTaPZtdfq2QFxsAjrct/yl6628oYab5Zrtgtv08+2m2BEbyLD8+sqPXUeTV07UGiP0lwaLaee2g55Z1kD07XizDXYc/MOh7URPwgQBQaBvIwtYDHaMQfb9sV99jt5+6l3CAVUn47T7jnLww5jnH/KacwnczKjDzXm4DMSxwRkaGKYJW0zwICCMe/A8qyHVFAMSn9OTchPo5OtKLMY4oGoTxA47dtq9HZiz04tfEDARwI4ObtstP3SWTu0uJ1L/caai/WIHncoro+wx2RQbq2S71SfkQDS8eEF+nW839Vd+PXdmNo1fOpamKrWOeQXjKSI6YtCLeiBiInUSBASB4SHAzDXPL0mZiXTDX15HeYvG0js/2Ob1jIzT7jvTQI2YLtfOjEMYmHN8/YQB026KK3JaZvB1IvkTNAgE5goaNPCNfEV5MLLNJZgDjcNMG/HeBmHF4Ura+YO9xNcvm/ngHkg0xhtdm474RzcCnR2dtGH9emr6UCk5Pt2LhXpRbGpvob0vH6JxBWPVjaCuW0svJ1Le+iuPEZQNN140YPMPTDovlmDe/THjlPz61Nsm07Jbl3pNbn6iRiKUNxIGdNBW/GC4HSNBW2gIAoKAMwL+jl8emzw+eTccVPHlce6q2TRtyVRa968v09GNJxwLw+77b7+0Vsu+48wZDMo35xSncQ+mvba2lhobXTt1CQkJNHbsWHcZqAvXyx0ojqBBQBj3AHlU9kB0+qxlVxUD1hx8Zh6kPXPmDH2gLlPa9+wht85Zm0ZqborWGgMRGZOWOTmZbjONTUv8oxuB6ovV1HS4U98mCNa0p1D94bMUp4kunK2j+IxYLZNt9l2zf6kcwzZM21tfRTx+kDuFGaz8enR8FBUuz6fVj91EqTkpPutr1gFuLhuZzDifRLxEDje/F7ISLAgIAsNEgMemOd5BEuH48VodkxBND/7jn9Gpe0rpuW+84HhhGzYRNj7xlpJ9P67EWG8jrNmcH7TApMPPYSU7S6i05CwdePmwvkUZ5YapaeraryykSZMn6vNGnNauD+orJvAREMY9QJ6ROWBMN6rHgwxuDDTTcFq28QKA357de+j4M2U+D9PhtkboZ49JjO5H1yzDdHM5Zpi4BQFM92nR6RQ7NoraWrrUwSvVT9V9X/qGwRhlq19iegLh4qArZdBXebw49VvIr2OH3V9xGCyYix9aQFnzMyk1M4VS0z2Zdrss9qO9pnuk2m+3yfaPVDlCRxAQBAaHwEBjkecDTjdhYQF9+YUv0o8fe4qajriUSNglni4pc2ueMXffwR8wHTDx5YfOUcWeSuppUxRww6syPUpjbdm+c5SemKEYd1cY/+W87Bc78BEQxv0qPSN74PoaPGYc50O14TbjEAam/dyRCnrz8a1eRWOQDifcMfiZHttMj/1Iy4bj2C+2IMAI4HUyLimWEsfEUcS5Tmoi4zyFmmXCcsPUYc14SkocmHE3+95Q+pyZH/VjGrBZfh0y7P6Kw6ROSKYp906m6+9dRnGxcYogt7rPRpl2uRzrLZzjh2tz+4ZLR/ILAoLAlUHAnBN4/EJktfiBCVT15gU6u019qvTco9MV87X7jgTQLd++t4tqj9YTNauA3ttdYZ/5sIImFBZ4zFMo26yLLkT+BDwCwrhfpUfEgxXFY+Cwv7VVXat88qSST8N2pboSPSOdZsyYod34w7vvZh6ORN7XfvqmT9EYTA6f/MlD+qIHMPkmHaYNejKYGVWxgQD3T19ooP984Yufp3fffY/eTtxGtEelTifKLsykJWqnelLRJC3bCRroewMZ9EGzf3qrg91XzXTsZvl17LL7a/BFCjqVzUtROK9dN7ue3D6E87gy04AO141pii0ICAKhjwDmATbmnAD3sWNHqalWbZMjCb5Uejlqw7vvptpm0Kyvr6fGWiXXflF5QCMZocqooJ7TPdRa00Z1dXVucUVEmfWBX0zgIyCMewA8I17AoUrvXFkFHXn3BDXXNlNUazTVjK/TNYSuZr74AQGcB+729nZ9EKXkN3tp/7pDekOwb2pACpcpXJBP9393jT6Mak4YiDXp2QPZjOslJZYg4IgAmNS8nDxadlsnXchooIiMCErPSqOcsTlao4ydaTh9y+yndn/mciC/DnEYLHT+GLzYzrljFuXfNI7GjM3opyMd5djlOtFFu7zVySm9hAkCgsDoQMDbnIfw2Jg46onv/WIJxh2iLrxrbsGD3fcXH3+FDiu97xB5xdyFQ6jhyUrtY7RKjDvZDMYfcu4w0OylmXr15dCco7zVy5VL/gYSAsK4B8jTwA5d9bka2r/1kMehErx1N7Q00swF0yg5ue8qc1Qbg66+rp5qTl2gF7+zgVrKINTmbLBzyDeymYwHD1a2nXNLqCDgPwL5k/JobEEulRWU6YUEiwluEGRjLhYIs/2czpeNPNyPnfruUOTXi+6cSNNvmEoFk/Mci+YyfZVrZrTrZfvNtOIWBASB0YkA5hOeG3Jzc6nyQg01nVCihhB1UQaH4TsT1aF/L1dJ4MKmH9z7U828Fy+fTGnTUqito9UlLgPGHcy/4iPS81MpOT/Rxbj3Mu2gD8Plu3zyN9AREMb9Kj0hc7CiCtg1P1pynPZvOux5QZIaeOVrz1Fia4I6TZ5MRUVFusZg9KGjdfNzW+nw749RV7vzaznewh/43kcIFz/AMNOhPeqPtwFr1s90cz6xBQFvCEBbC37cVzkd9z3YLD7CcbARbvY19E3unwhHnzf9yMNpYEMchi9M8ld+HWIwxX82iVauWQ5yXg3K5vK5TCTm+tgZvYVzGzm9t3QcL7YgIAiEFgIY8/Y8gBYi/IYbV9IHUR/S+Y4aoj+5DtN05nZR5tJkymkfR0dfPkHtTdhK9zSY7575+jqCeN+8T89U4olj6K0/biU6q+ZVtZ8XpjbZp35kMo2bnOsx9/J8C9ubkTnKGzJXL1wY96uEvT0YqqqqqKVSvWW7RNtdsml4W8ZPjd/YsDiKiorStQUDcf7cedrw72/Q2T9VeG0BmBLIs5taY+xyvWaWCEHAQIAneCNoUE6nhYoJOC0a3E+9xXE8aEDXMV+YxDR92mo8Tbm+iK7788WUkpnsHle+8uBFg8vktrAf+RBm+n3RkjhBQBAQBICAOb9h/sDXyVnXTKeCKePp7LxKDVJUfCRNmFVAaWlpdP1Hl9GGf3ndq+gfdt9PfXCaVn1lBT38v++nhvJGau5ybd3PVHQhJmNumgw0Zw0UL0/x6iAgjPvVwd2x1J743rdevGiDYYeMG2yliCMyM0LfOIkDqA21DfT6P79NZ0sU0460Di/L0BgDzTEw5uSgA+SPIHAFEPDW73wtBoOJwyK14+kSr4uY3UR8fZqwKp8Kr8unCdML+smvm+lx3gQXSrW2qZdpZbCgYtHj2we9tc2kIW5BQBAQBJwQ4PnDnO8QhlulMzIyKDU11Z0Ncw9EaJA2Li9ObcY9SK8+9Qbte/qgo2asjpZOevVf3iTchD73Y7MoMzZdM+umuKKbuDiCEgFh3APksY0fP56OjztFYZMUo71LVYp321G/OURRuZE0ZswY2vbK+7T9+zsJg1Mbi2kHc4KDKvhkBoPJwJwcdOAg/ww3/yCLk+QhgoCTaAmahv7ECxf8Zh/lOI63+x4+CYNh91f/Ot5ro3OiafZdM+jWz67y2G1C2U4GZZeWllJ5eTkdOnSI0tMyacLEQqX/OI8KCwt1/bmenN+uJ4fbtr/p7HziFwQEgf/P3ptAWXVcZ6O7maGbhmZuZsQkBAgMsiZriKVYaECjEw2JLft/8XMkZ/1J7PXkxO8lcmzHyYr8Pzu/VmLLcvxiyV5BchIrkjVhR7KxZGswIAGSmARqQNA0NNBAT0zqV9+5/V32rXvOnW/foXetvl11qnZV7frO3lX71KmqUx0IsG9Da3R/gP4SSwxhvOPnLzXUrb/uMx+TC69dLj/58k+l+a0WnRQPY9ngrnV75OYvXy9Tl539aqrub0ms+WCc+eWLgBnuJbo3VF4qDBT23KVz5czxM/LakfVS477B0DPCfbRm7jC5YMWHAi6f+n/dDvL/2h7JMZbG3P6NW4Mvq7F8EOswrlknwmEO6fj5+cJoLc4QiEIAr2QhQ5SjVHIHGj9dX+eyfn3s3Ab52J98VMafO1YGDxmcZLSTL/DPujDTvnXLVtn+ZJO8v3mvm3E/JScHHJL2qV3yzuRt8pn7PiU1g2JfXUUelsH8UVhYvCFgCBgCQED3FQyjH2F/yTiihTQY9VziEqS7GYmGKaPlfzz8h/Lrf30tmMggvfbRbz5yz6rgmy04nAITe7p89l/Mo9MYl85HGbnkS1eupUcjYIZ7NDZBCgW7kILJMlEBwygfM+qLLhkgQ4dhjUzMnRl5Sjo7O2TPj1sin6xBiddimGmnQ3m6bMZn4xeyzdnUa7TVgwBliL5uGeVTx/lhHOf45tObgk2nflrYNU5gWHDVfJl3w2wZM3V0whGqYfR+XHtbu2x0Jzsd2NAqJw66TWCuhzxx4qSc6DwpNe5Eyfeb35dR9aOkYUyDn9WuDQFDwBDICAG/P/Sv/UKYTh/pMOTxg0E+69Lp8vzfvxDs9/Hz4hp7gPCm8sa/vlbwlVZzlY1AxRjuGOS10PYF7KiT9dLIyIUH5o3imXVg/eyUmZODH9atnzjplgX8drs8d/9/y4kOZ0SErGfHE7T/EQbWA17T1U1a8w2BvkSAcknZ13qFMF7zbnjmrazXr1/wex+SWfNmpm0K6/cJuzq75f0t+6RHf3V8oKPCB0zcb/fuPTJz5oAEw51l6Tb45dq1IWAIGAK5IMB+hX5YfzN94TT57I8+Lau/+aK89u9rQ89+x+z7Dz/3eHz2HYdWoEwuaQRvLJt8sk5eR/nIlyltVBkWnzkCFWO4Z96kwlJSGCGYfFWVSw1UCJaHMs6cORMp7O0d7fLrh18PnpSj6sPSmJvcLDt8/Sotit7iDYG+RkDLO3WAPtK0TmH9+oZnNslrq9YFRztmwmvDtNFy2aculqU3Lo7UJdSHH+ojP/AZp+sZeGqg9BxxMdhjAoeXXzgHudfh7ReObjVnCBgChkAhEGB/iLLYPzGO1/RBgzT80HfqeKThQIrF1y2Qp7++Ou3sO5bVwnbAMl3WRx9lweGaddCPpZz9HxV/lsJChUbADPcMEc1HOLUy+IqAcnXZWGO7/a0dsu0/dwavtsJm2cEylsZgpp1HPeoyMmySkRkCRUdAyzsro6zSx0wQjHUY7Zmev47N1/OvnS3j5o+RyZPPbrxCHdQ3lo84hPU14uB8/nqcoY59Je2H3eHH7iVX3IDHrLvrLcePGx+cMIO82oWVrdMtbAgYAoZAGAJhfUdYHPOmSgNN47mT5JPfu0NefXStvPT9V5gtwUef+/AnfhAss8FSG5Sp+0L2oQmZ7KJsEDDDvcC3ggJP5eK1roZxoOEP6Yhv3toiT//t6rNfSfNOjQEd1rLDcAe9LgtpcIhj/bEY+28IlA4ByijlkrKZ7fp1zH7XzRwhF31iuVzwO8tkyJDYq16/ZfrVr58Wdk2+kDZwmDtybcoQ6RjWHSyNiRvumHl3buKkiUmGO9sTo7D/hoAhYAgUFwH2OexbeY1aER4+fLh89LOXy9iFDfLcA26p7X7MQiQ7nM6Fte98c6/LY5i59LWuj/E6jnnMLw4CFWO4l0IoUtUJ4wAONPhReHmbeA2fYdIyH2nhv/322/LOk9tk80/dqTHhH0ENTovh6y3kCSsX8ZpvHUaaOUOgFAho2efXTfHhpEzcUHec47yPzpbrPnNNcCpCWB7qGfywV8hheRDn6weOZb3nnj+W9Reul3ff3eH2mDS5Q9x7ZMY5k2XRovME6b6jHup4v1ydZmFDIBMEKFcmS5mg1b9oKBtstb6OLz90e+LOv2yRzFsyNzh1BhtUwxz6YT37rmlo5yAOdWhZRBjpnCjR/S750fS6XAvnh0DFGO75NTPz3L5wUgCjSsgmHULsC3Jra6vs3bNXXv5fr8uh7VhcG+6wNAAz7VwaAyqWRT88p8UaAn2DgO7kUaOWSyyB4ddN8Zo2E9e4aKIsvWmxzLlilgwbPsz9eqe9ezOH6Z6uM10dUbQ1A2pk/rnzZeq0qXLhsgvdg8BA98AwJGmmnfWjnKiy0vFg6YaAIWAIZIIA+xvQpupvSEea4AALt/Z91sXu5Jl/eCFy/5A/+478MMZZng5rflmPjrNwcREwwz0LfCHAuQqpzodysDH1wIED8t6mXbL+4U1yZE9bJCfYcIIvoVKBNKEuV8db2BAoBwRgpHNAyGb9+uhlI2XxlecFXxHk10r99lAfoAMM+zS5XtfV1QWG+pmxZ+Iz+KZruaJp+QwBQ6DUCMy7dI7U/3Od/PaHb8obT2wMZYez77Q52OdF9a+67wUN6UMLt8iCIWCGuwdlKsFjWpQQe0UlvFpCXuaH0X609Zg89s//Ie2/cpvgIg6pwJPyHd+4TWYsmxaUxRlN/UrKr9OuDYFSIQC5pMP69VdXxc4OZlyUH5xy6ibT5/3ObPnYZz/qzl9viOuKzkO9K8YAwbJZH/UVXzDUjnTF4EHXY2FDwBAwBKIQoC2h09k3MQ7X7KdIP2nqJLnxS9fKoo8tkJ9+7fnI2XccK7l1zbtu7ft1wRJdlEn7g+XTZ9mkYd/JdPMLj0DiqFT48iu+RC2UujG+QiDNVxxtyDAvjpLbt6tZXvz2S9Lxm+6oQ2OCY5pW/M3VMmPONGYNfL9M1hnFZ0JmuzAEckQgG/l69N7Hsjp/HacazLhsqgwfOVxGjhyZYLRTvsG2DuNa86TDSMvEoTzmg6/LjwqzXJ2XceYbAoaAIVBsBNg3se9KV18YPT7C9Ml/vV1+9ve/jJ1eF1JI07rd8bXveOOvbQ/Wbf1gCHB9EGWGew4gU2jpswhchykJ0k+fPi1tbW1yZNdR+Zl7mo1az47ZR5ng/laMlaP7j8qZWZODc1YRbc4QqAQEJs6dkNZwx/r1sRc1yPzLZst5550XNMvXJ7aVOsXrYvlaf9PVGcVrsXizcg0BQ8AQKBQCRw4fkQ73TYrL/uQiwbLE1769PvTNP5Y3hs2+kw/dZzLO/OIjYIZ7Cow5eHOQxjXD9P3sUfEw2n/6w+el+YkWOd0dcWyMs9p7hrgS3WEbGx/ZLIcWtck5S2cK1tvCoWzyQN6CBPtnCJQRAnULh7tzFR1DIWJeNz92nONHrrnECXQy01qudVhTMp66Rl/TZBIOy6d1LNcyMslnNIZAOgQoi5D3MFlNl9/SqxeBMHlgHPvHqNYjff36N2Tjpg1y2n0Num78cLnw/zlf9vy4RZrfbnFGSHJOf/ZdU6BevYwG1+SBPJE+TJbD4khvfjgCZrh7uKQSIl8Ijx49KsePH5eW/S3BCRSjR48WfyMdZtqf/ukzsukn26Rna4hG6PpHOltmmNMbnJJ3XKT7YLds3bJVll+wPE4VpRBxAgsYAiVEYN3adbJv3f4Eox17NZbcsFgu+P2lMnbamEjuINuUbxJpnWMa4nQ8aYvl92VdxWqDlWsIGALVgUC6/ojpYf3lhjc2yJsbNsqubzfHweiqOSWtSzfKrA9Pl9/75M1u7ftzcqI9+dz3YPb9Wy/KL//tZam/dphcd/21wfG42AeEZTTsv+GTBxj0DLNCzZcfh2ufnjTmn0XADPezWMSNBgoWk7QgIg5fN92xfYfs33JQPmjvkdaDrXJg/GGZedF0mTl3evDxg66uLunu6pYNa96S3Y81S0+TE2aXN8x0r3FLYwJj3W1Sjae7fX5Dhg6RsePGkg0T6DgSFihXBHCE4vEFnXLsQLu07jwkv/MHl0n9eSPlnPkzZfDgwUls+7qFTpv653fg+lqHkwotYERf1VNAlq0oQ8AQ6OcIsA/VMCDu5PHTsWW6MEbwdv90L8VekY5RndJzxWn53I8/I8/+w8/D1747AwUfczq46qRsHrxdBqwYINOmTYvbJqn6y1Rpmk8Lp0fADPdejKIEHcm+wB07dix4aj30wlHpOOKE/ZDIe9P2yIC6Gpk0dUJguNNo/9UDr8RnH+NGeW+dOJN9xkemyfYDO4LlMcHpMjxhxt2ZAfUDZFT9qIAaPJBH8oPrsHBv8eYZAn2OwMSJE+XYomPSPviYXL3ocsE1vuIX5iC/Woa1jIfRU9bD0izOEDAEDAFDwE3+uX41zOE0u45DndKxW80Q1jpKXLpPaxzf2S7bt70rCxYskN//h5vltz9eLy98e0340l6XZ+333pB9b++Xu77yezJi1PDAFomqO4wfi8sdgX5puPvC5RsEOh1hnd7S0iKb1rwju75z9lVTME3eJPL6s2/I2h3r5eKLL5AtP3lXDq1rkxqnQ2FqNGneBMFXUI+dOiqTmybImr2vSI87GTJwbjXB+TcukFmLpsvohtFBFPjQ68gQqfnS4SCD/TMESoTA3LlzBT/fUa/oM92/pizTJ11f+aWqt6/aZ/UYAoZA5SHAfsnvL/2WRNENHDhQTg92U+wjnEWCGXfMtuOn9iLh1Dvmx0ky+PDjj+97QvZvd+t3PUMGl/t+0yz/dNvDwcchQcu85BE+4hjvsiQ5pNG2SUWXlLEfR/RLw53CQeHC/WccwzpNywcEu+t0V0yIsQHPIVgTmxSXnhPOuN4j8sabb0nn7pgV7sl6UNSSlYtkxeevDj7fPvzEMBk1apScvOe0nDke06C6MbUye+EsqRtdF/BFXsKOY9K8WdgQKFcEIMOUY/CYSt9Ap9PLtU3GlyFgCBgCfY1Arn0j8k0/Z6q0X3tMNu7Y6tbGOM5hcjg7psatyK1bWiuXXHpxQt87aORAmXblFNm/wxnuysBnm2HfYO37486459fdsaeJPMJmYRj9Oj46CRsKv+nTpwcn5nGNPMs0Pz0C/dJwJywQKG1MMB5+VBqEbPgg9+rffTAmcPAbXDnOaIfrcR8k6zzDqfMgKv4v+PSwM9hhuNNhMyt+886fHQgz4mtra2XchHHif/yFeagIvDbfEDAEDAFDwBAwBAwBHwE9ETJqbL3MnTfHnVh3LDj8outElwwZOESGLB4ss2bPkDFjIg4PwJIad2CGP+uu69q6Zrs8eMtDbpnNLYJz4uFgq+CAjpMdpwSrFfa91yynOk/LiW631ubYABk5sVYaxjckHeqhy7VwMgIVYbhrwUtuQvYxfnl4TaNns1OVWF9fL43TJgWz7FjaglNggldPTg6lKTonlsbcdP/1MnHu+PhrIV0nnj7DnL1CCkPF4voaAV9nsq3ff9jkgzHK9Z1P66fbtSHQXxAwXegvd7q47WT/jT1H+E2+f7JseustwX69QYMGyvnnny9jx45NMqBxFHXtfGfkLHH8vdTLI1YawIXMwGP2/Yefe1ywzAYf1sNkZUdHh+zc3CRP/+tqtxwhlrXHLdV5ffx6WXjjufKRWy4KeIql2P9MEKgIw70YnZc2GGhEEDBdHwWeadhoN3bqGJl69WQ5suWItB9xy2Z2uNRjpEj2McP+sT/7qAyvH5Yww+8b5awXdfr8JZdqMYZA3yFA2cymRi3Dfr6wNF8P/Tx2bQgYAoaAIZAZAn5/ij6X/fjI+pGyZMn58sGZD4LCRtSOiJ/6xb6ZtPPnz5OB1wySTQ3vyME97iQO50ZOq5UTr5+Sk+6EmeSpF5HXHlsbnEpz85evl/ahx+TAewelB3YSncuEDbEHd7TKzp3vyYQJE+K8kcT8aAQqwnCPZr/4KRRe1oQNHoOGD5QBDb3iij2qmG2PcCu+cJV8+PZlQSoVgqRUJO0zzXxDoNoR8PWh2ttr7TMEDAFDoC8RiDLesQwXe+vCHO0RpmEm/tTCU3LcWdoTxo+Xzg86ZfS0kTLr1pmy69l9svbfe6fRmaHXb2s+Ko/cu0qmXNIoA2a4KXYsteESY2yKdUfFdxztkEOHDgUTlb6t5RVnlwqBfmO4+8JIDBCv03zh0ctZkAez5NhYsWuTs9jfcRERRvvoxlHBqTFYIoPyo5xfH2n9+Kj8Fm8I9AUCWkcyrY+yDHrIs77WZfhlm+xrdCxsCBgChkD2CLC/ZX/Kfpa+LpG02kcY9g+M/KlTpwY/prPMhQsXyrKbl8i/f+m/5MieNl1kLOxMn73u5JlB6936GvdtGml0Y0Gnm23HNkBnyHd0dsuh1sM2256MXMqYqjbcIWT4QcgoaEBDh310KJhhdPjq2KZXN8t7z+yWmuTTkeJFYXf1jX91reCc9iineSKPqWjD0lLxGkZvcYZAXyLgP/T6egf51ftLcG0y3Zd3yOoyBAyBakVA97foV/3rsL5W0wAX9M+IYzx9jRkmJ//nf35WfvHdl+Sl77+ik+Lh0929C+IP9+5vdUY7jsqe0DhW5s2fG7fT4hkskBKBqjbcw4QMHyHALmd8xVELJIWYeegDvdbW1mBH9LbndsqRdcdiXzmNgBUbMq74zKUJBkgEaTyadZGHeIIFDIEyQYAymood7tkIo0Ea0/VpSTDuKfeog/XQDyvL4gyB/oIAdaO/tNfaWRwE2J+GyRPT6IdxEJYPdDoP7J75V8yRp7++WvZvczObYY57Aevd6Xmzh8vExeNl1rSZCeWEZbO4RATw8qKqHQSLwgXhg9F+6tSpwIigMGoagEF6AoNjjNY/uVE2P7k9/HWQI8Tu6U89dFewk5rlMn8mfqo8SOMvk7KMxhAoJwQguzDa8dCMH2Wdesdr+r7+lVNbjBdDoK8RoF70db1WX3UiAHnyZSpdn8s8nIDhJAzjgRT2/01e0Ch3f+cumbdidmrwsN7duWkLJsvEKROTbK5Yqv2PQqCqZ9zZaKxJb25uljW/fEl2v+LWpu91r2tGiMxaOk1mXDZVrrji8kBwtPB2dXW53c475T8ff1pq1rv1uREPkKhj5vLpcvsDtwZLYyjINErIQzrfV6Qoes1jFI3FGwKFRgDymU72/KUxyPPSSy/L7rf3ys5fuOVlbm0jvnkw7pKRcu/n7omzyHyZ6kA8owUMAUPAEDAEMkaAfTgMb/a7jIsqBP0y+3/SMg552G+jPKRjEvPOr31c3rt5l/z0a88LNqkmObdMpv2NLln3j5tkyv3TBMtt6Fge62K8+WcRqNgZdwrd2aZEh44fPy5vuvXph7YfiRnt2Bjh1lode/94YFRQUFhCe3u77N/TIltfducX/Sa10Y6lMXd/586E9ewQuGyFjnnS+eQRvqbV8RY2BMoBgXfffVcOrWuTA28eDPQt2JB0pEe6NpyS3bt3y9GjsQ6dukK/HHg3HgwBQ8AQqEYE0M/SfkrX5yJd/4iHzsd0bcyDDhOan3n07uBMd+bzfSypefgTP5A13/t1PInlxSMskIRA1c+448ny+OF22fjyVpENrv14RYM9o+40mMO72+Tw8aPS/enu4MMDWEKDo4ladx6WvZub5a0fbAn9yABQxFPlze6DStiI6jst1P5DAWn9eOZBPMOkNd8QqEQE3n7rHdnx613SuRdPyjHX4z6z3X60S9ave0POm39e/EgyyLyvE8yTymce05lUKFmaIWAIGAJnEcimv/Rp/WuWir5Y2y+gGzFquFzz+Y/KrIuny/P/8EL47LsrAIY7Pt6E47PNpUeg6g13LJM51eoODYXR7oyGwGjHWaIuKvjyqZsBPHjwYPDlrra2Nnnyv56SY893ywn3YYEoh9c6t3/jVhk1qT7U2IgS7KjydHw+eXU5FjYESoqAexUaPCzjhDD0MtA5OPfAjB/Sxo+YIHMXzMn4QZVGelCO++dfM950iEiYbwgYAoZA/gigT/WN8rBSQaPpQIO88y6dI9N/NE2e/OqzwYeZ/LyYCMXqBXOZIVD1hntwesxQ97rHfbW3B0YDDv7vNSIQhzW3MO7Xr39DjjW1S+uzbttzivXs+JTv7/7ZlcGrJhoOvqHgC25mt8KoDIEqQsB9b0NqnfUuLgCdw087l3ZmuB+pCc4a5r5+kQrxOo36yHTzDQFDwBAwBAqDAPpa9rH0df+LWnjNdF0zjPNb/vZ62ewmbVZ//UU50X52chSrF3B8NvKxDJ3XwokIVOwa98RmRF9hp/PQYUNkzPTRUoMPhdX20jofG1RlRI/buLpfdrzZJOu+syHYhApzw3cQujvcLPvH/vx3gqQwwfTz2LUh0J8RGD9plNQ0OsOdOhf7uraIOwpsxjmTZdRIF8jD+R08r0038wDVshoChoAhkAMC7H91VvTFuj8eOnSoLLhsvnzm3+6OLzNesnKRzL08zSk0ulALBy+xqxoGCNOoqfWy+M4Fsnb1G9Kx+4SbeY+Z5jUNznivE/nlP70isss9LYZZ7A4dLI25yT0RcuczBJHHIWnwUFeY8GoaCxsC/QWB666/Vn5x4mV5f8s+6cFXhjHB7oz4GtdHf/z3bo1/SyFTPKB36XQM6ThyknTMgzpMNzNF2ugMAUPAEEhGIF0fmi4dJcJ4HzopNhG6dc12mbFsuvXNyVCnjKn6pTJofW1trSxZcr7Mnj5bmrbukoMHWmXjm5vdLjmXiLXvvR8FCLPb8TS44vNXB5tRURZdlIBqQ4G05hsC/RGBiRMnylU3XikHlh+Qvbv2SXt7h9TV1cqMudNl+PDh8ZMNqDPUKVzTMQ7XPAmBaTiy9eTJk9LR0SFjx46VIUOGBAOAT0d67bNOHWdhQ8AQMAQMgcIhoPtvv1T0wWGHe/h0dp2MQMUa7mEz3snNi8XgS42jRo0Kfm0dR+Rg5wGpOeDWazU5A+HsMquE7FgaA4P9/BsWhj4NUiC1kYECGJ9QmF0YAv0QARjnU2Y2ythJDTJ++tjgw2fYczJu3LjgYx0akmwMaRzXumP7DjnSdEy6Wrulu71bGmaOdr96mTR5kkycMNEpoi49OWx6moyJxRgChoAh0JcIZNPv9yVf5V5XxRjuhbrBp0+elpZXDknP1rOzev5N4tKYiXPH+0nBNQZ9Guw6HEpskYZAP0YAD811dXXBLwwG6hHSdNin1fqPGfY3N2yUQ6+0ScfertjpUG75zcJl54vUoNYAAEAASURBVIpcKMEJUX5+uzYEDAFDwBAoDwR0X6/79vLgrvy5qBjD3Ycyk9fhzIMPvaz97Tp592dN0rK+Nb40hunax6ubG//q2oQPKlHIOEuHaz3jj3j+dFkWNgSqBQHKfjbt8Ttk6hHK0PoDXdblg460oNPpra2tsvk322T3t5sl/ujtZtd73hB5e+8WeXv9Flny3SVxNlGuLk/XEyeygCFgCBgChkCfI2D9cW6QV6zhnq65GKyxSe3999+XvVub5d0XmuToOvf1JXyAKcLh8P8L71geGBXpBCpdekQVFm0I9CsEaID7+qKvdRjgMA/CfhrWtJ/odhvMkTjQ/dCD4XhX942G4LsMnclrZHR5jtKcIWAIGAKGQAkR8Pv1ErJSkVVXteGOL6Fu2bJFdr24T1pecjPtcBjX41N1QYyMbhwVfFAJS2Qww2dCFcPF/hsC+SAAgxm/bPTJN7KRV+c/ffq0dJ3uiqkxe68xjkt8owHOfVBNO788nWbh/oEAvsq4a/0e9wXHq+Ing1V7y7PVu2rHw9rX9whA7/ZvOxB8DRU2lrnCIVCx57jrV+1hcOzbt08eeugh+e0/bZSWXzqj/Yyjwi9xXJeZy6fLZ3/0acF69nRloh50iH6n6BsXoDNnCBABGA0P3vzd0C/GkQY+ZUvHVXIYS1y4zIVto0+dgc84+HDMx7wag5F1I2XKyCnSg1l2bCyHwd4UCwcfWZvvwsqhTF2XSrJgP0Kgad1uefgTP5DV33wx+LR6pTSdslsp/BqfhoBGAMc9YuyDEd99nLMrmsLCuSBQsYZ7usaOHDlSli+/QEZeXCs1E8Kp8YndT377DhlSOzgwHkDFjhK+dv61TrOwIZAOgbbmo/L4fU/Io/c+JgiHOcpeWJqOo6Gr48o9rPUn03aGtWlk/UgZNW+k1F0xTGrc3vG4lo4UGX/xWFn20YXS88HZp3PUxQeCsPIsrn8h8Npja+XBWx4S+NXstL5VczutbZWBAAx36N2Gp9+qDIbLnMuqNdxxpnNj4ySZs3SmzPvEzGA5DO8FjnqEwX7FZy4NotIN7FGdYD4GCHkxv38hgJk/zEBU2sxfIe5SlB5lUzZOqRkzoUGmLJ4kk+c0yqRFE4PlD1MWNcqs2TNk1qyZUjMgbs5nU7TR9hMEMPMH/YMe4m2YOUPAECg+AtC7J7/6bDB59d7aXcWvsIpr4CrRqmsizpCeO3du8EPj9i87ELwqxdKY2x+4NeHUGN8AT2Vg6DSG0xn+VQeuNShvBDDjt+GZTYK3PhfdeUFCeZAnylZCQu9FqrQw+nKIA8+6Xal0hmn0kVe3GefA33Hn7XLkmiPS0dkhODVqcuNkwWw8DHs6nZ9x9JGmy2S872dK5+fT1+RDx+lwJnyQvhD8sCzf12WT52x488vzr1km4nMpN9/8Pj948/XIPauC5ZI33X9dwuSOT1up1xozvw3Z3oNUZbHsbMtkPu2jnkKUo8vMJZyqvYXiT9dRiDIzwU7X6eNSCB78Mv1rTF7hh49bYvzLdP07+SaPmbTVr7tars+OctXSooh2YOMp17JHkATREAoKCCIoJGF5SEc/jMbiDIGovROc+Xtt1Tq5+cvXu08/T4uDxU3S2chjPHMRAvl2kjq/1hfqF+N4nUkTYKiPqB0RfDUVH3YaOBDHzJx1qcpKlYYSyM/Z0lKHdPt8ynR1+fT+daqyQUteUQ/DfhmZ8KBpdNgvq9qu+RaMD9F4IxvlfHzLHadc+GMb/by4ZhrwYTriGI7CLdt41lPocrPlI4y+kDwVsqwwXjONKwUfWDaDNfCYuMIvnd6Vs0xkinOh6Kp2qUwYQKk+qBRGn2lcKYQ+U96MrvwR4Mwf1sBHrX8v/1Zkz6HWGx32S4pKw+z60KFDBW/XEI6i88uza0MgDAFbhxuGSmKc6VgiHnaVHwKYvILeYeM4jPhUDrKHHw34VLTVnlYxM+6F6DAyLSMdXbr0ahcaa192COB0lEwcOi78/Jk/yhs7LPook2mZlF8KmjD+wuLC2hJF1xftyLbubOmzaYMuW4dZho7TYaaXi58vb/nmzwQHrsPFUrYVX7g64S0Y8vcFD5nwWUyadG300/3rfHkrdHm58lMufGTDfyY8Z0KTTZ2FoMWEFSausJQ57NhWzTPGP46B9HV6Ifgp9zIysyjKsBWZGkNlyLqxZAikRCBq5o+dE3z+UhZkiYaAIZATAjh/Guvfv//nP+xXb8FyAssyGQIFQgDL1jD7Dr07tP9waKk29sW+OxgKTrlHRq0bLne+jT9DIBMEOPO34Zm3ghl4vf49k/yloHnz6U3BpqNS1G11GgJRCORzcsze3zQHhsSSGxaLNH4gdWNqZcr8RmloaJD6+vo+mYHnA3tU+zY++7bsfuP9qGSLNwRKgkCueoczwfY5vfv+H/5QoHdY+z5o+gAZPbU+4RAC6AVn3EvSwBJWWjFLZUqIkVVtCJQMgVx34JeCYTujtxSoW53FRgAP0Vg6M2DgAOmZ0+MepC8Oqqyrq4t/YKzYPKQq3/QuFTqWVmkI8Csc1DvwP/aC0TLuitFSW1srw4YPSzg9rNLaVwh+K9ZwP9lxKqn9WGKAnzlDoNoQwODMAbruY8OCc8yvueZj0jCmodqaau0xBMoSgQ/OfCCyVWTNA6/IrBv2yo1/0BAYEvoI0rJk3JgyBCocgcNr2yT4ffqw3HzLTcGhBP15uXTFrnHH107NGQL9EYH217qls/mkDB04rE+brzcF9WnFVpkhUEYI9BwQ2fmvu6Xl7YNJR5AWi03TvWIha+VWAgKYhcev9QfHZFD34OBNF/jur+vdK9Jw76/rmiCo5gyBmmMi76/a1+efbTfjwWTPEJDg5Is/ffKPZd6lc/pkjTv0zvZ0meT1dwTmXzlX/qfTuwnnjO/vUEhFLpXBU1Z/fk3S76W2nwMwqnFU0gebig0JZzbsobnYSFv55YoAvvC44gtXCQwI30EvoCPFcsUsu1g8W7mGQCEQwMczw45mLUTZlVpGjetwuBeg7NugWf3Vv/zG1rOX/R0zBguJAHbX4wtzOOfdnCFgCGSGQL57n3y94zikjemwuMy4y4yK5YNa15tZbqMyBPoegULoHb9pQu6hByb/FXwcJG6oGTAUZ/PLGQEci4UzofNxS1YukhWfvzrlZ6HzKd/yGgKGQDICpnfJmFiMIVBsBDhBhYdmc8kIVMxSGXvSSr55FlP9CER9Sa76W24tNARKhwD0DhNDYd9PCJvxC4srJPfFLr+QvFpZhkCuCEDvbrr/OsGytDDn6wHfRPnxYXmrKa5iDPeoG2MGfTWJo7WFCKDjguGAGb8oVy6yz84zis+w+Ch9DqO1uOIikOr+Rd2nVHly4TaqnlzKyidPJnqXT/n55u0LnU91b8vlPuWLYyXlT3U/wtqRzz3qy7o079C7G//6Wpl1wYykjyppnvy2+de6zGoOV4zhHnUT+uuNi8LD4isbAa6nxavCdK8Jy0X2y4WPyr7zpeM+l/uXS57StTB9zdnoXfrSikfRF7j3RR3FQ6j6Su7L+9GXdeFOUe/0smefB/+6+u5w9i2qeMM9+yZbDkOgPBHA7Do6sFGT6suTQePKEKhCBHBKDE6LiXo9X4VNtiYZAiVHwPaP5H4LzHDPHTvLaQgUBAE77qogMFohhkBWCJjeZQWXERsCBUHA9m3lD6MZ7vljaCUYAjkhgNeEOCkm1Tr2nAq2TIaAIRCJgOldJDSWYAgUDQG80Yr6DkLRKq3Sgs1wr9Iba80qbwSwJCaTdezl3QrjzhCoLARM7yrrfhm3lY8A17HbeFe4e2mGe+GwtJIMgbQI2HratBAZgSFQcATSHTNX8AqtQEPAEAjeJuNh2faPFFYYKurLqYVtupVmCPQNAvgA05NfeVZu/vL1oedC9w0XVoshYAgYAoaAIWAIVDoCZrhX+h00/g0BQ8AQMAQMAUPAEDAE+gUCA/pFKwvUSP0hABSJaz+uQFVVVTF9iZFfl39NYKPimV4ov6/qKRS/lVpOGM5hccVsH+rz6/SvUX8YXTH5qrSywzDLpg355s+mrlLTpmor5Yx+trz6ZfvX2ZaXir6YZaeqt6/SdPt0OJP6s6XPpEyjqWwE+o3h7gu/f53tbcw0f6Z0rJ/08Bn203hdaJ91+vXmUo8uAx9Q0Nc6nEvZhcjjf9QhjKewONaNtFTppDO/MAikwjpVmq49U7q+ypMpP6nokMaf5hvhVPl82myuC1FuVBmI93UzHW+6LD+/TktXTiWmZ4pVpnQ+BoXEL1VZufCXqjy/HbxGHv4YV0g/rGzyqdMY1n4h+ajWsohltbYv03bZUplMkTI6Q8AQMAQMAUPAEDAEDAFDoIQIVPWpMvu3HZAT7ScCeCfOnZD2E/IlvA9WdZYIYMMnXTb3VsvEqMZ62+1OEM03BLJEwHQwS8BKSK77vWz6yxKybFWXCIHu4yekZfuBeO0zlk2Lhy1QHghUneGOweTVVWtl65rtSQjjS3k4S9Q+eJMETcVFPHLPqjjPn3roroxPa/nZt16UpnW7g7w4pgo/c6VDAIPEA1f/7zgDOC7zjm/cGr9GYM33fh38GImPeECPtfNpvvjCn/XZgzr6HC2P97/+Rc1a1YZ1m00Hy+8221hYfvekEjiC0a51u7/0Z5Vwb8hjVRnuG55+S5786rNsW5KPWQekb3FGvW8cIO+GZ94K8mBGAsaBucpDAPcYxjnd3d+5k0HzyxABfJwDD9S4b3Atvb5mlWmMa1q3J8lw1zQoD+WaKw0CpoOlwV3XamOhRsPCPgKrv/lifFZ9yQ2LbDLTB6jMr6vGcMdgoY12HPiP2TsM4JjVwwx8W/PR4HYgjBk6PduKNM7Elvk9M/YcAvigCt3QurNGGpZGpbqPeCijs49CEInS+tBTGt7QQ/z0vfGNef8a3O9aH3uLgjDKM1d8BEwHi49xLjXYWJgLav0rD2bVOU76S2Ewnmrd7l/IVEZrq8ZwxwwDHWbc7v7OXQmzbphBh2FPutceW5tguDOv+ZWBQK4z6fYmpfzuLwxtPEjT7XIz6qNXjgou8dDNB26m4xrxnFWHoYJrOjPciURxfdPB4uKba+kc45DfxsJcUey/+WIyY2+qy1kCqsZw15spMHBzUNfgY4adnRoGeqwBxAZFxCFM17bvaGBIYNYP6+FhKDAf47h+EDO8/gCGtC2/3B5/FYU6Zi6bHvo6Kqps5sfT77muPVFtAs8o47VV64L6Yk/L02TJDYulu707iW+2McrXBhTwIn/EZ/6Vc4Kyw/BlmcCqyc2AHm0+FkRhlvvc35mbch067seGZza5WYA9CRuKZy6fFjqDqvnEPcJ9QRz41Y50fLsC3kiDWQXMNuANDGd8kZe0uhw86NE4RMemjUPkB9+UQZSJdNCZS48AcOKbMVDjXizpzUZMcYn7TD3EDDvvgZ5tRzk+7igP94gyDHmMkqveaoN6tAwjHveVska6dD5kBrJDB/6gm6n0hzKLPH2pg76uo/5Usqz5JC6mg0CttE7rTNS4AbmiLmUzFqJl+r5TPhGH/v6az1+VoH/ZjIVRZYNP6i7GH7RJv5HTaEOG+3IsTMcLxwbYCbQDou4J2sFxcOuad4Nm6T7Hx91vt8YJaawPukkHHDHTDhuHDnEom+Mh+wGmczzUYyDtINLA9/s6tJN9MdICLHrtAtopqfDTZVs4EYGqMdx1syAg2LzmD44QNn+jBYVW54fgUpAh9OiQqDR8haSX5TAv8j311efir6AYDx9KhTL8z95nUjbaAwXw3yKwXJ8X0KPzwuyy5lsrsOZNh0mPOCjVo/euihusiIPSgwa8UCkRDwcsn/zKs3HDOBYbywOlB3Y33X9dUqeLfI/f95OEepAXdTHf7Q/cmnA/NZ8ol4Y766RPOnY+2MfAV4SgQceIToV0iNMdDq6RjjWBdDfff30QxP3+8X1PJBj9SCBGwJu0zGt+OALAnIaENsT1vcIDLGlgjCMPnH7oYhzig/v2rRfieRAHR7mK0qlH730sQUZiuc7eV+iVvzmWNL4P/dH8ffZHn06QY58e174s9oUOQs+0jJMvyjLa67+t0nyaDhKx8vILPRaidfq+Q9+0fPIUt1zGwnRlI53yGDb+oG8ol7EwSp/AI+ySMP7RT2gs2V6Udcc3bkvAneMZaHCP0W70d75Dfbhf7HeIn6ZDHH5wGA+1TYI41gX+2P8GExDqgQB06Le1bNDeiBrfwTf6HIyRpEU55tIjMCA9SWVQ4EmcDgKGkyowAEOQIDhRjuu59BM8hBIDkV4Pzfx4Ul3tjAHfQWlgxFEB/HRcozODgaoHck2Hsv2Oh+nI49cbGMoRm3FRV1RZLDOd73cipEdb/TTwh7ah3igHbICR7mAQ1kY77gOw1w8FyOe3PawOPx9oEIdfKodOQz/koUPRTl/rDivMaNf50MmFGUOaxsIxBPBGig6yRBnRuqKNcq3TWFpDp8uB7nOgYbr2UTbkWDvkSaXDoMU91Xzp/DoM/dN0GKC0XGvaqLCvZ6QrpA4CSy2n4BE6o/tEGA+psCRfpoNEonR+X42FaOFTIQYjZDPfsRBl+2MF4uBYfuwq9r/YY2E2vNAg1fzpMHVXj5WMg+87xGGMDHNIizLaSa9tAY6verxjnNZ35tW+nqxAvboPBh0O/aBDX43yULce35muffCvx1idZuFwBKpmxh2vnzGw6IESAzB+fArEoOIv9YjNut0Z0JBu0ryJSctfCB8EEUIPIcbyDzrkZd1Ix1MqX4lTkZEXAo/ODk/AvkM6+FnxhauDJ19ca+PQF24ce0mHOvFUjidm5MNA7NOTNlMfvHJ2EWEM3sQI11jaQmXWHTgUFvmgvKRDPoSBEcKcvQOPiIdD2zUuetYC9zbd7DWWLKEz0UdZ+cuYotoOXmmYgCfOMoAeSyboaDxqWQP2Kz5/dTBrgLZonBC+6K7lCUYQyzL/LALElTF43Q9Z5kZUPnxBRiBD+7e1BKSQdfzoWA7igD0d7idkFfcK9w4PgpRHXHPGhzKAfMhDOUB5D3/iB3FZhYyAlyiHwUiXleusEngstg6++fSmeDOAEXUTkY+7B232I3hbRZziGbyA6aAHSAku+2osRNOgi5AJvA0bNnJYMNlViLEQZWOpJ/UGegCdpU5BH1E3dbDoY2EWvOiHYPRH0CeMibEH5BcCvtEe4MQxDWMp4uiidJ7p9PX4iTrufujO+FgDPtgHUodxr/DTbxVxzX6O5Yb5wJrGONKxnBd9NJ2eQIE8wHHcRxj5tW2jbRSE2XeD1lxqBKpmxh0DMl4/QQijXDBz6wTkwVseincAUbSp4mGkQbEgtBRcKB6dNhIQB4G8XZ1NHTM8zn7ggPngU7ARhpJohdKKjXQqI8LgibwgHzoE+Pk4tgNlAF9ca3y5Ds9vD9pKJUQ+GAO6HRorbXQhjI6Z7UQ+nA/NXz5tSZd36crFcRK0hzwgUuNMOh4dinTwSVyIE9vv58e1uWQEgBsHYaRCV3EPKB98+zWx11hmGg175EF+lAPHAR5hGP2QP6b5A5WeKWIa6LXMQpcy1SfUreun8QFesnXgAfIFR9mirCGuEDqIV+N0eN2t5R28U/+wfrmYjrqFOkwHc0cactJXYyFkETKC/g7jD+rW/Tvll7qXzVjo96sY47TjshzEaZktxliYKS8wztlnoc16HAY+Nzms6DTP1GOkAVNf5/V4wvzwR0+O2QjAGctwdR+FfTyFdrrv0Usaoa+63eRX94O+bYMjuSkXyIsyzGWGQNXMuKO5VBQoLpQCM6UY2H2BwKCPGTEIPY3dzOCKUWnhRYw/yGDGw3cwKvAjL+BLGyqk9/nBLEaY819TUVFICywQxyduxmfjc5ZT59HrjGFcwWkFZjt1HoSBCWciaHShkwGPeCqH431BGGkw0lAfaKjgSCuGA+6ok50P5Af3GTiDLzik8/6w7YgHrX8/9OafsHPHkc9cIgK4z9QP4Knlj7oCf0NvNugQsKWboZbb6PuBe4EZJu26j3fHL7X80lgHHxh0OKCgLspGPGNEAH0LHWTG7y+YlomvMSB94XVwTnx5ENqNWXY4YK11kPUXyzcdLByyfTUW6octcA/5YX+J63zGQl/2o8YAreuoE/2IdsUYC6N40eMCePjxF2O6pPlhGDgBL+iZzsfZatLBX+rGIm3oMw06gx/KwltKznAjrMskfb4++jKO1+AdfSL6OM0bx2v/vjBfFA/oh9nPR9FYfAyBqjLceVOhVBAwDpgQagjFm24g1gKGV8Q0xJg3F18/+SN/lFJrIzxTIyBTfsLqDIvLtDzQYVe673QbmKY76rB00Pm8YJYPCg9FxdsLGvUsE/jgh/uFvHgY4/0kTaF9dDh80MEsLOrD60C6qPrRgaVyvnykou3PacCfnTuWwnA5DDCZ0Tt7hGVsdMBdn6Chl66RBj5lScfpsJZflIllX+nuqc6fKoy60SY+EKSiDUvrCx3E7B4egHTfCF6AAX54gIGu4k1asQdW08EwKcg9Dn0n+i32XTYW5o5ltjmBdTrjOWxsCBtDw+LID/oX9puMK5bPMZv9I/oM9B+67/Af5shLOix0P8w85ocjUDWGuxZcdFIQMDp0XhgQ8NNrT/UrYtL2le8bsvnWC6EvRpnSmMiZnqnMpz5sCqaD4uPewEDAU7qv4Ggb7htm/4ppOGAtOg13zsLqDomDH/mm78sb4+lrWWSc+ckI4N5CpnC/8eNsOuKIoX7Q1rICGp2mS8fMXVSapkOdejMoysSM4ejJ9S7/9OCLvL5s6vw6jLZwcINMpZMRnVeHwVNf6CBeWwNPPKhC9sk7ecEDCLD54gt/xqii+KaD+cNqY2Hhx8Jc7gr6rKgxg+WFPZjrMZZ0Ub5vtLOv4zjJt2dR+XOJx3jNt4roozF2s79Am6P62nSTF/4bllx46y95qsZwx+AYDHLuzsHHLG6YG1Z3dumJNh7DaDON8wUVxh6EWTvwpAd9PXOo6TINh9XpdxJ6fVmm5Wq6sOU8ej0w2wCF42CBNqKtMHq00wYw4tmx6Ndp6BCo3OgIkIflIg+umQ/XhXbodGhwoQ1cKoF6EE/jEddoM+8nl/Mg3lx+CPABDqVQZihnLJn3KGFGXi2TAR30g/cH6+MpVywjzEd9uO9wuNc8Qi2MNlUc1rXiDQE3s6JMHBOb6UZpXXaxdRC86bcWut+EbmLTH+8DaBHn9z2a33zDpoP5IijB5APlGL6+p7p0Gws1GoUJ67EQY2Am/Q5q1uMJxljfftAbyDWneozHfcYYSqfHVsYVwte8oW/QS3t0mt9PgDffLigEP/2xjKrZnKoFBptjONjomwpB1htnCrl5Q9ePZR+YoaJD56nXukF4faEmbTZ+Qp1uxz0VFXXjiVjzkE25pMUufj5JIw5h3VHw2DG0RSsk6ubAwXx6KYzmG+e+4xQY/PS9gXGGTg8+na6DcYX2dcenj6DU8aiTbUcYDxe6vQg/ePN35asXPhD8OIsPWnOpEdDHOZLS1xWuZdeY68ED+bSMQa60HCMdM1G8P5yV0vqC/S9a3pCfDwLIn8pxdl3LDPKG9UmpykFasXUQJ3dQ/+BrnIA7HkK0K9Rkhy7TD2vcTAd9dNJf+7IfJnc2FqbHMRcKPRb64yXKw1jAfgdHVtPp8QRjLMcM9HEI63GXeeDrPsuf4NAn7eg8+YbRL+pJwgQddW+ttdOyqOlAA3yIBXzd9+gyLJyMQNXMuMPIQwcFQccPgzEEjMKMDWpayAPhC9lECogwkwdjDLM/WkCT4Tsbg6ddvGJG3agHhhueouFQHuLp/MGQ8dn6F991dm0ZysfAW0iHMjFriHbg9Z1WLB8/tIkGEO4DTu4h9trgQT49AwTFZicF4x6v3misY3DRdepOINN2okzUmenMh65D3zMdj7qxhIIGO3jU7dX328cpU777K52PM3CgPBAT/xrxXAOvaTiLpeUY6X5fAD2C029UILO4vygDy0f0Q2VAnME/GKCQbcoRZBEPHZCJTJ3mvRg6qGe4wROWw+AeEAttMJA2U95JZzpIJPrGt7Gw8GNhNncOeo++Aw6TWOgDsEbd11/9gKrHE+SDzuCXzkEnades/uYLwTiHPsP/0GCqcvhgh77OnySJyoeJEvYN7N/QL7PfYD5to4AeR0ZiUgRO2wWoO6xfZznmJyJQNTPuEBgcgaUHRQgUhAM/CjeaDwHxabXQIB8UTx/5lwhb8hXqxznqun7WTcFGLhitYcZJconpY8JmxJgLfOiOgfHZ+HxoQTu0AY0yYKjrtqJN2iDX2LNO0AMjrdz+rDo6EWCPH+qlQ306H+N9n8cGMh6dJjtRxqXywaN/f4CDbivy41pjoNvL+w0aX85S1W1pMVy1LgITzrATHx4JyWvQh8mG/5Ve6qPuC3APOVjhvuu6ITd4GA4GXrfETssF7zF5CPNx//URdqgXZWXj+kIHcUQd5RvtwgBLHSRWSNdH2qZqg+lgKnSKnwZd8Psd3T/xnoITyLtPq3UA+SAL/X0szOauYUyDIUqHsdMfQ6HXejIp3VihaVkufB2PejB5hocF1OeP/7rP0jqKfLjHerzVdYSF0Reyz2C6Xx/i0bdqHiF77IeZD/KGL6ObyxyBgX/jXObk5U1ZN7ZWlt/2IakbVyuDhgySMyfPuI84nF2zOsMp02Wfulhu+MtrBLTajZs5NrjEhtV4HvdkCAWDwB/adTh4UsTTIgdTnR9hdJgLr1ngBHqYYLd4+6GOgATx893HmrABbM4l5yRkS1d2unQIPfhBnTU1NQGPuP74394UrF3l8plUfGuGoMB017oPQeHJuuNwZ/DgA0Wd7fj/+NdvSuiYSD910eTAuDl98rSccJgRR/C4/LalAU/jZo4heeAPGjooSKPh5d8z4AY+tNGEjGgX2oQf0ng/UR7qw/0i/qBn54FOarCjQT4sywCt70aOqws++8zyMWtA/jQtZAb3G+3U7eX9Bk6UK53PwqkRgO5Cf4A/jHQchaYd7rW+/wuvOVcge76DTixx5/NDJrQ+Uo5XfmlFglyBbuHHFkj74Y74/aTswsAf7uQfugC+OhwNZvljM2nR/QPyQ+YgU8iH/gXyirqiXF/roO43Y/rXLadd3wkH/oEJzoj2ZVnfA9PBqLtZmnh9Tws5FqI1UfddtxR9YLZjYSZlp6obslrIsTBVXel4BR/AAP2OflCCQY+xiOORxsy/Z+gzoFewVxDmDDfyMD/ajJ8/RqNvw5ir+x6Mh3ygQH+Jfu6oM6Sp60jDL53NQZ7Rh6G/4DgJnsL6NV0u+k3WB77B4w1/uSLpIYB1mB+OQE2Pc+FJFlvpCODJm8qODgAPDukc1prR4cMrnI1knPmGgCFQXARMB4uLr5Xe/xDIZSwsJ5QwjqMNcJh4KPbpTuXUduMlGYHoaZ9kWospMwSwjp5P875hjidtrl0D24XciFtmMBg7hoAhYAgYAv0YgUofC/WDBWbq9YlWmAHXS+z8pYP9+Lb326ab4V7Btx6v4/haPdgQ6gx5vLaC0+vV8IQe9gW7Cm66sW4IGAKGgCFgCAQIVPpYiI8W8e04JuOiDjtAY7mZ3m59/0XADPcKvvdYUwYl1wrPGXg2C0/v2FQG492cIWAIGAKGgCFQbQhU+ljIgya4HAaz7HryDfcLYzg2u9vy1WqT3uzbY2vcs8es7HJwWQw209BBubH5A0tosnGcwUce5MXmGjrrMIiE+YZA8RDQOshNbrnUhod4fh0a56+jPzBnCFQzAoUcC32c9PiKU1mKMRkGncXbcxyLzLEXdXEsL0adfjvtuvwRMMO9/O9RAocY1DmwY7d2Ll9jTCgwxQU6Kn02/P2vfzEFtSUZAoZAOgT6cuNpX/YV6dpt6YZAoRHoa/nuS90tNFZWXnUhYEtlqut+Zt0afOSBnzxfcsOiyKMusy7YMhgChkDREXj03sfidVzz+atsVj2OhgUMgewQsLEwO7yMunQImOFeOuzLomYY7VxL5y+Fwet1zOqbMwQMgfJEgLoL7vhqnZxifwv1V39whenmGwKGwFkEUo2FoKIuIYyx0ZwhUCoEzHAvFfIVUC/W1RVzKU4FQGAsGgIViwDWx+NnzhAwBPJHwMbC/DG0EgqDQNUZ7tiNHWzuWL872JjFTVnpNnlhPfeWX26PLxsZ1VgffFkzbODTJ7lgVgs0yP/qqrXBrBcUHNecDcOTOmazcfoLPh2N2a8VX7gqfgf9DTVIx7nr2W4sRYHkDfXThbWF/LXtO0qygGesGyS/LIsE/Fobr+ED7w3PbErYTIO2RuHNepGX9QCXpt77BV7xtdZc2o4yzVU2AmG6gAfIMD1kSwslg1o3IZOQfzjUPaxuWHCWMuRXLykL62+ou+gbsnVaF5g3TJ80f6R782no4e647mldYz9FWvrUcdDCxd6yOf29YXHo5jvurwGtPsmD+edfOSfQ3VzajjLNFQ6BMNmkLqW6P7iXNhbuCfaScYzCXdGyHzW++fqLsfxc9/Vv/202ytP6yXp0fhsLgZK5MASqynDHoP/j+56ID7hsMAx5KN1Fd16QYDAjHQPXU199Lm5kMw98KBHy4XPfWvFwUgOVGAoHx2Ocggv3DwMoaRCHQRXlaYeOdfW3XkiKR158cCE2431X6ACqy2EY7QQfKNd3bAs/7ODzB3rE4QeH9up2Is433MEj2ujXx7KBN/LonfBMQ3lwYbiAV3SM+My8uf6DANaY6g+NoOWUR8gZjjWFTmhXNBl0D9isG3WifvQvcOwLMPA+ft9PkuQfeoi2QH5TPXDodiCM9eqsU6dRZ/CwD52Cw0OGT8v+BX0SDDPmAz3iNC/QWbTJxxu07C+hu6wP8XDIQ4eH60fvXZXQftZ593fuSrpXzGd+8RGwsbCwYyHumJZ96hjvJPqCJ7/ybJLtAX2AjoH+pvuvC/SSeagrvLaxkEiYnw6BAekIKiUdBjgGEc6ShfENBdIDFQYvGPpQoCiH8jA4c9D26TBjDeM7lcNAyEFV06EjCIsnDepEmzJxaEuU0c78aAsfMDCwozPRRjXjUs3GsCzwDePEN9qZDh9Yp8IGZUS1P1WarsPC1YFAmNGuWwbZha5qeSuEDEbppq4beurrP/sFzY/OgzB0DeVn4lBHqn4IZQAj8hF7K5e4/wQPGNDpTNbfQi91X+jziHahvij9BL1/P1gG8iLNXGkQgGzaWBg+gcU7UsixEDoJGwFlRjnodpS+IE+q8S5VWlR9Fl/dCFTNjDsGPg6iMEbv+MZtwcxYMIh88axxDjrOIukBGXkww8RXxBhwMXBBGVHGU24Qxmy175COvCgTr8TCHBQbxvBFdy13s1ATg4EV+fTAydktlBUYJG5gRb3Ii2s9WxZWB/hl+1HX3Q/dGX+610YRDQmUh5+e5cM1+EjnwLs2yGEs8ESLoF2r1sXbBt6jlr6AFrN2mEkEz/4M5hbXpnTtTserpZc/Ar4u4J7jQyPQBcjr471GIOiwLAu6hnAhZDBMN33EQAMZxxIZfJkYr7B1fwODecUXYh9GCfhy/Qb1DLqXybIv6AkddJB6iPIe/sQP4rqNcmP1xZba6SPqyAPLifJRhq4PeKJvgg6irT/71ovxhwhgPMMt20Oa77rbu+NvFdD3gJblgm+UBV7N9S0CWjahQzYWFm8sxJ2FbaDHXoxn0HnEob/i/YA+IKyXyVIyoC82FhIN89MhUDUz7hwo0WD9dTF0XHhFRQdlggLBQanotOGMOCgRXs3TIQ/zMY4+6oMy4hU6X6MzjT4MaQyQSMdgxgEO6TAKUD94hfMNaBiw6RwMCg74WNqjB1qsuS2kA9a6o7r9gbNLGFAvOy7W+aYyShgHH+3FcgLyCmzw4ETnn5LBePOrCwGtu5AFyAR1AXqoH97wYRK4QskgyvJ1E3HagSfsWwEfkFFca/3VBjPS7lBfKqYBq8sLC1PnqcOkQXn4FdJpfdTGAupA3wR9Zp3Qc31/NB/oz3hvcL/QD2pn+qvR6Luwvl82Fp4dX3AHCj0W+nYBbAboFBx0AjoCnabTNgfj4NtYqNGwcDoEqmLGHYMjDUk0mIrDxmMQ8j8eBIXTebTByHwYxPCjwd7i8uDadxy8/HhewzDnQMg4zC7TYbmNPo8Z8d3Hu5nsZqKjl/KQCAYFfmgTjrXiU74+4oq0+fo0nlAOsKaRpctd6owcDiDALczh7YOf178Oy2dx1YUA9Qut8nUXcTDk8dOuUDIYppu6HoR9/da6i3ToWioH/Q3rN3QeDu7AAg8FNPihOwgX0un+BHrqO+gg7gPfCOr7o2mBnXamuxqN0oRtLIztQemrsVDrEu0F/87DtsCbNziMz7hHvj1gY6GPml2nQqAqDHd+1psNzWQA8WeDovIMGzmMxRZ8AGXBUORUg7N+wGCeMB8GRDojIixftnEau1Lili3fRl+eCGj9jZInn/NyksF0a9Mz0V8Yx3jlHmUk++3P51rzo/s3Xaa+D/r+aBoLlx8C/r3S9zGKW61LoInKo2Ul1XgVVU8m8ZU2FmarS8AA98g33DPBxmgMASJQFYY7G1NsP6pDy7dezFxhhiAf5xvtLJMzfVwnnE8dueYtFm658mP5+h8CxZRBzpZHoerPTPt0GPz16SzgFbN0oyfXu35hesKacz9vX1xnstm1L/iwOsoHgWLpE8etfFpazmMh2mX6lM/dtbxAoCoMd5ywoB1mrWiwIh4D44/dBlU6rHn3DWUs6/Bf0yOfnk3D66xCOdTPssF/usE/Xb2Ja27PHhuHfP6r/XRlpUvXvAO3MN5xDjBdIXFjmeZXDwKQf+pC2IwzlmxsXfNu0GDIHuStlDKIurXDOtZ8DBnoEGfuMBPHI1t1HYUMwzgi3tBTvz2oi8vcENZ9Ka7NlS8CNhbGTmjhHcJ+K+gnXaHHQugS33JDp6DHfl+gdQl8mD7xbpifKwJVsTkViqKVQe/yBjA47QBKhR/Wk/M1lTbUeYIMgfSNfdQRNsCRPltf140NK77BghlynBiBXyaz5frVpW8o48NQhXSad/DNjot1oKPi+ljE4aMs5gyBKAT0hjHIjn4IpXxRf8N0lzS6/GLLoNYBfboNeAA/1F34uE7ltO5ik7ke+JEXbS+k0/oIPfWNGfSFmmfd1kLyYWUVHgEbC2PfZiGyxR4LYRNoffWPZIYecX07eDJd4p0xPx8EqmLGHQDgqZpnlENZHrzlIWfMTwwMdT0w6tlhPI1jcwmMdNA8ePN3gxNeUN7+bS3xWTBc+5vjEJePw4MGZ75QP458wzUcHi40zxffdXbGIKpOGDTMs/qbLwSzkig37EMtUWVwZgB8pHpIAe/Am8Y5DHcYWzA6sKlWD/qkjarT4g0BDGZafqHHkC2sqdVGK2i4UZRyVSoZhE5SXyD7u9xpN5B/OM0zdAm8pnJ8GGFe6BPyYTY86hSKsPLwgI66gZEu06eF7oJn6ukj96wKeATeft8D2nT8++XbdWkRsLGw78ZC3GnYBpxcQ59A2wNpui+AgQ+bw5whkC8CVTHjDhAwWHFQxzWMVigNjdkwGgxuOONWPzEjD37IT+cfb8j4fP2wL6n5PKNTSGVEkwf9QIIBGR0JDCCUh45cO902/WoV+WA0IE8652MCnJGPxgDyY8DXR2qmK9PS+y8CkBOth5AjLYdI82WplDIIndQ6R/nXPAfy745WTOfw4KKNY+ggjOng4aVuWMIsndZdlKvzwWhAXn+DYlj9wFLnJd66vwRfZmiEoVfecTYWnj1+EXJd7LHQ1xPaHrovQP8FWyPVA3V5S5VxV04IDPwb58qJoXx4wYd+MBidPnlGOg53BD4UZvYl58jKL61IMmBRFxRp4TULgtk97K5vP9QRsID4+e6DSjiTeY7Lrx0U89Cuw8EMG2bZ9AMD6TB4ojykwziec8ksJsV9zHAtWblYBg0dFNCybs0zOgXtospFu/HrONwZPKzoMpbftjQwqEeOqwv4QT2c3Z+6aLK0O6yOOsMbuMEhDb907VzkcPPxZn4YNTf85TUBrkGhvf+i+CdNunTSmV9dCNSNrZXlt30okMEzJ0/H9RDyBfn9+N/eFJ/R1i0vhgyifAz4g51eQn9nug2i4MN3Wk/Y34CGPN/wlysSHkaQhmUpKBM/6DbaDf1f+LEFgR6ecH1Lt+s3WAYe3Ie7Pgx6jTyoBx9E4gkfU6C/Tp/RH9EtdX0K+q9UuoT8qHPczLFB30ODXfcbH/nURSwy7ofxH090gXTpmtbCxUPAxsLCjoW4U6lkG+Mo9Pm067uow8hDPUb/NW7mGETFXSr9BFG69HhBFuh3CNT0ONfvWm0NNgQMAUPAEDAEDAFDwBAwBCoMgapZKlNhuBu7hoAhYAgYAoaAIWAIGAKGQFYImOGeFVxGbAgYAoaAIWAIGAKGgCFgCJQGATPcS4O71WoIGAKGgCFgCBgChoAhYAhkhYAZ7lnBZcSGgCFgCBgChoAhYAgYAoZAaRAww700uFuthoAhYAgYAoaAIWAIGAKGQFYImOGeFVxGbAgYAoaAIWAIGAKGgCFgCJQGATPcS4O71WoIGAKGgCFgCBgChoAhYAhkhYAZ7lnBZcSGgCFgCBgChoAhYAgYAoZAaRAww700uFuthoAhYAgYAoaAIWAIGAKGQFYImOGeFVxGbAgYAoaAIWAIGAKGgCFgCJQGATPcS4O71WoIGAKGgCFgCBgChoAhYAhkhYAZ7lnBZcSGgCFgCBgChoAhYAgYAoZAaRAww700uFuthoAhYAgYAoaAIWAIGAKGQFYImOGeFVxGbAgYAoaAIWAIGAKGgCFgCJQGATPcS4O71WoIGAKGgCFgCBgChoAhYAhkhYAZ7lnBZcSGgCFgCBgChoAhYAgYAoZAaRAww700uFuthoAhYAgYAoaAIWAIGAKGQFYImOGeFVxGbAgYAoaAIWAIGAKGgCFgCJQGATPcS4O71WoIGAKGgCFgCBgChoAhYAhkhYAZ7lnBZcSGgCFgCBgChoAhYAgYAoZAaRAww700uFuthoAhYAgYAoaAIWAIGAKGQFYImOGeFVxGbAgYAoaAIWAIGAKGgCFgCJQGATPcS4O71WoIGAKGgCFgCBgChoAhYAhkhYAZ7lnBZcSGgCFgCBgChoAhYAgYAoZAaRAww700uFuthoAhYAgYAoaAIWAIGAKGQFYImOGeFVxGbAgYAoaAIWAIGAKGgCFgCJQGATPcS4O71WoIGAKGgCFgCBgChoAhYAhkhYAZ7lnBZcSGgCFgCBgChoAhYAgYAoZAaRAww700uFuthoAhYAgYAoaAIWAIGAKGQFYImOGeFVxGbAgYAoaAIWAIGAKGgCFgCJQGATPcS4O71WoIGAKGgCFgCBgChoAhYAhkhYAZ7lnBZcSGgCFgCBgChoAhYAgYAoZAaRCoSMO9p6dH+NOwhcXpdAsbAoZA4RGA3pkzBAyB0iBg415pcLdaDYFSIVDRhjtA27/tgHQfPxE35NmJmTFRKpGyevsTArvW7wmaq/WO4f6Eg7XVEOhLBLau2d6X1VldhoAhUEYIVJzh7hvkT331WVn9rRcCSGtqasoIWmPFEKhuBNqaj8rj9/1ENj7zdnU31FpnCJQRApisevy+J4QPzWXEmrFiCBgCfYBARRjunMHTRvuAAQMCgwGd2Ian35KW7QcFhjuNd9B+8MEHwY/5dDk6DJz1NcN9gL9VYQhUBALUCfjQK7g13/t18LYL/on2k3HdY4NAa84QMATyRwA6Rx382bdeDApc/c2zE1YY90iTf21WgiFgCJQzAhVhuGuDHGDCaMfyGM60I46dmTbcEe9fI047pNPAYMfIdMbz2nxDoL8ioHUD+vfe2l3BAzPwwMz7a4+tDaChrtLvr3hZuw2BQiEA3YPOQae2/epdaVq3Oyh6/44DwcPzmTNn4kZ9oeq0cgwBQ6B8EagIwz0MPs72MQ2dmV73x46O6eYbAoZA7gj4hvjP//EXCYXBcIcBb84QMAQKjwAfnFd/MzbbHtRwRoIH5vb2dnHvmuPGfeFrtxINAUOgnBCoSMNdz/BpMNGpYSaeRgaWz2CGgtealmE9qw46c4aAIZAaASxNwxI17YI3YNqo0IkWNgQMgbwQwDKYX/3Lb5IejqF3r35/nXu1fPbtcl4VWWZDwBAoewQqxnCHgU0D/KmvPhcKrDboEX7knn8LNvHA0ICjYa6NdcRzNkPXwbqQDufnicXaf0OgfyBA+cdadr1ETbceb7xsw5xGxMKGQG4IUN+Y+/iB9vhyNMbRt7ddRMJ8Q6B/IFAxhjtvBwwDrvFjnPbRie3b3Cw/drvuYWTAPelOnsEPjgY5Okb+goQ0/2j0pyGzZEOgqhGAfmGWL8pxw1xUusUbAoZAegT88cZfGuqXEDWZ5dPZtSFgCFQ+AhVnuD/5lZgBHgU9jIp/+dQPk17lY9b90Xsfiy+lodHuz2z45aZL9+nt2hCoVgSO7j8WbIZL1T6e8pSKxtIMAUMgcwQwUcW3xlG5QGNvu6LQsXhDoLoQqAjDHcYzZiDyfSWIzu3Re1cFRv3AgQODMsMMc8SFxUfd+ijaqPiocizeEChXBLDZO2FjXApGsZQGD9Am/ylAsiRDIAQB6IyvNy99/5UQyuQoPakVVk5yDovpawR4b3l/tK95YbyOs7AhQAQqwnAHszAE8LowX4cZQRrvMEZgwPMEGr6ehK/D6eokLeiomAjreFybMwQqFQEc/6hPbUrVDugqHrJN/lOhZGmGQDIC0BmtN5hpT7U0VJeAfV0cI/1yNJ2FS4cA7y3vD699jpjux9u1IQAEKsZw5yxeNrdtdOOoUHIYFg9/4gfB68coxQnNaJGGQD9F4Kdfez6rlsOAgCFhzhAwBHJDIJfJqnR7UHLjxHIZAoZAOSFQEYY7jnVMt8YvDNTu9m5ZfNcCnJQV6rBhNdPX/3om3X+NpdPSPQj4eUMZs0hDoIwQyHWJWq4b5kxHyujmGyslQQA6kIvewdjnqU96XCpJI6zSUAT8+xI2u259YCh0FtmLQEUY7vwqarZ3DZ3YiJ5aueMfb5OhdUNCs6NzhAGvP9lOpQnzcZ6u/0tnrLNiKizpdfmkMd8QKCcEcpn1I/9RG+a03FMnmMd8Q8AQEMlkI3gUTpjkwpJQjjNRdBZfvgjg3qFvhK1hfWT53qdScVb2hjvW1Wa6xi8MRBjmY6eNkdu+caNMmjchjCSYzce6dxgpdDQucE3F8eMYzzwnTpwQfMXu6NGj0tXVJadPn2ZS4IPeOtMESOyizBFIdwxdOvb1hjlN6+uOTrOwIdDfEcj0TXAUTrlOdkWVZ/GFRwB94JkzZ+I2A+yGsH4xLK7w3FiJlYRA2Rvu+XZguBn//eAambtstvz+gzdHGu+YoXjwlocEy3Lg+MSrlUaHQYNNrfjBIe3gwYOydctW2bBho+zcuVPa2tqCNP7TRrtfFmnMNwTKBQH9QbNcedJlQOYp96YLuSJq+aodARzrmOlG8CgsMNmVy/LSqPIsvnAIsO/DbDom+HZs3yHvvLM5+OkZdh6agZrZbxaOCyupkhGocQLRU64NwGwfd8nny+OnHrpLZiybFsyCP/2V52Xj6ndCixw2cqis+PzVsmTloiA9Ch4qH2bZW1pa5IX//JXseWWfSFNvsfXOHyNywxevljlz58ioUbGNsiyP+UGNOH3dW0KSx7xJCS4ik/xh+SzOEIhCAN89yOdtF8uFTv3pf92TsFxNy6sv/5RzTcOyzDcEqh0BHJyAiaR8HQ5n+OyPPi3QP3PlhcC6tetkz+Z9sunxzdKDPfx82X+5yEeuu0Auu/wjMnRo7L5Zf1he964cuCnbGXc9U1cIoPjKHk+xK798rVz+R5eEFovlMljzjiU2cL7xQCVi5s6OTmlq2iWd2ztFDvfGDnQ+FNFdb/7tduk63hW8EmOeXHy/Xl2Gz6NOs7AhkAsC+S5R03VynTzklD+dbvKr0bBwf0aA69MLgUGhx9BC8GRlxBBo3X5EWjYdlJ5ud80VtbAb9rj9DTvaZffu3XGowvrMeKIF+iUCZWu457u21r+b7MRguA8aNEg++seXy0WfXyaDhkFbkh2W6MCAh6NhEWY8d3V3yXs7m+TwbrcspkOVA2U8JrLz3d1y7NjxhFddKMcvi3F+vCoxKQ/SyJums7AhkC8ChViipnnAg3AhZhF1mRY2BKoJATzg8kSYQrULeoexz1xpEfDH9QPvHZSWptbARpAzvbzBbxI5+f4p2b3LWfDmDIEIBMrScMcav2Ksz/MfBq6542r59Hf/INJ4Bw94bYkOlU+9vqGMNWmdnb0W+wcOZbzdqnW/QTHEa9pFznR9IKdOnYpFqP9UZr9MRZIUZJ6kBIswBAqEAPSkGIN9phvmqGsFao4VYwhUBAL++FQIpvm2qxBlWRm5I5AwxvcuTq5xL+kDh2W1+MG5s6uPnjgqp06fTDhRxsb9GDz2P4ZAWRru6MCK4ZI6Mackk+ZPlFv/aaWMndsQWiVmCfmlVSqfVqJhw4ZJY2Oj1DaMiH3OCjPtWCbT68ZPGxusMRw8eDCjEnxdVkKCd0Fjhjzw2iOzS0MgLwSgI1wmlldBIZmxXj7fTXchxVqUIVDxCPCNcDEaggkoTIaZKxMEnN1R0+D+4QcHe4E2gzu1eszoBhk/bnx8sjCgsX+GgEKg7Ax3dDKF2BCn2pgQ5KtDGsxYOrPg/Plyy9dvkHkrZifQ8oLGu+78mL+2tlbmzpsjk2c2yogpw+Iz7Zh5r5kgMvfiWTJ63KhgeQ7Lo88y4PPHtDCfxjqN9zAaizME8kEgly8UZ1NfoZfgZFO30RoC5YpArh8ry7Q9q7/5QqakRtcHCIyeNlKmLmsMbIR4dc5mqDtvuNTPGimNk12a2xMERzshTmeBfo9A2Z0qAyP5RDsfP6Pvz5tPb0paToOTYJauXJyUCctZtGuYMlrqxtcGRznSGEY6zmB/5is/l62/2u60Rec4G775/uvjJ84wFoq1ft162fjSZnl/fbPIEZd5ilPCcwfL5z73OcFsOx4Q4HwDncoJHhnWPLGOKJ9KzbxRdBZvCGSCgH441fTUIcoxDAF/zfqKL1zljludqLOFhifOnZBw0gVlmMQmy0TC/P6CQKZ698g9q5Iggd5NmDM+PsYkEfRG+HoXRWfxxUegtbVV9u7ZKy/+8kVpX+9e0zuboce9tF9290KZP3+ezJkzJ7AH0O+if0SfyL63+NxZDeWOQO9K7PJhM+ojST6HO3/b5EcJjr/CkY+pHBWBNFQKXA8fPlyu/aur5JxfzJDn/u6/SZLgY8Nq0/rdAgOeDko1/9z5MmXSFDl5TWwtew9m3If0JBntyAN6Gic0WniNdD8OO8xx7OTJkyeloaFB6uvrpa6uDqQJ5egygkT7ZwhkiUCU/mg9QZHDRrq3S56D0R6WHx8iwzcNDh84IjVuxdjRzjaXP9nAZx2+/HvV2KUhUHUIhOkNG0m94LXvw2ifuXx6fCzw0+26/BAYPXq0YJnt+Inj5dSNZ6Smd65yxMThgrf4HMu1z34RrWF8sVum69R19VX9uk4Ln0Wg7Az3s6zlHsLXyGDkdnd1y+Ahg2XgwIGBUc4SdUeoBRB0OG99+U1LZcL08bLqC/8hJzuTN5ViOQ/WAsN45xm5MKQDY3pqzPDW5VL4db3kBXRMZxx9GDzH3Yk0ezbvlVOdp+VE9wlpG3NMxk8bJ5OnN8aNd9KbbwiUAwKU5wMHYmdR4yMjB3cfksN7jwTsjZnSEAxOeBPFs4rLgW/jwRAoNwSoS+XGl/GTHwI42S5uM+RXlOXuhwhUpeEOQwGvorZs2RJs8qgfVS9z584Nbi8MZRrVDOvOEXF4JTVlYaPc9u2V8tifPhE7sskTDmyyw6bV279xazDTr5NZPuNQvl8H0+CDnunkCfEw2tcJ5/ZWAABAAElEQVSvf0N+/X13pjzOiD/ufjNEZi2dJstuPl8WLlwIssAhv18v08w3BPJFIBvZ4lut55/7WVAtTl1q3XBMena4SzezVDOzRoZ8YZBMmjxJJk6cmCD/+fJp+Q2BakPA+vbquaMc59miqH5V0/k0/jXLKobPusAPeWJcMeqzMjNDoOoMd6xT3/zf2+T1n62VM4c+kB2D9siw8cNk98o9smzZh2R0w+iEtWJaIAEZriGYA4cMlBmzpwu+uPqzv3tRmt9ucYmJoGKNL46LvPs7d7m1vW4naq+jgOOSYZSZSuD9NCyN2f/+Adnyk3dF3LL5+EcaXLjlg4OydewOtxZufvA2AXlt/Vsv+OYVBQHqRSaFQwePHj0qh16InR/dIV1uDafLidfBbjlnT1OPvLpqncy/xD1MXyqB8Y5yqQOsiz7SzBkChoAhUC0I0C7Q7UH/h3j+2B/CZ1jT92W4HHjoy/aWe11ld6pMPoBhpu+1V1+XLe9slUOb2qTtvWNyaOcRFz4sG37xlux/74B0dHQESkBBpO/Xi3i8xp8xZ5rc+sANcv415/kkwTWWzGDmHctnfEcF9OP9a63EqBfu+PHjcuLgiaAdgcGDR6yR7ndSpLOtWw7uaA1m5LEsyJwhUE4IDBkyREaMGCEdIzql40in9DS7wQirZnrXcYLXA++0Bmve8YAKR7kPLtw/6gR9Hc84+GE/0ppvCFQDAr5uVEOb+msb/HvJviwKD58+ii7feN2P5luW5S8+AlVluAOujZs2yMFd7otkNBKcXdvdeULaX+uWlt0HpLsb3xhO77RCjRs3Tm752kqZdUv4xlcY79i0qs+fpyLomhhHH2kMw9eus7NT2o4djW9aCY6XxH5AkLm2DWgdKMfbj4sZ7ho1C5cDAtjkDZ0Zeo6bQRrhONJfFMZzJmbde9UQD9t8k4VBSuuDrxO89mkYj7b7aWFxpEEanM4fi7H/hkB5IJCv4UZZ1zLOuLAWMk37YXQWlx8CuK/+vdX3CKX76fnVmJxb32MdTqYMj9F5fN7Dc1hsoRConqUybqL6ZMcp9xXTU/KB28gZGLqj3KCMt/XuEsYuNndi06p2EDhfQXCNeBjF2LBK98n/+y757Xnr5eff/IWc7k6e6eYXJ7FplWVogdb16DDK9/nA2t8T009Jz0yX2OR+xxyN+8HVuHYNWjxQpk2blsR7jML+GwKlR+D/+KP/IU9sfUaaz7hlZtpBdZw+4tPewRKv3u+QgAR6oXVD6w/D9FkkdYd5dboOk56+TmMZTDPfECgXBLQ+ZMMTZFrLeCZ5ffpc686krv5KozHVYeIRFse0Qvj+PUaZrBM+DsXYunWrvLXpbdnqTu/D19973CF242fXy403rZTJkycnLM1FecyPsvxrxJkrLALVM+PuZqKH1A6WqVPdV0xHuKlpzurBaMfjSaM7V31MreA1fjqnBVuHkW/B786TlX+3ImlDKsvEkhmse8csPIRZCzRpfF/TsT7sOh8xdniwETX4HLI7XjJw7tPIY6aPllkzZ/jF2LUhUFYIDBwwUA43YXF7iHOG+7bVO2T13/wiOA8eG8rhqAv0Q3LGo0jj7+9gPH3oFPUqntkChkAVIkBZp7xTB+DD+deEgPlS0ZDW/MpGgDLgt4Iy8v7778v7G5ul9VdtIu6Duz3owp3fteGUNO9skf379wdZSR9Vjh9v14VDoHoMd4cJBvCx48ZI7ahaEczqYYYavjN6axpERowaEZyd6mISHDu5hMjeC92hIQpHOM3/8Fy59u+vijTeuWkVvlYSXY9frq8EmOmva6iVGZdNdZa6q7jXcK9xzyT1U0fK+HljEh4KdNm9rJtnCJQUgYYxDXLTP14njYuSz2wnY81vtQR7RF7/0XpGJfi+XuhE6hZ9nWZhQ6BaEMimb+e4wjzUDfphmJCWPmnph+WxuOpBAPcd95pux7s75cg77nCBdc5wb3K2U++v/c2u4Gjq5n3NNhFCsErkV89SmV4AV668QX5V/5K0nHHr3Dc4oWuskfHzx8iHr10qc8+dHT/7nJ2UjzsEmGkUZlxjLS4eDBCHTavzzpsr0x6bKk/+3bOy3c0cJq5QF2lrPhoYJFg2M//K2FGUKEOXibr9a8ShPtSFM+WvuOJyOeecWdJ5rEuOdx5zDyZjg48wIY20QUD98/lXSRY0BPoUgQXnz5eZ/zxdXnt+rbz6v9eGfhcBb6fW/MuvBUes+serhukH4vxZ9pYWNxO0b7+0HjoUfLth+vRp0tjYGOgqaanDAAA6ElZ2n4JjlRkCRUCAck0/qgroAMcK0GidiMpj8dWFgL7/bNm2bduk60Dv92vcG/4e93Y0cG6VcdPuJjk1qluWLV9G8sBnOelkLiGTXeSMQMUa7hyMw1q+ZMn5MmPyzGDGvcbNVA+sdR9WGlef8BGmVAIWlsY4LaBYdrPyL1bIuukbEjamkicYJI/f90TwoaYlKxcFxgby6zIYho86wuoZP368fDD2g2DNPT5ao9fdoy7mZb0og+UyznxDoFQI4EH3omsvkOWXf0ie/YefBwZ6Ei/uyZdvqhbfeZ4svm6BW/bm3jb1Osq0L9c4enLH9h2y2R2bemjnYTlzOrb3ZHtjkwyYUSOf/vM/jOuUX4ZfFvWIOsi6zTcEKgUByjTHRxzLipPU2ts6ZFjd0OC0J2wch4Oc46cPOEB+PcFEuiCD/at6BHD/x4wZI60D26S9xy1f1AcLuNaPGF4ro0bXJ9gc7FcBDvvQqgeqxA2sWMM9FW6YjcaPnRhoCz0Yo+xgOYtbOnPFZy6V7rou2fAvb8sJZ6z7s+84caZp/e7AgCdP2Qh4uq9LFrptqbC1NEMgWwRgROCkGXF/d7gPlmFmHTqBB1vfIe6333tDDq4/JDd8+ZrggRv7PeDC5BynRL3X1CTvu68Ld+3ujute26FjUnOoRo4dOxa8ZfMfdv16qZdR9fj0dm0IlCsC1BPsG9m3a78cbj4s7Yc7gj1edRNGCPaeYBlbKpfN+JSqHEurDAR4vyE7tXW10lbndqRiea7uot1qmrqxznAfNTpuW4Fe952V0drK57Ji1rj7woFZgXQOQsVfOtps0sELZinIE+pYcefvyke+eKH0QNhDHDatPnrvY8HJNzBkkAeO/NFHHMrV14iDY32xq8T/LI+x/jXjzTcEckEgF3mCvEJPfbnF0rHP/ujTMnP59EhWmtbtlu/e/q/y1pp34jTgAbrD2UQkdLR1ycaXtwbfNog/MEO13FeGe7b2CDZa6Y2vyMO2wGdY86jDoDdnCFQKAnhApUxD9tc89bK8+KOX5bUH18sL339JXviPNcHXuLWM6zDaqfWiUtptfOaGAGUFMkA5mDVrpkxoHB+cXpdQqjvXY+qkKTJlSuKpMqDR5STksYuiIFARM+4UqGwRQD4aDhAsPeBT0LItk/Qoi8IelOuMhUUXnyeTv98oT3/pZ3Jkj9vY4TkYI/hYE9bxjprkFo/1OrYPvuYTywB27drlvgL7hgzqGihDjgyTzskdMm3uFDl36dxgKUG+7SAP5hsCqRCgbKai8dMgm9QRP2104yj3xeE75bXH1gbLzMJm33Hk6lNfel7WXbpBLv/sxTJvgdsrEnveDYoLeHIzQjUHXD2Ya8dDM369x6aC6NixxG8dUF/og4Zh30eaOUOgUhF44fFfSfubHdLT0vtI2yxu5r1b3n53myw471ypr6+Pv42CLmkHXchF53UZFi5PBHiv2d/5XJ5zzjky+tYGmf3hWdK8Z790ne6S4YOGy8QJE2TS/AnSML4h6DM5eYpyWBZ9v0y7LiwCFWG459JkCCd/yM9woQQL5VAB4OOaS3Su+KuLZMPDmwWGuu+4jvfu79wlE+eOjyfr8hiJZQA4lun99W4X9wnXsR52Rsb+msCIx+k5eg0w85hvCJQTApRr6gp5QzzcRXdeEGzefuqrz4XqC6j2/aZZfvLm03LTl6+X2ZfODDacIq8bLuTMYLemfUSi0YG0wLnMQ0L2hDBZ++RHx1nYEKhEBPA2GGdxH9xzSHowf8QjkZ1f4x50244fkyNHjgRHI+OUNMo+dZTXldh24zk/BCADwQf0Gt3hGG5f4MCGWD+N/XwNDQ0yevRowdJFykp+tVnuXBGomKUyuTSQT4TMS2HLtWPS+RlG2ZzVZz1LPrREfvevr5B5K2YzKsHH7CLOet/4zNtBpwl+8NNvBFB+Z0uXvPbE+uCVvzS5ItxMIl7/v/fmHnnzlU0JZdqFIVBuCFBHqG/+Nfnl7PuKL1wlw0Ziyvysg0mO30n3YbX/+Isn5b/+6lnpPBo78x2z7wOHDQi+0IpjUmGU6Nl2ZMTs0bBhLjGNow6mIbNkQ6DsEcDSsLa2NunZ4Vh1S8b4HRP4wSOu+3fo0GH3scLOoC3US1xQV/1wQGj/qhIB3nPIATcqY18dHuoWLlwY/ObOnRt8DZtGu14q7Ns/VQlSmTWqImbcKVgaO23k6niGkSdqQxoENKxM5o3ydR52dogDLzoN+XEU3Z1f+7g8N/3nwWa7sDKxQQ8z8DBY6FjOgQMHZI9boxgY7HjoxXejYNNgGUCze1jY1SOtra3xJ2AXa84QKBoClMtCVMCyoEPo9H/+859Ld5ezup183/jAtfLyP78qON89zGFj63vua35X//mVcv51C2X69Onyxb+4T15Y/qJs3LRBjruvsUptj8w4Z7LMOmdmfBMejot85Tevys7nd0tHZ3cwS//hW8+X2bNny5w5cxL0N9f+IYxfizME+hoBGFy1I9y3TJa4mt2RyMGY0aS4cOPJTPcBPx4pDH2EzHNMIyX1lNfmVxcCvN+4z7zX8NEn6zjdasqJtnmYV9NZuLgIVIThnisExRQoCC4FH/whrOtj+NLbL5TGcybK6q+/KCfa3UGonsMa3+72blnx+asTZhvx0FE7yHW+A12G2Al3sR3euO51OBrSnCFQKQhAJ6gX4Lm5uVnwMY9dL+6LN6GnaZtc8Nml0vTKbtn20x2hOoPZ9+f+7r9l77p98uE/WiZTZk6W2XPOkTF1Y91sfKecGX5aRo2sl4axsZMzYLTve2+/7P15i7Qf6ZIaTDS6rwGi3pojsS4QM0rmDIFqQaBmQI0smneuNB3YLe0nnMBj6Bnpno1HDJHR59YHRjvfRNEY07pZLThYOzJHgP1zOjnQ6TqceU1GmS8CVW245wuOn5/GuS+sjIcPp9Mxq7HkqsXu/NMR8tj9P0l8ld9bAU6caXEz71j3zqUCcaMcdwiGO5YB0Dl7Hk6fIBCLsf+GQPkioN+SQVdgtL/++m/l4C97d5O6mcCWIa3S49asN148QS654SJ5qvetVFirNq5+R3Zv3Cs3u7XvM5fNlJkzex+gsYbG/dHhw0y7tu8OvgRY41QUWorkAwfcR9qcOzXyhNBwh+5Sj4PEFP+o9ylILMkQKAkCkM3ZF86Q5g37pWNUp/QccDLvVowNbhwoU66YGGxM5TiVqbyXpCFWadER0P0YZQKVUi50HJkJi2Oa+cVHoGINd7zOKZbTAqtfG/nCymv64Id5GUYafrMvmiV/8qPPyL/9yX+EnjiDJTMP3vJQYLxPmjchmBGZsGCcjL+rXg4+0mvYwOJwM+5j542WKdeOj38FVteFsDlDoNAI6M4907Ih99QHrSPIv33zu7Jr3V5pfbZXtrEMDM49oL790y1y0i15WfwXi+SPHvmkvPz/vRr6gTOQ4wvFj9yzSj7klr1c/bkrZcQod1i857Zs3Sp7t+wPLPbguFZXV/CI7apuaWqVlmEHBV9cTufYFtDlgke68i3dEPARgJzlImvQN+y1mvTlScG3DFpbD7k1ymMDg33ixIlBNSzbr7Ocr3PBItf2oC44v07GIw04s2/T8UyDX66OfGfDXy55sinfaDNDoGIN98yalxuVFk6E9fWJEycEp73gh+O0sNtar6UHra/A4AKzjdilveJrH5X1qzbKttXYOZTosGkVx0XefP/1wUkbKP/CCz8sLR2HpeNUu5zp+kCGjnG7u2c6w332pMTMdmUIlCECUfrQ5V7fnznkvoXglpvHHYx3Z7gjruN4Z/DFR7x5uvL//EjvyTOxPSFxehV444mN8t6ru+SKP71Ell59vkpxywPcRqu4wwkbytUMdfoaM+PjsVrfGQmdxs9vD+NIZ74hUGoEOP5AVmtra4PxCSeFYGkMl8eE8ajlXofDaAsRRz5Rlq5Px7MeP11fk6YYfhgvrAc8hPHh5wmjYRnl5lcSr+WGXV/yY4Z7CrShgFqQjxw+Im2tR6V1/yHpONTpDOh6GdcwXiZNm5iwQTVMcVEOdmTPO2+uTPy/JgQG+KZVm5Nqh/H++H1PBBtWcVTe8guWS8u0luAjMvh0NWZL0BkHX6JMym0RhkD5IQDZ93UCXLrH30RmsRysd4lL98kuwUMyHd5C4aNNa77365Sz7zj3veXOVrn07guDr/yh7omTJkr71C7pHrZXTp9y685YrLPna0cMk+GTkveKaH51H0B+mK7bFkZHevMNgb5AgHIJH/KIjar4RbkwmQ2Li8qfaTz50vRhcUhHvE7T+8kQXwz+NF/pwqnqJ9/0dVmp8mk6CxsC6RAwwz0EoTClQ9xrr78mzZtbg3PV5Yh7jTZFZNbS6XLLJ1cGhjRn3kGbSkmx7v2WP1spbXJUmp9oEXxoxnerv/licOIMZt/5atOnwTV5TVVfWD6LMwT6AgHKJ+piGLI6dvxYGTnNnSHd6Iz6Y06XaEw7uv+fvTcBrPOo7sWPbEuy9l3WLnmRZcv7FttJ7CQ2xIGkiUNKlgKBwmMp5d8CfXR7D9rS1/b/h77ubWjY0pL3DwFKVkICBEIc4oR4t7zIlq3NsqzNkmXtkq13fnPvuTp39F1t1q4Z+2q2M2fOnG+W88135gzSogujKTk52bzsajpHsvuOA9+wPvMbX7yLFm/ON1+tUiPSqPzNap+VJgw3vCBkEqWvT6OVWwYfTLXHE+I6DW2R9oA+nYe4c44DU8GB0fTD0cCOd1tk7AgN8JEG1VT4ch5G4KR+gUe6hCXvRvxQ+IQuyR+qTg2raZGyOm0qw0O1YSrpcnWPnANOcLd45TXIYJUCphfPfLuCd767qB9COxxvGNZ3NNJ/RT1D775zN2VlZZlkGRjwZTCbDP4TyONT/3s/fDdVb6mhH3/pZ57WM7wOrYI+OJtOO26A3B/HgSnmgPR/6bfS/9PS0mjLjk2UX5hHL3z/FXP7KUhNK0qmNVuKKWdpjnkZ1gu4lB3p7vt3Pv00rbtnNd35hTsopziLPvjF97N1mVq+PbLd3Aa4qriYolOijAqbF5twiQ3sYcPedVxsHMXFx5kXCdAhdHmVc2mOA9OBAzLmbFpkTMp4svMnIw7aMIY0DXpcIV/oFx90afjxoFNww/fCjXT8NK2ItzTztlvrFTMfxMXFBZnWBB7AOOc4MFEccIL7CDiLCy0u1dZRSzmfZsNOnVxbxSa22qiD2s63G8EbuwV6gNuoZTDLBJGUnETh68Pp4ccfoOf+4CVz0M4ug0Or0Hu/l3feIbDACR74gssu5+KOA9OFA/ZChn4LvfPkRUkUHR9F+WsyaX6nT10ldXEiLV6TTykpKUFnR7zaIrvv32PVMhxS9XLy8nvXn+ymxcUFFBkbYXTnO9o6KK84x9QBFTbbtbW1UVtLG1Wfr6Gezh4+9BrNqjfRAZvvdpvs8i7uOOA44OOArFeaH6HWLUmXtc2rrMYz0WGvcY47Vi5faKG6qnoKj15AyZnJdD3nOiUkJgRe6Kea7onmi8M/tRwYvGJNLT3TonYZdDKJQLccO+7GQWgH13DerZ1/+MR/Ooz6rl4zn/m04C54GCLIIV1wGx3EZbH0G1/dQz//t33menf7XV2E94e++j7K35hrcGkcQchdxHFgmnJA+jxecKFWhnMa+H34Ix8KfCIXdTNpgvRzKSvp4uvdd6jIeDmMnyd++ylzyBXCvpeTeiSv9HQpVZ+6SMd/cpr6a3m8svrOvKJ++qM//ryhHfTgh3J2WcHhfMeBG+VAqH4/HF7pm6HKh0ofDu9Y8zFG4LA+wtn122NI4MSqmyk0iX+EXlRpz0mv/eKX1HKojer2N1JYAp+TWbeQ1t2xmm7dcQvhML3IABrHJJLuqpoDHHCCu/WQZcLTyTgMmpqaSqXzK3zJsEyBH+vKhqUQLVwVTuEp84MGOAatPXBlMpI8PXnl5ufQ3j++m954/C3CLqHtcGgVZu+g847P/+KAC3g0LslzvuPAdOEA+r7u99JvhT7Jlzh8wGiHl+fKikoqKztHPeevUV/UNUpKTaBV21bQzt/ZTituL6Tn/sL7yxXw4GBryWsnaQfDrr11YAwhT8YPdtqxy37ge3wL6/k26q9jGnisQ3i/zpc2vfjCj6hw+TJzDTjKwbnx5+OD+zu9OCB9eiqp0mNY1j9DDw+risoKKispp+qzNbSgcz6FJfFh2owouu22nQG1NK95YTzbAx7Zc1Eo/JgbzAv9Dy5RRwvryWJe4A99fW/10+nmMrO5d/sdt1F6erqZE3Tbp8OzCNUulz7zOOAEd49nZg+ypKQks1if3lBGnfVd1FHHgxY77fH8tp0dRetuWUUJ8QmBxV9Q2nh0Oga1HtgLIvmTG6sO7PzMdorIDKd3vnGYZwUpMeA/57+QZs/ndw0kupDjwAzigIwL3f+FfJ2GsMAi/+BPj1D5uUpqKL3MN5/6BkdzdjO1tbVT8j0plLchJ2B5JtTue9PZZnr28y9R7cP1xnKTXQfMvJaeO22E9q4a/03HmCV5vPezptz5A5UUGx5P+fn5Q1rrkPY433HgRjmgx8CN4prs8qDdHmOI9/T0UOn+Mirbd54uV7UYsvqjiWKT2Gxl1Nu0efNmoy4nbUcZOIkjbONF2lic0KjLeqW1trZSSclJ6qji9R83mPulp64eNhF9ppuaolpo2+btfOJdYwqmOTjHxRwHxsYB0dYeW+lZWEomCDRNwrACk5ubS7E3RVHcktiBViez4J4QQ6vXrDI7BJIh5SQeygec/ACDyQJ67+/5+Ltp7WdW+tRxPApDKIHJSOzCo4zXJONRzCU5DkwbDki/FysSiOuw5GuC3z5wiOqPNRGV8rjhmyDxazvZSed/UUXtrdBb469fcZFGIP/w1x6hxEz+ju3l+JzK208foMc/+ATVnW0IgoBAUVtbS9d6rht6sDjjc7hRjWOv7WwX9db2GT15XRD0Ouc4MBc4IH1dj1EdHo4HGOe9vb104e1aajreEhjLVMHj63AnHTt63BwIt/FIvUiX+nSaDT+ecdSDuaHy/EUfWr/QbuYGpGAjj41WhcH3O1mbEZ0sOqVu589uDjjB3eP5yqSALBlwGITQxX3gD++lB752N737H3fSI391v4nDXKMccNNlPVAHJhzk6YF97RpfRqMW/70f+g165B8eoMiMCC80xtwdDq3KoTzgcs5xYLpzQPr8UL60AZ/JAQfrLjggTvs4p4LHJM6X8NcuI0xjoeS0U8dKjcDNMeNwFgR233EXwiAHGZt/0H2H8P79v34mAAK1uPUb1lNsXIzvEDrjxwsC8W67cSv6KaZo4ZAmWv2QznMcmLUc0GuVDusGh1oLoXJy/HgJdTXwzjU+amHpKuAfxjS77n38Yt44YJkFcwDmAq1qo+cPX6nx/WvTjvpwHm3jTX4VO8w7MjewDwF+/lqi6zHB6/j4UuWwOQ74OOAE9xH0BD0xib57dnYWpaakBm6ik4EusOKPZIIRGJuUzKJFdNdf3EGZq31XVNv5InjAd85xYCZyQPd9hLXTY0gv2uZ8CQBxzmQIp3ffEQ7lTj17li03fZcqy6rNeM7Pz6OszRmUsiHR90kcn8X9Lws33byOMjMzQqFy6Y4Ds54DMma1P1SjZW3UMBF8iNM4/0s0sfab2bXWQNMgrGnH2l9UtJzCinie8r9kmJcODifnJfJliWuNcC/zmMxf06AZjoRZxgEnuA/xQPWgFTBYwcAOe15enlFr0bfSCXyoARsqXXDD1zDAvW7DOtrz53dQ9s2ZZo7QsAhDXQY7714HWm1YF3ccmE4ckIUfNMlip+mT8YQ827KD1yJvw8hYwu777z37KSq6bfBFS1JfxcEqevqTP6Qjzxw39zFkbEujhDW8Ivs/iUNwh2WZ7du3U05OjhQbtS80jbqgK+A4MAM54NXf7XFqmgVNt2FexL1wTTRLUKfUi7V/2bJl1L/4upkLzIKMFw9WmZ23+jpt2LCBYNMd85WUmWj6HP65yQFZluZm6z1abQsQdtyjSJAZSAzYUGVCpWucKA8dQNlhRBm8JOz573fQO98/TMefOqXBTRjCOw6tQm1GzN1B9QZl5TeokEtwHJhgDthjQfd/HdaLnA5L34WP8ZD2kXjqPNpr9GBh0Ul2u+jmfiraviygvgLVGsCjnOCD/faHvnq/UTHDWMGYsR3ScGNx6S/L+N6E99CWjZup/r56qqysouiFfFFTUkLgohW77FBxoQE+ftJ2TZ+UlzzEdVjynT/3OKD7zGS2PlS9SIfT/VOHJV+XR1jiRuVk40Y6tvkUXb7S7FNFw3jGly3+rflYEcXkRQXwS1kpr+sCHTfigFOc4Edc6oAvZ28Qxu/3/+BTdOHCBSovr6Aonhdys3Ipf2meuZsCZYEHZcQJLqlL4pLvfMeB0XLACe5DcCzUAJMBKEU1nA5L/kh8lJOJQ4elLG6a3PXRnVSwNJ9++o+/8BQ8YO4OwjtMRgodglPwwBf6BUbnubDjwHhxYKT9S8MhLP3TpuO+vffSla1XzcUnFy7V8GfpGEqMTaSCDbmsvpJpwEP1d8GLXXfsvkN4L/3lWbsKE8fuO3Tf1zxcTLse3Un4RI5dQtho1i4UnRpGwgKrX8iRp9su51yQptO92iR4ne84MN4ckL6q+yDqOHr4KF063UDNJ6/Qle4rtGhNGiXnJ9KWLZuN0Iq+jbLSX3V5hCUduML45vA7799FFcVsJaq+ka538NmR+GhaxKYUc9ZlUWJiohkDmhaNDzgmy+l2IYwXD1iVysr03ZS+MGph0NwAOu1xPlm0unrmBgec4D6NnrNMbiDJnqRw0yR+a+9eRX2JvbT/fx8IHEzVTZCbIj/4rw9RVPxCneXCjgMzmgNZWVmUlNRJMWlRFFkTHtgFxyI61NhBo0VogD/S3fd3vn6YGg41md336EXRgcX4Rploj20bn9Bqp7u448BUcAD9Eb/ykiqqO95A9ScbDRl11xppSVueOfMB9bGFCwfWm1B9GOlwGAMZuWzUIWo+JTbGU2vrVb4rJYXHd5K5M8UATdM/eInXKrKhyBxunIcq59IdB4bjgNNxH45DHvkYkPrnATKqJJkYUUjwCgL9yQ1pmDQ28AG5d//l7QMHZATY7+Ow6jce/U9j6s6ePOSzn9SpfQuNizoOTDkHpH/KOICeKVTHtm/fZs5/FBQUmDEjhAIefR47XtL3ZUwhT/o/4GX3fTjd93//wLc9z5AIXvGFVtsX2uALTTpNwhjbyJc2SLr2BbdOc+HZzYGh+sxktBxmEDs6OujYC6eo7lAj9cOCKttDCGMrTzU/vkQ/++mr1NDgM6sq/Rd0SV8VX/Ikjv6O82KrVq0y47mwsHBIoR3lp4IXoFfqRjiU03lTQWcoulz67OOAE9zH4ZmO1yCVCU1PACDPTseEt3hxAX3o3x4MeeAOKjM4tBpKHUDwwvdyuk6bHi94l+Y4MN4c0OMK4aH6Yag8nQ4cItAjHT/ZfYf+eyjLM91tPfTC37xMX//of1DHlU5POnQ9Nh8kT9oDHfzmy8108MBBevnll+n11/fRiRMnTDHQh/Et9ElZG6fE7XxdTocF3vkzjwP2M57sFtTV1dGhQ4eJarlmHA1hqaGfz233sz76tZZr1Lj/KtHVgfEpaiKgG31ejzsZA9I3vdoiedJuweEFO5FpUq/2UZ+mT4c1LUK7TnNhx4Hx4oAT3MeLkxOEB5OGngQQRhqEjMXLC2jjJ1bTyr3e1jJw2A4XNWmLMyjrnOPAbOWA9G89ZkbSVuy6w+57waY8b3A+PFd7oo7+5X2P06nXzvjsyntDeqYKXcisr6+nKj7wWnmwhioO1NC5g5V09tB5vgG2jfq6+8z49kSiEkfbPlXUBWcQB6bDc+7u7mZVFr7IAEK7/zJhYWFfPw8MvsW4H3khnO77IUBcsuOA48AoOOB03EfBrKkA1ZMeJnH8ZNcQ9ODzYvzH4ulySzPV7WfdQ48JFAfxKg5VBR1albYAH+rQ9Uie8x0HJpsDQwkq0kdlHIA26buShzTBIX1bx2U3UMOjDBxuWn30sYcJNxPjoPcgyzP8lRxpP/ij54yA/+BXBnbpNT6o40hc6gZ+pCG+7/U3qPSdCnOhFF6jw+bP40sXL9Li1XmUkZVh1AcE1m4D8IjTuCVNfCkXKi7pzp/+HLCf5URTLH1X17NgAUy+sIOmCCzAwHzjgOEUCoO5VP+mkPRLxCWNoYOcpAssMiVNfKQhX2B0OvLGw3nhlPoEP2AkTcMjzY7rMhJ2vuPAeHNgxuy4y8AZbwZMB3x68As9SAuVDhjND+gJfvIrH6X3/NVuiogOtnwh+LDrjktmIHho3DoMnPKTdPEl3fYFv/MdB8aDA9Lf4MPZcUmDAK5fYA0w/5H+KXFdXoeRLzeyXrlyRcCNj9tWh9x9ZyhYnvm7u//FfM2CNRjt5OVA0oRO1PPWW29T4wtcH+sHo4VQN7gOCYhRPPfkK3T8nZNBu/nCB7tdwI008e18u62CxxRwfxwHhuCA3ZewObRnzx6iu1hQxeVDcNxfw9KIUtYk0s2f3UxxmbG+dP4r5cUPZPgDum/qsA2H+HD5XmVGmwY65ewLwl5O6NB5SNPOjus8F3YcGE8OzJgd99k+KIZqH/L0hKLDutyy1Uso/Ivh9Prjb1JLudzRPtBdIGxA7/1B1ufF7qKU1fgGoF3IcWDmcUD6NCjXYR2HwN7S0kIl+05Rd1c3XW9jU3RFCykjlXe7s9ONrfZhd98ZYV/XNWNW8jSblbzt97dTakYqLVjgm1JRN8aVpuH6tet05UoLXevzCfpGRAC4/+KZsDaWh65eo/b2dsIhXO0Ej/g2bg1rh6WMne7ijgNeHAjVX25/183UXtpFVZnV1NfWR1mFmZRUwOZYl+USTCJKOfGBG2FZXxDWeV51uzTHAceB4TkwYwT34ZsytyAwGeInu3lofVJyEs3bPI8i0yLp+59/jmiw7E6wOAMb1Y8+9ghlLE8PME0m10ACB2SS9crTcC7sODAZHEA/lD45XH0ChzJSTtJ6e3sJB+72vbyf+psZ02X+8SVOazesoOh4vmgpISGAHrvv0H9//ss/NrvsgQwVwAHwclZ9uffP3ksrb+cr0VlAgRNfQK9dv0Zdnd3Uc00pCrOKgXGQ5WtYA6G1g9pbOtm6hj/d79m4JC7tAxjSEBcnMBJ3vuPAaDgg4wZl0Jd27LiVyjLLKGLxfGpsbKTVm1aENN9o9z3pl5IucU2P5Om0iQ5rOnQY9U4FPRPdXod/dnBgxqjKzA52j70VmES8fvjEJ5/5gB1Cx8q1RfTp736Usm/O9KwQ6jIQ3uXQKvDKC4DXZKXT7MnNswKX6DgwARzQ/XAo9DacjuOgXXX5Bfqvb/2I+tlQBlXwDy+4L4fRsadK6bUX3ggSftHfZfd9z+d3hbQ809PRa3Tfn/7SD43lGcY4yMHOdXFRMUWls71rtsphHOr2n0uJ3R1OmWvTKW9pjj/T52n6gzI4gjyMXfxAK+JDwdvlXdxxwOYA+pHM83ptQb+C2szud+2ihx5+0IRT/W+YgJe1yMbn1SclbTr0Vd1em3bEhRdeeS7NcWAqOOAE96ng+g3UaU90Oq4nGAgJuz69g7Z8fIPRpfWqEodWccW7OI1L0sSXPPj6J/nOdxyYThywF2Ppv1CRudLI0nI1U4vzdtjxFiGad97by3nHm1VVoE4jTsYVdt/tL1UCI/6ZV86ZOxTOvFlGeEnQDmMyOT2Jlu1YQot35RIVsOCNj17wWXd427btlJ2dFRC8ZZwBB/ToYXWmoqLC3GAJ85FVVVXICjhpIxJ0OADgAo4DE8QBGSOC3o7rviww4k9FX9XzA+rXG1dCq4YRWp3vODAdOOBUZabDUxglDTLR6clRh5GPm91il8cak5Gd1zup7Hvlg61kcL2woNHV1sVC/k6KSw0+YASypC47jLhzjgOTyQHdx3W9uo8iXeDEx6Is7kpTK12uYf2YWk7xW8UI4w3wfux8sznqeY3zjem78PBwo68OHMAvPtTLcHAVVmfw83K4Q+G7n/0hbX7/Btr6oU2UkpFswKD/jh3K9bvW0KWLlygsKYzamtopMiaSojMjWHDfGjTeNG6oJqAMbq+8VFlPsSkxPMZjKOHeBIqJiTG0Cp1Cq7QfeGweadwu7DgQigPSb6RPecHpfuaV75U2FD4v+PFM86JX2qnrAZyG9YLR8C7sODBZHHCC+2Rxehzq0ROHDgO1nmDsqt73yXvptfR99Pa3D1LPpR5j0UvDQGWm8kQVfeIbvx1QBcBnT9ThhdeuW+NyYceBqeaA7p92/4XVpciFvM3O/42KCm+s9wcblaGIiAhzCRLaIWNA+0i/7eO3GJOQ3//rZ6izqmvQmALMge8fppKXT9JDX30f5W/kHXa/gxWotLQ0Wr5iuXlJiFsYb8adpltgxX/nnQN04cglqn+tyaj21Eeyz22Iy4yhzVs2BenlowzarfHJeBZ8Ok/StC98Gw5Ol3Hh8eWAPIPxxTo8tpE8c7s/aawoPxyO4fI1vokKD0eDvPDLcxAf9AxXdqJoFrygZappEFqcP/kccIL75PN8XGv0mky8BvWGXWtp0dL0kIdWYYXmn/Z+jT74Lw9S1spM8+kQhHrhH9cGOGSOA2PkwEgWLhsGQnPYmvl04YEaOv9tVjXBrjs0WlhdJmV5IhW+ewklJiYGBHchDYIKxoJYjUF62eWzNC+FX26DNVakCK/ubPe9rZv+41NP0Yb719LGR9ZSdkGWyQddkZGRgbpESECmjDnAdHZ20oULF6juZ5epoYyFddjPxtlXfuGY1zePjv6ihLLSs2n+kvnmKxvKo5zgQBxO+GCn6zwD6P8j8DrNhaeGA9PxWdg02fHRcupGy4+kPun7ui6os5WVlVF1dTU1HGqmviifxaeNt6+hpYVLzdcswKMsfrrsSOocDYwXfaHKTyQdoep06dOHAwPfkKcPTY6SUXAAA1h+QxXDodW45BiKu5vtvLOQgrXfdji0+uRnvkewkuEmBps7Lj4bOAAzi4lp8ZS3KpsSF8dTdO5CisyIMEJ75roMSluebIR23f91WPMA6ivXm/xWXKAvbztk+bMPP3OM/uv3XyDovkNfHTghrEN41y8DsngLKsC2XmmlroYuvnKVxy3kCv+sDfOS7VXd1NbSRr09vVIkpC/CBwB0PZKu00IicRmOAzOQA6H6dlNTE9WW15sbjMuPVNOFQ7XmB5W07jb+Os3C+mS7qahzstvo6rsxDrgd9xvj35SWDiVQhCLqWlc/Xb3gW+D7Ibl7zEkQ3p/+wjMECxo3PbQpFKpAOiYZPdFomiSMfAkHCk5xwKZb73hOMWmu+hAcGG0fArx+zlIeL7E7d+6gjo52utLCOu+XL9NNN22izKxMysry7YgLCVJm/nwvyVyg2IdADRDs4HuMK04l0X3f8bHtdMcndyApyGFXHw40S30Q3Ns7Oozt9wDaGAbCVwLUydfN93T2UGdXJyXxP6EXOOB0+yVN80XCAqtfIgwC98dxwIMD0s88sqZdkvR7EGbTfezYMTr5wllqO9xp6ObVzPjHak/RquJiik2KMS/XJpH/AJeNQ/LG6gt9GrcOA6/A6DrGmw6N24WnNwec4D69n8+YqbMHviDCJS9masKuHZ4+TEoHJAKBImNtBjbf7/vSez0nDeAf6WQyVRPMUPRpmnR4gAMuNNs4AMFYv6DdddddN9TEu96zh57tep4qj9eam1CNIM1652FsBj5hfoIR1L0q2PfN/fTrHx2kW393K23cuT5w2RJoE5UcKYeDp8XFK+nkmjO+cVrBOThI63eRO8Iod2U2ZWZmSpLx0adlDkB4qD6ux7KUARI9foYqH1SxizgOTCMOSN8O1X9rTzVSe41PaDfWpfBCjB+PsRMnT1LPwi4ef8Vm/ACHvFyPZxND0SZ12G0YDl7KOX/2csAJ7rP32QYWXhno8xeGUc6KLKqvbaTuq5DY2UXwDxOVh8Oh1Su1rfTgV+4PHFr1AJv2SSKAgA86LHyZ9g1wBI4LB/TzRz/QQjwq0H0Dcei/4lN6c3MzhYdF0MLYSMrLy0OWcTDvuHp1MeUnFFDp/LPUfqWdYhJiKD0zjba/fwsdeuq4OaAq8OLjYxcOib/6xX3U87E+2vjw2sDhUtCo6UIcwvuKVcspZt4FKocdSzZbCUs4xFZpNm3aRHGxcQHBXNqAuqR/i480mLns6uoisZqDnX2dDxjgsNOQ7pzjwEzkwFB9eUGn/0saBqW1DkYtCL69eKLb7kUnxqIe0xNNg8M/MzjgdNxnxnMaM5V60EPQSCqIo/kR/scuuwuYu/zzl11RxcEq+s/fecrcuCp5GifSJnJyEdziCw0j9YVWKS/xkZZ3cDOLA/o5y7OWNLQEYeya2TtnAqPTccNq7cVaKjl+gk6WnqSKisogZkA/feOmjbTuttW07M4CStmeSAuLw2n5nUtoUfYieu8X3k0f/toj5gInXRAfuOQjF3bfn/7dZwLjC4u3FtwhWEMvf8mmfMq/lS9mWsElYV0ym1Xdi/qNRZm4+LgAemkffODSwgDSjOoN26lH27Stei/YAFIXcByYKxwYuL5hyluM8eqc44AXB9yOuxdXZmkabEjvvf8+OlpwlMorKujY4dO0MGYeLVqUQTk52XT0P05SW2nHoNZDZQbCu5i1wyIvk4oWEHS6FhgGIRxFguCR+qSoHZd0+JInZZGmw4g7Nzs5gOcsz19a6PXskSZCOuAhLGuB+ehhHiN8QO3406d85iKxoPNsWf6xClq/bi2tXb82IBgnJSeZ2ySlPu3DDKTYfcedCV4O4ws3GUP3HT8vPXPs9Ofm5tLWrTdRQ0MDxUTzQXMW2DWstNurvQcPHKSSkpNUtb+W+tmMfVgSUVpuCq3bvcqo4kDvX3jnVd6Lbpc2sRyQ54Hn6p7J2HgtPERpr/Gx7I7F1NHSSXX7Gwd23Hn3PWx5GC1ZvpjyluUExgVwTMZzAJ1CK+q0neQJLZjHJKzbi3KSbuOY6jjaMF1pm2rejKR+J7iPhEszFEYGuE1+RlYGRUVGU3KK72KYFPbxOT718ylU8UINQUXGdji0CrN20Hlfd89qk+2Ff6IH42gHvNA40XTZ/HLxqeOA17OWfgCqvPKFWuxIwwQjhPa64w3Uz8ZcYHrROPbbft1JlyIbKDq2zFz57s8Z0lsYF2kOe6+4vZCe+4uXhtR9P7vvHG371GZae6tvjNmIIajHxcURvp7pFw0bTtqIdmNhP/mTM9TV0muEdqjaEL+fd3TwxWzzyikvM8/gBD4pZ+NzcceBmcoB9GlZNySMtiCcm5tD3dt7jXrbxbO1tCDWJxIVbMij5OykoBdjKaPnkongiR6DQ9Wl86R9oEena1wTQetYcGr6xlLelfEdT3R8mAUcsAeDHddNhC1r/JZToU4mKuBduEVpFJEZTu98/XBwnj/23JdfMp/17/zcHZ75k5Go24awPTnZcdDkBTcZtLo6pg8HdL8JRVV/X7+5FKnpYAvVlfAuHA6C8oFTI7yzFZfLB1qoIraKeuO6RyS463430t33Zz//EnV+vovW37/GXAYl/Rk+VGewOz6UE3jA9PT0GMG9/OesGw/VOBxt4XMt/WwPvu1KB7XVdlDTzsuUmpkSZD0DZZ1zHJgtHMCYkPEvPtJycnLMXQotLS10/nyiaS7Of6xfv86Mh6FejieSN5pe1KPHtMSlHUKHjksYvl1W4CfDt+sXulC3nTcZ9MyWOtyO+2x5kiHagcEhKgEAwSAeaiDDHN78e+fTpbY6qn2mjvq6YHMu2OGTP0zbYfc9IiY8gG8qBuJw7bHbaseDW+Zis5EDerHQ7fPqC9fYNAyE3a4etjTBgi5/Nad+CO5wbK2Rh5Nx7W24CSnYST0arw4jX+++P/2FHxK+ZHm5V/7u53yfQhnd/ad3Ukqu78uYhgMu/GzBQuoTHwdRcbg2YImG2wKrN+a2WFTNv8sNzQTBBS/zcKFwm0z3x3FgBnMAfVscwhgnsbGx5gchPpST8aTLh4Ida7qMOykvdSKuw175dhrgpX2SN5m+8El81G3T5NWmyaRxJtflDqfO5KenaLcHiAwK+PoHOAjy8OWHuBbuU1JS6L2/9W7a+xf3UEohK8N6OFzSBL33nvbewKQi+OBPhNP4dZukLrQBlkCg7iDt0Z//NU+kjPNnPwe8+grSpJ9KPjgRER5hBNiENfEUVsxCLBIho/vVZcKKwihtaSqtXrMKOQEnuCRB91UJIw9h9M3c9dn0e89+iopus756CQL2Kw5V0Tc/8h1jmrWtje24Wk7aIPhtH+BQgTMCOV+6Jl8OjNCO9uBAOqcnxicYOI4F5gTBhTTnHAdmMgekL4svbUEcY9FOR76sIbKOeMEInon09dwEGkSVD744wIgDjDidLmkT5Qt/xBe6Zf0VWuw46JEyE0XbbMTrBPdZ8FT1YNXNkcGi0yQsg0XKio986NFisV+8LY/e/T9uNzdMSjnt41DdP+39mlGdkYGq8ycrjEms+XIz1V+sp/OlFVR1rppqqy4ZIV5oAH26jZLufMcBzYGweWFGfzx1caIxnWpsO+O7JH5svCWtKJkWFaQN2p3WOIYK6z6I3feHvnq/+SE8yPEajB35t58+QD/8wovUVH058EIaamwDv64DqjWwfhO7NIoik2D7lR2Edv56sCCcTUFmsrnJxBjTZpPn/jgOzCEO2ONFN12PI50+mWG9rsI0bXV1NVWcrDJrHG5uxnkcuFDzwWTSOpa6pgOPx0L3VJeZ/+fsppqIsdQPM4VVhy8EFS3YlEf4zUUnA0AGMOJ60AtPJM32kS84EEY+dP0ioyIpeX0CVZ+uoZ6mwdeq9/VcoxM/PUWxKbGUUTTwqV1wwB/KCZ02TKh0wCFPqwhcvXqV3nr7Ldr/1lt04IVjdJTN9zVebKTUnGSjvyhthYCPsO280mwYFw9eHI7+qGTQIcv196wZZPpwOvHN7t/y3JEuedJXMjIyaGF8OJW2l7E6CfcZFtrDsoju+sguyi/MI1hogrPLobyk2fmIS52Sh3hqQQptet8Gaqy8TE3883JQTTv64nGKiIqgnNVMCDuh1QseNOjdrbq+S3St6zq1X+RTqf5hHJ4aTtl3p9OqTSspPh5b8oPbI7g13ZLm/MnjgPD/l1//1aBK1929mhKzfFaBBmW6hAAH7PGCMSJ8BRDi8rNhBYmU0eUkbzx8wYt69BqHtetnP32V3nr1IB3+4XE6drGErvX38hmYcMIXcjhNM8pLmglM4h9pw3BVCo3ij7TccHjnQj72kZyb4RxAh5dBLp0fPgYEfsjzGhxIEzjxbTjYkM7Pz6eH/vJ99PYrB+jEN08HbFAL27AriEOrEC5u+/gtJllwC8xIfalf4CUu9Ek6fOTh9/y/vkQNp5qo90of9futWVZXX6SX21+l3/7CB82BPnxF0IKM4NX4XHh2cADPFv3Fdnaa9CnxpT+hn8Bqy9LCpfToRx+i3qZr1B91nRb2L6S0JanmhXYo3LoeCXv1N8kDLuy4p+5JoMb2RGo63MLf6u0a+FxpR69Rmzn2kxN055/yC8TSXF6tB14GgE8+7dulb91xCzUsbaK2m9up5moNJcYmGhWZ9JWp5uVW4PVcgTRNo7TBTtNxweP88eOA4++N8dLmH+J6jrDzdW3S5yVtKFiBGasvdcGXMHDV1dXRa7/4JdX8os53y+sVTrwcRmfKy6kuhV/0f5fvYktKMgL8RNJnt0vTKHlSf1VVFTXUN1BZ2Tm+8K2bD9TH06KMRbRx4wbzRR9fAp0bOwec4D523k2rkjJgNFE6TYcFRtLEl3Q9cWAhx+Ed2I3eumczJacn0Zt//2vPQ6vYDZJDq4ILvh7gdl12XJdD2M7XuMwhQj58V/Fm9YCt7RguBJ1kPnTX0NFEtbW1ZlKDJQ4RSjQO1OHc7OMAnrHdd+w4Wq3TdL/Ai54cWruex3ol7NB/xAl+XR55EJxxuRHKI0/KICz47TIGJ2+QHX/rFF2/6tdRheYMDo96uNqSOnr6kz+kNQ8X056P7Tb1CE7x7WL4QgAzkh05HZTZkW5ePvByIhZqhDYph7jQLmm2b5ex8138xjmg+82NY3MYhAOhxonkiz9SOIEfL1/qxZmty3UtVPpOBdE5xo61zb/GtZX5rEKVlp6hoqLlgZ338aJhODy6bwq9KAP1nVO/OkP15Q1UcUq0Ii5RXWYTnyEKp8ysTMrMzDTzlswhuvxw9bp8Zw5y1veB0QwIDSs7d0gzP9b9zS7IMr+WthY688R56upgycLaGYQN+DrWfX/0sUfMLiIGph6cCOt6RvoABAfgJQwBqZ1vgeyv92OBxQy+Cr4fAg//kF5be8kIUSKg6PJCh6ZJcEueH7PzZiAH5FkK6cM9U+SjjO4PKGsLsAIjeLWPPPRLOAjv2gE/xpXQEVQP75y3HuNVGZoyeE+A4I7fVf75ZXkOBRy+csFka+uZNvqN/3kXRSf4rmcX3AFAFYCuO364MEo70AEnvh02meqPhlPJLug44DgwDhyQeQioYBWqraWNwkr96xpPKXqNg7WopsbL1JrROmjeGgdShkWhaRXgrs4uuvB2LdWU1PqsWfk/ftadaaSS4pO0YP4CI7gLvPNHz4HglWX05V2JWcwBe4E2cV7jN962jpLzE2n/3x6k7kswDB3s5CbIB/ngXcbydJMpLwICKbgx8LWwIWHkC4yUsWGhg290cyHg4MAd/wIWM/yCTzzfLomdRTjBBzwav8QNkPszKzgg/WgsjbH7BnAgTYRujRthpGOBff65F6iqtIY6T7ClpUi2PsMHWZOWxdFDDz8YIAMvAYJffMGH20yNCA3b8fjByRdl6wXZl0l0hq07/cPb5+nmz91Et9+/Q5KDfNQjdQRlWBFpC3z7ZQWggsPmxUjxW9W56AzgAJ6tOHn+Ehd/JDAC63wfBzTPdBi54LPwGlahYhNjqb+IM47yj1/k+5vY930E5ACxCkoaxbMqiu0Eh50+XnGbbsF7vKSEuhr45jqZw/h8kPl6yOszbm7OTs2h62uvGxVWKeP80XFg4Nvv6Mo56FnKARmMGPRYvGUBv3jxIh39+XH6ydOv0qkflFHViRqKuKPfZy5ShAvFE6jMwFxk+YHKoIlIgQSCUmcggQOoH+mhfoDFjiaE90XbUyk6m4VzvIZCgOdJbWEEW9LYutBY/xDBHWXEAb/8JA2+V5rOd+HZyQE8dzh5/uLr1mIsCJzAwsfh6CNHjlLLoTbqKuMOiF3z5n7qKO2kxtdb6MKFC3TlChRTfU76u8aFnDW3rmSLNakU5nvXZWI4kT+Lh60lWrm30HzB8mEY+AuxCnctvP43++npLzxjrCv1Xx8QtgAp9eCzOz5jS/0DWAZC0kYpA3j8+vr4/IhfiEOeHpcoLfEBTC402zmgn7kOz/Z2j0f7ZHwBF8L6p/EjPSk5gfLXZFJSAl8QBcNQ/pf4yIwIit0QRUuXLjXqoIITz0KcDkvaePlS37D48AUczk93VPjCwFziy3B/R8sBJ7iPlmOzGF4PcgxKWcTR5NqLteZw6tvfPERvv3SAylmv/GpzDy39UC7FrvV9prdZg8/53/n002wNoyQoS9cjgrizUgAAQABJREFUGUiz0xHHbiZ+Ok/CYuouf1cWzUthKQe77P7JYV4Sq/asyTDWP6CrPBI34oloJMgczIzjwFDPH3n6pxtnBPfDR6j+ZCP1l/KiyTtNUNNqO8O3kvJNq9XVwYI7ykofljoRL9y4xNiIJ+67xvHsjM/i83KJtn5wE33iyY8MaTULdys8/pv/Qad+ecZXXv0FfnwVgGqZPZ40DdJGKYrP3igD9R+hWfIQ12l2XOCcP7M5IM/V61nbeRpmZrd64qmXcTdUTVjjsOO+ft1amucz2uYD57khPHM+Ra0LD9z+Cnya/xIWf6h6xpoXqg3X+vwLsQfi3o6+wGYCskHfRNLoQcKMT3KqMjP+EU5MA2RA4uKXc2fP0YHvHaW6Q3wFPHRuedLor2ABpSKMyjMq2JLMzVR/+DK9863DAcFZUwWLM7hMBjetwkFwsJ3Up9ORptN1GOax5MViz549ZtcB+uwnSk5QNB+kXbykgLZuvUmjM/UKTo3LTRpBbJrxEf1sR9uY4cpKX9Fw17r6qeEcS+v8ddiotuDwGHaZ8PWH16+qyipW6cL3Yp+TssCFnWz0Y/xWrVpFy5Ytozs/sIsOHeKxxC4hLp5W8WVPWMBR7tHHHibcXIyD4Hgxtl13Ww/94I+eMwL+g1+5P7BL/7XH/p06a3qovbGL+hf10y07t1Befi4VFvougAJuoUtelv/Pk09R5fFaCuO7n/r53ffmO7ZQflGOKSP6+8IP0KFx2HS5+Ng4AP7iJ89mbFjGr5Q8b00PwkKn5OsaNaxOd+GBr2HghRfvkI6Np3Ub1tGC311g7LgfO3qcli9fTus5Dbe9yli0cUwW3+16iotX0qn8s6x8zxRBXlDTVN52/nJQEG/mO9ALh/I2Dl+O+xuKA05wD8WZOZguE4ceRL09vdTIFz+013b4TrSzvB6WwpMMhBQ+S9e4/ypFb42lLffn09JVi+nZL/7IU6DArvuV2lYSYUIL77o+zXYIM5omCWsYhFEeE1h6ejotWbI4YDEjIsJ34YyUC1WPjc/FHQdGzAGMh4h+ms/66ddxMBoLFSw/wPnfT2HRRfqiL8P3F/1RfpIO1S8I6RDYo2OjCeZYRWgHDPry1oc3mxtXn//yjwn3WXg5pP/jfY9R4UNLaF56P7W+3EXdHf7zKOfC6Gj5SWooaCZ6lMzYQT3ijrNgcLq0lBpe5Hy2TMlNNO7khVJqXH6Zeh7uMS8ZSAT9Mr58UO7vbOWAfs52v0UcDjD4SVz82cqT8WwXeKV5bOOGWeaszCwqLi7mzaloc9sx5gbtpgO/ExMTaedDt1Dd9noqr6ik7naf5L54aT6t37XG0K3p1GHdFhcOzQEnuIfmjcvxc6C3r4cW9FhdBWORBZP+7n5WLV9gTM2lbE+hjZ9bS6e+fZaaq3nFtxyECei949BqQsbgwzQWuGdUJjZ7sEPwwE9bj9EIQpXTMC7sODBqDrC8gh2vnJxMqoyu9emgyg4TVLf4l8oXpMgFR8AvfRFh9GPpy9Alh1pKe0snNVe0Ult0B8XFxJkXUSyGsAgjLjEzYUS77yV870JsUTR1s1qbcf6vAG3trMZz/TI1NjaZF14R3KEHjxd1c8i2iq3jiFzAY72l3Xfa7FJtkhEehG6hyflzgwOhnnuo9LnBlYlvpah82lahJr7m0dWA+TBrWQbFpEXRtbhe6uzqpKiFUeYLX1paWtBu++gwO2jhgCWNSbLzHQd8HAjnm9nSUtOoOqaON998C3fA/CKDGEsYfDmN2RXk03S733s7LV2+mJ78/PcGzDQqZorFGZiLhMUZ2XmXSV8LNSgmcfEFlYaXsORpH/iRj5+NQ8MNhUPDzdWw44/vyXvxAUI5dFC7TvZSfQfruYt50kzf+FhRvCLwOVv3QeDS+HCI9UTJSTr2RqnPggRXGZsZTSm7E+iu99xpDloDHjikHHbf8zfm0fOsjoax5eXaSvlrGQvggS9lGMaswtPZ3Ul1l+pY9WVZoFhLSwv1NbCVHByyxSYqVgi8L/i/InSyzvuZM2do97t2BcpoegKJowigvOCQdo2iuAOdBA7o5zPUM7LzpNwkkDjjqwCvbIc0m4eaxzpfpwOP4LPT7TpuNC71CB7Uhw00/PLy8kLSIWu/Lidh5w/NASe4D82fOZWLAScTAQYVVFWwE1e0ooi6Huqha+/0Uf0xVlyr9gkBlM1XwH9gN+Vk5xjBHQs9cGTkLqJH/+ER+q+vPkvth9mKhcVF6OY+/sEnjM77untWB+rUYKAD9QtNyLMnCIEPlY58lBenw5IGP1S6hnFhxwHNAfQ56TcYI7hlNf6/JdDV+jaqrb5kQBex6lZ0ZlSQmowuJ+UF7xsvvk3Np1k95Ryn+AXltooOuv7idToSeZyWbG41+uUoh/EJXBgjeAHGwVXovePn6VhQNy8UEML9H7ui0tnqEt9mqK0uYWd/QRqrqC3mF95Sng+wQ48f1H74bEtU1ELKzcvliLfT7QOEHddpyJO49m2+GCD3Z8o4gOchPyECt3m+884BaqmGbhhRZmE65WbxmYmVywLjQmCdPzYOyPhAaT2OdDryZLzY6ToP4alyQh/qB42aTjsPMDoNcecGc8AJ7oN5MqdTMGj0wIJggE90OUtzqLn3MsXMi6bW8DZakD2fIjIjaHFxPkXEhAcNNggy+ctyafMH1lNl/gUqf5YlfQ+HQ6swG7nzv93skTuQJDS5AT3AExeaPhzA1yaMkfD8cOpI7aCoRT6VFlxDDkFY+q0eVzb1yLtw+iJRDedgRxwo/EJzR00XXbx0iaJqIwOHSVHexnfbx2/x676H3n2XQ7PYfV8Qi4tQMowqDvDB4TN3YmICpWUkUEMkEwING/+bN8rMT5lHmRkZBlb/AS3STp2OsM6zabZhXXx6ckCerXl+3B/Ony+nC0cuUUM1b+R0hFFvV5/5UpOQwlfbL9LmT4Kf//Rs3eykSp7ZdGqdjH/4Qh98SZ9OtE5nWpzgPp2fziTTJgNJqtVqJhDE07NTqX1bO1XygZO09DRKTk42AovA2/7OnTuoIq+CYlJiqORbpwMCgIbDDiGE9z2f202Rsb7DpMi3B7NNm8ahw3pC0OkIy+QgvuSPFLfAO99xAByw+1qom0kF1u53urzpgyy0m0Pf+EgEwd0n/xtBvplvR6y9GDGoTo0D9Yxm933BMr5+PC2LdecHxh1eQvIL8ikuOp6efukZ34Vm3cDMtBWxvv6WRFq9ZrUvzosv6pd2CS0yniTdlGU48W04k6H+SL5KcsFpwgFY84Jp0J/+4HWfOpfRnuyn6tKL1JR3mVrCLtODD70/IJS5Zzk+Dw5jSsZVKIzD8Xq4/FB4h0sHXRo3wtoJ3SJPSJ6k67KS5/yhOeAE96H5M+ty9aCSgYNG6nTdaKTLwMJOOn6wkqGdLovBCSen3QsKCqjgEwUUnx1Hh/7+WEiLM3Wsnwu994VxkaY+qVPq0XUgTdMuMEOl6/JS1itN43Jhx4FQHEAfQv+R/i5xwEv/krJ6wdJwNmzs7nBqO8320o9wDjQQsP7hcCgL8KtWF1MOX8IiuOHjaxh+4nQ9I9l9r9lfS/9472O09y/vpuU3LxM0Znyn8IHaD/3Lg1RVVU2wLIWzLmtWrzY3NMrYBg1CjxQGDV7jStIEXtMtaYJDfJQJlScwzh8ZB0bDS3lWwKzLIYxzGOfKzhO9yZmsfhV4wWTVro46Pv/wZAW139NuvuLgRRbPzz1DcHJk7kZ4NVzZ4fJHRqE31FC4vfqTHv/eGF3qUBwYmPWHgnJ5s44D9kBDXH5ejdWDT+ePKJ13EFesL6Q7/uxWc9PqgNb5ACYcrPunvV8LHLDT9KEO+aGEzhvAMHRoqLYNXdLlOg6MjgP2mBiqv2rYTZs20+L1eRS7PNpnnYYF9si0CHMzcPritIAKgi0cC3V2PbL7DiHe0/GLAc6bfPezP6Rf/Ps+c+uqwAFXQnwCFfDu+9JlS4y/kPXbh1twUU6PVa+wTafUafuCy0538dFxQPqY+MOVBt/lB1gphzTstsPKmDnzoCdybAGyapf5YjRcBS5/EAeEx4MyOEE/C6/8mZKGdjg3Phxwgvv48HHaYvGaEIYbQJIvE4bggC9habAIEXaeDQc766u3FNOO39lO/SEsQUKIgLnIM6+XGfQapw4jU+J2PUJXKF/aFqqc4A1V3qU7DnhxQPqN9m04nSdhDbNly2bKW5VNYRvZDCML7fiFJ7DO+cZYyl2WHfjSpcecLo8w8NoOgjsOr8KEZCi371v76cmPfz/w4gw4mJ2DVYiCggLj42ubjB/BY9cn+Xb7EAfdXk5gbVyAlTyvci5taA548c4rTbAMlwe4fu6afbgVE91scFczl+1AnWYkDvWJk7rF1+kStn2B1XhsmOka17SPF/02Th2fbnzQtI1X+6dbGyeSnhmjKoOHK4vCRDJkNuKWW0bRNuEh0nAral1NPSWnJxl9db2bhnCoAaXTdRmNH2H7mWHhL9y0lB74x7vptX/9FTUdZlvv1hwP4f3pLzxDez6/y1w0Axw2Hl0/6nHOcWAqOCBjSeq243a65IuPfgxhFmMIaRgfOBeyY8etdPLOk6Z4XFwc5ebmBsat4BTfHhtIl/GhBWXZfceZEty8OsixDIW7F2DtCSYmMf68HGzNQ13iqa89Y7JxqypuQ1xeVEhrWPcdh3RlTtD1AxgqNrrthw4e4psgL/jMX3J+VHw45RVlB+lIm0r4j1c7Jc/5gzkgfUBybpR/Uj4rL5NiE2Po8IYT1H+OsUPH3X8GIiydzZeyupe+s0Cet9ARytf0jrRMKFwuffpywD3b8Xk2M0ZwH5/mzi0sejJEy2XQwJTX5QstVHGoitoa2ig2LZaiUhfS6h0rza1mECCGcoJHYKQeSZc48hGWdMRxMySsDmz76CaqPFhDJU/yoVX/xI98ca/83c/N7t+9X3yPKS84BZ/GKWVG4+vyocKjwedg5yYHdN8ZDQekP3uVAU6xzIHxoutAORGMpexQuAQGPs6PvOv3b6PcDdn0wl/+mLrb/JcyaSAOQ7Cv5Lnhjs/toMXr8gM26CG019c00vGfn/KZhGXz8HBtv+6k081ltKA3nLbs3ORL5L+abiTqeE1NDVXtu0iXK1nyY2M6cF2RfdRY10LHio5R2qI0ysrKCirjg3J/R8oB4bfMmSgnaUPh0PACJ+XQHyGY77hrO5XuP0vtV/jCsI4uSs9M4V8aZWxLkyLD+oITgAhLP5Z0iYsvcMMingEA0sbxJHUicI6FvulCx1honyllnOA+U57UGOnUkx522bH4lh05T+cPVlD5j9lMI9buOJ44M/mwG5t7g07rUDt8IyEDA1fXi7AMZpibw+FW/GC9Aq7se+UhD61eqW2lB79yvzE5qfGMhA5NA+CFBvFHgsPB+DgwWt47vg3NARkj4gNa90v7ADjy8Qxkh17i8MUhXz8njVtgenp6KHpxJMWu4NtUj/Pg93hpBizOnDz1O/9FOz62nbY9utl8DWhtbaX6i/V04gV+2W5geqBoyStI04EWulzluyl5w9Z1ND9iYGdd6rX9kpISqn6rhlr4hljjGBdTz7e5ttCbq/fTTTdtYVOVA4dx0S7nRsYBm1e6XwkGDSP5ur945aOsWE7aetdms17UXqylrq5u88UFpkUL8gu4I/v6qsaBslIPwsM5XVaHR4NjuDpcvuPATOXAjBHc3YD17mIjmdTECgSE9tLTpVTy6imqP9noW7RxXoQtWPS39tO+1/cbCxLY6YKAPRKeo34vODvNCw6WK/Z+7B56Pv0FOv7N0oEbJ1VTKw5WGb33e7/0Xkpf5rNmI23WdUgaio42XVUXCGocgcQ5HHD8GP+HD55Kv4VALuPUqybA4Sdl4OuwlJF08SVdfAjutbV8QdQVHvgitMNyjaWyJvD7vrmfTr5+mh74s/uoZ2E39XT2+A4gQo6O8UOx/I9Didcr+6nlaouxXY/5YyhXfr6CNxG4EBxeAAQXy/EN51qpa2nw1wC0Zy660bZb+tNwvNJ4pV95lRE4wStxUevyKiNpdhm7HskXePhIs1WsBA512zh0WRd2HJgrHBh6dp0rXJiF7dSTnTSvq6uLavkil/baDurnezOwM4LddrOA8zp57RhvwC+6Ri3rWwIH4aSs4ENcJm87LLBevpTRE69JY6Hhttt2Un5mAR14/AjVltQNKo7dPxxaff//t5cKNuUF8jVNSBxtXBAJbRK38Ui68x0HxpMDut/psFcdOh/9U/qo+Mi3VWj6+vrMWBUdeuDFLan5+Xl0LPskhV3hMcM758O5prPNRvd95d5CCl/J+vhLuRz0m5ULW8iGcNIXGFU7TYfQp0BNELvp7RGVjIijOLMqLxEcnJ/Ec1GUj3YDzH+AR/NA0p0fzAGbR1VVVdRQ30AlJb4zEwkJ8VS4fBmtWrUqqKB+TjYO4T18gdPPWCOSfKRpPDqMPIETX/Lh27g1DIR6xAEnPvA55zgwlzjgBPc59LTnz5tPfb19dL2TV0osluyw4Pb7F80w1lntvN5JI7UK4MNwY38xAcN6xbVl1yjiDxbQa3/9JkFQsB0OrX7n00/Tfbzzvvbu4EUHsDK567A9sWsYWSjselzccWC6ckCEleHog8B+tfUqNVxqpPAFrCPP9ytBZx76ydgJh45y2tJU6mvro6YuVnHB+OeVIIyNzkR2RnqqreEl/9RzZynyLUaW6Z83/BvmxEmUFGYuWouIiAgS2ELRuihjEZ2PYlU9WM9B/bglFo5f5HNyMikhLoTpKR+U+zsCDnR3d1P1qRqqq2igyjO1pkTswmaK6orhl7d88xInX0ZkbvSaF+1+J7A2CUiXPI1Hh3UZgZW0UHCSr327rM5zYceB2c4BJ7jP8icsExwmxXnz5xEWzJrIeuqYx6sufx7vr1cMyOYv1vHRZkJXqeMaBB1CExDLZC16762fuUqVL9XQmVesLT0/Fc992XedO6xeAA92YASHEIp0qQM+8r1gZGdHYAVGfMHnfMeBieLAjfY1lJd+DBrRlyG0Hzp0mN78/gHqj/XtYD/40P2UmpJqXpJh+WXNrpXmUrT9194h4htbicf+vFyiz/w/n6AX/tfLVPrLs8FN9quYd1/iT3PYpY/xCe8A6k/mszErcyh/U3aQuo+MK0EkYxHx4uKVVLaynNqpk/pLGTnPReayKca7ecvGwOFcKXujfBI8c8mvra2l0z8uo5oSFtr9RwnaqIvefv0Q5azNNDz2OkvhxSOb//a8K89aP2O7jMYr8EhDWPdhDYewxqPx23Au7jgwVzjgBPdZ+qQx2dmTHBZsLJit97RRfHkslf+cd7x4QocZr36+82XX+3ZQ1uJM87kbbNGTq7BJT6KSNhJf0zIUXtCXkZJBGRvT6fWv7Pct6FYFsHrRUnvF7L5HxkYECe9YAELhF91JtEG3Q3hlVeOijgPTjgO633oRd+zIMSovqaLzP6mkft8mK13nr2o/b91HRdsLjeUoCGu4VwGCfN6SHOJ76okS+ykiOpzKL5yn1D0JVBOxkNpe55d7/9e4oLogZPO5mPC+cIq4ZT695317KDohmlIyWMdFOYxFGXMq2QRjYmLo1t/cTisuNVFN5UW63sHCW3QYpaWn0pIlS8zXAQDqecPGMRfiaP9YefD2W7+m5gv89ZJvNTVqkfgygi8b/DvwziFav24t4ZyRPf/p+VP620jTBH64ZyN9A/BSBn0Fvzff3M/WhlroyrUWSklNpo0bNxg6cTBWBHxND+oaK4+Go9PlOw5MRw44wX06PpVxogkTop7gcPgtISGBVu1YQbiJMTYqlrov91BETrjZaS/esoJwOyI+n6KclBU8MsGOlTwbn8aDPOAHfdDDTV6URN1sreDMD84b+9IaFmHsCELv/dHHHjEWZzRtEgZOHMZDe7QNacnXOL3SdL4LOw5MNw6gz0LQkb6L/g6hvWZ/LbVVsN6bX/2knwU3HEaPToyiuNxoc34FhwsxzuJZ5xmqNcADFbm3vnmQrnRf4XMw3RRWwPPHGd4N9++2B7Wf03o6eun6vutUX9BoLM9AsLKd0IZ0HcaYzOWXhrSsVErLS6F+3siHSg9uax3OHK1dh4t7c+BibQ1d6+GXMqhF4gAwHFZ8fhm73NxIV676t+E5ye5LAIWTORth/fwQHy8neKGPX1VVTadePEv1tTiExRaLolso/GokpRYm0abNmwwNmiZNA9IFl053YceB2cYBJ7jPtifq0R57QsNuG3ZakjISjIWJ1FS2wZueboRmFAe8Fgg0ShuXzgsVRpmhnOAUX0yO7dx7C13qrqWWH7QEq/T4keHQ6j/t/ZoR3nHBjHbAhTbgQC4EFC24A86mSU/4QofG58KOA9OJA9Jf0Velv0Lw7jrT4zPNCKMs2GGFYwEeKnENlY18OH1Adxw4MC7ww2Vs7e3tARU1Fvd88jrL4pFJEXSt5Rr1dWGrPdj1dV8jXOpUeaia7v3SewbdzqrpDC7JMiQL7/gKiJ+Xs8eoF4xLC82B3p4+6rnuf/GyVnrkwUnfESx2XNK9fP1sdVhg5flJnqTDlzxJQxxCOyybXX/Nl4pVo41Vqd6OPUT53Zm0fsN601eljJc/Gvq9yrs0x4GZwAFrOM8Ekh2NmgOhJkU9gQFGJkqBx65WQUGB+Wl8OgxYgRdf5w8XljoFTuOQsKZT4MQHjR/+8IeoalcVPfHfv0thFX5hQgDYx6FV7Lzv+dxuWnfPapNz5uRZOl91jn795lEKqwujnBVZlFQQR3vvvy9QEvWjbq/6hbYAsAt48smxZWo4EKp/QgDvTO40B0WpnsUe/467mHqMSYgJutVSU19ZWUklx0/wtiqnwqY6VgZsoPPubM/1Hpp3J59JPb+Iak+w1Sf9Hu4Pw2zrv3/g23T7J26lTb+53gjlGr+mGWOuvr7e0CIHZjUsXkAEXnydP5fCN9L+3bt30VvHDlHTFVaXsVSedvANvbm5OQHVE/AUddn12XHA2XOmFwzgvBzKihO1F8Srq6up6WALXXuFI+iDsHYGxypZdJR33tta6NdF79D27dsCdGJjRuMbDR0G9xz7o5+bDoMNwkfw0M6bY2yaEc11gvuMeEyjJ1ImMfFHiwGT6ljLSl2jKR8KlkVr8yXg3Z/bGfLQKoR3HFrtauuiRdtS6dyvKqjq7EWiCl4BWGOguaOFemp76Ozqs5SUlBQwdSmTldDrfMeBmcYBPW4QXsyXmnW3d1N9BasaQHD3W4+iAjI3W+KSHC8HazAxsXwyVOQqEfr9fnh4GO358zuo+VgrvfL3r3pansFNrLjxuOJgNd36u1spuyArqKrGxkbe9W+iuqp66i5nNZu4a5SalkKJq+KMzr2oyEib4Es4CJGLjIgDmVmZtOT2AkqpSqaz9ed4LmTLP9ELKSs9ywjtcXE+6RgCsO3GyvexloMFnIDjPmisnfERC9MfOSuybSH19vYGQBDwqssrLaiQixgODMWnofIc+6YHB5zgPj2ew4RQMdYBaJcTAddOHy+ih8KLPOi9Y6clPv6E0b9t2HeZrl8bvNhAaEjZnEjXmq7TlfJWs3EDOaStvoPaSjvoxPaTtGp1sRHcpU3j1QaHx3Fgqjigx0/a8mRqaUunhoSmYPWyXN7ELIw1t5F60Ymd76iFUb7dTtGIEZ8L9Pb6JHp81crflEvPf/nHLKBXeaEy508qD1WZw+NFtxUGYOrq6qj0wDk6ceg09R/mZNbaiV0aRcsXLDEHZW3BPVDQBUbMAb1biov0et7dQ+fKzlPVwTCDIyounPI3ZJsXJUEqapHSj8SX/InwNZ3Aj7NIfZ1su5+FdHl3NMI71PA57VrfNXM5oF1OaJsMmqWu6e7L2gaeSNiL5qHyvOBd2vThgBPcp8+zmDRKRjJgvSZClMMPeV75Y22A4LTL45O53vnHpSERH4+gE2tO07F/PmWDmziuXzcOn/n9n/pNnHV+j71RSthlWrx4ceAArg944FOhxMezfYLT+Y4D48kBGccYJ3BQlcEYwRmW5PxEoy+MnfLwiAX0wAMPmBdg0Se3x7KxMsPWZt5cfpCt0bDoBIEJsh7rySfnJdK2uzZRcnIyqjF67I8+9jDBuhP02/HFy3ZIe/oLzxAEd9y9sDAukn704kvUXcJjrdQPzXW0neykwzUnKC8xn8LXhxt9d4w9TZ+N28VDc0D6hMxfBQUFhN+u3XcECkkeEgCPOVbUTtCHhnO6/HCwQ+WjbsEFu/IXFtdSfwGXqGC6xEwx+mA+d8M14bR6zaoAPKcaJ+Ul7vyRf4lwvJu5vcUJ7jP32YWkHANSJnAvIHvACqydrssCRuC0biJgJN0uLwIF0nWeDqO8HUcanNQD/AJjBIy72WQcC9/7HmOzYXxZk+zQ+Er5/+JwHgR3OHzuZ6A4tp4THRNNuIgKTnCaiP+PV5rOd2HHgenCAd1XdRimFtexqb8CVpuBwzhKS0sLHOzT41XKQWAzZ0r++GFqab5ClxtYL5pd1qJMik2KoZis6IC1Fym/9eHNRjAfbvcdB8jXPFxMXdC7h4wPYQxaGgjzOO3nG1xrqy9R1KJIKiwc2KEHbXrsM3TACQ1Cv8QBIGkB4DkUkLYLPyQuvhcrkCdz7VBwXmXHmoZ6NI3oe5vv2EiL1+XTr155m5pPN1N7Rxf1p/fT7jt3UM5SNqiQmBKoDmVtWgVfAMgf0LB2GYAgHy8uk80Dm87xjofiB+qxN8WkbikjvvBE8p0/PTjgBPfp8RymlAo9iQ5FiBcc9FY7OjrMxGf0ZFlogBUXbRpOJgGvSXO09WGCxw+7c92f7KYjT5RQbQkfmLMdpHkcbILjXUOYQcvKzKZoUQfgJKFnrPQBtXOOA1PNAenHQgestUC9DL+ROuCA8J63KpcSrsRTIv/gIPBjPNt1yJhJzExgq07D776/83XWjWGURv2BhfbAjc0Yp3jJthzqkzqsLBedAA7Yz3cCqhiEUteJvpeUnkgJSfFUvaaawhcuoN6uPpqX1E/53CfRDxdEjk1ckX6k6xtEDCcAbjgYr3IzJQ3tg+Uo/DqudBLuQMGaja/QUJUTIR1wwrOZ0ra5RufYRsJc49IMbO9oJ6CRwANGBjdYgsH96s9+TrVlDXzHRzt/So83Jruys7MoLy/PCAKA8Tr8NFKWhqILn/xXbiyi7GWZ9M1PPDnwaVUjhlAAh513/sq/cdMGo0srOCdqcgJeqcPUr/7YdYaCU0Vc0HEgJAfQf+w+FRKYMwR2qH43nNCPstixgy+/key+Q/0GNuWJ9e3N0OSdduM4Epsc2uKNH8p5I+BAqOcaak7S8NI3RlDNmEF0fTYSrC3zIufR7nftou4d3XyR7vxBwrq0Q+PxottOA7wuo+tGOl4cRF0IZfU6p2FnQljabrcXY7b0dCmVlJykyvMXKY3NQWdmZpp1cdGiRWazDWVkbM+Ets5VGp3gPlef/CjabU8AmBhgPg52d6t/cIk62VY6XOu8LjpUcowuFTZQ8seTA/aZUV5wiC/V23FJt33UiZ/Awzc777xT8Jt/fR8dePEQlT/LN8F6ORYYMvMWGd1f7CzAyeQmYcFrMm/gj8Zro7HzxqtOu56JiM8kWiei/dMZ52iejQ071j4JQcd2evcdB8U9HdTxK/iHDf1MFtiT2CztxnwqKMqnxMRETgx2Nr3BucHjGHnDwdvlp3sczwe/G23XSMqPBGai+SVtxU6wdsIHSRuKVp2HMMrC4a4CrFswPdnV2W12mlcWrwi6lVVghQ6pb8b7zIKXX36FLhy5RG1H+O2Zb0tuje6izoRqqtvfRHd8hG9Nz2O1ON4Qk5cWzccZ3/5Z1gAnuM+yBzqRzdEDuamxiapO1FBHFQvt/jW8+1oPdXf00MKIKLp8+XKQ4D4edMmkKpMxJhio5CwpKqCOnjaKSYmhkidPD7JZjLqhTvP8l142B+UWxPluhtXtGQ/6HA7HgZnEARlPQrMtrCDe2tpqLjGDuT6MtYhw/rQeHxew0y44dFnsvudvzGPLMy8RLknzdPwyDR33yNRIWnpTPiWkxhv8nrAucU5wQPqSbqzuVzqsYUKFZX6HD6G94WIjnT10ni5V1lNHZzslpSZTfESC2W3HjjOcrC2hcM7EdPANv7IjFXS9tJ86sWbzV+juq7xeN/dQW3cHXWlspYSUeIqNib3hl8SZyKOZRrMT3GfaE5sG9OJT2tXqDio/4jcHJ70Iu2msV95e204VFZVGXUYmT3yGlElR0kbaFEw6om4jkxB8CO7ABYEC12FnZ2RTZcc5uvojtvcLwcBypb88ay5revCr91NsWkyg/GjpsdB6RkGfOBu/HRc45zsOTBYHZBzpvqjDoAPj/OTJU1RVWUVlZRX8xSqTFmWk0dabtlJSctIgUqXPAw9uMv7Ekx8xVmdgecbTsW47Lt25tKyJipat8AQRnMhEWNNox71gPJHOoETd3hlE9qhJxbOUH9qMsDjZAZb4WHzstP/6J4ep+nsXfXcbMPp2ukjVFy7S7fdtNzr0Uo9d/1jqm8oydp8BL/Hi3XqMd9ov+ymD+iiMNvDLc1gFUU3lRYrgDS3coC7l9fPwl3LeNOEA35HnnOPA6DiAz+Th0bxrrW8qlwtbeEKcv2DwZ/TR1eCDlokDMUwmIqhLHPkQLsRl5GTQZ3//s/SeL+2mzNW+HRTJEx87gI9/8AlqPH85MEEhz56sBH6svtAOX3QnBZdXmuRNVx80Oze7OGD3efsZf/3xb9Drf/MWlf5dBV17nqjy32rp1397jP75r74eYARwaDx2X7/lt7fS3r97L0VmRBhjMoGCCKBL8Q9mJTEmj7x6LChb8BpQj/6n8wGjaQlC5CLTngN4dpjfZY7XYSHeKw150g/k+dv9GLvtF47V0oVXWWjHcgGph5coM6Pxrax1bzTS4UO4WCDYoS9LfwZO/QuGnF4xoVOoAl+gIhrG79o4FG4cC+ziwIeoBWz0ITJakgJtDSS4wLTigBPcp9XjmDnExKZH05JleT6CRWiHmTfWXV2QPZ/EFN2NtEgmYsGBCQlpMrnb+YALmxdmDqxu/PTqkMI7bExDUDj2I77i3e/syQ7x0TrBIWWFPvjiBEbHJex8x4HJ4oDuk3Y/hbCCHbrOo71G9c2owmGHDu/jWPCrWdjhy5QgENlO40XeybdOU9mJ85S4Ip76gSOEa6m9Qs//ycv0wt+8HGQXXvAJjSGKB4S3UPkufWZwwH7O4/X8r7ex4I2jWJiK8YUYP4S5P3fxPziZt01kFv0RnuasyKKYJL9wjjUbdxhiTBaw7YbsJEpOTzLjSPNB+M9Qzk0jDjjBfRo9jJlCCgZzUkoSm47L9k1+2MXAj2XdsMwwisiMINzaJ05PBJI2Gt+ePGQiEt/Gj7qXFS6j1R8v8h2CC1HZc6yD+/o33gzsLgCP/FDExhsCjUnWsAgLzUKj4NNwgs8rTfKc7zgwURyQPmrjx9Xy+LWd64Q+gc+J0A3BvYLo0sVLxqycP9f0d8EnPvKOvn6cTrxwmupfa/SBAo/g8qUE/T38zDHzUl1+oDKQrvFJohszwonZ4Q/1PL2e/2ha3dvDqpNw6MvYj5E+6N+bCe+MoB7u77PNaZ7iK3laYRLFZLLgjhcW/3pteJFLlJqRErhgDeV02dnGl9nQHtFOng1tcW2YYA7IYMZECnOP+LV+sZWq2bpMV3ensZO+oqiI0haxzV22JQ0nk8CNTr7YZRen6dB1SBiwMGm3ffs2ivh/w+nkT85Q+Qu8TYjJynLQv8Vu357P7TZ2bSVb02vXJzBI13BIR1zTKrBI17DCFykjcM53HJhqDnhZjAmiCQu/5aQ/Sx9HHNfY91ezvnKTHziTx0cHzwkwAwmrMh7nUACJ8fidTz9NK/cW0vv/9H4kBY0dk8B/9PhDWDuhQ6fNxLDN15nYhsmiWfqA/ewTkxIpPo8PXa7lPgONGNXvwgp4E6o4gbBu6XK6b+n0yWrLeNWjefLe976HTi0+RWe3l9GJE6WBMyvFxcWEw7lop6ieSps1H8aLJofnxjngBPcb5+GcxlBUtJwyMzLMjkU8W5tISkqi+Hisyt5OJgTv3JGlAgcmFJmUxJfSerLJzMqkebv40M3iNHr73w75PvULoN8/+mIJ1bHu+6OPPWKuZte4h6NX1wV0At98uZmutF6h2tpLppbMzAzDG7kUR9rgJ8F5jgNTwgHpr7pyefGM3bqQ2t5mNQJcZIaddjjsVrIAnpGVQbihdSiHF4DeSN7JxCrDL81GaIdWAj7TM44tD22gsy+eN4K6F55Tz56lx08+QXf9yW7KXZlj1OAETsaPjH2vdgis86c/B0I9v1Dpw7VIz8vAkV2USTfdvpEqEqrYeEKHsaQSFhlGi2/OpbzlueZG7eFwzpR8tFfGhfhIww8COkxtJqckU0JcPEXHRptNLnlZ12VnSnvnIp1OcJ+LT/0G26wnRX1FuY1WJg07fbzigh86uTIxCW6hEWozGekZ1L2umy5eYhu2b3RQc3WLgAV8ObQKizOLCtMCEx8ApB6EUQ+cTpMw8vr6+uhq61UqKzlvTuqfP11u4JesWEyLlqWZrwAmwf9H8Ok0F3YcmEoOQHDnZZ6WbM6nmmbWZb/QYXTdw3ARa1IY5Wxk6zJ+83mgU/q/phn9ev68+RSRzksMhH0W/M1OO4R2/5evZRuX0G0P3kr7vrnfHFDV5SWMcfnEbz9Ft338Ftr26OagGx4FBvW7cSTccL5wQPeLgoIC36ZSQSzVHqunKx2tFM0qnbiULycnJ8gUqVd/Fpwzxcd40O0QXqSmphJ+odZtXUbaKmUl7vyp54AT3Kf+GcwICvTC6DW47UaIMG2nj/ckYOPTdErd8xbMM6fm3//xvfT2ml/Trx4/YExgBX9c932i/8/fecrYel++c1nQxCe4xJd6UD9+skuJ66SPl5TQ8e+eoqYz/ILg/yx77OwpvjHyFG3bttWgQHn8bPoFv/MdByaLA+iDcLof45D3u969m96IeoPKz1dQwyW24x4zjwX2DLrt9luD+q30YenTQjdwRCyZT2GVnMIqCv0svIubz2oL4SnzKTohivZ8fhetuL2QnvuLl0LuvkOl7ejPjtNv/vl9lLWSt+vZYcxp2mVMii91OX/mcWAsz9Aug76h+7SoT/Zt8VlT0LvMNodsXHb+TIlLO2ScSDwU/aHyR1o+FF6XPr4ccIL7+PJz1mOTASx+qAbrCUAvsKHgR5Ou65Z6bN8LH25a3bxlE9/QmEBvfesgNR0YvPMOizNPf+EZI0zgIhno/AG3/Gy8dnpLQyudevEsXa5i3DgMhd1GrBO1/LtMdOjgIYL6Dr4EoKxuC0M45zgwJRxAP5QfCEDfxHiBzfa1a9cafXWMY9yZAFU4u+/qfow8cbffcRutzCmmy3c1Uznf7ZAQHU/zosNo/Y415rp1gcvfmBuw+w7zkF6upbyVvvGR79DWhzbT7t/baS7OQV1Sn6ZBl0e6wOh0Fx4bB6Y7P+1+oDeR0A9sgR3wXm2aqX3Gbj+esrTFK8/uBYC14aS8DeviU8MBJ7hPDd/nTK3jPeD1hKJx63Ao5mLCxq5LfkE+1b73Ei2IXUBNbzVTX9fgU6u4sh2f6e/5H3sCk14ovDo9jHcV6yrYggYO4GmH3Ub+NTQ2UHxC8BkAtGkk9Gt0Luw4MJ4ckP6n+yLGCy5awj/byTgUX/IlLvhwoQtuW41v5avUU4hioqNpwfwFVMCqC7ZbGBc5/O47fxyAYF95qMqMzYyiRYGvXTY+Hdft0ukuPDoOyPMdXampgUYfBL1Cs/RJL2rmcv/warvmlQ578c6lTT4HBkx1TH7drsZpzgE96YUiVQ9qhPUvVJmxpssEjPISlvpGgxM6fvfcfTdte2QTrfhAYciiOLT6fz7zfepu4yse2UmdIQsAhoVzHMIzu+x4LcaOuzi2g113qYE62gDgnOPA9OCAjCHsqCMMh13KUA7jAPnwpaz2kS5jBekQ/gtYUN+5c4e54XjdhnVBqIFL8CFDdt/xxSuUw0v1Nz78HXrne3zg3O+EBqFPcAp+iQt9Oi44nO/NAeGZ5Mrzlfh08qUfaB/02f1Ctwmw2tlxnTfdw7rdOmzTrfOGCtvlXHzqOeB23Kf+GUxbCjCYbTfSNJTTsDps4xxL3MaHC2OuXr1KZ8+WGXTRC6OoYEmB2WEX/JioA+W4aUsLl1JiXLL5dH/mifPU1cFSt7X5XnGwiqD3fu+X3muucQ+1YAneBcnzKW5bDHX/mi+vucQCP9RkIAPxJjturbv5lm2UmpJqSNK4gmgTgp3vODDJHJB+LL7uo5IGkrSQH4rEofo08gS3+MAjdTRe4S9T29nm9EucCKs29oEUALPDl7FjPzlB7/+rvZSQ4VPhAQ7BAxjQCidpum6T4f6E5IA8G/EFUHgpccm30yV/qnzQg5+mDy9scEIr8gRuquicjHqlvXZdodJtOBefPhxwgvv0eRaOkmE4IJMvwGQxRhimF8WKS93xBiRRQmQCXSpuoJv2bDKmvqCba09QsbGxNJ9ved142zpKjE2kqp/UEAR122F3D8I7zEWmL0sNLAJCg0z8pt7UeNpx1zaqirlIF8/WUlOjT49+UUEqpS1NNRYMcP00nG6PTZsBcH8cB6YJB3T/1GEv8obLt8sAXo8FCFa15+vo9EF+CYeKWYS/BMIerrakjr72yLfojk/toFX3rCCMa+286JE69djVZVw4NAe8+BkaenrkaJp1GNTZ8elBsaPCcSA0B5zgHpo3LmcacEAv6EKOndbY1EgHXz9CDaV8+rOUd/IYsC6ykS3H+EzasQGsQea+ZLLGATxcJJWcnGzQV1ZXUX+91DTg49Dq4x98gn7jf95Fa+9eFSRoAEoEAAgNmzZvMgV7Mjvp8i9aqJ/liMSNsVS0Zqk58CdYUUaEf0lzvuPAdOKAjJPxpEnGbyjcuLW1vamDLpy+6BPcoW7GP5ij7Md7ucfue09Hb9Due2ImbFf6nIxNiUu9eEFAeDh6pJzzZ4eQK8/fPU/HgZnKASe4z9QnN0folklWFle72Uj/2U9fpca3Wn2LOuuRG9UU3p3rZyH+mR8+SztYtxZmGAWX+IITcQjc625bTQUbcuk///B7RBV2Tb74C//rZaovazSH6KS8QEoc+CC8b9y0kXru7zG3yIolA8ACTuvXCj2Cx/mOA7OZA8P1d3wdw0HWebmsucZmJAlHTPjXD9Oqg7X3gliF3fd/e+gbtOFDa2nZ7QX05q/eouYLrRTJKmy5ebl0zz13B+AxJmXMBhJdICQH8Nzk2Tm+hWSTy3AcmHAOOMF9wlnsKhgvDmDRwIIhiwfwItzW0OmrAqqs0qOhW8766l3tfPCt1adPK+VCLTrRMdE0b/482vnIdmquaKHjPzxFsBJjb/DBqgWuZb+P9d4jYyMMDYJT6vARRMb0mN5VB1woWCnjfMeBucYBe9zksZC9bVsv/eoYm4bkD2nGtCqP7diCaEpbmUIriovoF/+8j/AlzHawEvXO1w/T+dcqaAGrwl3lmzKvRy+kmoo6Opp9lNIWpRlzrHY5Fx/MATwXzFfw9TPS4cGlXIrjgOPARHLAWZWZSO463OPOAa8Fo7O1l/pxlTqc/7O6EeB59z2sLow6e7sCwrIIzrZvivJOH8xF3n7/Dlp+5xJa8lt5g4R2Uwf/Kf3lWaP3ri3OCE6BAa0LFiwIWvAAI86rLZLnfMeB2c4Be7zo9uI2y1t33MKXlnGqT4vNZM8rYis1a+Npy96N9HvPfoqKbgttFarpbDPV/bKR+s/0U9vhTqp7rZGOHD1GDXW+czC6PhcezAGZqzBPDTVXCdxgDC7FccBxYCI4IPuTE4Hb4XQcmBQOrL21iMoqK6njKkvv/ptKpeI1dxVR5uL0QZduSD58LDxQXcHOuCxQxcXFtHLlSvrb1v9NXT/lHSfGOyBy+0rj0Oo/7f1a4NCq4BRcEpeFTXykox69Ey+wznccmCsckLGG9srYkDS88OL3yT/8MF26eIkam5rMIfPi4pWUEO/TX4fd94e+ej/BbOsrf/+q5+57YNBChY6/wFUer6Xs1Byi9RxXajdSP2gRGhBGuo4jbbY53Xbd3lDt1jDgBeAw54kLVU7yne844DhwYxxwgvuN8c+VniQOYDHAgiE/XS125hJ5Ww43M1bv5wNt7GIjoyn95lSzaxcTE6PBAwsxcMFp3BJHGn6/9YFHqGx5OZ37ZQXVvFlr4PUffKqHxZk9n9ttDq0iT9MoeJCOsHOOA44DgzkQamykpKQQxm9efp5RYzNj2RpG6+5ZTfmbcun5L//Y0yqUqY2FdlOsjY3UxPOy58eh68W41fHBVM6dFOFDX18fXbhwgaqqqqnyjQsBBuTfmkPr1q0N3KIr8AEAF3AccByYMA44wX3CWOsQTxYHcKFS9uoMc6BtQSe21lhwj4qljPVphDxxQy3MoRYefLLH4hUevYC6Grqo6XzzIFvvEN6f+/JL1NXWRTc95LMoI3U633HAcWDsHMABUgjrYbED0rq8cGussCLz6GMPm1tVX3v8jcClaRoGr+lhfNi1Yl4NrVp+mVIylA4O8tyLtWGX5kNLSwvVlNZS1fkaKj9S7btcjqH6oq5RbkYuRUREBFnKMgjcH8cBx4EJ5YAT3CeUvQ75RHAAC4sthBcuK6Rly5bRrbf2E8zJwcE6hTjAiwqLXpgkX9IAJ7glraCgwLwAzIsPo/1PvENtR/gwrK03w4hwGQzUZ+794nsErakTeARXIMMFHAccBwZxQMafZMiYRRxjSPK1agbyoFYDhxfnZbcsof//sz+g5mrfHQomw/+nn+X/ikNV9O8Pfpse+Mt7AzryenwCt4xZna7xzPQw+ChuqDaePHmKzv544GujefnhgheeukhnMsqoL6yXCgsLA/Obxiv4ne844Dgwvhxwh1PHl58O2wRzQBZUVCOLuFkseEGWPFxwhJ0g22kddr3AeC1cgltw/N/2zj3osqq806sFmqaB5tLY3KGh5aKCiCiKljdwBIFASByFqIxVU2NMasqJZLSS+UMr1vxlarTGmozX1KhJFejMaGCUCTpgMKMGI4iSclRQASPQKCLQQDeIzH7217/T77d67XP7zjnf2Wf/VtU5a++11+Vdz7q9e+211163bl1ife1vve389Io/OavaLkZXltust/34Wz61bMZPccU05bY8tM9MoJsEmtqD3gPRdbUhtWW1eVHj/OCjDkqv+Q+vTKde9uy057qsoaJ5Vj92nvnMuz5f/x64j21rdplSmkp/l6/FOyrl8d577k33PHDfUmarrz/z8v/T/KrDe+67L/3oRz9aBqIUxzIPPjEBE1gxASvuK0boCGZFQIN0bpO+BgyuaVCPcimM3DiPRufyp3PixTCjx44zx5xyVHr2S09Mr3j3WWnNphjDrmNm3flY09bbf77bTJTkVLy7QvnIBLpLQO0NArENxrasNhOv6ziSw+3ok45ML/29M9MlH7wwbT7jmHh52TG7Q/3lm/4q3Xr9d9OOHbu2llS82LlRG87d23Reytdu8ldd3/btu5jUX7HFE1vtVmbHo0vXVC64DRUvHm0GEohcB3q2h04RsOLeqeJe3MxqMI2dndyGzbUG6+g/xoc7y282bdqUXnHxy9Ih529I649ZF733jtnnnZdW7/72rhe6JI/snmcfmIAJ9JS+vB3G86gYRne1KbVXPqh26KGHpmefcVK99v3cK85uJMw7Ktf86d+m6z/01eLONDFuHTdG1qILkWVR7PyeBT2dX/WiL2bvfZeWIg6MZ8m7/0cgoHqm+jxCUHvtAAEr7h0o5EXPIgMHM3Nxdo48x4G9xKDpeu6uTlRxKL3zX3tBetabjk1ps64st1EIPvX2K9Nt136vKJviHaVzHsXvcmlmf9YmWWdPxymWCNC2ZPJjte+8fcof9Y316U899VT9BE7xYL/40hemt/31W9NhJzY8Jqv8fOtz3663d/3eV34Qg/b6FtInjZjeMo8tPFFeED3nitsLX/SCtPnZRy1/ulitPuJp44nP2ZJOP/10vNlMgID7ywlA7EgUVtw7UtDO5mgE1InGgU0xoBhs27Ytffsbt6at33ggrdm7UjY26+ruNjvO8NPAGO3dfTe7SCZsHTf79hUTWGwCsR3lx6Wco7SjvL/y31QfdiqZaiZ5+7Yd6X/8ydXp2j//csrXvqvNqf2R5iKZmD/li125TnvFqenMN70gHfqqQ5Z+Lz8kvfDi09NRW46qd/zBr5gonO3RCSxafRqdgEMMS8C7ygxLyv46R4DBiM5UAxoAOGd7yEcffTTd9qXvp/RgpURX331as6W6WCnwT99RLQzd+Sg5AuOlVWbgL37P+YkPx2BivNFvv2OFcSffj5KvdZFA3ibUVmARr6G488XVa6qbad5HWWaWXmlJ3/rv3053/N8fp4vfe3469gVH97wozhhf7+ICHJA/8iab5UbspX/S6Semrxx0Q9X3LXVuL3rJ6enAAw/s7eZD1hVmATBMPAuqN0S8qHVn4tAcYSMBK+6NaHyh6wTyzlYd7iOPPJL+8R+/lZ7+QTXKs2kFreixavZtfTXoPasa9O6s3Jfe21qGkBfhWPf+huprj+w7HQe6eLws0M4TrsuPjrkkmUphVtttnmVbbTZOfzoEVOdoIxidK7WHHnoo3fnjO6uPtd2ZNv3uQWnDLfunH/6fHxVvtnlPhaVurI9//iWn1u+3sK+84laci2TDK+aP86Wv2KZ03nnnFbMq/worG88cd9nAhp845OeRVZc5Oe+jEbDiPhov++4QgXxNazHrfOm72mXh6Xt3KgrrKvvMasCqlsk+nU3mEV47zlz+4cvq9baxI+e4n1Hnj63jfv59zQS6SKDUjnBj/fs1f3FtevifH0mP3189JqvMhnUb0sbjD0rbHnk07bjviSKuW2/5bnp878fTKS9/dv09BylbxLlI7VB5ET9s5VHXIiD50zWdy4/cdb6ItvLcjxP51vVBY4riI0wX+JFPm9EJeI376MwcogME+nWa7BO/YUO1qTErXtgunqfHzLBXv7XPWJv2P2qvdMzrD2/cho4lM2wXyfIZTCktOvDYiUd/Jf91RP4zARMoEnjiiSfq91L4+ucDP/xVeuxn2+vffbffXyvtR77usHT6Jc/bPWzVzLfe+Yv0y/sfTMQhs8htcNy8xXDxWMwW1c776VI+h+UxTFyl+O3WLQJW3LtV3s7tCATobEsdLh9j2rz52LRmc3X9gJ0R7lTc99t/33T2q85Ov/v6S9Ir//hlac1JzY+KeWH1q5/4ep2GFHXZEjN25ByX5JFf2ybQdQKxvUQWP//5z9Mdt99RfTa1cn24+nGzzfPmagTc8eAT6cdfuTuddtFz01v+6xvrZWyJZlsp7by7Ur98Xp3mZlHbIvmKO/iQb/VL0c55cE7YReVSym+TG5x4wqP6GLnkfHQtd1dY2U1p2b17BLxUpntl7hyPQIDOVB0nNufMuPPS1uv/6KK09e77q/Wyd6Wf/vM96eijjkjHVQr9lhO2pH322SdtOnKP9MY//e10w+e+mu6/7oGlWfks7Rs//rXEWtpz33lOWrvvXr208k48C+ZTEzCBAoHYXuNlFNHaoJBrRRpPzHZ+TGjpYrU5VPWxJnaeoV2efNEJaccT29NDv3g4bTpiU/2SJv7UH3C8yO10nLyNEwaOi2Ji3WjK04O/fDDdc+89afvj29Oee+xZjxfr16/vbTuah+s605yHz5fmHMzBBExgSAJS3vkQE19n3HPDM9Leh+2V1t+1tl7/uvlZRyc+/oLBz7FbjkmbX3hkWvPwmrT1ll8szfZlabFkZmu1u8Wb/+KN9Y4zw3T+WRQ+NQET6ENg7dq1acMB1RT6/pWnnU/H5H3PNXukpw56Kta9CNUAADO1SURBVD2119KOKez6xAup7B7F1q+PbHok8ZSNODBqn1aoRLDb9qB6oOt8mffJJ59MP/3ez9KPf/KT9JvHnk7PWL8mrd1jXTr40APrD/vJr+pYt8k6900EPOPeRMbunSdQ6jzlRgeLgn7CCSfUv7POesluvJjlQ3l/1ctenb65/pvpN5ufSL/45MO9Cb8YgJdWP3H5p+sdZ565ZWOtHKgTx188juF8bAImsJwAbUXtlCs80dp42MZ08MEHL23b+rNK+ebFcZbMVOapjU+lQ07bkPZYt3zl6NJuKnvWbXjJZ6qXP+iYNLrULiPTLuVb5V2yxUF1ITLCP9fl54EHHkj33nNv+uKHrk/p3uoir0xUT39+/C9+ko489bD0L9/w+p5fwrDURmGJq22Gd7m09XHbZJ93eZf3VPMureUzgRkSUKcrOyZNp9pk6Lzj+sat1Qtwt/6n76Wzn3tOOvGKzWm/k9YXg6JgsF0kCr/WmBY92tEETGAoArRFnmj91R9+Jt1/xy/Spf/+knT625+bnvnWavb9vKfTsX94eHrRv31eesvlb05HHVV9IbRSmDDx66u0Zf3UF8jfUEIsoKdcQV3ALI6UJdWHWD/kRkTUn5/cdle69uOV0n5n5cBTn51LtrZ9dXt6+EuPp5tu+uayG06Fbyvrm676VjWeXVXfOFe5tZkgAc+4TxCmo1p8AupMyWnsUHHXeW7TaaOUf+Zdn0/rj1mXtrzsuLSjmn3/4XU/2g0YH4eJce3mwQ4mYAIjE7jz5rvrnZz48NLJv3d8vV6dZQv7VmuLWULDUhi1bdqvjvOE5N7PTx7G5ybAMpltv3w0Pf3gTha8X4FBga/es3jkyUfSY48+VjstUt2i3X3o4o+mF1/6wvqLxZ6Br4t4xX9W3FeM0BF0lYAU9Jh/3GLHi9IezWN3b0+3/fT/pSPPOnxpO8mdj0vxc9qFp6Qtr9kcvbf6OHJodUYs/MIQ4CNod91y905F4uW75Ys6S5vVy6ycy0hp55zjeE1+bHebgOqE6opsvrT9m21VXWKJDCYq7tUQ8ZvHf5P4sB/hFWbJ42L8M/v+nS/eVivvKPE2KyPgpTIr4+fQHSJAhxp/ZD2el46LeKr++56v31u9lLRXWrdf1YPz9dXKrDthbdq6devSyZz9k7dRzThhRk3D/k2gREBtsXSNtbfsGsNMIIo8BoUJhR1by9QUB7bcSvHZzQSaCEiR37hxY9pwTLVpwat33gjyfsXOdyx4YXqfTevSc095Tm88IT6FbYq7be60u+s+cEP95OuuW35a5488Llo+Z1EuVtxnQdlpLCQBKaaylcl4rpk7XZNN9/3EY08mOrNUzbgceNyGtOm4Z9Y708gPdowruvvYBExgMIF+7UfL11iH+9B9D/eUpjxMfq5Um9x1fdHsmN94vGj5XEl+4CI2uUJ61Jaj0ste8aK03+n7pDWbqlT4TkBlH/qCQ9KzXn58Ouigg3phVyLDvIdlI4ZPvf3K9Nl3/03d7uZd3nmUz0tl5rFULFMrCKiDjsKW3JqU9164Sov/1U8eTrd9qlpC864jes4+MAETmD4Br8MdnjH9W66QDh+6Oz4jI47hdkyluB913BHpyV8/kX5+y4PpsV89ntYfuE86/ozN6ciTDk8bD97YHUBVTnnaxY/3ulg+4/Xvwxe/FffhWdmnCUyVAArERy79b3Un9vJ/fVbaZ8O6Or3SzcBUBXHkJtBBAl6HO1yhuz8ajlPuC2577LFHOu+889KDZz6YnnjyibTvvvsmfXwp+o+Kf3RfxGOWrbHzEwo873nZDCbgpTKDGdmHCcyUAArEf/mdj6VvfubmTjw6nSlcJ2YCfQhoHS7r31mHa2MC4xBASe93g7P/hv3rnY34wnbJH256r6J0fRyZ5jkMy9auft+19faRbneDS8qK+2BG9mECMycgBeJjb/6kFYiZ03eCXSeAIsE6XLZw5djGBCZJQB/3Yga+C4r5sOx46ky7Q4l3u2umZsW9mY2vmMCqE9CLPFYgVr0oLEAHCbAGl9l3HufXL5J3kIGzPB4BFHL9xouhu6FYOsOkFe2uyXRpOVHOYE2V+Z37E+WX5uscMeOd6Vc++vfp7//yG/MlpKUxgSkTWK0XefL2x04czI7YmEBXCPDy3LnvPKe4DjdvH5NiouFZY9/7znz/pKJ2PCbQCgIHHn5AOveKsxMfT4uG7VvVLmTH64t87Bn3RS5d523hCDADwUzEt6/5rnd3WLjSdYbmmQAz7lqH+8Ov37FM1GkpDtOKd5nwPjGBOSbAkhmeODNZdPvNP0q//nX1qdnKdLlttFJx1yzEHNc1i2YCUyNAR/a//uPf1i+vTi0RR2wCJlAkwJOmq/7oc4llbDYmYAKzIUC7+59/fE166F59uWo26c5jKq1R3OPdVTyeR6iWyQSmSqD62Oqmizamk19XPTpsxUK3qdJw5CYwUwJ8NOfoy45Iex+yV2/2b5qTSR7vZlq8TmyOCax7zdr0+JrH6qfNXW4X3sd9jiupRTOBSGDv/dam51/4vLTfc/dJ6w9Yn9atq/Z5XxN9+NgETGAaBGhmaw9bm8684Iy0dvOeab9NVfvbZ129ZR/pdVmJmAZvx2kCEFC7O/4lx6ZDNh6SNpyxPu2///49OF1td619OZWSu+eee9KXv3R92rr1vrTXWt+D9GqzD+aKwNO/2CNt+/L2FcnEZ7Kf91unpNdc+Opds+wzVNpLL99t3bo1/d1Xbkx33XVXnTe3wRUVsQNPicC27z+Z0rd3NZuRk9mj+iz9yw9Jz77whPTSl55Vf0RnlgpD3vZ27NiRrrrys/W4R14Wpd09+cSve3mJxyOXlwPMBYEVt7vqyfKa56T0okuel7Zs2ZKOP/74uu3NReZWWYjWKO6rzMnJm8DYBPigBHvTjmM2n3FMuug9r0sHHnbAXMyu50rEOHlyGBOYGYFqKdmNn/ha323l+snCp9j1FeNZKutRJi3DWa30oyw+NoGhCKyw3a3W7mlD5W0OPHmaeg4KwSKYQE6gaQus6G+WSrSUh5i+j01g7gmM+VSKG+bXvvPsdNiJ1YL2OTBW2uegECzC8ATGbHds+fiad7wybTz64OHT6qBPK+4dLHRnebYE2G92WMNe0czyMeOQm1kq6nnaPjeBLhAY5oa5CxycRxOYJQHa3cXvPT8d+4KjZ5lsa9NqpeKez/41KTS5v3FLaSWzHePI0JTeOHGNm+dSuCa5Sn6HdRs1T9OQAVmb5JhWeiU+p114Sv2BF5T3aJBN8iGPjvHD8SxllFxRBtwkQ+4u/9jxmvzH6zqO/uQ2yO4XX1PYcdJpiqsN7pNk1C+uWXGdpAyDbphVvv3SlJ9J2zFNsZWbzklTx7oW3SYtUxfiixxL+RXv0jW5DYoDfzGeYfwr7nHtmJ7iGJRuKYzCluxB8SkM7U7LYuQmmzT5EZfi07n8dNVupeKeF5YKFTtWMLnn/id9vmjpDOLTlN/IflAcut4Ul65P0m5Kq19n0BRmknLxWJ51tMe98Ng62hLHKEc8nqQc/eLK09R5SdameBSm6brch/Un/+Pas0pnXPmmEa6U535lWPKPXE3u05C5Kc5JycANM8oDs36Y2B/ouB+jJvmm5R7z3XQ8rbQd7y4Ckf0u19GPFI/sGMM06l0pHaVZuqY2ID+TsvVkGeW9KZ8leSaVfpvjWQjFnQJwAbe5Gi627M94RvlzCSgKKAzPu+C5iw3AuZsLAu4jlxdDfsO8/OryM9g1KRfLffrMBCZHYB7q3aRl6G24sPNGeXK0uhNTKxX3fgNQv2urUazzJs80GbQ1r7OWW4/lmXHgODezlidPf5TzXNb8fJS47Hd1CEy6zCYd3zhU+smgG2Zm2kumX9iS/1m6jSrbqP5nmRenNRyBeSjDSchAuzv3irMTL6DmZtj4h/WXx79o561U3EcpBM2STKLAp/XIaFrxwmkScU8ijlHKbJDcuTz5+ahpRf95XPl59DvOMZ0WnZcey48TR1vCTJrdrPKN3DKT6DcUV1t5SP5FsLWetnTDXMrfJMu/FL/dTGDRCWiiirZnMxkCC624awAe1Pn2G1DjtUHxjFskebySm/jya6OmsdLwk5BhVJn7pRnZKN5J5LEprkFxS55B/thW7twrzvFb8wI9xzZlqXKdlJiTjm9ScnUlnmncMKtMB7X9rjB2Pk0gJ9C04ULuz+ejEViIDzDddNW30g9uvKOX8/qDNdn6qU//wVW963vvt3d6459f0jvXQfRz0iufVW/Lp2vTtmPa87R/8LTzPen44XjnzXfX0XKH77v8lRP+zhf+KX3ni/+0LCK27Sqx5WNTN378a8v8HnoCNy1nL3ObxkmUc1ZpTiMfjnPlBN535vt7kfyrj1zmG+YeDR+YgAm0ncBCzLiv229dT1mjQLb+8P5lSxF+de9Dy67jB7e4XCH3c9oF5fWPhJ2GkbJJ3Du27ZhGEgsRJ4qhWFF+TetUFyKzc5KJvG0g1q/ueaiouH//727vlc+sxS/JOWsZBqWHjNxgyJRufnTNdjMB9wPNbHzFBExgsQkshOKev+xw580/XfYCBIp8bnLl/q4qTDR5nPGaj1ePAEq7ZnR5O92K++qUBQoov3jziyR33bL0tGN1pJr/VB+69+Fe/UVaK+7jlZn7gfG4OZQJmED7CSyE4s7LD6whvm+ngp4rD3KPxYVbVM7vDAoHcQ378lKM08erT+DyD1+6+kIssAQo6ijsmPzmFze1tegPdxsTmCWB93zz3bNMzmmZgAmYwMwILITiDi2UcCkNskWRx6oYFHKUju2P7KhmBpfPsMcZ96jQKw7C4Qcbpf7YFxxTx6frJTs+zuU6ysyxZxy92yxlKWx0Iz9x+cwBh2/oG0f0z1pf5MWNGxryDodSHmOa4+SXMD+48fZeGjBS2pJf8sS0omy4l/gi99bb7+8pjfjb/sj2uhx5Z4E8YWLexSm64af0WeXoJ8aH/6X6cnevfjHTX4oDv4tuDjxi6SM1lHX+ZCu2Ker5r76wpOD3YxLbSKncS2EpD+qZ2iJ1OZ/5L4XDLda1fu2RuJkdx6ge4cYyF8LFJz24q2+oA1R/pTpCXu/74VZ5qW0xy+tTjHNYLssirk5inVa7i/kfph+I/vvximkThvLBRA7KK+55fnGLaXFeyvew/UBMS3mPbnkbJz1M9KNyX7qytLxS5VySTf5sm4AJmMA0CSyU4q4lFACjA9bgoMHygGrAXbf/0np4rZPGL4MBA6VMVGq59tl3f764bpeB7A3VS65SGhWeAeia911bD0RyizaD/sXvOT86NR6jKFxdxSUzTNgvffCGnry8mHXrF25btq6WuBh4Lv/wZbvJPk5+ie+6D9yQeEk4GtJ445//Tr00QLzji2KkRd40yMewHDPo60VjlPZPvf3KZV7gjBv+NNMe884yBH7csCCfzDuu/v3dFL2PvfmTuly/SKkyLeWLekbezn3nOcsUuF4EC35w6M4b4PzJlsqYdsGvn6HMYRvbnfxTnk0vaNMervvg9XWblX/iadoTX36oK5991+cb03vD+y+py1T+SUf9CXWI/KgdIp8Ud/zIn8Ji40aYi997fq8fyusv/uSmGeJx2x9x5Sa2hVH7gVF5kXZJdjjQlugnlVf8Kr8KN+l+IKalPucfrmQTg6UbCsqGfiAaxowY7m1//daUDi/nS+GIpzQG6LptEzABE5g0gfInHSedygziY3BAmZKREoFiwICCwY+Uec4ZnDBRASEOKW2EQ6FTXLXn8Efcn/6DK3vx6FI/pR0/tfIRFEmFy23kQ0mRQS6UxVEMAyfp5Ya8IbvYcH3c/JaUW8X3mXd9rn6RMU+fc2TTQFq6DneUrZWa0y44dVkUeZr5ufx/pko7vxlRRLBC2SixlZ9FtTdXs+kYtR/lU7OVKPb9DExhW1LaCUe50+7y+CknmMc6q3SIs6msiIf4+qWXtwXFi014Ke3RHXmow02G9Or6HyYFmvziPm776xenro3SD4zLC4alvpL4+rXjWfUDzw8fXKJskCsaXqyWoa/lN80yUVq2TcAETGAUAgsz406mmSmXIiUlIr6Yqo5YgLiGG4/8ZeJsO4qABnsUemb1mG1jRw0GG67RsTOzpRlfBnMNCJqV1fICwmhg+84Xb+u7RR5xRGUCOZkhjzcnkrmfTXrI/OJLz6jCrktx1gnZkVezh+PkFwZRYUJOZihJSzP9pJMb3GI4wiAnhgFU1+DAjxsuZulgyA+Df3GvHRr+YEa5klcM5U1ZyuTlj3/qj/zjD0bPv/DUqry3V7Ld3CtHbqyIe9RyUdpttA878dCe2HDSzbCebKHYl8qcQJQlN3oy1BfKgjZCeMpWYVH2mPUU2xgOt9geqS/EXTK0TxlmSOsZ9Co92gbhSI+wHHMtN6oHlDPyEgdG9ZBjrr3ksqU6Rf8gRZ+4CY+s1F94xVndOPNM+qP2N6Q9jBmlHxiHF/1u5C8eeXvJZYUP+ZaZZj+gdqr6xYQN5SkTJ3BW0icqPtsmsBoEaIdampov91oNeZzm5AkslOK+uVpTLcVdSkQcTJgJVKcNSq6dVtksw5AhDpk4oMRlESgqDALvP+c/114ZFBlwGdCJXwooe8FrAMAjgxJ+MVGO2iH8Mdhd/We7ZhYZXMZR2okSmaJyi+wfuvijPQVBigJ+x8mvlBrCo0xFOUmLrTpjvPjDkK440blEhYlwMYw6oaWQ4/2fXJWXZJWtmOI5/jDc4MhQhnFpE2WvGWHKkfCxnBVuUW3KR4b6zDltSXUaxV71XP5kx3KlXtfLEXZeJB6xJS7qiNgSf6yrlAd+MTFc9MM1wkVZLv/IpT3Fm3DIwOw/hr4j1sPaceeflltEN25OVYeRRzcYxMu+90pXXGLY0nFkM2x/U4qn5DZsPzAur+/vvCkmbZjE72SoTIk7N7PuB5BFYwTf/tANPHJE+VS3plkmOYtpnsfvW5AO7S7etCjtcSZGFNZ2mUC/m/VyiJW5xiVy9GdNfdrKUnHo1SSwUIq7OluAMljSEdNoMAyq9UzZ4fVp/SeFXQMsjrxUhyFsHHDp2OMMG36IT4oCLy0deOHSS2tRiSN9FHHi04BB2H4mXw7AGkopBf3Cla5FWXSd2U3JLbdx81uarVac2C++7IxlSriuLd2M7NoBhvRR0CkLlZn8TsKGQ1wbjUJIfSFdsYCxeMXZN9LPyx6lTYYdiRRObotuo5zFsopPtlBcY5uKLGgnMlKadI5Nm4rKFeXDzXUsD/mJ4Sg7wkVFi+t5uH5tkHrAr+4nQuTUVfKUm3hDTDj6EyYMkLkp/3kcOifMOP2Nwg+yS/Wz1A+MyyuGK30Dg7LWU4go66z7AeRQHaCMYE7diTfv1CPqwLTLJHKY9XF8SjzrtJ3eyghQL+NTsdgPrSxmh24LgYVS3OmAGQio2BiUCR5bY9jhREZKR1Q8uEZYDdr5LG+uuCku2VL+OEfxvO4D1/fkkJ9h7TiAE+amK2/uu6xm2Hj7+Rs3vzGc2MV0Sm66DjOWP8RBU9emYUeFkBlCzqPCwblMLAMN9LqW29p9JHdf5HN26qD96MmWtlPVDHRT3mM70RKy3G+sM7q5juXRFI72m5sYjrQHtWPKMqZPfPEmLcZP3MTHsreYTvQz7HFsR4QZJGfkOGwaw/iL+RiFVwxXKp+Sm+QhnVn1A+rjxU9PdOIEhJ66zUuZiNMkbY19pRvSSabjuCZPgHpJ+TUZ+maZvC+Tu+12E1goxZ2iQPmS4o6tDjoO6lI68M86bJmo3MtN9iCFRA2EgUCP3gm7dDNxaNKWZIMGZKVHOA2GzCIyYxbzIH/TsofN77jpUy4sN1EeiYc0WTbDcqXS7Ny4aSkca9SlhGvmV+f4Kc0A4w73JuWN67Gj5LwLhnXs1EvKj3YmnvPMQm2xX/mwTeCwhndQ1NcQhnrCzlWwoV7Fa8PGKX/Tbn9Kp589aV6ltFajH6AvVT/MDSdjhiYPyHPp6QSyz0OZlBiO68ZyzHxnnXHjcrj5IXDuFWfPjzCWZCoEFlJxV6ccH5vHTjcqwFI4oHvyq3bNuOYKyLCPo5Q28TEAsFaVwQDDTHy8XjsW/pCP5TFRsWWnmrgeuBBsRU7j5pdwuvtn8MvX0zUte+EpgpR25Vc3P2RkGoo7s0ukgbLAD9mkXOEe6wXHunbuFecUl0qsCHjLA8edYyh3eGK040xT9iJXZutLM37iThy6TvtV26G+UXfUrpRWDCe35WV66LL3PeRnHJs8Kz3kYNtTyUp8rJ8exYzb/kZJYxi/4/KK5crL5ZEF6aqPyGVYjX4gKu6Uo2bYkS0+dZuXMsmZTeqcNssY2TRh0ZQObY+nTDyl0FMJyhuusQ9vCl9ypxyIT0/YiI82n9ejGBb5uUHWGMNNN/0Pu4LlfQPh8Kt+Cln1/hXhWd4V6wX+GcvwT7/Dk7i4RS3ukhkGmnCi/pTSJr5+Btm4iYxPb0tMkUV5UHzqFzX2xnw2MSTPtFPxlvwwyA3pESeG8sVPDA932tC4ec/T8/lgAgunuDOA0HCkFApB7IS1jp1ragSEiZ0E53Ewyjs44md/dxk1ag3muDPDGxtx0+ClOGSjKNJAUPqlwBJvLoP8T8IeN7+aeUUGZKSBq/HDiCVDJaMOg2s0+NjhqyMuhVupW+yco2ySWfHz9EVlyYuqsW7gh3JRJ6tOX2G7YFNe/GKnTr6jQl/iELky4OSDLIMhPxkpkrH9co22oIGK87ruVcpEbuJTNNof/hQnfqlrGvg4H/YGXXWDMLyMG+sH9V5LiLg+jBm3/Q0T9yh+xuUVyxWljvYkzrCivEpmNfoB6i0KjW4AY/nTZ8vMS5lInknZlA1tjHpaaoP90qEcCUPYaGCJOzcBtMs47kV/+THxlL6Tovgop/wbC5K7VKfIF3IgQ35DEl8Yp27iT+1Y7Rc3GcaluLObblJIN+5wJf+MfeS79H0U+SnZ+YvD8iMGzKArL1E++ZOb+sOYT/wobxzTX1/zvv9dvJFGfuKK354gDOOc0qA8MNJL6pPqD+4wjZtT6JrtyRNYOMUdRDQ43SFyTkcdOxKdx84nDliEwdBYVEFpqDRywmKIX0o/bhqkSEfxsgwHhWP7tu21f1X+OoIh/qRkKh3C54rOENEM7WWc/ErplozwomNjaQkdT5OJSxJo9OSVGRCO4971TeFx5/0FFC/iEv9+/rkmphyr05Y7tkx8qRaZ6FzVAZJmzBsfieqiQUmn3FX2tAO1jyYeDC5aE047+dBvf6RXp4kntlsGCeoXhnZF2ek6bYFyoEwIRxmp3cW083AMxGpD+JcshCH+YU3sT1DSJQtyIFtJllLc+KetkI9x2l8pzpW4jcsrthfyztNCyk8v5jfJtGr9QDXDqjasfoC6qzYueeehTCTLpGzySb5UT7GHWV5B2ysprFEu+n7Gu7gLV7yeH+fLzfLrlBFjStyliPFB/UDun3PqH3IynjS1afKsci/FgRtPufN2THvtxwD/5Imn44P6QtJADtVDzkuG9NBPGONKbUrKdClsdEM2ttjtl2/6Ur490XTzEbe6jXFzTLyUzbBln4f3+fAEFlJxj9tCgiLOsAtNvmVdfFwqP7WiELZ1K3UWDHQsa5FBKdBMAP5jGBpev0ajOKLN3a/2fa47pCk2jHHyi6zkP85MxDyieNHZ5YaPocgd/2xRKQNTOj0phHLHjp0h12FDxzXsTCnh83IgfIxX6aBk0rFi6FxLHSydVB62DtCBPziqDMluqZ3lGChblpUwOFCf+am9RL8wZaYtGp5AkR5hMHmZ5OWqsDFcU3qExd+whnpN3VAe1EYVvkkWHklHo/dh2M993PYX45vE8Ti8KC/agiY6kCO2l3nrB3RDGHmVlLx5KZMo5ySOUdxrJXtn++PGq18/Rl8bJ1ToM/WUmWsseVI7ZszT0ol+suIvjhVxZhllVfHR5vGn/iaOqeRDsuMnboWIvPRJpXzhlzzwtJQXp/N2idz4ofzJCzfXTMJxQypDHUJm4ufGXRtS0CfQNwyjwMa8MN5o1hymcaksDMg/4xxpxf5m2LEPmcgThn6YtDSJQfwwJ13kb1qay/W6r9y5fJTzeDNAPDbTJ/CM6Scx+xTyTpmKlpt8ZqVJ6aBRUMGp6LlZUhgvqyuyrsXOR25qJNyFx3j63bkrLHKSjgwNnYY7LTNqfpEDvuSNTk6dJDadalPnRRlxLfIgLuJ4x9+8fdmSi7ikhXCRB2FGNcgVTWn7Oq5T7sz0KE8xDG5cQ96umrwcSu2sxIY6zYxOiV1TWyEerlHP8vatssjdlTbhqFOl9PCD+6iPeEmTMHndgInagtJHAWGAw+A/r3/yhz1O+4vhJ3E8Li84st895UAcmKVB/uzex6ly+fC7Gv0A8uX1IT+XrPNQJpJlUjb5jzeqg8YiFDIUOgx1mJtqtXfOGfdi+7u1GqcGmbj3P+xju5BCrDi0+1eMl/SiP+RBLrVJ5G1SJPFDuZIu/ZHCKD1srlE3SQc/LOtSO4Yf1xSO6xdV5zJN6eq6bNJgnNFP7sSruOW2UpunizKkB2+1U/IYJyBR8KXkK4zs+M4XMhKXjOqIzm1Ph8CapysznagXL1Yqsta5cfetSt+UUxTsUZZxNMWzWu6j5rckJw1ZH6rieulDNkqHzm9YQweqNeazYBzTY3Zm0p3qsPleRH+6ER21HMdtX0oPlqPUuSb2qhvD9AmKg3YR13eX5FC7IMwocSuNSdmT4IUio6cLyBW/GCs5ld8SC/nJbbHHfdT6k8c1zLlkxO9qlskwskY/cR11VBKZ1SVPGPpmnpLoKSM3oSi3GMpOyigKHwpzbmIZ0z8O2rEmfgiQSZCo+Odx65yxRMphU5g4Wy/lm/BNDBQ39vvOfH/vNB+r4CI2jP3xC9IKFJ8ycQPPzQTtJ86QN9X9evvqalyjPHSseGOZDYqvlE/ijE8L3n39vyvqL7E+cGMCv0HpDbquPNieHIGFXCozOTzLY9IMw3LX5rNRBqDmWFbvyjD5pbO+6aqbe0LmLxLFu3w8lZgMk04vgZ0HDAyzVJ5nnV6e30U+L9WJYfI763BNMo1TNxj4B8k/TrtoknEl7oPkJG4UGgZwDDe2DPrRxJnS/EmN/I2T33HYK71x7HFkHCedWYVh9lRKJU82m5RnTVghV9OEVdwylxuqQSb6iWH7hZPSjp+mMFE+Te70i3Oca8gRlfRSHJFZ6TpuKNQsS9HNU5O/lbrnskRGMe7INJZP9OPj1SdgxX31y6DVEvCCYuzAuGPnLh1Dw49r+OTe6gxbeBMwgd0IoEDfePOuHTlQmKTwo9DHPqJpadpukdph6gQoI5R1JmBQHqNivJLEmxTDlcQ5TliewkzDUN8HjWeldfNRFljHd8NgxprzA4/YULWdY5at14/hZnU8L2U4q/y2KR0r7m0qrTmUlQ6M2TW9lIayrseJUVxmquKaynjNxyZgAu0mgBLDPtS6UUdRj8q6coe/QQqP/NqeDQGWvWgZTNMsKwq+yhO/cV2zpGRfcJnSMhJdk82YoJnm0jcdGFM0Y/7iS8+obzB4WiM5St8LIG7lheNJPiEhbY1tKLUlBqQ5rEFO3SgxjrK0ZlrKsm6iJRtp509X8qcIw5Sh4rM9WwIL+XLqbBE6NQZi1gNi0wHJcEzngGI/zU5J6dk2ARNYPQK0c360+aiAoDypj+C6zXwRoJ8epIRGJQ9lWwqscoIiqF1gcDvplc/SpUY7bsFMfFLiCcANID/dAOr7EDFe0tPyLCXC+vYYT5Rbfsa1UX5Vr0lDN6mKD3lYI88vvtel67kdb5LY2UZx44/4dYOShxv3PLKAU0wfpT1+lwZZcmV/3HQdbvIEPOM+eaZTjbHu0KotKjG8HFV6SWhSAozy0gmN3A19UuQdz2oQYDDTC6PT/qjWKG1rNViMmyYKOj+bdhHghVMUT80A59Jz8yU/XEPRZixC4cz36pffPI78fNi9/+OEEDKQrpRz1ueTHmuz2WM8KqP45dokDXHqpoUnAjAj7ZwB/gaZOMmFkk68zOrzJCF/N6xfXPRbKNqDbr7QFdidhzKGEy8H630TnnjEsvcNdj/iq3/Nivvql8FIEtDgJnknTieozo5GbOV7pOKw5wUigNKutjWJduC2tUCVY8GzIsUPJbDJoPgxVmgpCscaOxQGRTluKyj3ko3iioKoZZb4UfuTf+LLl1gSf9w7XEq8wmAzuzyNSS2U4/jORiltbjQGKdGSkfwpDhR33RTAhicSYh2VaibsouHmATMoTeKM39AgTM4bN7jF2XncbOaLgBX3+SqPmUvT7/PIMxfGCZrAAhFw21qgwmx5VqKyF2d6Y7aYJb7z5p8u2/I4XueYLRhRJtklSLO3uDPpM85TKpRclsGgfN5Vpa0bgX7xIT/fUECO2MaWlnccU38zoHTjPQwDzUCTp6YXW9kik5vymHY/BsQT48UvBnnJBx+KUt5R5FGaKQv4ajcY7SFP3glHOaDkS+lfinHpv18+4cKyVeSHn8ITL9+yQfnP60eT/Epz0HX5sz05At7HfXIsZxJTvCunM9A+u+MmXtrzddy4HM4E2kxg0m1h0vG1ma1lNwETMAETmAyBhZxx565dd7DcnfJ2dOkOPCLkURR3uPkdaH73SRj8ai0sd5vcJePGujRs7lqRQW/E64M9uHGnS5z5OtD4+I34eEyG7OOYGBfhdTcd8yL5WJsnU3Ortm6TvDGf+GliCLN89qXJr9IlPqVTp7tztgUZmXEYN+/EazM9ArGsKStmy6iv/UwsX/z1q9+xzk2ibRFfbNfc7DbVzX554FoeF26lvKiOz7ptUTaaoWPWjTYUywtZ/QicUrMxARMwgfYSWCjFnYGV9XJaFxaLBSWjae0Ws9hNL+agYLPGLiqSKO36aAWKwGvfefay/VhR3FHQtV5Nj5+0lo8wUtzxx6MyZM8Nj8tGWafHIN3vYw6kqZdOonxKFzd+yMsv5hM/+RffSO9LH7xht3Vy5LuJd0w35yI5sJFTjKK7j1eHQL+6pTaQK/DUaeo2ZZ4b2hP1mzoQTaxzijfudYz/fnUoti3W62r9p9KgbpI2bXqU+kWfQvsttVPiQy7yg4nyKV3c+OGPX8wnfibRtmJbZJenW79w227skZXH83lZSU7bJmACJmAC801gYbaDZEBlgC8p7RQBs2B8tpnZ6GhwYzAvDcj4Y7Dlo0JN15lV40WZpuvEgdIjpZ1zGZSKJmUAP7ou/4Psfko7YclLv5ePBsUfr5MnuJRebsGfeOeKU4yDsihxwQ/ueVnFsD6eHQHKmraFXTLUgahc44f2QP2gzpUM12l3tL8ms5K2RbxNdY+0qV9NsuXyUJf7tVPio1019T15fIPOJ9G2YFvKH7LmZTVIHl83ARMwAROYHwILM+POIB0VC2a1mH1j8GdQZfDFXP1n16Z3XP379TFh4mDLY+TnV7PSbO/Elkwa+DVw80JIbpRmv8fQSoP48cdstBQXxYesfGSCtONMGYPv8y88deDjfdKQLJpRZKsuDIO4FGyW8zCLr5m/cdbhIjs3KzKacWRJEltyxbKAPct+SjN8yAQLZEFWzpFVBg7jLmtQHLZXToCZXMocE+sWW4hRXlzjx+y6nuig6KrNEY7Z6JNfdULlb3v9YpvaBDb1RbPV+JVRfR61bXHDp/iJi5l12hBp33TVzb22gLzDLMu66cqb6/wRF7JQX7UFXOxbeGGP+OalbcU+5R+u3NXXUVbwGeWJA3m3MQETMAETWH0CC6O4x9klDZzCyyCrpS0oE/xQGBmQZVAc4rIUFMbN1VvWmhFkoFM4hZGdpyf3aPPoOiqhKCtShpAlvmSKv3X7revdOAyjwBIXAzWGj1TEQRn5pLgrzSjbqMdiQTgUOd5SJw8YZCdtZluleJFXKXS1p/B3+UcuXRYWxipLvSMQvPtwxgQoD9UdkmY7MdVjbOqTbrZ4rwRDmKg4c8OLQivDMQov9QJDOywp7lwbp22pzRKeuhjrHmmrbiL7sAqs2hbyKP/ETx1X/rW+HPdxzaTaVqlPYd9mygYje1w5Hc4ETMAETGB1CCyE4s4AHAeiqLSClYEWxVkGpRj/MQwfg8gNgzwDoPxtrQZpKajRb5PSIT/M0sXBHne23ZJhtlmDv9y2b9v10qgUIl0r2eQ55ptZR2YYUSykCJfCjePGp81lxEjnsmHCrCsGbiWDMpTzzM9L4ew2OwKx7CibvB5TzlJqJVWsr4ShjuQmfnyF9kUb5iYwN+O0LV5GjSZvW9zIy1CXY7uRe7TjDT1y0rZ4slS3reoJ1iTNpNpWKU/0M+rLJimz4zIBEzABE5gdgYVQ3HnRK5qS8pcrHMOEIc442DFQl5SQksIR5YmKgtzj7BwzmnFWU35kDzvYolBc94HrezPdCj9pO86El1iTHtxk4GbTTgKx7GKZKjfU/bxtxfpaCkPYvN7QHvN48DdO20K5lhl00xrrssKUbJ4O8GQg5q3kb6VuUZ6ckeKOTGP56LptEzABEzCBxSWwEIp724uHAToOxuPkh0fscYkACg9rzrUtXD7rOE4aDmMCbSPA067SjbPyET9WIrfcjst6uKb2yo0Givygm4M8Pp+bgAmYgAmYwLgEFkJxZz/waBhM89mqqLjyGDkfsJm5YpDPDS/gyeRLAuQ+jk36mmVHHtbOrsTk+YtbWDITH6+vJB3CRtmbZvymxW2lsjv8aARiO2J5SG5yxZV6HNtRrAcxbF5vSrPt0f8ox6Sv+M+94pziTP6w8TF7r7X4hGHZTFy+M8l2RfxuW1CwMQETMAETaCKwENtB1jNg1ay1TD6YMvDixo9j/C/NSO9S1Nk5IzfMtMXH7rmyn/sf5ZwXX2WYsYvp4I6c7PjCDzkGGSkq+GMHjbjEQDcIg+IY9nqUnZl+bgyiQZmLZTBJbjEdH0+fAJ/BlsmVdNypm2pbqoPsIiRDvY51AXfcYnuLir7CrcSO6bObSm5490Jta9Bseb6kLirtxJvX/TytUc/dtkYlZv8mYAIm0C0CCzHjTpExay0FgcGYtaKlR9lx4GU2TrvNoNyy64Je6mJAjgovM4lRGV5pNdFLnShD/NjpQmnnCtJpF5wyMDlkk/LPLjQoy7zgCgtxGRQJihf51hdNm/wjO08fxAeGyM4NETLoC7KER66VPk1oksPu0ydAmcayRunlBUrc8zbyksuWPkCkMle9w8avZtWpk9RxGdrhJE188ZUbS5R0pZ3LfNF7Xtc3ab7eGg031PQhtBXypTYQ/ZSO3bZKVOxmAiZgAiYwKoGFUdwZTBmkNevHgJoPqszsRcWdwZxH35rRRpmQshFBoqhOQ/m8+L3n924cmtJGIZZCH2XKj0+74NTeI30UI34ycemA3GTHZUbw40deB+X3De+/pL7ZkAIW01PcKHBsH4ht014C+ZeBS2VNHZVyTE6pP7RF6hOm1B5xp/3FcLit1HBTQfpqy01ps00kfvsZ2k5sP/QV6i8IF6/l8bht5UR8bgImYAImsFICC7FUBggoh3zKG8U8VxQ5ZyDnen4N/+wzXVq/zqDO4F768NJKwRMehYU90EtpS+a4B3W/NPO1t/hVHKQR8x0VD/I/SHkppUt8xFvijX8UOa5PWikryWK36RJAOaUsSzsqqY2U6inthnpZql/UebZopf5Mw9DeSb+UNm5cG+aGGNnoN/I2qjguqvoHGW4QdKOCm9uWyNg2ARMwAROYFIE1T1dmUpHNUzzM9rHlIo+6UTyGMSzz0JrWQctFholvFD8x7VFkLqXBcoBR4xAv4hsn7zG8lfVSqSyOG/ULM0o94cmMtjpkGVe8kZw2mZj2KDLncqmNjhpHbBujhkWGGN5tKy8Vn5uACZhAtwgsrOLerWJ0bk3ABEzABEzABEzABBadwMIslVn0gnL+TMAETMAETMAETMAEuk3Ainu3y9+5NwETMAETMAETMAETaAkBK+4tKSiLaQImYAImYAImYAIm0G0CVty7Xf7OvQmYgAmYgAmYgAmYQEsIWHFvSUFZTBMwARMwARMwARMwgW4TsOLe7fJ37k3ABEzABEzABEzABFpCwIp7SwrKYpqACZiACZiACZiACXSbgBX3bpe/c28CJmACJmACJmACJtASAlbcW1JQFtMETMAETMAETMAETKDbBKy4d7v8nXsTMAETMAETMAETMIGWELDi3pKCspgmYAImYAImYAImYALdJmDFvdvl79ybgAmYgAmYgAmYgAm0hIAV95YUlMU0ARMwARMwARMwARPoNgEr7t0uf+feBEzABEzABEzABEygJQSsuLekoCymCZiACZiACZiACZhAtwlYce92+Tv3JmACJmACJmACJmACLSFgxb0lBWUxTcAETMAETMAETMAEuk3Ainu3y9+5NwETMAETMAETMAETaAkBK+4tKSiLaQImYAImYAImYAIm0G0CVty7Xf7OvQmYgAmYgAmYgAmYQEsIWHFvSUFZTBMwARMwARMwARMwgW4TsOLe7fJ37k3ABEzABEzABEzABFpCwIp7SwrKYpqACZiACZiACZiACXSbgBX3bpe/c28CJmACJmACJmACJtASAlbcW1JQFtMETMAETMAETMAETKDbBKy4d7v8nXsTMAETMAETMAETMIGWELDi3pKCspgmYAImYAImYAImYALdJmDFvdvl79ybgAmYgAmYgAmYgAm0hIAV95YUlMU0ARMwARMwARMwARPoNgEr7t0uf+feBEzABEzABEzABEygJQSsuLekoCymCZiACZiACZiACZhAtwlYce92+Tv3JmACJmACJmACJmACLSFgxb0lBWUxTcAETMAETMAETMAEuk3Ainu3y9+5NwETMAETMAETMAETaAkBK+4tKSiLaQImYAImYAImYAIm0G0CVty7Xf7OvQmYgAmYgAmYgAmYQEsIWHFvSUFZTBMwARMwARMwARMwgW4TsOLe7fJ37k3ABEzABEzABEzABFpCwIp7SwrKYpqACZiACZiACZiACXSbgBX3bpe/c28CJmACJmACJmACJtASAlbcW1JQFtMETMAETMAETMAETKDbBKy4d7v8nXsTMAETMAETMAETMIGWELDi3pKCspgmYAImYAImYAImYALdJmDFvdvl79ybgAmYgAmYgAmYgAm0hIAV95YUlMU0ARMwARMwARMwARPoNgEr7t0uf+feBEzABEzABEzABEygJQSsuLekoCymCZiACZiACZiACZhAtwlYce92+Tv3JmACJmACJmACJmACLSFgxb0lBWUxTcAETMAETMAETMAEuk3Ainu3y9+5NwETMAETMAETMAETaAkBK+4tKSiLaQImYAImYAImYAIm0G0CVty7Xf7OvQmYgAmYgAmYgAmYQEsIWHFvSUFZTBMwARMwARMwARMwgW4TsOLe7fJ37k3ABEzABEzABEzABFpCwIp7SwrKYpqACZiACZiACZiACXSbgBX3bpe/c28CJmACJmACJmACJtASAlbcW1JQFtMETMAETMAETMAETKDbBKy4d7v8nXsTMAETMAETMAETMIGWELDi3pKCspgmYAImYAImYAImYALdJmDFvdvl79ybgAmYgAmYgAmYgAm0hIAV95YUlMU0ARMwARMwARMwARPoNgEr7t0uf+feBEzABEzABEzABEygJQSsuLekoCymCZiACZiACZiACZhAtwn8f9nGzYkRAaMgAAAAAElFTkSuQmCC)"
      ],
      "metadata": {
        "id": "srPFGfl0kDh9"
      }
    },
    {
      "cell_type": "code",
      "source": [
        "df.corr()"
      ],
      "metadata": {
        "colab": {
          "base_uri": "https://localhost:8080/",
          "height": 552
        },
        "id": "Bb4hKWoZkD2T",
        "outputId": "79f45cc5-4d1e-4605-8fa9-88e8b16c8a06"
      },
      "execution_count": null,
      "outputs": [
        {
          "output_type": "execute_result",
          "data": {
            "text/plain": [
              "             crim        zn     indus      chas       nox        rm       age  \\\n",
              "crim     1.000000 -0.200469  0.406583 -0.055892  0.420972 -0.219247  0.352734   \n",
              "zn      -0.200469  1.000000 -0.533828 -0.042697 -0.516604  0.311991 -0.569537   \n",
              "indus    0.406583 -0.533828  1.000000  0.062938  0.763651 -0.391676  0.644779   \n",
              "chas    -0.055892 -0.042697  0.062938  1.000000  0.091203  0.091251  0.086518   \n",
              "nox      0.420972 -0.516604  0.763651  0.091203  1.000000 -0.302188  0.731470   \n",
              "rm      -0.219247  0.311991 -0.391676  0.091251 -0.302188  1.000000 -0.240265   \n",
              "age      0.352734 -0.569537  0.644779  0.086518  0.731470 -0.240265  1.000000   \n",
              "dis     -0.379670  0.664408 -0.708027 -0.099176 -0.769230  0.205246 -0.747881   \n",
              "rad      0.625505 -0.311948  0.595129 -0.007368  0.611441 -0.209847  0.456022   \n",
              "tax      0.582764 -0.314563  0.720760 -0.035587  0.668023 -0.292048  0.506456   \n",
              "ptratio  0.289946 -0.391679  0.383248 -0.121515  0.188933 -0.355501  0.261515   \n",
              "b       -0.385064  0.175520 -0.356977  0.048788 -0.380051  0.128069 -0.273534   \n",
              "lstat    0.455621 -0.412995  0.603800 -0.053929  0.590879 -0.613808  0.602339   \n",
              "medv    -0.388305  0.360445 -0.483725  0.175260 -0.427321  0.695360 -0.376955   \n",
              "\n",
              "              dis       rad       tax   ptratio         b     lstat      medv  \n",
              "crim    -0.379670  0.625505  0.582764  0.289946 -0.385064  0.455621 -0.388305  \n",
              "zn       0.664408 -0.311948 -0.314563 -0.391679  0.175520 -0.412995  0.360445  \n",
              "indus   -0.708027  0.595129  0.720760  0.383248 -0.356977  0.603800 -0.483725  \n",
              "chas    -0.099176 -0.007368 -0.035587 -0.121515  0.048788 -0.053929  0.175260  \n",
              "nox     -0.769230  0.611441  0.668023  0.188933 -0.380051  0.590879 -0.427321  \n",
              "rm       0.205246 -0.209847 -0.292048 -0.355501  0.128069 -0.613808  0.695360  \n",
              "age     -0.747881  0.456022  0.506456  0.261515 -0.273534  0.602339 -0.376955  \n",
              "dis      1.000000 -0.494588 -0.534432 -0.232471  0.291512 -0.496996  0.249929  \n",
              "rad     -0.494588  1.000000  0.910228  0.464741 -0.444413  0.488676 -0.381626  \n",
              "tax     -0.534432  0.910228  1.000000  0.460853 -0.441808  0.543993 -0.468536  \n",
              "ptratio -0.232471  0.464741  0.460853  1.000000 -0.177383  0.374044 -0.507787  \n",
              "b        0.291512 -0.444413 -0.441808 -0.177383  1.000000 -0.366087  0.333461  \n",
              "lstat   -0.496996  0.488676  0.543993  0.374044 -0.366087  1.000000 -0.737663  \n",
              "medv     0.249929 -0.381626 -0.468536 -0.507787  0.333461 -0.737663  1.000000  "
            ],
            "text/html": [
              "\n",
              "  <div id=\"df-e5783311-1492-460f-b0f3-0f0a9546abb2\">\n",
              "    <div class=\"colab-df-container\">\n",
              "      <div>\n",
              "<style scoped>\n",
              "    .dataframe tbody tr th:only-of-type {\n",
              "        vertical-align: middle;\n",
              "    }\n",
              "\n",
              "    .dataframe tbody tr th {\n",
              "        vertical-align: top;\n",
              "    }\n",
              "\n",
              "    .dataframe thead th {\n",
              "        text-align: right;\n",
              "    }\n",
              "</style>\n",
              "<table border=\"1\" class=\"dataframe\">\n",
              "  <thead>\n",
              "    <tr style=\"text-align: right;\">\n",
              "      <th></th>\n",
              "      <th>crim</th>\n",
              "      <th>zn</th>\n",
              "      <th>indus</th>\n",
              "      <th>chas</th>\n",
              "      <th>nox</th>\n",
              "      <th>rm</th>\n",
              "      <th>age</th>\n",
              "      <th>dis</th>\n",
              "      <th>rad</th>\n",
              "      <th>tax</th>\n",
              "      <th>ptratio</th>\n",
              "      <th>b</th>\n",
              "      <th>lstat</th>\n",
              "      <th>medv</th>\n",
              "    </tr>\n",
              "  </thead>\n",
              "  <tbody>\n",
              "    <tr>\n",
              "      <th>crim</th>\n",
              "      <td>1.000000</td>\n",
              "      <td>-0.200469</td>\n",
              "      <td>0.406583</td>\n",
              "      <td>-0.055892</td>\n",
              "      <td>0.420972</td>\n",
              "      <td>-0.219247</td>\n",
              "      <td>0.352734</td>\n",
              "      <td>-0.379670</td>\n",
              "      <td>0.625505</td>\n",
              "      <td>0.582764</td>\n",
              "      <td>0.289946</td>\n",
              "      <td>-0.385064</td>\n",
              "      <td>0.455621</td>\n",
              "      <td>-0.388305</td>\n",
              "    </tr>\n",
              "    <tr>\n",
              "      <th>zn</th>\n",
              "      <td>-0.200469</td>\n",
              "      <td>1.000000</td>\n",
              "      <td>-0.533828</td>\n",
              "      <td>-0.042697</td>\n",
              "      <td>-0.516604</td>\n",
              "      <td>0.311991</td>\n",
              "      <td>-0.569537</td>\n",
              "      <td>0.664408</td>\n",
              "      <td>-0.311948</td>\n",
              "      <td>-0.314563</td>\n",
              "      <td>-0.391679</td>\n",
              "      <td>0.175520</td>\n",
              "      <td>-0.412995</td>\n",
              "      <td>0.360445</td>\n",
              "    </tr>\n",
              "    <tr>\n",
              "      <th>indus</th>\n",
              "      <td>0.406583</td>\n",
              "      <td>-0.533828</td>\n",
              "      <td>1.000000</td>\n",
              "      <td>0.062938</td>\n",
              "      <td>0.763651</td>\n",
              "      <td>-0.391676</td>\n",
              "      <td>0.644779</td>\n",
              "      <td>-0.708027</td>\n",
              "      <td>0.595129</td>\n",
              "      <td>0.720760</td>\n",
              "      <td>0.383248</td>\n",
              "      <td>-0.356977</td>\n",
              "      <td>0.603800</td>\n",
              "      <td>-0.483725</td>\n",
              "    </tr>\n",
              "    <tr>\n",
              "      <th>chas</th>\n",
              "      <td>-0.055892</td>\n",
              "      <td>-0.042697</td>\n",
              "      <td>0.062938</td>\n",
              "      <td>1.000000</td>\n",
              "      <td>0.091203</td>\n",
              "      <td>0.091251</td>\n",
              "      <td>0.086518</td>\n",
              "      <td>-0.099176</td>\n",
              "      <td>-0.007368</td>\n",
              "      <td>-0.035587</td>\n",
              "      <td>-0.121515</td>\n",
              "      <td>0.048788</td>\n",
              "      <td>-0.053929</td>\n",
              "      <td>0.175260</td>\n",
              "    </tr>\n",
              "    <tr>\n",
              "      <th>nox</th>\n",
              "      <td>0.420972</td>\n",
              "      <td>-0.516604</td>\n",
              "      <td>0.763651</td>\n",
              "      <td>0.091203</td>\n",
              "      <td>1.000000</td>\n",
              "      <td>-0.302188</td>\n",
              "      <td>0.731470</td>\n",
              "      <td>-0.769230</td>\n",
              "      <td>0.611441</td>\n",
              "      <td>0.668023</td>\n",
              "      <td>0.188933</td>\n",
              "      <td>-0.380051</td>\n",
              "      <td>0.590879</td>\n",
              "      <td>-0.427321</td>\n",
              "    </tr>\n",
              "    <tr>\n",
              "      <th>rm</th>\n",
              "      <td>-0.219247</td>\n",
              "      <td>0.311991</td>\n",
              "      <td>-0.391676</td>\n",
              "      <td>0.091251</td>\n",
              "      <td>-0.302188</td>\n",
              "      <td>1.000000</td>\n",
              "      <td>-0.240265</td>\n",
              "      <td>0.205246</td>\n",
              "      <td>-0.209847</td>\n",
              "      <td>-0.292048</td>\n",
              "      <td>-0.355501</td>\n",
              "      <td>0.128069</td>\n",
              "      <td>-0.613808</td>\n",
              "      <td>0.695360</td>\n",
              "    </tr>\n",
              "    <tr>\n",
              "      <th>age</th>\n",
              "      <td>0.352734</td>\n",
              "      <td>-0.569537</td>\n",
              "      <td>0.644779</td>\n",
              "      <td>0.086518</td>\n",
              "      <td>0.731470</td>\n",
              "      <td>-0.240265</td>\n",
              "      <td>1.000000</td>\n",
              "      <td>-0.747881</td>\n",
              "      <td>0.456022</td>\n",
              "      <td>0.506456</td>\n",
              "      <td>0.261515</td>\n",
              "      <td>-0.273534</td>\n",
              "      <td>0.602339</td>\n",
              "      <td>-0.376955</td>\n",
              "    </tr>\n",
              "    <tr>\n",
              "      <th>dis</th>\n",
              "      <td>-0.379670</td>\n",
              "      <td>0.664408</td>\n",
              "      <td>-0.708027</td>\n",
              "      <td>-0.099176</td>\n",
              "      <td>-0.769230</td>\n",
              "      <td>0.205246</td>\n",
              "      <td>-0.747881</td>\n",
              "      <td>1.000000</td>\n",
              "      <td>-0.494588</td>\n",
              "      <td>-0.534432</td>\n",
              "      <td>-0.232471</td>\n",
              "      <td>0.291512</td>\n",
              "      <td>-0.496996</td>\n",
              "      <td>0.249929</td>\n",
              "    </tr>\n",
              "    <tr>\n",
              "      <th>rad</th>\n",
              "      <td>0.625505</td>\n",
              "      <td>-0.311948</td>\n",
              "      <td>0.595129</td>\n",
              "      <td>-0.007368</td>\n",
              "      <td>0.611441</td>\n",
              "      <td>-0.209847</td>\n",
              "      <td>0.456022</td>\n",
              "      <td>-0.494588</td>\n",
              "      <td>1.000000</td>\n",
              "      <td>0.910228</td>\n",
              "      <td>0.464741</td>\n",
              "      <td>-0.444413</td>\n",
              "      <td>0.488676</td>\n",
              "      <td>-0.381626</td>\n",
              "    </tr>\n",
              "    <tr>\n",
              "      <th>tax</th>\n",
              "      <td>0.582764</td>\n",
              "      <td>-0.314563</td>\n",
              "      <td>0.720760</td>\n",
              "      <td>-0.035587</td>\n",
              "      <td>0.668023</td>\n",
              "      <td>-0.292048</td>\n",
              "      <td>0.506456</td>\n",
              "      <td>-0.534432</td>\n",
              "      <td>0.910228</td>\n",
              "      <td>1.000000</td>\n",
              "      <td>0.460853</td>\n",
              "      <td>-0.441808</td>\n",
              "      <td>0.543993</td>\n",
              "      <td>-0.468536</td>\n",
              "    </tr>\n",
              "    <tr>\n",
              "      <th>ptratio</th>\n",
              "      <td>0.289946</td>\n",
              "      <td>-0.391679</td>\n",
              "      <td>0.383248</td>\n",
              "      <td>-0.121515</td>\n",
              "      <td>0.188933</td>\n",
              "      <td>-0.355501</td>\n",
              "      <td>0.261515</td>\n",
              "      <td>-0.232471</td>\n",
              "      <td>0.464741</td>\n",
              "      <td>0.460853</td>\n",
              "      <td>1.000000</td>\n",
              "      <td>-0.177383</td>\n",
              "      <td>0.374044</td>\n",
              "      <td>-0.507787</td>\n",
              "    </tr>\n",
              "    <tr>\n",
              "      <th>b</th>\n",
              "      <td>-0.385064</td>\n",
              "      <td>0.175520</td>\n",
              "      <td>-0.356977</td>\n",
              "      <td>0.048788</td>\n",
              "      <td>-0.380051</td>\n",
              "      <td>0.128069</td>\n",
              "      <td>-0.273534</td>\n",
              "      <td>0.291512</td>\n",
              "      <td>-0.444413</td>\n",
              "      <td>-0.441808</td>\n",
              "      <td>-0.177383</td>\n",
              "      <td>1.000000</td>\n",
              "      <td>-0.366087</td>\n",
              "      <td>0.333461</td>\n",
              "    </tr>\n",
              "    <tr>\n",
              "      <th>lstat</th>\n",
              "      <td>0.455621</td>\n",
              "      <td>-0.412995</td>\n",
              "      <td>0.603800</td>\n",
              "      <td>-0.053929</td>\n",
              "      <td>0.590879</td>\n",
              "      <td>-0.613808</td>\n",
              "      <td>0.602339</td>\n",
              "      <td>-0.496996</td>\n",
              "      <td>0.488676</td>\n",
              "      <td>0.543993</td>\n",
              "      <td>0.374044</td>\n",
              "      <td>-0.366087</td>\n",
              "      <td>1.000000</td>\n",
              "      <td>-0.737663</td>\n",
              "    </tr>\n",
              "    <tr>\n",
              "      <th>medv</th>\n",
              "      <td>-0.388305</td>\n",
              "      <td>0.360445</td>\n",
              "      <td>-0.483725</td>\n",
              "      <td>0.175260</td>\n",
              "      <td>-0.427321</td>\n",
              "      <td>0.695360</td>\n",
              "      <td>-0.376955</td>\n",
              "      <td>0.249929</td>\n",
              "      <td>-0.381626</td>\n",
              "      <td>-0.468536</td>\n",
              "      <td>-0.507787</td>\n",
              "      <td>0.333461</td>\n",
              "      <td>-0.737663</td>\n",
              "      <td>1.000000</td>\n",
              "    </tr>\n",
              "  </tbody>\n",
              "</table>\n",
              "</div>\n",
              "      <button class=\"colab-df-convert\" onclick=\"convertToInteractive('df-e5783311-1492-460f-b0f3-0f0a9546abb2')\"\n",
              "              title=\"Convert this dataframe to an interactive table.\"\n",
              "              style=\"display:none;\">\n",
              "        \n",
              "  <svg xmlns=\"http://www.w3.org/2000/svg\" height=\"24px\"viewBox=\"0 0 24 24\"\n",
              "       width=\"24px\">\n",
              "    <path d=\"M0 0h24v24H0V0z\" fill=\"none\"/>\n",
              "    <path d=\"M18.56 5.44l.94 2.06.94-2.06 2.06-.94-2.06-.94-.94-2.06-.94 2.06-2.06.94zm-11 1L8.5 8.5l.94-2.06 2.06-.94-2.06-.94L8.5 2.5l-.94 2.06-2.06.94zm10 10l.94 2.06.94-2.06 2.06-.94-2.06-.94-.94-2.06-.94 2.06-2.06.94z\"/><path d=\"M17.41 7.96l-1.37-1.37c-.4-.4-.92-.59-1.43-.59-.52 0-1.04.2-1.43.59L10.3 9.45l-7.72 7.72c-.78.78-.78 2.05 0 2.83L4 21.41c.39.39.9.59 1.41.59.51 0 1.02-.2 1.41-.59l7.78-7.78 2.81-2.81c.8-.78.8-2.07 0-2.86zM5.41 20L4 18.59l7.72-7.72 1.47 1.35L5.41 20z\"/>\n",
              "  </svg>\n",
              "      </button>\n",
              "      \n",
              "  <style>\n",
              "    .colab-df-container {\n",
              "      display:flex;\n",
              "      flex-wrap:wrap;\n",
              "      gap: 12px;\n",
              "    }\n",
              "\n",
              "    .colab-df-convert {\n",
              "      background-color: #E8F0FE;\n",
              "      border: none;\n",
              "      border-radius: 50%;\n",
              "      cursor: pointer;\n",
              "      display: none;\n",
              "      fill: #1967D2;\n",
              "      height: 32px;\n",
              "      padding: 0 0 0 0;\n",
              "      width: 32px;\n",
              "    }\n",
              "\n",
              "    .colab-df-convert:hover {\n",
              "      background-color: #E2EBFA;\n",
              "      box-shadow: 0px 1px 2px rgba(60, 64, 67, 0.3), 0px 1px 3px 1px rgba(60, 64, 67, 0.15);\n",
              "      fill: #174EA6;\n",
              "    }\n",
              "\n",
              "    [theme=dark] .colab-df-convert {\n",
              "      background-color: #3B4455;\n",
              "      fill: #D2E3FC;\n",
              "    }\n",
              "\n",
              "    [theme=dark] .colab-df-convert:hover {\n",
              "      background-color: #434B5C;\n",
              "      box-shadow: 0px 1px 3px 1px rgba(0, 0, 0, 0.15);\n",
              "      filter: drop-shadow(0px 1px 2px rgba(0, 0, 0, 0.3));\n",
              "      fill: #FFFFFF;\n",
              "    }\n",
              "  </style>\n",
              "\n",
              "      <script>\n",
              "        const buttonEl =\n",
              "          document.querySelector('#df-e5783311-1492-460f-b0f3-0f0a9546abb2 button.colab-df-convert');\n",
              "        buttonEl.style.display =\n",
              "          google.colab.kernel.accessAllowed ? 'block' : 'none';\n",
              "\n",
              "        async function convertToInteractive(key) {\n",
              "          const element = document.querySelector('#df-e5783311-1492-460f-b0f3-0f0a9546abb2');\n",
              "          const dataTable =\n",
              "            await google.colab.kernel.invokeFunction('convertToInteractive',\n",
              "                                                     [key], {});\n",
              "          if (!dataTable) return;\n",
              "\n",
              "          const docLinkHtml = 'Like what you see? Visit the ' +\n",
              "            '<a target=\"_blank\" href=https://colab.research.google.com/notebooks/data_table.ipynb>data table notebook</a>'\n",
              "            + ' to learn more about interactive tables.';\n",
              "          element.innerHTML = '';\n",
              "          dataTable['output_type'] = 'display_data';\n",
              "          await google.colab.output.renderOutput(dataTable, element);\n",
              "          const docLink = document.createElement('div');\n",
              "          docLink.innerHTML = docLinkHtml;\n",
              "          element.appendChild(docLink);\n",
              "        }\n",
              "      </script>\n",
              "    </div>\n",
              "  </div>\n",
              "  "
            ]
          },
          "metadata": {},
          "execution_count": 7
        }
      ]
    },
    {
      "cell_type": "code",
      "source": [
        "#heatmap\n",
        "plt.figure(figsize=(12,12))\n",
        "sns.heatmap(df.corr(), annot=True)\n",
        "plt.show()"
      ],
      "metadata": {
        "colab": {
          "base_uri": "https://localhost:8080/",
          "height": 704
        },
        "id": "JjIJT77QklaC",
        "outputId": "c75124b7-abf3-402e-a372-030252309cf2"
      },
      "execution_count": null,
      "outputs": [
        {
          "output_type": "display_data",
          "data": {
            "text/plain": [
              "<Figure size 864x864 with 2 Axes>"
            ],
            "image/png": "[encoded data removed]"
          },
          "metadata": {
            "needs_background": "light"
          }
        }
      ]
    },
    {
      "cell_type": "code",
      "source": [
        "# General rule\n",
        "# input should have positive/negetive correlation between them for linear regression model"
      ],
      "metadata": {
        "id": "NE0O_IqSlDPj"
      },
      "execution_count": null,
      "outputs": []
    },
    {
      "cell_type": "code",
      "source": [
        "plt.plot(df['medv'],df['crim'],\"o\")\n",
        "plt.show()"
      ],
      "metadata": {
        "colab": {
          "base_uri": "https://localhost:8080/",
          "height": 265
        },
        "id": "X0qB08TelhLv",
        "outputId": "12fc8a51-24ea-4e2d-cce1-407e27d8e98b"
      },
      "execution_count": null,
      "outputs": [
        {
          "output_type": "display_data",
          "data": {
            "text/plain": [
              "<Figure size 432x288 with 1 Axes>"
            ],
            "image/png": "[encoded data removed]"
          },
          "metadata": {
            "needs_background": "light"
          }
        }
      ]
    },
    {
      "cell_type": "code",
      "source": [
        "plt.plot(df['medv'],df['lstat'],\"o\")\n",
        "plt.show()"
      ],
      "metadata": {
        "colab": {
          "base_uri": "https://localhost:8080/",
          "height": 265
        },
        "id": "x9s3iqM6lqlw",
        "outputId": "608a1b3a-a3ae-4b01-ec84-d9ec01b5642b"
      },
      "execution_count": null,
      "outputs": [
        {
          "output_type": "display_data",
          "data": {
            "text/plain": [
              "<Figure size 432x288 with 1 Axes>"
            ],
            "image/png": "[encoded data removed]"
          },
          "metadata": {
            "needs_background": "light"
          }
        }
      ]
    },
    {
      "cell_type": "code",
      "source": [
        "plt.plot(df['medv'],df['rm'],\"o\")\n",
        "plt.show()"
      ],
      "metadata": {
        "colab": {
          "base_uri": "https://localhost:8080/",
          "height": 268
        },
        "id": "aGReUlxml1Y4",
        "outputId": "fcb26393-1ca0-4586-ba3e-5270b3adec7c"
      },
      "execution_count": null,
      "outputs": [
        {
          "output_type": "display_data",
          "data": {
            "text/plain": [
              "<Figure size 432x288 with 1 Axes>"
            ],
            "image/png": "[encoded data removed]"
          },
          "metadata": {
            "needs_background": "light"
          }
        }
      ]
    },
    {
      "cell_type": "markdown",
      "source": [
        "# Prepared the data for model"
      ],
      "metadata": {
        "id": "BosQoUp4rq8w"
      }
    },
    {
      "cell_type": "code",
      "source": [
        "# check all the columns are numeric\n",
        "df.dtypes"
      ],
      "metadata": {
        "colab": {
          "base_uri": "https://localhost:8080/"
        },
        "id": "rjifE1ixmFvk",
        "outputId": "1aca8b43-c6d8-4d0f-ffa1-a5c761410019"
      },
      "execution_count": null,
      "outputs": [
        {
          "output_type": "execute_result",
          "data": {
            "text/plain": [
              "crim       float64\n",
              "zn         float64\n",
              "indus      float64\n",
              "chas         int64\n",
              "nox        float64\n",
              "rm         float64\n",
              "age        float64\n",
              "dis        float64\n",
              "rad          int64\n",
              "tax          int64\n",
              "ptratio    float64\n",
              "b          float64\n",
              "lstat      float64\n",
              "medv       float64\n",
              "dtype: object"
            ]
          },
          "metadata": {},
          "execution_count": 13
        }
      ]
    },
    {
      "cell_type": "code",
      "source": [
        "# separate input and output\n",
        "X = df.drop(columns='medv')\n",
        "y = df['medv']"
      ],
      "metadata": {
        "id": "pW1sSMe4meb5"
      },
      "execution_count": null,
      "outputs": []
    },
    {
      "cell_type": "code",
      "source": [
        "from sklearn.model_selection import train_test_split\n",
        "X_train,X_test,y_train,y_test = train_test_split(X,y, test_size=0.2, random_state=2)"
      ],
      "metadata": {
        "id": "z7bSB5TTmIdo"
      },
      "execution_count": null,
      "outputs": []
    },
    {
      "cell_type": "code",
      "source": [
        "X_train.head()"
      ],
      "metadata": {
        "colab": {
          "base_uri": "https://localhost:8080/",
          "height": 206
        },
        "id": "WZUCZj2cm2Pd",
        "outputId": "62ef8ead-700b-4cec-b1be-3cb333f462e3"
      },
      "execution_count": null,
      "outputs": [
        {
          "output_type": "execute_result",
          "data": {
            "text/plain": [
              "        crim    zn  indus  chas    nox     rm   age     dis  rad  tax  \\\n",
              "321  0.18159   0.0   7.38     0  0.493  6.376  54.3  4.5404    5  287   \n",
              "37   0.08014   0.0   5.96     0  0.499  5.850  41.5  3.9342    5  279   \n",
              "286  0.01965  80.0   1.76     0  0.385  6.230  31.5  9.0892    1  241   \n",
              "2    0.02729   0.0   7.07     0  0.469  7.185  61.1  4.9671    2  242   \n",
              "25   0.84054   0.0   8.14     0  0.538  5.599  85.7  4.4546    4  307   \n",
              "\n",
              "     ptratio       b  lstat  \n",
              "321     19.6  396.90   6.87  \n",
              "37      19.2  396.90   8.77  \n",
              "286     18.2  341.60  12.93  \n",
              "2       17.8  392.83   4.03  \n",
              "25      21.0  303.42  16.51  "
            ],
            "text/html": [
              "\n",
              "  <div id=\"df-dc124ce6-b85a-4e7d-8cf4-f326391831e2\">\n",
              "    <div class=\"colab-df-container\">\n",
              "      <div>\n",
              "<style scoped>\n",
              "    .dataframe tbody tr th:only-of-type {\n",
              "        vertical-align: middle;\n",
              "    }\n",
              "\n",
              "    .dataframe tbody tr th {\n",
              "        vertical-align: top;\n",
              "    }\n",
              "\n",
              "    .dataframe thead th {\n",
              "        text-align: right;\n",
              "    }\n",
              "</style>\n",
              "<table border=\"1\" class=\"dataframe\">\n",
              "  <thead>\n",
              "    <tr style=\"text-align: right;\">\n",
              "      <th></th>\n",
              "      <th>crim</th>\n",
              "      <th>zn</th>\n",
              "      <th>indus</th>\n",
              "      <th>chas</th>\n",
              "      <th>nox</th>\n",
              "      <th>rm</th>\n",
              "      <th>age</th>\n",
              "      <th>dis</th>\n",
              "      <th>rad</th>\n",
              "      <th>tax</th>\n",
              "      <th>ptratio</th>\n",
              "      <th>b</th>\n",
              "      <th>lstat</th>\n",
              "    </tr>\n",
              "  </thead>\n",
              "  <tbody>\n",
              "    <tr>\n",
              "      <th>321</th>\n",
              "      <td>0.18159</td>\n",
              "      <td>0.0</td>\n",
              "      <td>7.38</td>\n",
              "      <td>0</td>\n",
              "      <td>0.493</td>\n",
              "      <td>6.376</td>\n",
              "      <td>54.3</td>\n",
              "      <td>4.5404</td>\n",
              "      <td>5</td>\n",
              "      <td>287</td>\n",
              "      <td>19.6</td>\n",
              "      <td>396.90</td>\n",
              "      <td>6.87</td>\n",
              "    </tr>\n",
              "    <tr>\n",
              "      <th>37</th>\n",
              "      <td>0.08014</td>\n",
              "      <td>0.0</td>\n",
              "      <td>5.96</td>\n",
              "      <td>0</td>\n",
              "      <td>0.499</td>\n",
              "      <td>5.850</td>\n",
              "      <td>41.5</td>\n",
              "      <td>3.9342</td>\n",
              "      <td>5</td>\n",
              "      <td>279</td>\n",
              "      <td>19.2</td>\n",
              "      <td>396.90</td>\n",
              "      <td>8.77</td>\n",
              "    </tr>\n",
              "    <tr>\n",
              "      <th>286</th>\n",
              "      <td>0.01965</td>\n",
              "      <td>80.0</td>\n",
              "      <td>1.76</td>\n",
              "      <td>0</td>\n",
              "      <td>0.385</td>\n",
              "      <td>6.230</td>\n",
              "      <td>31.5</td>\n",
              "      <td>9.0892</td>\n",
              "      <td>1</td>\n",
              "      <td>241</td>\n",
              "      <td>18.2</td>\n",
              "      <td>341.60</td>\n",
              "      <td>12.93</td>\n",
              "    </tr>\n",
              "    <tr>\n",
              "      <th>2</th>\n",
              "      <td>0.02729</td>\n",
              "      <td>0.0</td>\n",
              "      <td>7.07</td>\n",
              "      <td>0</td>\n",
              "      <td>0.469</td>\n",
              "      <td>7.185</td>\n",
              "      <td>61.1</td>\n",
              "      <td>4.9671</td>\n",
              "      <td>2</td>\n",
              "      <td>242</td>\n",
              "      <td>17.8</td>\n",
              "      <td>392.83</td>\n",
              "      <td>4.03</td>\n",
              "    </tr>\n",
              "    <tr>\n",
              "      <th>25</th>\n",
              "      <td>0.84054</td>\n",
              "      <td>0.0</td>\n",
              "      <td>8.14</td>\n",
              "      <td>0</td>\n",
              "      <td>0.538</td>\n",
              "      <td>5.599</td>\n",
              "      <td>85.7</td>\n",
              "      <td>4.4546</td>\n",
              "      <td>4</td>\n",
              "      <td>307</td>\n",
              "      <td>21.0</td>\n",
              "      <td>303.42</td>\n",
              "      <td>16.51</td>\n",
              "    </tr>\n",
              "  </tbody>\n",
              "</table>\n",
              "</div>\n",
              "      <button class=\"colab-df-convert\" onclick=\"convertToInteractive('df-dc124ce6-b85a-4e7d-8cf4-f326391831e2')\"\n",
              "              title=\"Convert this dataframe to an interactive table.\"\n",
              "              style=\"display:none;\">\n",
              "        \n",
              "  <svg xmlns=\"http://www.w3.org/2000/svg\" height=\"24px\"viewBox=\"0 0 24 24\"\n",
              "       width=\"24px\">\n",
              "    <path d=\"M0 0h24v24H0V0z\" fill=\"none\"/>\n",
              "    <path d=\"M18.56 5.44l.94 2.06.94-2.06 2.06-.94-2.06-.94-.94-2.06-.94 2.06-2.06.94zm-11 1L8.5 8.5l.94-2.06 2.06-.94-2.06-.94L8.5 2.5l-.94 2.06-2.06.94zm10 10l.94 2.06.94-2.06 2.06-.94-2.06-.94-.94-2.06-.94 2.06-2.06.94z\"/><path d=\"M17.41 7.96l-1.37-1.37c-.4-.4-.92-.59-1.43-.59-.52 0-1.04.2-1.43.59L10.3 9.45l-7.72 7.72c-.78.78-.78 2.05 0 2.83L4 21.41c.39.39.9.59 1.41.59.51 0 1.02-.2 1.41-.59l7.78-7.78 2.81-2.81c.8-.78.8-2.07 0-2.86zM5.41 20L4 18.59l7.72-7.72 1.47 1.35L5.41 20z\"/>\n",
              "  </svg>\n",
              "      </button>\n",
              "      \n",
              "  <style>\n",
              "    .colab-df-container {\n",
              "      display:flex;\n",
              "      flex-wrap:wrap;\n",
              "      gap: 12px;\n",
              "    }\n",
              "\n",
              "    .colab-df-convert {\n",
              "      background-color: #E8F0FE;\n",
              "      border: none;\n",
              "      border-radius: 50%;\n",
              "      cursor: pointer;\n",
              "      display: none;\n",
              "      fill: #1967D2;\n",
              "      height: 32px;\n",
              "      padding: 0 0 0 0;\n",
              "      width: 32px;\n",
              "    }\n",
              "\n",
              "    .colab-df-convert:hover {\n",
              "      background-color: #E2EBFA;\n",
              "      box-shadow: 0px 1px 2px rgba(60, 64, 67, 0.3), 0px 1px 3px 1px rgba(60, 64, 67, 0.15);\n",
              "      fill: #174EA6;\n",
              "    }\n",
              "\n",
              "    [theme=dark] .colab-df-convert {\n",
              "      background-color: #3B4455;\n",
              "      fill: #D2E3FC;\n",
              "    }\n",
              "\n",
              "    [theme=dark] .colab-df-convert:hover {\n",
              "      background-color: #434B5C;\n",
              "      box-shadow: 0px 1px 3px 1px rgba(0, 0, 0, 0.15);\n",
              "      filter: drop-shadow(0px 1px 2px rgba(0, 0, 0, 0.3));\n",
              "      fill: #FFFFFF;\n",
              "    }\n",
              "  </style>\n",
              "\n",
              "      <script>\n",
              "        const buttonEl =\n",
              "          document.querySelector('#df-dc124ce6-b85a-4e7d-8cf4-f326391831e2 button.colab-df-convert');\n",
              "        buttonEl.style.display =\n",
              "          google.colab.kernel.accessAllowed ? 'block' : 'none';\n",
              "\n",
              "        async function convertToInteractive(key) {\n",
              "          const element = document.querySelector('#df-dc124ce6-b85a-4e7d-8cf4-f326391831e2');\n",
              "          const dataTable =\n",
              "            await google.colab.kernel.invokeFunction('convertToInteractive',\n",
              "                                                     [key], {});\n",
              "          if (!dataTable) return;\n",
              "\n",
              "          const docLinkHtml = 'Like what you see? Visit the ' +\n",
              "            '<a target=\"_blank\" href=https://colab.research.google.com/notebooks/data_table.ipynb>data table notebook</a>'\n",
              "            + ' to learn more about interactive tables.';\n",
              "          element.innerHTML = '';\n",
              "          dataTable['output_type'] = 'display_data';\n",
              "          await google.colab.output.renderOutput(dataTable, element);\n",
              "          const docLink = document.createElement('div');\n",
              "          docLink.innerHTML = docLinkHtml;\n",
              "          element.appendChild(docLink);\n",
              "        }\n",
              "      </script>\n",
              "    </div>\n",
              "  </div>\n",
              "  "
            ]
          },
          "metadata": {},
          "execution_count": 16
        }
      ]
    },
    {
      "cell_type": "code",
      "source": [
        "X_train.shape, X_test.shape"
      ],
      "metadata": {
        "colab": {
          "base_uri": "https://localhost:8080/"
        },
        "id": "n2wivJjnm0DO",
        "outputId": "bccf6453-1b46-4a2c-8ad7-e35b6434404f"
      },
      "execution_count": null,
      "outputs": [
        {
          "output_type": "execute_result",
          "data": {
            "text/plain": [
              "((404, 13), (102, 13))"
            ]
          },
          "metadata": {},
          "execution_count": 17
        }
      ]
    },
    {
      "cell_type": "code",
      "source": [
        "y_train.shape,y_test.shape"
      ],
      "metadata": {
        "colab": {
          "base_uri": "https://localhost:8080/"
        },
        "id": "czBw1Nufnf3Z",
        "outputId": "042043b4-2f8c-48cb-dcf3-f32e5716ebbb"
      },
      "execution_count": null,
      "outputs": [
        {
          "output_type": "execute_result",
          "data": {
            "text/plain": [
              "((404,), (102,))"
            ]
          },
          "metadata": {},
          "execution_count": 18
        }
      ]
    },
    {
      "cell_type": "markdown",
      "source": [
        "# Apply the Model - fit"
      ],
      "metadata": {
        "id": "MMafBN0orwoa"
      }
    },
    {
      "cell_type": "code",
      "source": [
        "from sklearn.linear_model import LinearRegression\n",
        "\n",
        "lr = LinearRegression()"
      ],
      "metadata": {
        "id": "1nBiqF_cnh14"
      },
      "execution_count": null,
      "outputs": []
    },
    {
      "cell_type": "code",
      "source": [
        "lr.fit(X_train,y_train)"
      ],
      "metadata": {
        "colab": {
          "base_uri": "https://localhost:8080/"
        },
        "id": "g8SxmSh9nuMl",
        "outputId": "69aac915-fd6a-440e-c8db-fe6fb788648f"
      },
      "execution_count": null,
      "outputs": [
        {
          "output_type": "execute_result",
          "data": {
            "text/plain": [
              "LinearRegression()"
            ]
          },
          "metadata": {},
          "execution_count": 20
        }
      ]
    },
    {
      "cell_type": "code",
      "source": [
        "lr.coef_"
      ],
      "metadata": {
        "colab": {
          "base_uri": "https://localhost:8080/"
        },
        "id": "cu3WFgddopIU",
        "outputId": "00771f05-b7d6-4258-b38d-4947d1747a25"
      },
      "execution_count": null,
      "outputs": [
        {
          "output_type": "execute_result",
          "data": {
            "text/plain": [
              "array([-1.08223557e-01,  3.89039349e-02, -1.51517627e-02,  3.15897941e+00,\n",
              "       -1.65854070e+01,  3.63288486e+00,  9.35052187e-03, -1.38618151e+00,\n",
              "        3.24065945e-01, -1.16245167e-02, -1.03644251e+00,  1.16127489e-02,\n",
              "       -5.58409340e-01])"
            ]
          },
          "metadata": {},
          "execution_count": 21
        }
      ]
    },
    {
      "cell_type": "code",
      "source": [
        "len(lr.coef_) # co-efficients"
      ],
      "metadata": {
        "colab": {
          "base_uri": "https://localhost:8080/"
        },
        "id": "pvI03yC3n5Pi",
        "outputId": "3e43008e-3964-4323-d94f-1cc575c987e6"
      },
      "execution_count": null,
      "outputs": [
        {
          "output_type": "execute_result",
          "data": {
            "text/plain": [
              "13"
            ]
          },
          "metadata": {},
          "execution_count": 22
        }
      ]
    },
    {
      "cell_type": "code",
      "source": [
        "lr.intercept_"
      ],
      "metadata": {
        "colab": {
          "base_uri": "https://localhost:8080/"
        },
        "id": "_-qa62vdoc8o",
        "outputId": "9e821816-12d4-4fe6-e15c-f2929a06d532"
      },
      "execution_count": null,
      "outputs": [
        {
          "output_type": "execute_result",
          "data": {
            "text/plain": [
              "37.19980774264986"
            ]
          },
          "metadata": {},
          "execution_count": 23
        }
      ]
    },
    {
      "cell_type": "markdown",
      "source": [
        "# Generate the Prediction"
      ],
      "metadata": {
        "id": "_J7g1zRFr0u0"
      }
    },
    {
      "cell_type": "code",
      "source": [
        "#new data\n",
        "lr.predict(X_test)"
      ],
      "metadata": {
        "colab": {
          "base_uri": "https://localhost:8080/"
        },
        "id": "Jv8vA3Eiod-v",
        "outputId": "d089b6f9-467f-4e62-cb7f-b07d3512410b"
      },
      "execution_count": null,
      "outputs": [
        {
          "output_type": "execute_result",
          "data": {
            "text/plain": [
              "array([23.01506153, 21.2115869 , 33.71590384, 31.56542369,  3.1826268 ,\n",
              "        3.15381954, 27.40305304, 22.2126176 , 14.86506114, 21.34105453,\n",
              "       30.95942941, 26.70065029, 21.12624382, 18.37282564, 17.64315354,\n",
              "       25.38194186, 24.42970445, 13.36957057,  8.66686786, 18.57490534,\n",
              "       21.73966467, 20.34270529, 36.5461105 , 20.59627495, 19.87979627,\n",
              "       15.75766967, 37.11632999, 34.85897895, 30.83458635, 23.23441285,\n",
              "       18.68278505, 20.749546  , 31.84560076, 30.20214207, 13.3861702 ,\n",
              "       15.87078398, 13.70766096, 23.74163998, 25.95135088, 23.18325878,\n",
              "       28.99906539, 12.50341936, 31.08347911,  6.39401895, 23.71801218,\n",
              "       20.61523929, 33.15362417, 19.21862493, 35.89603081,  0.82365329,\n",
              "       31.90288611, 31.69640543,  6.58849712, 34.62762996, 20.41162545,\n",
              "       19.69277608, 19.53445865, 18.58689088, 15.81420496, 22.98764309,\n",
              "       19.65947045, 16.36377019, 18.48783369, 32.76568172, 35.49022568,\n",
              "       24.58349631, 41.5854766 , 32.94818456, 14.60990256, 27.43178268,\n",
              "        8.04470074,  5.61185652, 22.21428332, 18.72817007, 31.02824788,\n",
              "       26.04494485, 24.60357003, 24.84231113, 25.38796252, 24.87762205,\n",
              "       33.71343923, 19.72606026, 20.60046055, 27.82692882, 38.0055624 ,\n",
              "       37.24265207, 22.16841364, 29.6160177 , 31.07303315, 17.93399181,\n",
              "       20.87524555, 19.48170453, 18.61409692, 37.13055111, 39.81659125,\n",
              "        9.1811861 , 35.30202671, 30.28664671, 21.0820992 , 13.65467682,\n",
              "       31.38696603, 24.99174874])"
            ]
          },
          "metadata": {},
          "execution_count": 24
        }
      ]
    },
    {
      "cell_type": "code",
      "source": [
        "# Evaluation criteria\n",
        "# Regression model --> r2_score, rmse, mae, mse"
      ],
      "metadata": {
        "id": "ShpZtOWBoyAT"
      },
      "execution_count": null,
      "outputs": []
    },
    {
      "cell_type": "markdown",
      "source": [
        "# Evaluate"
      ],
      "metadata": {
        "id": "nc46TVRDrErh"
      }
    },
    {
      "cell_type": "code",
      "source": [
        "# r2_score --> describes how much variance of the output is explained by the input\n",
        "# will vary between 0 and 1\n",
        "# 1 --> highest value\n",
        "# 0 --> lowest value\n",
        "\n",
        "from sklearn.metrics import r2_score, mean_squared_error, mean_absolute_error"
      ],
      "metadata": {
        "id": "wy6VAiOqpH1g"
      },
      "execution_count": null,
      "outputs": []
    },
    {
      "cell_type": "code",
      "source": [
        "#r2_score\n",
        "# Syntax --> r2_score(y_test,y_pred)\n",
        "\n",
        "y_pred = lr.predict(X_test)\n",
        "\n",
        "r2_score(y_test,y_pred)"
      ],
      "metadata": {
        "colab": {
          "base_uri": "https://localhost:8080/"
        },
        "id": "LB51_voapkDe",
        "outputId": "514476ef-547b-440d-8bde-9cad2d45e831"
      },
      "execution_count": null,
      "outputs": [
        {
          "output_type": "execute_result",
          "data": {
            "text/plain": [
              "0.7789207451814417"
            ]
          },
          "metadata": {},
          "execution_count": 27
        }
      ]
    },
    {
      "cell_type": "code",
      "source": [
        "# Using the features, we can explain 76.34% of variance in output"
      ],
      "metadata": {
        "id": "QlckaL1Ipyx9"
      },
      "execution_count": null,
      "outputs": []
    },
    {
      "cell_type": "code",
      "source": [
        "mean_squared_error(y_test,y_pred)"
      ],
      "metadata": {
        "colab": {
          "base_uri": "https://localhost:8080/"
        },
        "id": "oxO65Fnpqrja",
        "outputId": "3fcf50e9-a26f-4afe-d6d4-e23b36ba2f57"
      },
      "execution_count": null,
      "outputs": [
        {
          "output_type": "execute_result",
          "data": {
            "text/plain": [
              "18.495420122448397"
            ]
          },
          "metadata": {},
          "execution_count": 29
        }
      ]
    },
    {
      "cell_type": "code",
      "source": [
        "mean_absolute_error(y_test,y_pred)"
      ],
      "metadata": {
        "colab": {
          "base_uri": "https://localhost:8080/"
        },
        "id": "y1GGayCLqwE7",
        "outputId": "1e613c53-bc98-474a-ec8c-2cd45871f8b8"
      },
      "execution_count": null,
      "outputs": [
        {
          "output_type": "execute_result",
          "data": {
            "text/plain": [
              "3.113043746893429"
            ]
          },
          "metadata": {},
          "execution_count": 30
        }
      ]
    },
    {
      "cell_type": "code",
      "source": [
        "mean_squared_error(y_test,y_pred,squared=False) # Root Mean squared error"
      ],
      "metadata": {
        "colab": {
          "base_uri": "https://localhost:8080/"
        },
        "id": "RO06jSWZqu8h",
        "outputId": "05a1422e-dfa2-4be2-a0c2-3354f493b62b"
      },
      "execution_count": null,
      "outputs": [
        {
          "output_type": "execute_result",
          "data": {
            "text/plain": [
              "4.300630200615765"
            ]
          },
          "metadata": {},
          "execution_count": 31
        }
      ]
    },
    {
      "cell_type": "code",
      "source": [
        "# SGD --> Linear Regression"
      ],
      "metadata": {
        "id": "iTomZmuorAJa"
      },
      "execution_count": null,
      "outputs": []
    },
    {
      "cell_type": "code",
      "source": [
        "X_test.head()"
      ],
      "metadata": {
        "colab": {
          "base_uri": "https://localhost:8080/",
          "height": 206
        },
        "id": "iK3_QoKwsWkl",
        "outputId": "504be20f-5aa4-4e85-add5-527db5b6990c"
      },
      "execution_count": null,
      "outputs": [
        {
          "output_type": "execute_result",
          "data": {
            "text/plain": [
              "         crim    zn  indus  chas    nox     rm   age     dis  rad  tax  \\\n",
              "463   5.82115   0.0  18.10     0  0.713  6.513  89.9  2.8016   24  666   \n",
              "152   1.12658   0.0  19.58     1  0.871  5.012  88.0  1.6102    5  403   \n",
              "291   0.07886  80.0   4.95     0  0.411  7.148  27.7  5.1167    4  245   \n",
              "183   0.10008   0.0   2.46     0  0.488  6.563  95.6  2.8470    3  193   \n",
              "384  20.08490   0.0  18.10     0  0.700  4.368  91.2  1.4395   24  666   \n",
              "\n",
              "     ptratio       b  lstat  \n",
              "463     20.2  393.82  10.29  \n",
              "152     14.7  343.28  12.12  \n",
              "291     19.2  396.90   3.56  \n",
              "183     17.8  396.90   5.68  \n",
              "384     20.2  285.83  30.63  "
            ],
            "text/html": [
              "\n",
              "  <div id=\"df-678cc212-21d4-48b8-a250-1b62f4b795ae\">\n",
              "    <div class=\"colab-df-container\">\n",
              "      <div>\n",
              "<style scoped>\n",
              "    .dataframe tbody tr th:only-of-type {\n",
              "        vertical-align: middle;\n",
              "    }\n",
              "\n",
              "    .dataframe tbody tr th {\n",
              "        vertical-align: top;\n",
              "    }\n",
              "\n",
              "    .dataframe thead th {\n",
              "        text-align: right;\n",
              "    }\n",
              "</style>\n",
              "<table border=\"1\" class=\"dataframe\">\n",
              "  <thead>\n",
              "    <tr style=\"text-align: right;\">\n",
              "      <th></th>\n",
              "      <th>crim</th>\n",
              "      <th>zn</th>\n",
              "      <th>indus</th>\n",
              "      <th>chas</th>\n",
              "      <th>nox</th>\n",
              "      <th>rm</th>\n",
              "      <th>age</th>\n",
              "      <th>dis</th>\n",
              "      <th>rad</th>\n",
              "      <th>tax</th>\n",
              "      <th>ptratio</th>\n",
              "      <th>b</th>\n",
              "      <th>lstat</th>\n",
              "    </tr>\n",
              "  </thead>\n",
              "  <tbody>\n",
              "    <tr>\n",
              "      <th>463</th>\n",
              "      <td>5.82115</td>\n",
              "      <td>0.0</td>\n",
              "      <td>18.10</td>\n",
              "      <td>0</td>\n",
              "      <td>0.713</td>\n",
              "      <td>6.513</td>\n",
              "      <td>89.9</td>\n",
              "      <td>2.8016</td>\n",
              "      <td>24</td>\n",
              "      <td>666</td>\n",
              "      <td>20.2</td>\n",
              "      <td>393.82</td>\n",
              "      <td>10.29</td>\n",
              "    </tr>\n",
              "    <tr>\n",
              "      <th>152</th>\n",
              "      <td>1.12658</td>\n",
              "      <td>0.0</td>\n",
              "      <td>19.58</td>\n",
              "      <td>1</td>\n",
              "      <td>0.871</td>\n",
              "      <td>5.012</td>\n",
              "      <td>88.0</td>\n",
              "      <td>1.6102</td>\n",
              "      <td>5</td>\n",
              "      <td>403</td>\n",
              "      <td>14.7</td>\n",
              "      <td>343.28</td>\n",
              "      <td>12.12</td>\n",
              "    </tr>\n",
              "    <tr>\n",
              "      <th>291</th>\n",
              "      <td>0.07886</td>\n",
              "      <td>80.0</td>\n",
              "      <td>4.95</td>\n",
              "      <td>0</td>\n",
              "      <td>0.411</td>\n",
              "      <td>7.148</td>\n",
              "      <td>27.7</td>\n",
              "      <td>5.1167</td>\n",
              "      <td>4</td>\n",
              "      <td>245</td>\n",
              "      <td>19.2</td>\n",
              "      <td>396.90</td>\n",
              "      <td>3.56</td>\n",
              "    </tr>\n",
              "    <tr>\n",
              "      <th>183</th>\n",
              "      <td>0.10008</td>\n",
              "      <td>0.0</td>\n",
              "      <td>2.46</td>\n",
              "      <td>0</td>\n",
              "      <td>0.488</td>\n",
              "      <td>6.563</td>\n",
              "      <td>95.6</td>\n",
              "      <td>2.8470</td>\n",
              "      <td>3</td>\n",
              "      <td>193</td>\n",
              "      <td>17.8</td>\n",
              "      <td>396.90</td>\n",
              "      <td>5.68</td>\n",
              "    </tr>\n",
              "    <tr>\n",
              "      <th>384</th>\n",
              "      <td>20.08490</td>\n",
              "      <td>0.0</td>\n",
              "      <td>18.10</td>\n",
              "      <td>0</td>\n",
              "      <td>0.700</td>\n",
              "      <td>4.368</td>\n",
              "      <td>91.2</td>\n",
              "      <td>1.4395</td>\n",
              "      <td>24</td>\n",
              "      <td>666</td>\n",
              "      <td>20.2</td>\n",
              "      <td>285.83</td>\n",
              "      <td>30.63</td>\n",
              "    </tr>\n",
              "  </tbody>\n",
              "</table>\n",
              "</div>\n",
              "      <button class=\"colab-df-convert\" onclick=\"convertToInteractive('df-678cc212-21d4-48b8-a250-1b62f4b795ae')\"\n",
              "              title=\"Convert this dataframe to an interactive table.\"\n",
              "              style=\"display:none;\">\n",
              "        \n",
              "  <svg xmlns=\"http://www.w3.org/2000/svg\" height=\"24px\"viewBox=\"0 0 24 24\"\n",
              "       width=\"24px\">\n",
              "    <path d=\"M0 0h24v24H0V0z\" fill=\"none\"/>\n",
              "    <path d=\"M18.56 5.44l.94 2.06.94-2.06 2.06-.94-2.06-.94-.94-2.06-.94 2.06-2.06.94zm-11 1L8.5 8.5l.94-2.06 2.06-.94-2.06-.94L8.5 2.5l-.94 2.06-2.06.94zm10 10l.94 2.06.94-2.06 2.06-.94-2.06-.94-.94-2.06-.94 2.06-2.06.94z\"/><path d=\"M17.41 7.96l-1.37-1.37c-.4-.4-.92-.59-1.43-.59-.52 0-1.04.2-1.43.59L10.3 9.45l-7.72 7.72c-.78.78-.78 2.05 0 2.83L4 21.41c.39.39.9.59 1.41.59.51 0 1.02-.2 1.41-.59l7.78-7.78 2.81-2.81c.8-.78.8-2.07 0-2.86zM5.41 20L4 18.59l7.72-7.72 1.47 1.35L5.41 20z\"/>\n",
              "  </svg>\n",
              "      </button>\n",
              "      \n",
              "  <style>\n",
              "    .colab-df-container {\n",
              "      display:flex;\n",
              "      flex-wrap:wrap;\n",
              "      gap: 12px;\n",
              "    }\n",
              "\n",
              "    .colab-df-convert {\n",
              "      background-color: #E8F0FE;\n",
              "      border: none;\n",
              "      border-radius: 50%;\n",
              "      cursor: pointer;\n",
              "      display: none;\n",
              "      fill: #1967D2;\n",
              "      height: 32px;\n",
              "      padding: 0 0 0 0;\n",
              "      width: 32px;\n",
              "    }\n",
              "\n",
              "    .colab-df-convert:hover {\n",
              "      background-color: #E2EBFA;\n",
              "      box-shadow: 0px 1px 2px rgba(60, 64, 67, 0.3), 0px 1px 3px 1px rgba(60, 64, 67, 0.15);\n",
              "      fill: #174EA6;\n",
              "    }\n",
              "\n",
              "    [theme=dark] .colab-df-convert {\n",
              "      background-color: #3B4455;\n",
              "      fill: #D2E3FC;\n",
              "    }\n",
              "\n",
              "    [theme=dark] .colab-df-convert:hover {\n",
              "      background-color: #434B5C;\n",
              "      box-shadow: 0px 1px 3px 1px rgba(0, 0, 0, 0.15);\n",
              "      filter: drop-shadow(0px 1px 2px rgba(0, 0, 0, 0.3));\n",
              "      fill: #FFFFFF;\n",
              "    }\n",
              "  </style>\n",
              "\n",
              "      <script>\n",
              "        const buttonEl =\n",
              "          document.querySelector('#df-678cc212-21d4-48b8-a250-1b62f4b795ae button.colab-df-convert');\n",
              "        buttonEl.style.display =\n",
              "          google.colab.kernel.accessAllowed ? 'block' : 'none';\n",
              "\n",
              "        async function convertToInteractive(key) {\n",
              "          const element = document.querySelector('#df-678cc212-21d4-48b8-a250-1b62f4b795ae');\n",
              "          const dataTable =\n",
              "            await google.colab.kernel.invokeFunction('convertToInteractive',\n",
              "                                                     [key], {});\n",
              "          if (!dataTable) return;\n",
              "\n",
              "          const docLinkHtml = 'Like what you see? Visit the ' +\n",
              "            '<a target=\"_blank\" href=https://colab.research.google.com/notebooks/data_table.ipynb>data table notebook</a>'\n",
              "            + ' to learn more about interactive tables.';\n",
              "          element.innerHTML = '';\n",
              "          dataTable['output_type'] = 'display_data';\n",
              "          await google.colab.output.renderOutput(dataTable, element);\n",
              "          const docLink = document.createElement('div');\n",
              "          docLink.innerHTML = docLinkHtml;\n",
              "          element.appendChild(docLink);\n",
              "        }\n",
              "      </script>\n",
              "    </div>\n",
              "  </div>\n",
              "  "
            ]
          },
          "metadata": {},
          "execution_count": 33
        }
      ]
    },
    {
      "cell_type": "code",
      "source": [
        "y_test.head()"
      ],
      "metadata": {
        "colab": {
          "base_uri": "https://localhost:8080/"
        },
        "id": "6jaHuGt6sXjr",
        "outputId": "b2fc3425-bf60-4e8a-ed62-ea19b0d91f81"
      },
      "execution_count": null,
      "outputs": [
        {
          "output_type": "execute_result",
          "data": {
            "text/plain": [
              "463    20.2\n",
              "152    15.3\n",
              "291    37.3\n",
              "183    32.5\n",
              "384     8.8\n",
              "Name: medv, dtype: float64"
            ]
          },
          "metadata": {},
          "execution_count": 34
        }
      ]
    },
    {
      "cell_type": "markdown",
      "source": [
        "# Stochastic Gradient Descent"
      ],
      "metadata": {
        "id": "DEgZ6k2ohxoW"
      }
    },
    {
      "cell_type": "code",
      "source": [
        "from sklearn.linear_model import SGDRegressor"
      ],
      "metadata": {
        "id": "4uMHQdCLsYpA"
      },
      "execution_count": null,
      "outputs": []
    },
    {
      "cell_type": "code",
      "source": [
        "sgd = SGDRegressor()\n",
        "sgd.fit(X_train,y_train)"
      ],
      "metadata": {
        "colab": {
          "base_uri": "https://localhost:8080/"
        },
        "id": "GQjU4QyBimJh",
        "outputId": "7d537c40-69bb-4e1e-e2c2-a080b1b3d0b6"
      },
      "execution_count": null,
      "outputs": [
        {
          "output_type": "execute_result",
          "data": {
            "text/plain": [
              "SGDRegressor()"
            ]
          },
          "metadata": {},
          "execution_count": 36
        }
      ]
    },
    {
      "cell_type": "code",
      "source": [
        "sgd.coef_"
      ],
      "metadata": {
        "colab": {
          "base_uri": "https://localhost:8080/"
        },
        "id": "tXHXQRlriqPG",
        "outputId": "2f86e890-6232-4905-c6a5-a08d80ea4595"
      },
      "execution_count": null,
      "outputs": [
        {
          "output_type": "execute_result",
          "data": {
            "text/plain": [
              "array([ 1.29327600e+11, -6.13966950e+10,  3.51892450e+11,  2.58074180e+10,\n",
              "        4.07323148e+09, -6.77138714e+10, -1.39224757e+11, -7.94142022e+09,\n",
              "        2.21570061e+11, -2.10293323e+11, -1.61654165e+11,  8.17760525e+10,\n",
              "        4.61241201e+11])"
            ]
          },
          "metadata": {},
          "execution_count": 38
        }
      ]
    },
    {
      "cell_type": "code",
      "source": [
        "lr.coef_"
      ],
      "metadata": {
        "colab": {
          "base_uri": "https://localhost:8080/"
        },
        "id": "j81ETHo2irzq",
        "outputId": "d8a4fa29-ee27-4fb2-a47b-de4243a12350"
      },
      "execution_count": null,
      "outputs": [
        {
          "output_type": "execute_result",
          "data": {
            "text/plain": [
              "array([-1.08223557e-01,  3.89039349e-02, -1.51517627e-02,  3.15897941e+00,\n",
              "       -1.65854070e+01,  3.63288486e+00,  9.35052187e-03, -1.38618151e+00,\n",
              "        3.24065945e-01, -1.16245167e-02, -1.03644251e+00,  1.16127489e-02,\n",
              "       -5.58409340e-01])"
            ]
          },
          "metadata": {},
          "execution_count": 39
        }
      ]
    },
    {
      "cell_type": "code",
      "source": [
        "sgd.intercept_"
      ],
      "metadata": {
        "colab": {
          "base_uri": "https://localhost:8080/"
        },
        "id": "0zm-6fejiud6",
        "outputId": "47dec70b-ea9b-4309-b54b-830dff8380c0"
      },
      "execution_count": null,
      "outputs": [
        {
          "output_type": "execute_result",
          "data": {
            "text/plain": [
              "array([-1.79419159e+10])"
            ]
          },
          "metadata": {},
          "execution_count": 40
        }
      ]
    },
    {
      "cell_type": "code",
      "source": [
        "y_pred = sgd.predict(X_test)\n",
        "r2_score(y_test,y_pred)"
      ],
      "metadata": {
        "colab": {
          "base_uri": "https://localhost:8080/"
        },
        "id": "dOVxL2gAi25g",
        "outputId": "ae87fb74-b4c8-418e-b423-a23be7ce041e"
      },
      "execution_count": null,
      "outputs": [
        {
          "output_type": "execute_result",
          "data": {
            "text/plain": [
              "-5.166620048604174e+25"
            ]
          },
          "metadata": {},
          "execution_count": 42
        }
      ]
    },
    {
      "cell_type": "code",
      "source": [],
      "metadata": {
        "id": "S6vuuhsFkBce"
      },
      "execution_count": null,
      "outputs": []
    }
  ]
}