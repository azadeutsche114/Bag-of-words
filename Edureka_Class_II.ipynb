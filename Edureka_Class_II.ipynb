{
  "nbformat": 4,
  "nbformat_minor": 0,
  "metadata": {
    "colab": {
      "provenance": [],
      "collapsed_sections": [],
      "authorship_tag": "ABX9TyO0U28uPWxR81yygk3GPr05",
      "include_colab_link": true
    },
    "kernelspec": {
      "name": "python3",
      "display_name": "Python 3"
    },
    "language_info": {
      "name": "python"
    }
  },
  "cells": [
    {
      "cell_type": "markdown",
      "metadata": {
        "id": "view-in-github",
        "colab_type": "text"
      },
      "source": [
        "<a href=\"https://colab.research.google.com/github/azadeutsche114/Bag-of-words/blob/main/Edureka_Class_II.ipynb\" target=\"_parent\"><img src=\"https://colab.research.google.com/assets/colab-badge.svg\" alt=\"Open In Colab\"/></a>"
      ]
    },
    {
      "cell_type": "code",
      "execution_count": null,
      "metadata": {
        "id": "Us3i2V3Yug8P"
      },
      "outputs": [],
      "source": [
        "import folium\n",
        "import pandas\n",
        "import json\n",
        "df=pandas.read_csv(\"simplemaps-worldcities-basic.csv\")\n",
        "df1=df.to_csv(\"new_col1.txt\", index=False,columns=[\"lat\",\"lng\"])\n",
        "lat1=list(df[\"lat\"])\n",
        "lon1=list(df[\"lng\"])\n",
        "pro=list(df[\"province\"])\n",
        "map=folium.Map(location=[30.98,5.34],zoom_start=7,tiles=\"Mapbox Bright\")\n",
        "fgv=folium.FeatureGroup(name=\"locations\")\n",
        "fgp=folium.FeatureGroup(name=\"population\")\n",
        "fgp.add_child(folium.GeoJson(data=open('world.json', 'r', encoding='utf-8-sig').read(),\n",
        "style_function=lambda x:{'fillColor':'yellow' if x['properties']['POP2005']<1000000 else 'brown'} ))\n",
        "\n",
        "for lt,ln,el in zip(lat1,lon1,pro):\n",
        "    fgv.add_child(folium.CircleMarker(location=[lt,ln],radius=6,popup=str(el),fill_color=\"red\",fill=True,color=\"orange\",fill_opacity=0.7))\n",
        "map.add_child(fgv)\n",
        "map.add_child(fgp)\n",
        "map.add_child(folium.LayerControl())\n",
        "map.save(\"Map3.html\")"
      ]
    },
    {
      "cell_type": "code",
      "source": [
        "import folium\n",
        "import pandas\n",
        "df=pandas.read_csv(\"Volcanoes_USA.txt\")\n",
        "map=folium.Map(location=[df['LAT'].mean(),df['LON'].mean()],zoom_start=6,tiles='Mapbox bright')\n",
        "def color(elev):\n",
        "    minimum=int(min(df['ELEV']))\n",
        "    step=int((max(df['ELEV'])-min(df['ELEV']))/3)\n",
        "    if elev in range(minimum,minimum+step):\n",
        "        col='green'\n",
        "    elif elev in range(minimum+step,minimum+step*2):\n",
        "        col='orange'\n",
        "    else:\n",
        "        col='red'\n",
        "    return col\n",
        "fg=folium.FeatureGroup(name=\"Volcano Locations\")\n",
        "for lat,lon,name,elev in zip(df['LAT'],df['LON'],df['NAME'],df['ELEV']):\n",
        "    fg.add_child(folium.Marker(location=[lat,lon],popup=(folium.Popup(name)),icon=folium.Icon(color=color(elev),icon_color='green')))\n",
        "map.add_child(fg)\n",
        "map.add_child(folium.GeoJson(data=open('world_geojson_from_ogr.json'),\n",
        "name=\"Population\",\n",
        "style_function=lambda x: {'fillColor':'green' if x['properties']['POP2005'] <= 10000000 else 'orange' if 10000000 < x['properties']['POP2005'] < 20000000 else 'red'}))\n",
        "map.add_child(folium.LayerControl())\n",
        "map.save(outfile='map.html')"
      ],
      "metadata": {
        "id": "Z73sqQw8uoc8"
      },
      "execution_count": null,
      "outputs": []
    },
    {
      "cell_type": "code",
      "source": [
        "dict={1:\"Python\",2:\"Android\"}\n",
        "print(dict)\n",
        "print(dict[1])\n",
        "\n",
        "dict[1]=\"Javascript\"\n",
        "print(dict)\n",
        "\n",
        "del(dict[2])\n",
        "print(dict)\n",
        "\n",
        "print(len(dict))\n",
        "print(str(dict))\n",
        "print(type(dict))\n",
        "\n",
        "print(dict.copy())\n",
        "dict.clear()\n",
        "print(dict)\n",
        "\n",
        "#add\n",
        "dict1={1:'Python',2:'Android'}\n",
        "print(dict1.items())\n",
        "\n",
        "print(dict1.keys())\n",
        "\n",
        "print(dict1.values())\n",
        "\n",
        "print(dict1.setdefault(1,4))\n",
        "\n",
        "\n",
        "dic={3:'Python',1:'Java',2:'Big Data'}\n",
        "ks=list(dic.keys())\n",
        "print(ks)\n",
        "\n",
        "sk=sorted(ks)\n",
        "print(sk)\n",
        "\n",
        "for key in sk:\n",
        "    print(key,'=>',dic[key])"
      ],
      "metadata": {
        "id": "7i8ojrwQvA94"
      },
      "execution_count": null,
      "outputs": []
    },
    {
      "cell_type": "code",
      "source": [
        "#List\n",
        "list=[1,2,\"Python\",\"Android\"]\n",
        "print(list)\n",
        "\n",
        "list[2]=\"Data Science\"\n",
        "print(list)\n",
        "\n",
        "#Tuple\n",
        "tup=(1,2,3,\"Data Science\")\n",
        "print(tup)\n",
        "\n",
        "tup[1]=\"Python\"\n",
        "print(tup)\n"
      ],
      "metadata": {
        "id": "5A-0nz84vEWX"
      },
      "execution_count": null,
      "outputs": []
    },
    {
      "cell_type": "code",
      "source": [
        "str=input(\"Enter your input\")\n",
        "print(\"Received input is: \",str)\n",
        "\n",
        "\n",
        "# Example\n",
        "\n",
        "name=input(\"Enter your name\")\n",
        "\n",
        "age=input(\"Enter your age\")\n",
        "\n",
        "print(\"Welcome \",name)\n",
        "print(\"Your age is \",age)\n",
        "\n",
        "print(\"After 5 years, your age will be :\",(int(age)+5))"
      ],
      "metadata": {
        "id": "vFDRvV-yvK_Z"
      },
      "execution_count": null,
      "outputs": []
    },
    {
      "cell_type": "code",
      "source": [
        "list=[\"Hadoop\",\"Python\",\"Android\"]\n",
        "print(list[1])\n",
        "\n",
        "print(list[0:2])\n",
        "\n",
        "print(list[-1])\n",
        "\n",
        "list=[\"Hadoop\",\"Python\",\"Android\"]\n",
        "\n",
        "list[1]=\"Java\"\n",
        "print(list)\n",
        "\n",
        "del(list[2])\n",
        "print(list)\n",
        "\n",
        "list=[1,2,3]\n",
        "list.append(\"Machine Learning\")\n",
        "print(list)\n",
        "\n",
        "list.extend(['g','h'])\n",
        "print(list)\n",
        "\n",
        "list.insert(1,'Scripting')\n",
        "print(list)\n",
        "\n",
        "list.remove(3)\n",
        "print(list)\n",
        "\n",
        "lst=[1,4,2,'x','y','z']\n",
        "if(type(lst)==list):\n",
        "    print(\"Yes\")\n",
        "\n",
        "\n",
        "\n",
        "list3=[1,2,5,'Python','Haddop']\n",
        "print(type(list3))\n",
        "\n",
        "print([x**2 for x in[1,2,3,4,5]])\n",
        "\n",
        "\n",
        "list4=['Pytyhon','Java','Haddop','Android']\n",
        "print(list4.sort())\n",
        "print(list3.reverse())\n",
        "\n",
        "print([x**2 for x in[1,2,3,4,5]])\n",
        "\n",
        "list=[1,2,3,4,5,'a','b','c']\n",
        "print(list.pop(3))\n",
        "\n",
        "list.remove('a')\n",
        "print(list)\n",
        "\n",
        "list1=['Python','XYZ','ABC','PQR']\n",
        "print(list1)\n",
        "\n",
        "print(sorted(list1))\n",
        "\n",
        "print(list1[::-1])"
      ],
      "metadata": {
        "id": "9vgQzjhPvO2Z"
      },
      "execution_count": null,
      "outputs": []
    },
    {
      "cell_type": "code",
      "source": [
        "list=[\"Hadoop\",\"Python\",\"Android\"]\n",
        "print(list)\n",
        "\n",
        "tuple=(\"Python\",\"Hadoop\")\n",
        "print(tuple)"
      ],
      "metadata": {
        "id": "NDBE0ZLnvRvS"
      },
      "execution_count": null,
      "outputs": []
    },
    {
      "cell_type": "code",
      "source": [
        "list=[(1,2,3),(\"Python\",\"Java\")]\n",
        "print(list)\n",
        "print(len(list))\n",
        "print(list[1][0:1])\n",
        "\n",
        "list[0][1]=50\n",
        "print(list)\n",
        "\n",
        "tup=([1,2,3],[3,4,5],[5,6,7])\n",
        "print(tup)\n",
        "print(len(tup))\n",
        "print(tup[0][1])\n",
        "\n",
        "#Updating Tuple\n",
        "tup[0][1]=90\n",
        "print(tup)\n",
        "\n",
        "#Deleting element in Tuple\n",
        "del(tup[1][2])\n",
        "print(tup)\n",
        "\n",
        "list=[1,2,'Python','Android']\n",
        "print(list)\n",
        "\n",
        "list[2]='Data Science'\n",
        "print(list)\n",
        "\n",
        "tup=(1,2,3,'Data Science')\n",
        "print(tup)"
      ],
      "metadata": {
        "id": "8qV4Rul0vVFC"
      },
      "execution_count": null,
      "outputs": []
    },
    {
      "cell_type": "code",
      "source": [
        "import os\n",
        "newfile=open(\"Edureka_Py.txt\",\"w+\")\n",
        "\n",
        "for i in range(1,10):\n",
        "    newfile.write(\"\\n Hello, welcome to Python:\")\n",
        "\n",
        "\n",
        "for i in range(1,10):\n",
        "    print(newfile.read())\n",
        "\n",
        "newfile.seek(0)\n",
        "print(newfile.tell())\n",
        "os.rename(\"Edureka.txt\",\"Python.txt\")\n",
        "os.remove(\"Edureka.txt\")\n",
        "\n",
        "newfile.close()\n"
      ],
      "metadata": {
        "id": "Frt93fTpwRxZ"
      },
      "execution_count": null,
      "outputs": []
    },
    {
      "cell_type": "code",
      "source": [
        "list=[\"Marketing\",\"Content Designing\",\"Sales\"]\n",
        "print(list)\n",
        "\n",
        "#Concatenation\n",
        "print(list+[\"Python\",\"Hadoop\"])\n",
        "\n",
        "#Repetition\n",
        "print(list*2)\n",
        "\n",
        "#Membership Testing\n",
        "print('Marketing' in list)\n",
        "\n",
        "#Indexing\n",
        "print(list[2])\n",
        "\n",
        "#Slicing\n",
        "print(list[0:2])"
      ],
      "metadata": {
        "id": "izCgWQHJwVMo"
      },
      "execution_count": null,
      "outputs": []
    },
    {
      "cell_type": "code",
      "source": [
        "X=set('Welcome To Edureka')\n",
        "print(X)\n",
        "\n",
        "A={1,2,3,4}\n",
        "B={3,4,5,6}\n",
        "print(A|B)\n",
        "print(A&B)\n",
        "\n",
        "A={1,2,3,4,5}\n",
        "B={4,5,6,7,8}\n",
        "print(A-B)\n",
        "\n",
        "s={'a','b','c','d','e','f','o','v'}\n",
        "set1={'a','b','d','o','v'}\n",
        "set2={'a','c','d','o','e'}\n",
        "print(set1|set2)\n",
        "print(set1&set2)\n",
        "print(set1-set2)\n",
        "\n",
        "#add\n",
        "\n",
        "s={1,2,3,'a','b'}\n",
        "set1={1,'a','b'}\n",
        "print(1 in s)\n",
        "\n",
        "print(set1.issubset(s))\n",
        "\n",
        "print(5 not in s)\n",
        "\n",
        "print(s.issuperset(set1))\n",
        "\n",
        "print(s.union(set1))\n",
        "\n",
        "print(s.intersection(set1))\n",
        "\n",
        "print(s.difference(set1))\n",
        "\n",
        "print(s.symmetric_difference(set1))\n"
      ],
      "metadata": {
        "id": "tZY7JIG2wYcN"
      },
      "execution_count": null,
      "outputs": []
    },
    {
      "cell_type": "code",
      "source": [
        "values=input()\n",
        "l=values.split(\",\")\n",
        "t=tuple(l)\n",
        "print(l)\n",
        "print(t)\n"
      ],
      "metadata": {
        "id": "pekH6Cerwb4z"
      },
      "execution_count": null,
      "outputs": []
    },
    {
      "cell_type": "code",
      "source": [
        "tup1=(\"Haddop\",\"Python\",\"Java\")\n",
        "\n",
        "print(len(tup1))\n",
        "print(max(tup1))\n",
        "print(min(tup1))\n",
        "\n",
        "\n",
        "\n",
        "\n",
        "\n",
        "tup1=(\"Haddop\",\"Python\",\"Java\")\n",
        "\n",
        "print(len(tup1))\n",
        "\n",
        "print(tup1*2)\n",
        "\n",
        "print(\"Java\" in tup1)\n",
        "\n",
        "tup2=(1,3,5,7)\n",
        "tup3=(2,4,6,8)\n",
        "tup4=tup2+tup3\n",
        "print(tup4)\n",
        "\n",
        "del(tup2)\n",
        "print(tup2)\n",
        "\n",
        "\n",
        "tup=(1,3,5,2)\n",
        "\n",
        "print(sorted(tup))\n",
        "\n",
        "print(tup[::-1])\n",
        "\n",
        "\n",
        "tuple1=(1,3,5,7,'a','b')\n",
        "lst=list(tuple1)\n",
        "\n",
        "print(lst)\n",
        "\n",
        "lst[1]=\"Python\"\n",
        "print(lst)\n",
        "\n",
        "tuple2=tuple(lst)\n",
        "print(tuple2)"
      ],
      "metadata": {
        "id": "uIMmStNExC9-"
      },
      "execution_count": null,
      "outputs": []
    },
    {
      "cell_type": "code",
      "source": [
        "#tuple in set\n",
        "dict={1:(1,2,3),2:(3,4,5)}\n",
        "print(dict)\n",
        "print(dict[1][1])\n",
        "\n",
        "\n",
        "#list in set\n",
        "dict={1:[\"Python\",\"Java\"],2:[1,3,5,7]}\n",
        "print(dict)\n",
        "print(dict[1][0])\n"
      ],
      "metadata": {
        "id": "mKF2n4QIxI4G"
      },
      "execution_count": null,
      "outputs": []
    }
  ]
}