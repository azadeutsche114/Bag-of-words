{
  "nbformat": 4,
  "nbformat_minor": 0,
  "metadata": {
    "colab": {
      "provenance": [],
      "collapsed_sections": [],
      "include_colab_link": true
    },
    "kernelspec": {
      "name": "python3",
      "display_name": "Python 3"
    },
    "language_info": {
      "name": "python"
    }
  },
  "cells": [
    {
      "cell_type": "markdown",
      "metadata": {
        "id": "view-in-github",
        "colab_type": "text"
      },
      "source": [
        "<a href=\"https://colab.research.google.com/github/azadeutsche114/Bag-of-words/blob/main/Class_III_1.ipynb\" target=\"_parent\"><img src=\"https://colab.research.google.com/assets/colab-badge.svg\" alt=\"Open In Colab\"/></a>"
      ]
    },
    {
      "cell_type": "markdown",
      "source": [
        "# Functions in Python\n",
        "\n",
        "```python\n",
        "def function_name(parameters):\n",
        "  statement(s)\n",
        "```"
      ],
      "metadata": {
        "id": "LwQiiK6-Itqd"
      }
    },
    {
      "cell_type": "code",
      "execution_count": null,
      "metadata": {
        "id": "woV_q_fmImSX"
      },
      "outputs": [],
      "source": [
        "def Example():\n",
        "  print(\"Good morning\")"
      ]
    },
    {
      "cell_type": "code",
      "source": [
        "# calling a function - function_name(parameters)\n",
        "Example()"
      ],
      "metadata": {
        "colab": {
          "base_uri": "https://localhost:8080/"
        },
        "id": "6s8uOqs0I-__",
        "outputId": "e983914e-68b4-47c3-9374-f876ef7ccf55"
      },
      "execution_count": null,
      "outputs": [
        {
          "output_type": "stream",
          "name": "stdout",
          "text": [
            "Good morning\n"
          ]
        }
      ]
    },
    {
      "cell_type": "code",
      "source": [
        "def Example():\n",
        "  print(\"Good morning\")\n",
        "  print(\"Good Evening\")\n",
        "  print(\"Good Night\")"
      ],
      "metadata": {
        "id": "9AuhMoj0JJYv"
      },
      "execution_count": null,
      "outputs": []
    },
    {
      "cell_type": "code",
      "source": [
        "Example()"
      ],
      "metadata": {
        "colab": {
          "base_uri": "https://localhost:8080/"
        },
        "id": "QqoF4nGNJVaG",
        "outputId": "7cc10d95-c9b8-4ca7-c215-eda2af6b6862"
      },
      "execution_count": null,
      "outputs": [
        {
          "output_type": "stream",
          "name": "stdout",
          "text": [
            "Good morning\n",
            "Good Evening\n",
            "Good Night\n"
          ]
        }
      ]
    },
    {
      "cell_type": "code",
      "source": [
        "def Example2(name):\n",
        "  print(f\"Good morning {name}\")"
      ],
      "metadata": {
        "id": "iSTd1YsMJWVd"
      },
      "execution_count": null,
      "outputs": []
    },
    {
      "cell_type": "code",
      "source": [
        "Example2(\"Rajat\")"
      ],
      "metadata": {
        "colab": {
          "base_uri": "https://localhost:8080/"
        },
        "id": "UNBCcAs5JnJO",
        "outputId": "a0b51988-7067-4c58-979b-d834a99a5566"
      },
      "execution_count": null,
      "outputs": [
        {
          "output_type": "stream",
          "name": "stdout",
          "text": [
            "Good morning Rajat\n"
          ]
        }
      ]
    },
    {
      "cell_type": "code",
      "source": [
        "Example2(100)"
      ],
      "metadata": {
        "colab": {
          "base_uri": "https://localhost:8080/"
        },
        "id": "kfzMEilJPOWo",
        "outputId": "04125df5-91c5-449d-b255-a84ca20863ea"
      },
      "execution_count": null,
      "outputs": [
        {
          "output_type": "stream",
          "name": "stdout",
          "text": [
            "Good morning 100\n"
          ]
        }
      ]
    },
    {
      "cell_type": "code",
      "source": [
        "def Example3(name, empid):\n",
        "  print(f\"Good morning {name}\")\n",
        "  print(f\"Your employee id is {empid}\")"
      ],
      "metadata": {
        "id": "7iYWIBAMJxzL"
      },
      "execution_count": null,
      "outputs": []
    },
    {
      "cell_type": "code",
      "source": [
        "Example3(\"Rajat\",123)"
      ],
      "metadata": {
        "colab": {
          "base_uri": "https://localhost:8080/"
        },
        "id": "XDeQwMkQKIXH",
        "outputId": "839a44b7-5ffe-487a-b35e-3f8a7830d885"
      },
      "execution_count": null,
      "outputs": [
        {
          "output_type": "stream",
          "name": "stdout",
          "text": [
            "Good morning Rajat\n",
            "Your employee id is 123\n"
          ]
        }
      ]
    },
    {
      "cell_type": "code",
      "source": [
        "Example3(\"murthy\")"
      ],
      "metadata": {
        "colab": {
          "base_uri": "https://localhost:8080/",
          "height": 172
        },
        "id": "mnHK29glPaZl",
        "outputId": "b9dc9813-c0f5-4003-ce38-cc885630344f"
      },
      "execution_count": null,
      "outputs": [
        {
          "output_type": "error",
          "ename": "TypeError",
          "evalue": "ignored",
          "traceback": [
            "\u001b[0;31m---------------------------------------------------------------------------\u001b[0m",
            "\u001b[0;31mTypeError\u001b[0m                                 Traceback (most recent call last)",
            "\u001b[0;32m<ipython-input-7-508a731d0246>\u001b[0m in \u001b[0;36m<module>\u001b[0;34m\u001b[0m\n\u001b[0;32m----> 1\u001b[0;31m \u001b[0mExample3\u001b[0m\u001b[0;34m(\u001b[0m\u001b[0;34m\"murthy\"\u001b[0m\u001b[0;34m)\u001b[0m\u001b[0;34m\u001b[0m\u001b[0;34m\u001b[0m\u001b[0m\n\u001b[0m",
            "\u001b[0;31mTypeError\u001b[0m: Example3() missing 1 required positional argument: 'empid'"
          ]
        }
      ]
    },
    {
      "cell_type": "code",
      "source": [
        "name = input(\"Name: \")\n",
        "empid = input(\"emp id: \")\n",
        "Example3(name, empid)"
      ],
      "metadata": {
        "colab": {
          "base_uri": "https://localhost:8080/"
        },
        "id": "DwnkT_GUKzMx",
        "outputId": "cf7f5c3d-fe72-4b21-eeed-74288224147f"
      },
      "execution_count": null,
      "outputs": [
        {
          "output_type": "stream",
          "name": "stdout",
          "text": [
            "Name: Rjat\n",
            "emp id: 456\n",
            "Good morning Rjat\n",
            "Your employee id is 456\n"
          ]
        }
      ]
    },
    {
      "cell_type": "markdown",
      "source": [
        "## InClass Activity:  Create the function that accepts two numbers and print the sum"
      ],
      "metadata": {
        "id": "gZf2on8WKb4v"
      }
    },
    {
      "cell_type": "code",
      "source": [
        "def func(x,y):\n",
        "  print(f\"Sum is {x+y}\")\n",
        "\n",
        "func(10,20)"
      ],
      "metadata": {
        "id": "Dqsf4PVfN_jn",
        "colab": {
          "base_uri": "https://localhost:8080/"
        },
        "outputId": "6d381082-3820-4677-dbd9-53f3b5248280"
      },
      "execution_count": null,
      "outputs": [
        {
          "output_type": "stream",
          "name": "stdout",
          "text": [
            "Sum is 30\n"
          ]
        }
      ]
    },
    {
      "cell_type": "markdown",
      "source": [
        "# Return Statement in Functions"
      ],
      "metadata": {
        "id": "Mw7SgH0sP6sW"
      }
    },
    {
      "cell_type": "code",
      "source": [
        "result = func(10,10)"
      ],
      "metadata": {
        "id": "9pDSvN1yOHoR",
        "colab": {
          "base_uri": "https://localhost:8080/"
        },
        "outputId": "c37942ab-ef74-432a-db52-93c60bd83185"
      },
      "execution_count": null,
      "outputs": [
        {
          "output_type": "stream",
          "name": "stdout",
          "text": [
            "Sum is 20\n"
          ]
        }
      ]
    },
    {
      "cell_type": "code",
      "source": [
        "print(result)"
      ],
      "metadata": {
        "colab": {
          "base_uri": "https://localhost:8080/"
        },
        "id": "IadA8iLHQHD0",
        "outputId": "79e6a158-846a-4044-9e83-5985bc3e0852"
      },
      "execution_count": null,
      "outputs": [
        {
          "output_type": "stream",
          "name": "stdout",
          "text": [
            "None\n"
          ]
        }
      ]
    },
    {
      "cell_type": "code",
      "source": [
        "def func2(x,y):\n",
        "  print(f\"Sum is {x+y}\")\n",
        "  return x+y # you can have only one return statement\n",
        "\n",
        "result = func2(10,20)"
      ],
      "metadata": {
        "colab": {
          "base_uri": "https://localhost:8080/"
        },
        "id": "ic4xKidkQMRr",
        "outputId": "89616249-87e9-43e4-e9b6-064123c6b7e4"
      },
      "execution_count": null,
      "outputs": [
        {
          "output_type": "stream",
          "name": "stdout",
          "text": [
            "Sum is 30\n"
          ]
        }
      ]
    },
    {
      "cell_type": "code",
      "source": [
        "print(result)"
      ],
      "metadata": {
        "colab": {
          "base_uri": "https://localhost:8080/"
        },
        "id": "AAgi_WpmQm58",
        "outputId": "fc704d81-d3f8-438b-a3ab-ca3d269b5677"
      },
      "execution_count": null,
      "outputs": [
        {
          "output_type": "stream",
          "name": "stdout",
          "text": [
            "30\n"
          ]
        }
      ]
    },
    {
      "cell_type": "markdown",
      "source": [
        "# Scope of Variables"
      ],
      "metadata": {
        "id": "9_S1YKUtRACb"
      }
    },
    {
      "cell_type": "code",
      "source": [
        "def example3(x,y):\n",
        "  r = x+y # Local Variable - it is valid only inside a function\n",
        "  print(f\"Sum is {r}\")\n",
        "  return r"
      ],
      "metadata": {
        "id": "scoI9M-iQppL"
      },
      "execution_count": null,
      "outputs": []
    },
    {
      "cell_type": "code",
      "source": [
        "result = example3(10,15)"
      ],
      "metadata": {
        "colab": {
          "base_uri": "https://localhost:8080/"
        },
        "id": "BcSY_tmYRRRZ",
        "outputId": "5eeaba4b-0079-4605-a26a-92579f624dcd"
      },
      "execution_count": null,
      "outputs": [
        {
          "output_type": "stream",
          "name": "stdout",
          "text": [
            "Sum is 25\n"
          ]
        }
      ]
    },
    {
      "cell_type": "code",
      "source": [
        "print(result)"
      ],
      "metadata": {
        "colab": {
          "base_uri": "https://localhost:8080/"
        },
        "id": "OsQ4eI8BRVLk",
        "outputId": "e7871909-e3a1-40ca-b6d1-06be37ec2cf5"
      },
      "execution_count": null,
      "outputs": [
        {
          "output_type": "stream",
          "name": "stdout",
          "text": [
            "25\n"
          ]
        }
      ]
    },
    {
      "cell_type": "code",
      "source": [
        "print(r)"
      ],
      "metadata": {
        "colab": {
          "base_uri": "https://localhost:8080/",
          "height": 172
        },
        "id": "UJAAvdkvRZRm",
        "outputId": "6907a974-c6a1-4314-c679-4cb016b9af21"
      },
      "execution_count": null,
      "outputs": [
        {
          "output_type": "error",
          "ename": "NameError",
          "evalue": "ignored",
          "traceback": [
            "\u001b[0;31m---------------------------------------------------------------------------\u001b[0m",
            "\u001b[0;31mNameError\u001b[0m                                 Traceback (most recent call last)",
            "\u001b[0;32m<ipython-input-17-c6b8a6a9416b>\u001b[0m in \u001b[0;36m<module>\u001b[0;34m\u001b[0m\n\u001b[0;32m----> 1\u001b[0;31m \u001b[0mprint\u001b[0m\u001b[0;34m(\u001b[0m\u001b[0mr\u001b[0m\u001b[0;34m)\u001b[0m\u001b[0;34m\u001b[0m\u001b[0;34m\u001b[0m\u001b[0m\n\u001b[0m",
            "\u001b[0;31mNameError\u001b[0m: name 'r' is not defined"
          ]
        }
      ]
    },
    {
      "cell_type": "markdown",
      "source": [
        "# Keyworded inputs & Positional Inputs"
      ],
      "metadata": {
        "id": "WBULazxfR827"
      }
    },
    {
      "cell_type": "code",
      "source": [
        "def example3(x,y):\n",
        "  print(f\"x is {x}, y is {y}\")\n",
        "  r = x+y # Local Variable - it is valid only inside a function\n",
        "  print(f\"Sum is {r}\")\n",
        "  return r"
      ],
      "metadata": {
        "id": "P947DRV8SFGp"
      },
      "execution_count": null,
      "outputs": []
    },
    {
      "cell_type": "code",
      "source": [
        "example3(20,30)"
      ],
      "metadata": {
        "colab": {
          "base_uri": "https://localhost:8080/"
        },
        "id": "j6Pjeb-TR8Uj",
        "outputId": "791db869-233d-4371-aa96-81ea56a5ef52"
      },
      "execution_count": null,
      "outputs": [
        {
          "output_type": "stream",
          "name": "stdout",
          "text": [
            "x is 20, y is 30\n",
            "Sum is 50\n"
          ]
        },
        {
          "output_type": "execute_result",
          "data": {
            "text/plain": [
              "50"
            ]
          },
          "metadata": {},
          "execution_count": 21
        }
      ]
    },
    {
      "cell_type": "code",
      "source": [
        "example3(10,5) # Positional Arguments/inputs"
      ],
      "metadata": {
        "colab": {
          "base_uri": "https://localhost:8080/"
        },
        "id": "iKU0EKG3RcOU",
        "outputId": "c4f50427-a32f-4ca5-82ca-f0724cc48a00"
      },
      "execution_count": null,
      "outputs": [
        {
          "output_type": "stream",
          "name": "stdout",
          "text": [
            "x is 10, y is 5\n",
            "Sum is 15\n"
          ]
        },
        {
          "output_type": "execute_result",
          "data": {
            "text/plain": [
              "15"
            ]
          },
          "metadata": {},
          "execution_count": 22
        }
      ]
    },
    {
      "cell_type": "code",
      "source": [
        "example3(20)"
      ],
      "metadata": {
        "colab": {
          "base_uri": "https://localhost:8080/",
          "height": 172
        },
        "id": "zYWCyAztSuJp",
        "outputId": "5eb67f72-8a56-44af-85c4-fbe00f5a65be"
      },
      "execution_count": null,
      "outputs": [
        {
          "output_type": "error",
          "ename": "TypeError",
          "evalue": "ignored",
          "traceback": [
            "\u001b[0;31m---------------------------------------------------------------------------\u001b[0m",
            "\u001b[0;31mTypeError\u001b[0m                                 Traceback (most recent call last)",
            "\u001b[0;32m<ipython-input-23-960bcd87fbd1>\u001b[0m in \u001b[0;36m<module>\u001b[0;34m\u001b[0m\n\u001b[0;32m----> 1\u001b[0;31m \u001b[0mexample3\u001b[0m\u001b[0;34m(\u001b[0m\u001b[0;36m20\u001b[0m\u001b[0;34m)\u001b[0m\u001b[0;34m\u001b[0m\u001b[0;34m\u001b[0m\u001b[0m\n\u001b[0m",
            "\u001b[0;31mTypeError\u001b[0m: example3() missing 1 required positional argument: 'y'"
          ]
        }
      ]
    },
    {
      "cell_type": "markdown",
      "source": [
        "##Keyworded Argument"
      ],
      "metadata": {
        "id": "Dab2AIzHTFw0"
      }
    },
    {
      "cell_type": "code",
      "source": [
        "example3(x=1,y=5)"
      ],
      "metadata": {
        "colab": {
          "base_uri": "https://localhost:8080/"
        },
        "id": "llSrn5NXS6sh",
        "outputId": "e15d5370-633f-48d2-c809-dc15d5ea638e"
      },
      "execution_count": null,
      "outputs": [
        {
          "output_type": "stream",
          "name": "stdout",
          "text": [
            "x is 1, y is 5\n",
            "Sum is 6\n"
          ]
        },
        {
          "output_type": "execute_result",
          "data": {
            "text/plain": [
              "6"
            ]
          },
          "metadata": {},
          "execution_count": 24
        }
      ]
    },
    {
      "cell_type": "code",
      "source": [
        "example3(y=5,x=1)"
      ],
      "metadata": {
        "colab": {
          "base_uri": "https://localhost:8080/"
        },
        "id": "qR6i6rj8TQ1G",
        "outputId": "6ecdc227-e2f9-47be-e0d1-02bb0d02e082"
      },
      "execution_count": null,
      "outputs": [
        {
          "output_type": "stream",
          "name": "stdout",
          "text": [
            "x is 1, y is 5\n",
            "Sum is 6\n"
          ]
        },
        {
          "output_type": "execute_result",
          "data": {
            "text/plain": [
              "6"
            ]
          },
          "metadata": {},
          "execution_count": 25
        }
      ]
    },
    {
      "cell_type": "code",
      "source": [
        "# Positional Argument cannot be after keyworded argument\n",
        "example3(y=3,6)"
      ],
      "metadata": {
        "colab": {
          "base_uri": "https://localhost:8080/",
          "height": 135
        },
        "id": "V00rhxJxTV1q",
        "outputId": "abc13b58-7d4d-4ed4-915c-bf509b767202"
      },
      "execution_count": null,
      "outputs": [
        {
          "output_type": "error",
          "ename": "SyntaxError",
          "evalue": "ignored",
          "traceback": [
            "\u001b[0;36m  File \u001b[0;32m\"<ipython-input-26-42f9a07a4037>\"\u001b[0;36m, line \u001b[0;32m2\u001b[0m\n\u001b[0;31m    example3(y=3,6)\u001b[0m\n\u001b[0m                ^\u001b[0m\n\u001b[0;31mSyntaxError\u001b[0m\u001b[0;31m:\u001b[0m positional argument follows keyword argument\n"
          ]
        }
      ]
    },
    {
      "cell_type": "code",
      "source": [
        "example3(10,y=20)"
      ],
      "metadata": {
        "colab": {
          "base_uri": "https://localhost:8080/"
        },
        "id": "LosFGQD6Tma2",
        "outputId": "cf3e2ccb-3106-454d-9e81-5131b9bdf1f6"
      },
      "execution_count": null,
      "outputs": [
        {
          "output_type": "stream",
          "name": "stdout",
          "text": [
            "x is 10, y is 20\n",
            "Sum is 30\n"
          ]
        },
        {
          "output_type": "execute_result",
          "data": {
            "text/plain": [
              "30"
            ]
          },
          "metadata": {},
          "execution_count": 27
        }
      ]
    },
    {
      "cell_type": "markdown",
      "source": [
        "## Default Values for a function parameters"
      ],
      "metadata": {
        "id": "YJUiwczjTw-n"
      }
    },
    {
      "cell_type": "code",
      "source": [
        "def example4(x,y=25):\n",
        "  print(f\"x is {x}, y is {y}\")\n",
        "  r = x+y # Local Variable - it is valid only inside a function\n",
        "  print(f\"Sum is {r}\")\n",
        "  return r"
      ],
      "metadata": {
        "id": "6rqXhaiDTtFL"
      },
      "execution_count": null,
      "outputs": []
    },
    {
      "cell_type": "code",
      "source": [
        "example4(10)"
      ],
      "metadata": {
        "colab": {
          "base_uri": "https://localhost:8080/"
        },
        "id": "_9o2Ghr4UKrv",
        "outputId": "43a793b2-5cfa-4303-caec-f2abbbebad3c"
      },
      "execution_count": null,
      "outputs": [
        {
          "output_type": "stream",
          "name": "stdout",
          "text": [
            "x is 10, y is 25\n",
            "Sum is 35\n"
          ]
        },
        {
          "output_type": "execute_result",
          "data": {
            "text/plain": [
              "35"
            ]
          },
          "metadata": {},
          "execution_count": 29
        }
      ]
    },
    {
      "cell_type": "code",
      "source": [
        "example4(x=5)"
      ],
      "metadata": {
        "colab": {
          "base_uri": "https://localhost:8080/"
        },
        "id": "XsIyotuKUNYH",
        "outputId": "e289ce3b-c994-4b20-9174-2fe94132fb75"
      },
      "execution_count": null,
      "outputs": [
        {
          "output_type": "stream",
          "name": "stdout",
          "text": [
            "x is 5, y is 25\n",
            "Sum is 30\n"
          ]
        },
        {
          "output_type": "execute_result",
          "data": {
            "text/plain": [
              "30"
            ]
          },
          "metadata": {},
          "execution_count": 31
        }
      ]
    },
    {
      "cell_type": "code",
      "source": [
        "example4(10,20)"
      ],
      "metadata": {
        "colab": {
          "base_uri": "https://localhost:8080/"
        },
        "id": "sy_AXelmURr3",
        "outputId": "a9b30eb9-76e4-426a-eef6-725e2e7935c5"
      },
      "execution_count": null,
      "outputs": [
        {
          "output_type": "stream",
          "name": "stdout",
          "text": [
            "x is 10, y is 20\n",
            "Sum is 30\n"
          ]
        },
        {
          "output_type": "execute_result",
          "data": {
            "text/plain": [
              "30"
            ]
          },
          "metadata": {},
          "execution_count": 32
        }
      ]
    },
    {
      "cell_type": "code",
      "source": [
        "example4(x=5,y= 6)"
      ],
      "metadata": {
        "colab": {
          "base_uri": "https://localhost:8080/"
        },
        "id": "BYJCuSK4UV3Y",
        "outputId": "06fa08ba-3014-4c57-b137-9651e260ff83"
      },
      "execution_count": null,
      "outputs": [
        {
          "output_type": "stream",
          "name": "stdout",
          "text": [
            "x is 5, y is 6\n",
            "Sum is 11\n"
          ]
        },
        {
          "output_type": "execute_result",
          "data": {
            "text/plain": [
              "11"
            ]
          },
          "metadata": {},
          "execution_count": 33
        }
      ]
    },
    {
      "cell_type": "markdown",
      "source": [
        "## Function calling another function"
      ],
      "metadata": {
        "id": "mqov1yG4Ugh8"
      }
    },
    {
      "cell_type": "code",
      "source": [
        "def add(x,y):\n",
        "  return x+y\n",
        "\n",
        "def multiply(x,y):\n",
        "  return x*y\n",
        "\n",
        "def divide(x,y):\n",
        "  return x/y\n",
        "\n",
        "def calculator(x,y):\n",
        "  print(f\"sum is {add(x,y)}\")\n",
        "  print(f\"multiplication is {multiply(x,y)}\")\n",
        "  print(f\"division is {divide(x,y)}\")"
      ],
      "metadata": {
        "id": "F9AC0KmoUbCI"
      },
      "execution_count": null,
      "outputs": []
    },
    {
      "cell_type": "code",
      "source": [
        "calculator(10,5)"
      ],
      "metadata": {
        "colab": {
          "base_uri": "https://localhost:8080/"
        },
        "id": "MXw8yEpzU6cX",
        "outputId": "60cbadbb-7f54-4b1f-9465-f351e1fa4055"
      },
      "execution_count": null,
      "outputs": [
        {
          "output_type": "stream",
          "name": "stdout",
          "text": [
            "sum is 15\n",
            "multiplication is 50\n",
            "division is 2.0\n"
          ]
        }
      ]
    },
    {
      "cell_type": "markdown",
      "source": [
        "# Variable number of Positional Arguments\n",
        "`*args`"
      ],
      "metadata": {
        "id": "YCpluOjsWN2_"
      }
    },
    {
      "cell_type": "code",
      "source": [
        "calculator(10,20)"
      ],
      "metadata": {
        "colab": {
          "base_uri": "https://localhost:8080/"
        },
        "id": "0SPYnQtbU825",
        "outputId": "6a9f80db-73d6-452a-d788-f4ceaaee8494"
      },
      "execution_count": null,
      "outputs": [
        {
          "output_type": "stream",
          "name": "stdout",
          "text": [
            "sum is 30\n",
            "multiplication is 200\n",
            "division is 0.5\n"
          ]
        }
      ]
    },
    {
      "cell_type": "code",
      "source": [
        "example4(2)"
      ],
      "metadata": {
        "colab": {
          "base_uri": "https://localhost:8080/"
        },
        "id": "adYVV5X2Wdt2",
        "outputId": "d932abe1-e6a5-4dcf-d14d-ba46e001564a"
      },
      "execution_count": null,
      "outputs": [
        {
          "output_type": "stream",
          "name": "stdout",
          "text": [
            "x is 2, y is 25\n",
            "Sum is 27\n"
          ]
        },
        {
          "output_type": "execute_result",
          "data": {
            "text/plain": [
              "27"
            ]
          },
          "metadata": {},
          "execution_count": 37
        }
      ]
    },
    {
      "cell_type": "code",
      "source": [
        "calculator(10,20,40)"
      ],
      "metadata": {
        "colab": {
          "base_uri": "https://localhost:8080/",
          "height": 172
        },
        "id": "uzkttV3PWgF1",
        "outputId": "ad868fa4-1242-4135-f0a7-5fe69f271d54"
      },
      "execution_count": null,
      "outputs": [
        {
          "output_type": "error",
          "ename": "TypeError",
          "evalue": "ignored",
          "traceback": [
            "\u001b[0;31m---------------------------------------------------------------------------\u001b[0m",
            "\u001b[0;31mTypeError\u001b[0m                                 Traceback (most recent call last)",
            "\u001b[0;32m<ipython-input-38-e04233d474f3>\u001b[0m in \u001b[0;36m<module>\u001b[0;34m\u001b[0m\n\u001b[0;32m----> 1\u001b[0;31m \u001b[0mcalculator\u001b[0m\u001b[0;34m(\u001b[0m\u001b[0;36m10\u001b[0m\u001b[0;34m,\u001b[0m\u001b[0;36m20\u001b[0m\u001b[0;34m,\u001b[0m\u001b[0;36m40\u001b[0m\u001b[0;34m)\u001b[0m\u001b[0;34m\u001b[0m\u001b[0;34m\u001b[0m\u001b[0m\n\u001b[0m",
            "\u001b[0;31mTypeError\u001b[0m: calculator() takes 2 positional arguments but 3 were given"
          ]
        }
      ]
    },
    {
      "cell_type": "code",
      "source": [
        "print(\"hello\",\"world\",100)"
      ],
      "metadata": {
        "colab": {
          "base_uri": "https://localhost:8080/"
        },
        "id": "46NjzkR-Wkso",
        "outputId": "72317af8-af78-4e89-a4cf-4b99625dcc5c"
      },
      "execution_count": null,
      "outputs": [
        {
          "output_type": "stream",
          "name": "stdout",
          "text": [
            "hello world 100\n"
          ]
        }
      ]
    },
    {
      "cell_type": "code",
      "source": [
        "def example5(x,y,*args):\n",
        "  print(f\"x is {x}, y is {y}\")\n",
        "  print(f\"datatype of args is {type(args)},and looks like {args}\")\n",
        "  for arg in args:\n",
        "    print(arg)"
      ],
      "metadata": {
        "id": "aepceQJoW3F0"
      },
      "execution_count": null,
      "outputs": []
    },
    {
      "cell_type": "code",
      "source": [
        "example5(10,20,20,30,50,60)"
      ],
      "metadata": {
        "colab": {
          "base_uri": "https://localhost:8080/"
        },
        "id": "3Wl2v25iXZ4r",
        "outputId": "667dd02a-ee1c-4b6c-c95d-25bda60108ec"
      },
      "execution_count": null,
      "outputs": [
        {
          "output_type": "stream",
          "name": "stdout",
          "text": [
            "x is 10, y is 20\n",
            "datatype of args is <class 'tuple'>,and looks like (20, 30, 50, 60)\n",
            "20\n",
            "30\n",
            "50\n",
            "60\n"
          ]
        }
      ]
    },
    {
      "cell_type": "code",
      "source": [
        "def add(*args):\n",
        "  s = 0\n",
        "  for v in args:\n",
        "    s += v\n",
        "  return s"
      ],
      "metadata": {
        "id": "SQcQu2smY7fr"
      },
      "execution_count": null,
      "outputs": []
    },
    {
      "cell_type": "code",
      "source": [
        "add(5,6,5,2,3,5)"
      ],
      "metadata": {
        "colab": {
          "base_uri": "https://localhost:8080/"
        },
        "id": "Y9xKWHfEZGsm",
        "outputId": "e0a818b6-6149-4d79-bff8-ab1a51dc635e"
      },
      "execution_count": null,
      "outputs": [
        {
          "output_type": "execute_result",
          "data": {
            "text/plain": [
              "26"
            ]
          },
          "metadata": {},
          "execution_count": 54
        }
      ]
    },
    {
      "cell_type": "markdown",
      "source": [
        "# Variable number of keyworded arguments"
      ],
      "metadata": {
        "id": "Zf3u4V3_YB3O"
      }
    },
    {
      "cell_type": "code",
      "source": [
        "def myFun(**kwargs):\n",
        "  print(f\"variable kwargs data type is {type(kwargs)}, and it looks like - {kwargs}\")"
      ],
      "metadata": {
        "id": "ee08YJcwXqIj"
      },
      "execution_count": null,
      "outputs": []
    },
    {
      "cell_type": "code",
      "source": [
        "myFun(a=100, b = 20, c = 'welcome',d = 'data')"
      ],
      "metadata": {
        "colab": {
          "base_uri": "https://localhost:8080/"
        },
        "id": "xgksy6LxYX8O",
        "outputId": "2267a6a4-24e7-4f5f-e8ad-dbe4bad1b58d"
      },
      "execution_count": null,
      "outputs": [
        {
          "output_type": "stream",
          "name": "stdout",
          "text": [
            "variable kwargs data type is <class 'dict'>, and it looks like - {'a': 100, 'b': 20, 'c': 'welcome', 'd': 'data'}\n"
          ]
        }
      ]
    },
    {
      "cell_type": "code",
      "source": [
        "def myFun(**var):\n",
        "  print(f\"variable var data type is {type(var)}, and it looks like - {var}\")"
      ],
      "metadata": {
        "id": "33Hr2kEuYpTR"
      },
      "execution_count": null,
      "outputs": []
    },
    {
      "cell_type": "code",
      "source": [
        "myFun(a=100, b = 20, c = 'welcome',d = 'data')"
      ],
      "metadata": {
        "colab": {
          "base_uri": "https://localhost:8080/"
        },
        "id": "5VlX6KL3YsHp",
        "outputId": "d136bb08-4ce4-40fc-da2d-0418f3bc38a1"
      },
      "execution_count": null,
      "outputs": [
        {
          "output_type": "stream",
          "name": "stdout",
          "text": [
            "variable var data type is <class 'dict'>, and it looks like - {'a': 100, 'b': 20, 'c': 'welcome', 'd': 'data'}\n"
          ]
        }
      ]
    },
    {
      "cell_type": "markdown",
      "source": [
        "# Lambda function\n",
        "\n",
        "**Lambda**:\n",
        "```python\n",
        "lambda arguments:expression\n",
        "```"
      ],
      "metadata": {
        "id": "7jXI5ZnsZlcP"
      }
    },
    {
      "cell_type": "code",
      "source": [
        "def cal(num1,num2):\n",
        "  return num1+num2"
      ],
      "metadata": {
        "id": "5iX1A3RfYu7U"
      },
      "execution_count": null,
      "outputs": []
    },
    {
      "cell_type": "code",
      "source": [
        "cal(20,30)"
      ],
      "metadata": {
        "colab": {
          "base_uri": "https://localhost:8080/"
        },
        "id": "8PyTG7zKaAl-",
        "outputId": "4f703334-0670-4046-f6a3-737efe585247"
      },
      "execution_count": null,
      "outputs": [
        {
          "output_type": "execute_result",
          "data": {
            "text/plain": [
              "50"
            ]
          },
          "metadata": {},
          "execution_count": 56
        }
      ]
    },
    {
      "cell_type": "code",
      "source": [
        "F = lambda num1,num2 : num1+num2"
      ],
      "metadata": {
        "id": "2aVekWPiaCib"
      },
      "execution_count": null,
      "outputs": []
    },
    {
      "cell_type": "code",
      "source": [
        "F(10,15)"
      ],
      "metadata": {
        "colab": {
          "base_uri": "https://localhost:8080/"
        },
        "id": "ziYk7tcmaMrH",
        "outputId": "c0288009-efb5-4ad6-c4aa-0ce0a42a1c8d"
      },
      "execution_count": null,
      "outputs": [
        {
          "output_type": "execute_result",
          "data": {
            "text/plain": [
              "25"
            ]
          },
          "metadata": {},
          "execution_count": 58
        }
      ]
    },
    {
      "cell_type": "markdown",
      "source": [
        "# Filter Function\n",
        "\n",
        "*Syntax*\n",
        "```python\n",
        "filter(Function, iterable)\n",
        "```"
      ],
      "metadata": {
        "id": "E0eki8cYacpM"
      }
    },
    {
      "cell_type": "code",
      "source": [
        "l = [1,2,3,4,5,6,7]\n",
        "filter(lambda x:x%2==0 , l) # return filter object"
      ],
      "metadata": {
        "colab": {
          "base_uri": "https://localhost:8080/"
        },
        "id": "C_GHp_kBaPJx",
        "outputId": "0c0f4cfb-dfba-4320-e664-f0c2fd829be7"
      },
      "execution_count": null,
      "outputs": [
        {
          "output_type": "execute_result",
          "data": {
            "text/plain": [
              "<filter at 0x7fbc19bdb7d0>"
            ]
          },
          "metadata": {},
          "execution_count": 59
        }
      ]
    },
    {
      "cell_type": "code",
      "source": [
        "list(filter(lambda x:x%2==0 , l))"
      ],
      "metadata": {
        "colab": {
          "base_uri": "https://localhost:8080/"
        },
        "id": "qRvMdGRsa-NX",
        "outputId": "f42462df-2141-4a64-f6b5-9e8fef8ed2da"
      },
      "execution_count": null,
      "outputs": [
        {
          "output_type": "execute_result",
          "data": {
            "text/plain": [
              "[2, 4, 6]"
            ]
          },
          "metadata": {},
          "execution_count": 60
        }
      ]
    },
    {
      "cell_type": "markdown",
      "source": [
        "# Map function\n",
        "\n",
        "*Syntax*\n",
        "```python\n",
        "map(Function, iterable)\n",
        "```"
      ],
      "metadata": {
        "id": "HtcRcwPzbSFd"
      }
    },
    {
      "cell_type": "code",
      "source": [
        "l = [1,2,3,4,5,6,7]\n",
        "map(lambda x: x**3 , l)"
      ],
      "metadata": {
        "colab": {
          "base_uri": "https://localhost:8080/"
        },
        "id": "ttfttHhpbFv4",
        "outputId": "ac9ea676-57b7-4169-e46b-6a56ad37f61d"
      },
      "execution_count": null,
      "outputs": [
        {
          "output_type": "execute_result",
          "data": {
            "text/plain": [
              "<map at 0x7fbc19c08190>"
            ]
          },
          "metadata": {},
          "execution_count": 61
        }
      ]
    },
    {
      "cell_type": "code",
      "source": [
        "list(map(lambda x: x**3 , l))"
      ],
      "metadata": {
        "colab": {
          "base_uri": "https://localhost:8080/"
        },
        "id": "4XKcnFjTbgbe",
        "outputId": "5084f84c-000d-435f-f6b5-dc536f5b8ef0"
      },
      "execution_count": null,
      "outputs": [
        {
          "output_type": "execute_result",
          "data": {
            "text/plain": [
              "[1, 8, 27, 64, 125, 216, 343]"
            ]
          },
          "metadata": {},
          "execution_count": 62
        }
      ]
    },
    {
      "cell_type": "markdown",
      "source": [
        "# List Comprehension"
      ],
      "metadata": {
        "id": "_WwFwabKbx7s"
      }
    },
    {
      "cell_type": "code",
      "source": [
        "l1 = [1,2,3,4,5,6,7,8,9]\n",
        "l2 = []\n",
        "for element in l1:\n",
        "  l2.append(element*2)\n",
        "print(l2)"
      ],
      "metadata": {
        "colab": {
          "base_uri": "https://localhost:8080/"
        },
        "id": "_jwijyXZbjTB",
        "outputId": "c30dec59-2dd0-4f65-a3a8-0ae8be52fb97"
      },
      "execution_count": null,
      "outputs": [
        {
          "output_type": "stream",
          "name": "stdout",
          "text": [
            "[2, 4, 6, 8, 10, 12, 14, 16, 18]\n"
          ]
        }
      ]
    },
    {
      "cell_type": "markdown",
      "source": [
        "*Syntax*\n",
        "```python\n",
        "[expression for item in iterable]\n",
        "```"
      ],
      "metadata": {
        "id": "b_0lb1PJcZuf"
      }
    },
    {
      "cell_type": "code",
      "source": [
        "[element*2 for element in l1]"
      ],
      "metadata": {
        "colab": {
          "base_uri": "https://localhost:8080/"
        },
        "id": "gCEtZRyYgkXj",
        "outputId": "c6b6c5e0-fefc-42ea-d876-59a5de7fc022"
      },
      "execution_count": null,
      "outputs": [
        {
          "output_type": "execute_result",
          "data": {
            "text/plain": [
              "[2, 4, 6, 8, 10, 12, 14, 16, 18]"
            ]
          },
          "metadata": {},
          "execution_count": 67
        }
      ]
    },
    {
      "cell_type": "code",
      "source": [
        "[element*2 for element in l1]"
      ],
      "metadata": {
        "colab": {
          "base_uri": "https://localhost:8080/"
        },
        "id": "AMS47O2OcN6B",
        "outputId": "4d61e58b-97b6-4b0a-f3a9-8c2144a4a96d"
      },
      "execution_count": null,
      "outputs": [
        {
          "output_type": "execute_result",
          "data": {
            "text/plain": [
              "[2, 4, 6, 8, 10, 12, 14, 16, 18]"
            ]
          },
          "metadata": {},
          "execution_count": 64
        }
      ]
    },
    {
      "cell_type": "code",
      "source": [
        "F2 = lambda *args: args\n",
        "F2(10,20,30)"
      ],
      "metadata": {
        "colab": {
          "base_uri": "https://localhost:8080/"
        },
        "id": "wLf5uPz3dQHX",
        "outputId": "6e1aa7ff-df69-42f7-a56e-408d0578578d"
      },
      "execution_count": null,
      "outputs": [
        {
          "output_type": "execute_result",
          "data": {
            "text/plain": [
              "(10, 20, 30)"
            ]
          },
          "metadata": {},
          "execution_count": 66
        }
      ]
    },
    {
      "cell_type": "markdown",
      "source": [
        "# Classes"
      ],
      "metadata": {
        "id": "okZHxdARj48f"
      }
    },
    {
      "cell_type": "code",
      "source": [
        "x = 10\n",
        "y = \"hello\"\n",
        "z = 10.50\n",
        "a = [10,20,30]\n",
        "\n",
        "print(type(a))\n",
        "print(type(x))\n",
        "print(type(y))\n",
        "print(type(z))"
      ],
      "metadata": {
        "colab": {
          "base_uri": "https://localhost:8080/"
        },
        "id": "3RSy1YELdVjX",
        "outputId": "d1af7904-cbde-4174-827f-08b92ad93d7c"
      },
      "execution_count": null,
      "outputs": [
        {
          "output_type": "stream",
          "name": "stdout",
          "text": [
            "<class 'list'>\n",
            "<class 'int'>\n",
            "<class 'str'>\n",
            "<class 'float'>\n"
          ]
        }
      ]
    },
    {
      "cell_type": "code",
      "source": [
        "# Create a class\n",
        "class example():\n",
        "  def func(self): #Class methods(Functions inside a class) will  have self as first parameter\n",
        "    pass"
      ],
      "metadata": {
        "id": "NuXOoxSMkC4x"
      },
      "execution_count": null,
      "outputs": []
    },
    {
      "cell_type": "code",
      "source": [
        "#obj_name = class_name()\n",
        "ob1 = example()\n",
        "print(ob1)"
      ],
      "metadata": {
        "colab": {
          "base_uri": "https://localhost:8080/"
        },
        "id": "ye-UAfdCkpCF",
        "outputId": "4d2bcdcc-c191-479d-f15c-3e48eacef7dc"
      },
      "execution_count": null,
      "outputs": [
        {
          "output_type": "stream",
          "name": "stdout",
          "text": [
            "<__main__.example object at 0x7fbc19b9e650>\n"
          ]
        }
      ]
    },
    {
      "cell_type": "code",
      "source": [
        "# To access class method - object.method()"
      ],
      "metadata": {
        "id": "MBORQor2k3dc"
      },
      "execution_count": null,
      "outputs": []
    },
    {
      "cell_type": "code",
      "source": [
        "ob1.func() # class method"
      ],
      "metadata": {
        "id": "3rrBLVZhlEll"
      },
      "execution_count": null,
      "outputs": []
    },
    {
      "cell_type": "code",
      "source": [
        "# By using self in the method, we pass the object itself\n",
        "# ob1.func() --> it will be converted to example.func(ob1) - class.method(object)"
      ],
      "metadata": {
        "id": "GaTnGFhMlHvr"
      },
      "execution_count": null,
      "outputs": []
    },
    {
      "cell_type": "markdown",
      "source": [
        "## Attributes:\n",
        "\n",
        "Variables inside a class or object. "
      ],
      "metadata": {
        "id": "Z48Vbvo7ledS"
      }
    },
    {
      "cell_type": "code",
      "source": [
        "# Attributes\n",
        "class example():\n",
        "  pass"
      ],
      "metadata": {
        "id": "l1isN30ilWlk"
      },
      "execution_count": null,
      "outputs": []
    },
    {
      "cell_type": "code",
      "source": [
        "ob1 = example()\n",
        "ob2 = example()"
      ],
      "metadata": {
        "id": "79F1iVlplm6H"
      },
      "execution_count": null,
      "outputs": []
    },
    {
      "cell_type": "code",
      "source": [
        "print(ob1)"
      ],
      "metadata": {
        "colab": {
          "base_uri": "https://localhost:8080/"
        },
        "id": "BrXg0EEWlsPi",
        "outputId": "8766c66e-e3cc-40d2-972d-e2bf60178d7a"
      },
      "execution_count": null,
      "outputs": [
        {
          "output_type": "stream",
          "name": "stdout",
          "text": [
            "<__main__.example object at 0x7fbc19c2f750>\n"
          ]
        }
      ]
    },
    {
      "cell_type": "code",
      "source": [
        "print(ob2)"
      ],
      "metadata": {
        "colab": {
          "base_uri": "https://localhost:8080/"
        },
        "id": "OimenRfwlvIk",
        "outputId": "d94115c2-6dcd-4c81-d501-24c8e35b348e"
      },
      "execution_count": null,
      "outputs": [
        {
          "output_type": "stream",
          "name": "stdout",
          "text": [
            "<__main__.example object at 0x7fbc19c2ffd0>\n"
          ]
        }
      ]
    },
    {
      "cell_type": "code",
      "source": [
        "ob1.name = \"Jacob\" # add a variable/attribute for the object ob1"
      ],
      "metadata": {
        "id": "sv9JgQTAlxZi"
      },
      "execution_count": null,
      "outputs": []
    },
    {
      "cell_type": "code",
      "source": [
        "ob1.name"
      ],
      "metadata": {
        "colab": {
          "base_uri": "https://localhost:8080/",
          "height": 36
        },
        "id": "3exdlIubl7ha",
        "outputId": "a13cd197-c99c-4411-a040-3d1a816cc2ed"
      },
      "execution_count": null,
      "outputs": [
        {
          "output_type": "execute_result",
          "data": {
            "text/plain": [
              "'Jacob'"
            ],
            "application/vnd.google.colaboratory.intrinsic+json": {
              "type": "string"
            }
          },
          "metadata": {},
          "execution_count": 80
        }
      ]
    },
    {
      "cell_type": "code",
      "source": [
        "ob2.name"
      ],
      "metadata": {
        "colab": {
          "base_uri": "https://localhost:8080/",
          "height": 172
        },
        "id": "MIpy5ar0mCsB",
        "outputId": "c31f2141-4468-4523-9a9c-2e127b2e7108"
      },
      "execution_count": null,
      "outputs": [
        {
          "output_type": "error",
          "ename": "AttributeError",
          "evalue": "ignored",
          "traceback": [
            "\u001b[0;31m---------------------------------------------------------------------------\u001b[0m",
            "\u001b[0;31mAttributeError\u001b[0m                            Traceback (most recent call last)",
            "\u001b[0;32m<ipython-input-81-8beb3ca61502>\u001b[0m in \u001b[0;36m<module>\u001b[0;34m\u001b[0m\n\u001b[0;32m----> 1\u001b[0;31m \u001b[0mob2\u001b[0m\u001b[0;34m.\u001b[0m\u001b[0mname\u001b[0m\u001b[0;34m\u001b[0m\u001b[0;34m\u001b[0m\u001b[0m\n\u001b[0m",
            "\u001b[0;31mAttributeError\u001b[0m: 'example' object has no attribute 'name'"
          ]
        }
      ]
    },
    {
      "cell_type": "code",
      "source": [
        "# Attributes\n",
        "class example():\n",
        "  cake = \"strawberry\" # Attributes\n",
        "  pass"
      ],
      "metadata": {
        "id": "DIq2vrn-mF90"
      },
      "execution_count": null,
      "outputs": []
    },
    {
      "cell_type": "code",
      "source": [
        "ob1 = example()\n",
        "ob2 = example()"
      ],
      "metadata": {
        "id": "actEYBVsmS4H"
      },
      "execution_count": null,
      "outputs": []
    },
    {
      "cell_type": "code",
      "source": [
        "ob1.cake"
      ],
      "metadata": {
        "colab": {
          "base_uri": "https://localhost:8080/",
          "height": 36
        },
        "id": "i0y_fzSomV8m",
        "outputId": "a08caab3-4090-4aca-bdee-16930f3d779d"
      },
      "execution_count": null,
      "outputs": [
        {
          "output_type": "execute_result",
          "data": {
            "text/plain": [
              "'strawberry'"
            ],
            "application/vnd.google.colaboratory.intrinsic+json": {
              "type": "string"
            }
          },
          "metadata": {},
          "execution_count": 84
        }
      ]
    },
    {
      "cell_type": "code",
      "source": [
        "ob2.cake"
      ],
      "metadata": {
        "colab": {
          "base_uri": "https://localhost:8080/",
          "height": 36
        },
        "id": "AQce4p6WmXvE",
        "outputId": "b1f9ec6f-7c2a-450f-e715-3cc4c157b670"
      },
      "execution_count": null,
      "outputs": [
        {
          "output_type": "execute_result",
          "data": {
            "text/plain": [
              "'strawberry'"
            ],
            "application/vnd.google.colaboratory.intrinsic+json": {
              "type": "string"
            }
          },
          "metadata": {},
          "execution_count": 85
        }
      ]
    },
    {
      "cell_type": "markdown",
      "source": [
        "# Initialization"
      ],
      "metadata": {
        "id": "MQxMRNlOmzoF"
      }
    },
    {
      "cell_type": "code",
      "source": [
        "class example2():\n",
        "  def __init__(self, name):\n",
        "    self.name = name # self - object itself "
      ],
      "metadata": {
        "id": "l5H4vKdqmZsR"
      },
      "execution_count": null,
      "outputs": []
    },
    {
      "cell_type": "code",
      "source": [
        "ob1 = example2()"
      ],
      "metadata": {
        "colab": {
          "base_uri": "https://localhost:8080/",
          "height": 172
        },
        "id": "Rzj1NTjgnMuA",
        "outputId": "06922ed8-9387-4f3e-850e-82f7022eb086"
      },
      "execution_count": null,
      "outputs": [
        {
          "output_type": "error",
          "ename": "TypeError",
          "evalue": "ignored",
          "traceback": [
            "\u001b[0;31m---------------------------------------------------------------------------\u001b[0m",
            "\u001b[0;31mTypeError\u001b[0m                                 Traceback (most recent call last)",
            "\u001b[0;32m<ipython-input-87-7253504a8b35>\u001b[0m in \u001b[0;36m<module>\u001b[0;34m\u001b[0m\n\u001b[0;32m----> 1\u001b[0;31m \u001b[0mob1\u001b[0m \u001b[0;34m=\u001b[0m \u001b[0mexample2\u001b[0m\u001b[0;34m(\u001b[0m\u001b[0;34m)\u001b[0m\u001b[0;34m\u001b[0m\u001b[0;34m\u001b[0m\u001b[0m\n\u001b[0m",
            "\u001b[0;31mTypeError\u001b[0m: __init__() missing 1 required positional argument: 'name'"
          ]
        }
      ]
    },
    {
      "cell_type": "code",
      "source": [
        "ob1 = example2(\"John\")"
      ],
      "metadata": {
        "id": "9EHmYNx5nPsC"
      },
      "execution_count": null,
      "outputs": []
    },
    {
      "cell_type": "code",
      "source": [
        "ob1.name"
      ],
      "metadata": {
        "colab": {
          "base_uri": "https://localhost:8080/",
          "height": 36
        },
        "id": "6Kvp9NLZnbh1",
        "outputId": "534c1b51-f9bb-45ae-8af9-d0493242cf02"
      },
      "execution_count": null,
      "outputs": [
        {
          "output_type": "execute_result",
          "data": {
            "text/plain": [
              "'John'"
            ],
            "application/vnd.google.colaboratory.intrinsic+json": {
              "type": "string"
            }
          },
          "metadata": {},
          "execution_count": 89
        }
      ]
    },
    {
      "cell_type": "code",
      "source": [
        "# class example3():\n",
        "#   def __init__(self,name):\n",
        "#     self.name = name\n",
        "  \n",
        "#   def sum(self,a,b):\n",
        "#     self.a = a\n",
        "#     self.b = b\n",
        "#     return self.a + self.b"
      ],
      "metadata": {
        "id": "0gDpGBU0qBCk"
      },
      "execution_count": null,
      "outputs": []
    },
    {
      "cell_type": "code",
      "source": [
        "ob1 = example3(\"Jack\")"
      ],
      "metadata": {
        "id": "GQbA0-npqR-t"
      },
      "execution_count": null,
      "outputs": []
    },
    {
      "cell_type": "code",
      "source": [
        "ob1.sum(20,30)"
      ],
      "metadata": {
        "colab": {
          "base_uri": "https://localhost:8080/"
        },
        "id": "IB77bPilqkeT",
        "outputId": "85e1ae0a-110f-41cf-b2ca-3b01a78eee16"
      },
      "execution_count": null,
      "outputs": [
        {
          "output_type": "execute_result",
          "data": {
            "text/plain": [
              "50"
            ]
          },
          "metadata": {},
          "execution_count": 99
        }
      ]
    },
    {
      "cell_type": "markdown",
      "source": [
        "## In Class - Activity: Create a class as `CAKE` and store the initialized value of flavor & person name into the attributes"
      ],
      "metadata": {
        "id": "re1SwCm6nzJv"
      }
    },
    {
      "cell_type": "code",
      "source": [
        "class cake():\n",
        "  def __init__(self,flavor,name):\n",
        "    self.flavor = flavor\n",
        "    self.name = name"
      ],
      "metadata": {
        "id": "fclfc_IcnkhA"
      },
      "execution_count": null,
      "outputs": []
    },
    {
      "cell_type": "code",
      "source": [
        "c1 = cake(\"Chocolate\",\"Dheeraj\")"
      ],
      "metadata": {
        "id": "oMqoOSdmq5QC"
      },
      "execution_count": null,
      "outputs": []
    },
    {
      "cell_type": "code",
      "source": [
        "c1.flavor # attribute"
      ],
      "metadata": {
        "colab": {
          "base_uri": "https://localhost:8080/",
          "height": 36
        },
        "id": "KOPlV3WTq_OM",
        "outputId": "a81f42ed-9c77-43f5-f880-688866222c69"
      },
      "execution_count": null,
      "outputs": [
        {
          "output_type": "execute_result",
          "data": {
            "text/plain": [
              "'Chocolate'"
            ],
            "application/vnd.google.colaboratory.intrinsic+json": {
              "type": "string"
            }
          },
          "metadata": {},
          "execution_count": 102
        }
      ]
    },
    {
      "cell_type": "code",
      "source": [
        "class cake():\n",
        "  def __init__(self,flavor,name):\n",
        "    self.x1 = flavor\n",
        "    self.x2 = name"
      ],
      "metadata": {
        "id": "mjXjqncosDts"
      },
      "execution_count": null,
      "outputs": []
    },
    {
      "cell_type": "code",
      "source": [
        "c1 = cake(\"Chocolate\",\"Dheeraj\")"
      ],
      "metadata": {
        "id": "ZR0u-5Q0sGuO"
      },
      "execution_count": null,
      "outputs": []
    },
    {
      "cell_type": "code",
      "source": [
        "c1.x1"
      ],
      "metadata": {
        "colab": {
          "base_uri": "https://localhost:8080/",
          "height": 36
        },
        "id": "q3TCgI2AsHks",
        "outputId": "8234f3cf-0c88-4332-a92d-2e43f95a5c02"
      },
      "execution_count": null,
      "outputs": [
        {
          "output_type": "execute_result",
          "data": {
            "text/plain": [
              "'Chocolate'"
            ],
            "application/vnd.google.colaboratory.intrinsic+json": {
              "type": "string"
            }
          },
          "metadata": {},
          "execution_count": 106
        }
      ]
    },
    {
      "cell_type": "code",
      "source": [
        "c1.x2"
      ],
      "metadata": {
        "colab": {
          "base_uri": "https://localhost:8080/",
          "height": 36
        },
        "id": "zaFtxIIksJ3-",
        "outputId": "6d2e5da9-534a-474e-d0ca-34d7d89b262a"
      },
      "execution_count": null,
      "outputs": [
        {
          "output_type": "execute_result",
          "data": {
            "text/plain": [
              "'Dheeraj'"
            ],
            "application/vnd.google.colaboratory.intrinsic+json": {
              "type": "string"
            }
          },
          "metadata": {},
          "execution_count": 107
        }
      ]
    },
    {
      "cell_type": "markdown",
      "source": [
        "# Inheritence\n",
        "\n",
        "**Syntax**\n",
        "\n",
        "```python\n",
        "class Car(): # parent class\n",
        "  pass\n",
        "\n",
        "class SUV(Car): # child class\n",
        "  pass\n",
        "```"
      ],
      "metadata": {
        "id": "G3KXsfAqbfp_"
      }
    },
    {
      "cell_type": "code",
      "source": [
        "class Car(): # parent class\n",
        "  pass\n",
        "\n",
        "class SUV(Car): # sub class\n",
        "  pass"
      ],
      "metadata": {
        "id": "nVS2TLojaw8F"
      },
      "execution_count": null,
      "outputs": []
    },
    {
      "cell_type": "code",
      "source": [
        "issubclass(SUV,Car)"
      ],
      "metadata": {
        "colab": {
          "base_uri": "https://localhost:8080/"
        },
        "id": "1s-hqOzRaw27",
        "outputId": "c9d51dce-7b68-4929-944b-2ddf3c2d2861"
      },
      "execution_count": null,
      "outputs": [
        {
          "output_type": "execute_result",
          "data": {
            "text/plain": [
              "True"
            ]
          },
          "metadata": {},
          "execution_count": 3
        }
      ]
    },
    {
      "cell_type": "code",
      "source": [
        "c1 = Car()\n",
        "c2 = SUV()"
      ],
      "metadata": {
        "id": "AKC1RWyWawz7"
      },
      "execution_count": null,
      "outputs": []
    },
    {
      "cell_type": "markdown",
      "source": [
        "## Inherit from Parent"
      ],
      "metadata": {
        "id": "FUZmvR5WcqzQ"
      }
    },
    {
      "cell_type": "code",
      "source": [
        "class Car(): # parent class\n",
        "  def wheels(self):\n",
        "    print(\"I am a FWD car\")\n",
        "\n",
        "class SUV(Car): # sub class\n",
        "  pass"
      ],
      "metadata": {
        "id": "dT3TFo9Ncj1K"
      },
      "execution_count": null,
      "outputs": []
    },
    {
      "cell_type": "code",
      "source": [
        "c1 = Car()\n",
        "c2 = SUV()"
      ],
      "metadata": {
        "id": "CATGXD-5cjxT"
      },
      "execution_count": null,
      "outputs": []
    },
    {
      "cell_type": "code",
      "source": [
        "c1.wheels()"
      ],
      "metadata": {
        "colab": {
          "base_uri": "https://localhost:8080/"
        },
        "id": "VVFEDjjRcjt4",
        "outputId": "4c189a64-540d-46ef-a446-7c5cdcfddf79"
      },
      "execution_count": null,
      "outputs": [
        {
          "output_type": "stream",
          "name": "stdout",
          "text": [
            "I am a FWD car\n"
          ]
        }
      ]
    },
    {
      "cell_type": "code",
      "source": [
        "c2.wheels()"
      ],
      "metadata": {
        "colab": {
          "base_uri": "https://localhost:8080/"
        },
        "id": "4w48gX3AcjqN",
        "outputId": "38d8a757-d46c-4ed6-8b81-21bc20192095"
      },
      "execution_count": null,
      "outputs": [
        {
          "output_type": "stream",
          "name": "stdout",
          "text": [
            "I am a FWD car\n"
          ]
        }
      ]
    },
    {
      "cell_type": "code",
      "source": [
        "# Every method and attribute inside a parent class will be accessible from child class/object"
      ],
      "metadata": {
        "id": "dADCMMefawwl"
      },
      "execution_count": null,
      "outputs": []
    },
    {
      "cell_type": "markdown",
      "source": [
        "## Override a Method"
      ],
      "metadata": {
        "id": "IDzWL1JIdmMt"
      }
    },
    {
      "cell_type": "code",
      "source": [
        "class Car(): # parent class\n",
        "  def wheels(self):\n",
        "    print(\"I am a FWD car\")\n",
        "\n",
        "class SUV(Car): # sub class\n",
        "  def wheels(self):\n",
        "    print(\"I am a 4WD car\")"
      ],
      "metadata": {
        "id": "WvuzGSIhdmCS"
      },
      "execution_count": null,
      "outputs": []
    },
    {
      "cell_type": "code",
      "source": [
        "c1 = Car()\n",
        "c2 = SUV()"
      ],
      "metadata": {
        "id": "cutYOSvcdl-i"
      },
      "execution_count": null,
      "outputs": []
    },
    {
      "cell_type": "code",
      "source": [
        "c1.wheels()"
      ],
      "metadata": {
        "colab": {
          "base_uri": "https://localhost:8080/"
        },
        "id": "4cv2icSndl6s",
        "outputId": "a8221b8c-fe5d-4604-dca0-e547fbf090c1"
      },
      "execution_count": null,
      "outputs": [
        {
          "output_type": "stream",
          "name": "stdout",
          "text": [
            "I am a FWD car\n"
          ]
        }
      ]
    },
    {
      "cell_type": "code",
      "source": [
        "c2.wheels()"
      ],
      "metadata": {
        "colab": {
          "base_uri": "https://localhost:8080/"
        },
        "id": "SKH7FdHXdl2p",
        "outputId": "ab15aa5a-b7d5-45da-b2c9-95534c918465"
      },
      "execution_count": null,
      "outputs": [
        {
          "output_type": "stream",
          "name": "stdout",
          "text": [
            "I am a 4WD car\n"
          ]
        }
      ]
    },
    {
      "cell_type": "markdown",
      "source": [
        "## Adding a new method inside a class"
      ],
      "metadata": {
        "id": "yJUR5x3QeGF8"
      }
    },
    {
      "cell_type": "code",
      "source": [
        "class Car(): # parent class\n",
        "  def wheels(self):\n",
        "    print(\"I am a FWD car\")\n",
        "\n",
        "class SUV(Car): # sub class\n",
        "  def wheels(self):\n",
        "    print(\"I am a 4WD car\")\n",
        "  \n",
        "  def seater(self):\n",
        "    print(\"This car has 6 seats\")"
      ],
      "metadata": {
        "id": "gjJlXYx7dlyJ"
      },
      "execution_count": null,
      "outputs": []
    },
    {
      "cell_type": "code",
      "source": [
        "c1 = Car()\n",
        "c2 = SUV()"
      ],
      "metadata": {
        "id": "XGKTf6DXdltr"
      },
      "execution_count": null,
      "outputs": []
    },
    {
      "cell_type": "code",
      "source": [
        "c1.wheels()"
      ],
      "metadata": {
        "colab": {
          "base_uri": "https://localhost:8080/"
        },
        "id": "frHhv90IdlpT",
        "outputId": "5ee9c13d-6e2f-4745-c72b-e86537e01f0f"
      },
      "execution_count": null,
      "outputs": [
        {
          "output_type": "stream",
          "name": "stdout",
          "text": [
            "I am a FWD car\n"
          ]
        }
      ]
    },
    {
      "cell_type": "code",
      "source": [
        "c2.wheels()"
      ],
      "metadata": {
        "colab": {
          "base_uri": "https://localhost:8080/"
        },
        "id": "9dEmg-hndllE",
        "outputId": "c0f94cae-247f-4a43-b818-ef414d44aa03"
      },
      "execution_count": null,
      "outputs": [
        {
          "output_type": "stream",
          "name": "stdout",
          "text": [
            "I am a 4WD car\n"
          ]
        }
      ]
    },
    {
      "cell_type": "code",
      "source": [
        "c2.seater()"
      ],
      "metadata": {
        "colab": {
          "base_uri": "https://localhost:8080/"
        },
        "id": "QpyY4b_IdlhB",
        "outputId": "3a82604f-b277-4583-bbbc-eed5e4073ae0"
      },
      "execution_count": null,
      "outputs": [
        {
          "output_type": "stream",
          "name": "stdout",
          "text": [
            "This car has 6 seats\n"
          ]
        }
      ]
    },
    {
      "cell_type": "code",
      "source": [
        "c1.seater()"
      ],
      "metadata": {
        "colab": {
          "base_uri": "https://localhost:8080/",
          "height": 168
        },
        "id": "SAnx5iRddldQ",
        "outputId": "d1d00531-a50f-4dca-9805-ffd17a99f3d0"
      },
      "execution_count": null,
      "outputs": [
        {
          "output_type": "error",
          "ename": "AttributeError",
          "evalue": "ignored",
          "traceback": [
            "\u001b[0;31m---------------------------------------------------------------------------\u001b[0m",
            "\u001b[0;31mAttributeError\u001b[0m                            Traceback (most recent call last)",
            "\u001b[0;32m<ipython-input-19-f74edb6efb71>\u001b[0m in \u001b[0;36m<module>\u001b[0;34m\u001b[0m\n\u001b[0;32m----> 1\u001b[0;31m \u001b[0mc1\u001b[0m\u001b[0;34m.\u001b[0m\u001b[0mseater\u001b[0m\u001b[0;34m(\u001b[0m\u001b[0;34m)\u001b[0m\u001b[0;34m\u001b[0m\u001b[0;34m\u001b[0m\u001b[0m\n\u001b[0m",
            "\u001b[0;31mAttributeError\u001b[0m: 'Car' object has no attribute 'seater'"
          ]
        }
      ]
    },
    {
      "cell_type": "markdown",
      "source": [
        "# Multiple Inheritence"
      ],
      "metadata": {
        "id": "UJhR299Ze46H"
      }
    },
    {
      "cell_type": "code",
      "source": [
        "class Animal():\n",
        "  def says(self):\n",
        "    return \"I can speak\"\n",
        "\n",
        "class Horse(Animal):\n",
        "  def says(self):\n",
        "    return \"Neigh\"\n",
        "\n",
        "class Dog(Animal):\n",
        "  def says(self):\n",
        "    return \"Woof\"\n",
        "\n",
        "class Tiger(Animal):\n",
        "  def says(self):\n",
        "    return \"Roar\"\n",
        "\n",
        "class Donkey(Animal):\n",
        "  def says(self):\n",
        "    return \"Hee-Haw\"\n",
        "\n",
        "class Mule(Donkey,Tiger,Dog):\n",
        "  #pass\n",
        "  def says(self):\n",
        "    return \"Mule\""
      ],
      "metadata": {
        "id": "ioFTNtUievAz"
      },
      "execution_count": null,
      "outputs": []
    },
    {
      "cell_type": "code",
      "source": [
        "m = Mule()"
      ],
      "metadata": {
        "id": "EK2NMr8eeu7Q"
      },
      "execution_count": null,
      "outputs": []
    },
    {
      "cell_type": "code",
      "source": [
        "# Method Resolution Order\n",
        "Mule.mro()"
      ],
      "metadata": {
        "colab": {
          "base_uri": "https://localhost:8080/"
        },
        "id": "5M-WbXzXfiH9",
        "outputId": "25c3a802-bca8-41b8-98fe-4a7b346f24c7"
      },
      "execution_count": null,
      "outputs": [
        {
          "output_type": "execute_result",
          "data": {
            "text/plain": [
              "[__main__.Mule,\n",
              " __main__.Donkey,\n",
              " __main__.Tiger,\n",
              " __main__.Dog,\n",
              " __main__.Animal,\n",
              " object]"
            ]
          },
          "metadata": {},
          "execution_count": 26
        }
      ]
    },
    {
      "cell_type": "code",
      "source": [
        "m.says()"
      ],
      "metadata": {
        "colab": {
          "base_uri": "https://localhost:8080/",
          "height": 35
        },
        "id": "ATN_5QQheu2P",
        "outputId": "c276d22f-c812-4828-8f79-8c6451c8447b"
      },
      "execution_count": null,
      "outputs": [
        {
          "output_type": "execute_result",
          "data": {
            "text/plain": [
              "'Mule'"
            ],
            "application/vnd.google.colaboratory.intrinsic+json": {
              "type": "string"
            }
          },
          "metadata": {},
          "execution_count": 27
        }
      ]
    },
    {
      "cell_type": "markdown",
      "source": [
        "### In Class - Activity: Create a Class that takes input as : radius, and has the methods which return Area & Circumference\n",
        "\n",
        "Area = `3.14*r*r`\n",
        "circumference = `2*3.14*r`"
      ],
      "metadata": {
        "id": "gjaOkA5QgTgb"
      }
    },
    {
      "cell_type": "code",
      "source": [
        "# init method - should get radius\n",
        "# area method - should return area\n",
        "# circunference - should return circumference"
      ],
      "metadata": {
        "id": "DwwcBjrSeuxA"
      },
      "execution_count": null,
      "outputs": []
    },
    {
      "cell_type": "code",
      "source": [
        "class circle():\n",
        "  def __init__(self, radius):\n",
        "    self.radius = radius\n",
        "  \n",
        "  def area(self):\n",
        "    return 3.14*self.radius*self.radius\n",
        "  \n",
        "  def circumference(self):\n",
        "    return 2*3.14*self.radius"
      ],
      "metadata": {
        "id": "IQICcFaydlaP"
      },
      "execution_count": null,
      "outputs": []
    },
    {
      "cell_type": "code",
      "source": [
        "c1 = circle(5)\n",
        "c1.area()"
      ],
      "metadata": {
        "colab": {
          "base_uri": "https://localhost:8080/"
        },
        "id": "c--cHNeOgWyM",
        "outputId": "8cdfa39e-d193-4a5e-afe5-d6b6187c0b4d"
      },
      "execution_count": null,
      "outputs": [
        {
          "output_type": "execute_result",
          "data": {
            "text/plain": [
              "78.5"
            ]
          },
          "metadata": {},
          "execution_count": 29
        }
      ]
    },
    {
      "cell_type": "code",
      "source": [
        "c1.circumference()"
      ],
      "metadata": {
        "colab": {
          "base_uri": "https://localhost:8080/"
        },
        "id": "v3Detn7ZkU5p",
        "outputId": "2a26c32d-f105-49fe-e53c-ce90e3e69465"
      },
      "execution_count": null,
      "outputs": [
        {
          "output_type": "execute_result",
          "data": {
            "text/plain": [
              "31.400000000000002"
            ]
          },
          "metadata": {},
          "execution_count": 30
        }
      ]
    },
    {
      "cell_type": "markdown",
      "source": [
        "### Activity: Create a class as : `Triangle` \n",
        "\n",
        "`init` method takes 2 parameters : base & height\n",
        "\n",
        "`area` method returns : `1/2*base*height`"
      ],
      "metadata": {
        "id": "TI42HgDqgbtW"
      }
    },
    {
      "cell_type": "code",
      "source": [
        "class triangle():\n",
        "  def __init__(self,base,height):\n",
        "    self._height = height\n",
        "    self._base = base\n",
        "  \n",
        "  def area(self):\n",
        "    return 0.5*self._base*self._height"
      ],
      "metadata": {
        "id": "Jy16OdelgWs2"
      },
      "execution_count": null,
      "outputs": []
    },
    {
      "cell_type": "code",
      "source": [
        "t1 = triangle(2,10)\n",
        "t1.area()"
      ],
      "metadata": {
        "colab": {
          "base_uri": "https://localhost:8080/"
        },
        "id": "soFfP_OagWnm",
        "outputId": "04dde305-b99c-4389-bdcb-4cae2cc0202c"
      },
      "execution_count": null,
      "outputs": [
        {
          "output_type": "execute_result",
          "data": {
            "text/plain": [
              "10.0"
            ]
          },
          "metadata": {},
          "execution_count": 38
        }
      ]
    },
    {
      "cell_type": "code",
      "source": [
        "t1._height"
      ],
      "metadata": {
        "colab": {
          "base_uri": "https://localhost:8080/"
        },
        "id": "FIBhz7rcn_VY",
        "outputId": "32f4c42e-8720-4433-9eac-2294f945e4a9"
      },
      "execution_count": null,
      "outputs": [
        {
          "output_type": "execute_result",
          "data": {
            "text/plain": [
              "10"
            ]
          },
          "metadata": {},
          "execution_count": 40
        }
      ]
    },
    {
      "cell_type": "code",
      "source": [
        "t1.base"
      ],
      "metadata": {
        "colab": {
          "base_uri": "https://localhost:8080/"
        },
        "id": "0K-HT6gUn_RT",
        "outputId": "b8deb884-7399-4e6d-f417-9d2628c9b139"
      },
      "execution_count": null,
      "outputs": [
        {
          "output_type": "execute_result",
          "data": {
            "text/plain": [
              "2"
            ]
          },
          "metadata": {},
          "execution_count": 34
        }
      ]
    },
    {
      "cell_type": "code",
      "source": [
        "# Public\n",
        "# Protected - starting with _\n",
        "# Private - starting with __"
      ],
      "metadata": {
        "id": "EqNs7RH4n_M1"
      },
      "execution_count": null,
      "outputs": []
    },
    {
      "cell_type": "code",
      "source": [
        "class triangle():\n",
        "  def __init__(self,base,height):\n",
        "    self.__height = height # private attribute\n",
        "    self._base = base\n",
        "  \n",
        "  def area(self):\n",
        "    return 0.5*self._base*self.__height"
      ],
      "metadata": {
        "id": "4pSXh1cCo45n"
      },
      "execution_count": null,
      "outputs": []
    },
    {
      "cell_type": "code",
      "source": [
        "t1 = triangle(2,10)\n",
        "t1.__height"
      ],
      "metadata": {
        "colab": {
          "base_uri": "https://localhost:8080/",
          "height": 186
        },
        "id": "I82XB8cwo-_R",
        "outputId": "e8b7b772-4916-4e07-f031-67fabe84ac6a"
      },
      "execution_count": null,
      "outputs": [
        {
          "output_type": "error",
          "ename": "AttributeError",
          "evalue": "ignored",
          "traceback": [
            "\u001b[0;31m---------------------------------------------------------------------------\u001b[0m",
            "\u001b[0;31mAttributeError\u001b[0m                            Traceback (most recent call last)",
            "\u001b[0;32m<ipython-input-46-126e67536bcc>\u001b[0m in \u001b[0;36m<module>\u001b[0;34m\u001b[0m\n\u001b[1;32m      1\u001b[0m \u001b[0mt1\u001b[0m \u001b[0;34m=\u001b[0m \u001b[0mtriangle\u001b[0m\u001b[0;34m(\u001b[0m\u001b[0;36m2\u001b[0m\u001b[0;34m,\u001b[0m\u001b[0;36m10\u001b[0m\u001b[0;34m)\u001b[0m\u001b[0;34m\u001b[0m\u001b[0;34m\u001b[0m\u001b[0m\n\u001b[0;32m----> 2\u001b[0;31m \u001b[0mt1\u001b[0m\u001b[0;34m.\u001b[0m\u001b[0m__height\u001b[0m\u001b[0;34m\u001b[0m\u001b[0;34m\u001b[0m\u001b[0m\n\u001b[0m",
            "\u001b[0;31mAttributeError\u001b[0m: 'triangle' object has no attribute '__height'"
          ]
        }
      ]
    },
    {
      "cell_type": "code",
      "source": [
        "t1._triangle__height # private attribute"
      ],
      "metadata": {
        "colab": {
          "base_uri": "https://localhost:8080/"
        },
        "id": "xBWyNmM2pNin",
        "outputId": "012bad4b-0daa-47bb-f34b-b63863aa26fc"
      },
      "execution_count": null,
      "outputs": [
        {
          "output_type": "execute_result",
          "data": {
            "text/plain": [
              "10"
            ]
          },
          "metadata": {},
          "execution_count": 48
        }
      ]
    },
    {
      "cell_type": "code",
      "source": [
        "list_str_=['Hello','World','Python','Programming','DataScience','Machine Learning']\n",
        "print(list_str_)\n",
        "list_str_.sort()\n",
        "print(list_str_)"
      ],
      "metadata": {
        "colab": {
          "base_uri": "https://localhost:8080/"
        },
        "id": "KkqI6fmRrEvj",
        "outputId": "1766cfb9-30e3-4950-e366-0d54039f44fc"
      },
      "execution_count": null,
      "outputs": [
        {
          "output_type": "stream",
          "name": "stdout",
          "text": [
            "['Hello', 'World', 'Python', 'Programming', 'DataScience', 'Machine Learning']\n",
            "['DataScience', 'Hello', 'Machine Learning', 'Programming', 'Python', 'World']\n"
          ]
        }
      ]
    },
    {
      "cell_type": "code",
      "source": [
        "l = ['Hello','World','Python','Programming','DataScience','MachineLearning']\n",
        "l.sort(reverse=True)"
      ],
      "metadata": {
        "id": "HOl5ibJPsswO"
      },
      "execution_count": null,
      "outputs": []
    },
    {
      "cell_type": "code",
      "source": [
        "l"
      ],
      "metadata": {
        "colab": {
          "base_uri": "https://localhost:8080/"
        },
        "id": "21bktCXDtCZe",
        "outputId": "589fdb34-a71f-4069-ef17-fed1fc2f36db"
      },
      "execution_count": null,
      "outputs": [
        {
          "output_type": "execute_result",
          "data": {
            "text/plain": [
              "['World', 'Python', 'Programming', 'MachineLearning', 'Hello', 'DataScience']"
            ]
          },
          "metadata": {},
          "execution_count": 115
        }
      ]
    },
    {
      "cell_type": "markdown",
      "source": [
        "# Modules in Python"
      ],
      "metadata": {
        "id": "rqvcMj8drej4"
      }
    },
    {
      "cell_type": "code",
      "source": [
        "!wget https://raw.githubusercontent.com/manifoldailearning/Deeplearning-BootCamp/main/food.py"
      ],
      "metadata": {
        "id": "EJgQVo5mtISH",
        "colab": {
          "base_uri": "https://localhost:8080/"
        },
        "outputId": "0dbbdd7b-b588-4450-ecce-ba67b95b86f3"
      },
      "execution_count": null,
      "outputs": [
        {
          "output_type": "stream",
          "name": "stdout",
          "text": [
            "--2022-08-30 02:56:25--  https://raw.githubusercontent.com/manifoldailearning/Deeplearning-BootCamp/main/food.py\n",
            "Resolving raw.githubusercontent.com (raw.githubusercontent.com)... 185.199.111.133, 185.199.110.133, 185.199.108.133, ...\n",
            "Connecting to raw.githubusercontent.com (raw.githubusercontent.com)|185.199.111.133|:443... connected.\n",
            "HTTP request sent, awaiting response... 200 OK\n",
            "Length: 239 [text/plain]\n",
            "Saving to: ‘food.py’\n",
            "\n",
            "food.py             100%[===================>]     239  --.-KB/s    in 0s      \n",
            "\n",
            "2022-08-30 02:56:25 (8.72 MB/s) - ‘food.py’ saved [239/239]\n",
            "\n"
          ]
        }
      ]
    },
    {
      "cell_type": "code",
      "source": [
        "from random import choice \n",
        "l = [10,20,30,40,50]\n",
        "choice(l)"
      ],
      "metadata": {
        "colab": {
          "base_uri": "https://localhost:8080/"
        },
        "id": "khIlDhFTrb3i",
        "outputId": "b560558f-09f6-4aee-afb6-ccdb2402110f"
      },
      "execution_count": null,
      "outputs": [
        {
          "output_type": "execute_result",
          "data": {
            "text/plain": [
              "40"
            ]
          },
          "metadata": {},
          "execution_count": 50
        }
      ]
    },
    {
      "cell_type": "code",
      "source": [
        "choice(l)"
      ],
      "metadata": {
        "colab": {
          "base_uri": "https://localhost:8080/"
        },
        "id": "zyseltZ0rsP3",
        "outputId": "1bf2e10f-a538-4d2b-812e-f0d5f4f6e0ae"
      },
      "execution_count": null,
      "outputs": [
        {
          "output_type": "execute_result",
          "data": {
            "text/plain": [
              "30"
            ]
          },
          "metadata": {},
          "execution_count": 55
        }
      ]
    },
    {
      "cell_type": "code",
      "source": [
        "import food"
      ],
      "metadata": {
        "id": "ncEiCFLkruQ4"
      },
      "execution_count": null,
      "outputs": []
    },
    {
      "cell_type": "code",
      "source": [
        "food.places"
      ],
      "metadata": {
        "colab": {
          "base_uri": "https://localhost:8080/"
        },
        "id": "47rqXG_pr7BN",
        "outputId": "65c676f2-0a7a-415d-9d0f-f33d13bd1359"
      },
      "execution_count": null,
      "outputs": [
        {
          "output_type": "execute_result",
          "data": {
            "text/plain": [
              "['McDonalds',\n",
              " 'KFC',\n",
              " 'Burger King',\n",
              " 'Taco Bell',\n",
              " 'Wendys',\n",
              " 'Arbys',\n",
              " 'Pizza Hut']"
            ]
          },
          "metadata": {},
          "execution_count": 57
        }
      ]
    },
    {
      "cell_type": "code",
      "source": [
        "food.pick()"
      ],
      "metadata": {
        "colab": {
          "base_uri": "https://localhost:8080/",
          "height": 35
        },
        "id": "scSs0bStsJMk",
        "outputId": "b7d374e3-cdfa-4ace-e03c-dc7715d0b779"
      },
      "execution_count": null,
      "outputs": [
        {
          "output_type": "execute_result",
          "data": {
            "text/plain": [
              "'KFC'"
            ],
            "application/vnd.google.colaboratory.intrinsic+json": {
              "type": "string"
            }
          },
          "metadata": {},
          "execution_count": 60
        }
      ]
    },
    {
      "cell_type": "code",
      "source": [
        "from food import places"
      ],
      "metadata": {
        "id": "4MED4-tHsTXO"
      },
      "execution_count": null,
      "outputs": []
    },
    {
      "cell_type": "code",
      "source": [
        "places"
      ],
      "metadata": {
        "colab": {
          "base_uri": "https://localhost:8080/"
        },
        "id": "ObIoUGWvstSx",
        "outputId": "6b1bdc8b-f302-4659-bf8d-551dd700d11c"
      },
      "execution_count": null,
      "outputs": [
        {
          "output_type": "execute_result",
          "data": {
            "text/plain": [
              "['McDonalds',\n",
              " 'KFC',\n",
              " 'Burger King',\n",
              " 'Taco Bell',\n",
              " 'Wendys',\n",
              " 'Arbys',\n",
              " 'Pizza Hut']"
            ]
          },
          "metadata": {},
          "execution_count": 62
        }
      ]
    },
    {
      "cell_type": "code",
      "source": [
        "from food import pick"
      ],
      "metadata": {
        "id": "d_Dd4z-zs2ld"
      },
      "execution_count": null,
      "outputs": []
    },
    {
      "cell_type": "code",
      "source": [
        "pick()"
      ],
      "metadata": {
        "colab": {
          "base_uri": "https://localhost:8080/",
          "height": 35
        },
        "id": "Qq690GX9sxOP",
        "outputId": "6ca07ef1-4a48-460e-ac56-390c057f79eb"
      },
      "execution_count": null,
      "outputs": [
        {
          "output_type": "execute_result",
          "data": {
            "text/plain": [
              "'Arbys'"
            ],
            "application/vnd.google.colaboratory.intrinsic+json": {
              "type": "string"
            }
          },
          "metadata": {},
          "execution_count": 65
        }
      ]
    },
    {
      "cell_type": "code",
      "source": [
        "from math import sqrt"
      ],
      "metadata": {
        "id": "Kj-ptpxDs07E"
      },
      "execution_count": null,
      "outputs": []
    },
    {
      "cell_type": "code",
      "source": [
        "sqrt(100)"
      ],
      "metadata": {
        "colab": {
          "base_uri": "https://localhost:8080/"
        },
        "id": "6-oyOQBgtCuC",
        "outputId": "fc5bc5e9-7d40-40cb-98c0-14ea8115e9ba"
      },
      "execution_count": null,
      "outputs": [
        {
          "output_type": "execute_result",
          "data": {
            "text/plain": [
              "10.0"
            ]
          },
          "metadata": {},
          "execution_count": 67
        }
      ]
    },
    {
      "cell_type": "code",
      "source": [
        "from math import *"
      ],
      "metadata": {
        "id": "vVtxEoeatEqk"
      },
      "execution_count": null,
      "outputs": []
    },
    {
      "cell_type": "code",
      "source": [
        "sin(100)"
      ],
      "metadata": {
        "colab": {
          "base_uri": "https://localhost:8080/"
        },
        "id": "w-QVMpHWtOCl",
        "outputId": "5e0bd597-af20-4f09-b4a6-ec24532caadc"
      },
      "execution_count": null,
      "outputs": [
        {
          "output_type": "execute_result",
          "data": {
            "text/plain": [
              "-0.5063656411097588"
            ]
          },
          "metadata": {},
          "execution_count": 69
        }
      ]
    },
    {
      "cell_type": "code",
      "source": [
        "import numpy"
      ],
      "metadata": {
        "id": "OY4KIEextUFN"
      },
      "execution_count": null,
      "outputs": []
    },
    {
      "cell_type": "code",
      "source": [],
      "metadata": {
        "id": "ETpIaz1qudV8"
      },
      "execution_count": null,
      "outputs": []
    }
  ]
}