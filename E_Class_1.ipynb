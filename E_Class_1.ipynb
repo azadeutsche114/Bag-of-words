{
  "nbformat": 4,
  "nbformat_minor": 0,
  "metadata": {
    "colab": {
      "provenance": [],
      "collapsed_sections": [],
      "authorship_tag": "ABX9TyOt9f57L0fGj68GvW7Gl+Kk",
      "include_colab_link": true
    },
    "kernelspec": {
      "name": "python3",
      "display_name": "Python 3"
    },
    "language_info": {
      "name": "python"
    }
  },
  "cells": [
    {
      "cell_type": "markdown",
      "metadata": {
        "id": "view-in-github",
        "colab_type": "text"
      },
      "source": [
        "<a href=\"https://colab.research.google.com/github/azadeutsche114/Bag-of-words/blob/main/E_Class_1.ipynb\" target=\"_parent\"><img src=\"https://colab.research.google.com/assets/colab-badge.svg\" alt=\"Open In Colab\"/></a>"
      ]
    },
    {
      "cell_type": "code",
      "execution_count": 4,
      "metadata": {
        "colab": {
          "base_uri": "https://localhost:8080/"
        },
        "id": "Jc6Eu56-qkw4",
        "outputId": "04a6a813-a057-4de8-f3ad-681398fa8862"
      },
      "outputs": [
        {
          "output_type": "stream",
          "name": "stdout",
          "text": [
            "90\n",
            "10\n",
            "2000\n",
            "1.25\n",
            "10\n",
            "1\n",
            "90949470177292823791503906250000000000000000000000000000000000000000\n",
            "30\n",
            "60\n",
            "30\n",
            "900\n",
            "30.0\n",
            "2.05891132094649e+44\n",
            "6.8630377364883e+42\n",
            "False\n",
            "True\n",
            "False\n",
            "True\n",
            "False\n",
            "True\n",
            "50\n",
            "10\n",
            "False\n",
            "2\n",
            "43\n",
            "41\n",
            "-11\n",
            "40\n",
            "0\n",
            "True\n",
            "False\n",
            "False\n",
            "True\n",
            "X is less than Y\n",
            "Greater than 25\n",
            "Congratulations!! Well done\n"
          ]
        }
      ],
      "source": [
        "# Arithmetic operators\n",
        "a=50\n",
        "b=40\n",
        "print(a+b)\n",
        "\n",
        "print(a-b)\n",
        "\n",
        "print(a*b)\n",
        "\n",
        "print(a/b)\n",
        "\n",
        "print(a%b)\n",
        "\n",
        "print(a//b)\n",
        "\n",
        "print(a**b)\n",
        "\n",
        "\n",
        "#Assignment Operators\n",
        "\n",
        "a=30\n",
        "b=30\n",
        "a=b\n",
        "print(a)\n",
        "\n",
        "a+=b\n",
        "print(a)\n",
        "\n",
        "a-=b\n",
        "print(a)\n",
        "\n",
        "a*=b\n",
        "print(a)\n",
        "\n",
        "a/=b\n",
        "print(a)\n",
        "\n",
        "a**=b\n",
        "print(a)\n",
        "\n",
        "a//=b\n",
        "print(a)\n",
        "\n",
        "# Comparison Operator\n",
        "a=50\n",
        "b=100\n",
        "print(a==b)\n",
        "print(a!=b)\n",
        "print(a>b)\n",
        "print(a<b)\n",
        "print(a>=b)\n",
        "print(a<=b)\n",
        "\n",
        "#Logical Operators\n",
        "\n",
        "a=10\n",
        "b=50\n",
        "\n",
        "print(a and b)\n",
        "print(a or b)\n",
        "print(not a)\n",
        "\n",
        "\n",
        "#Bitwise Operators\n",
        "a=10\n",
        "b=35\n",
        "\n",
        "print(a&b)\n",
        "print(a|b)\n",
        "print(a^b)\n",
        "print(~a)\n",
        "print(a<<2)\n",
        "print(a>>b)\n",
        "\n",
        "#Identity Operators\n",
        "\n",
        "a=[1,3,5,7,'Python']\n",
        "a=b\n",
        "print(b is a)\n",
        "\n",
        "print(a is not b)\n",
        "\n",
        "# Membership Operators\n",
        "\n",
        "list1=[1,10,100,\"Data Science\"]\n",
        "print(30 in list1)\n",
        "print(20 not in list1)\n",
        "\n",
        "X=10\n",
        "Y=12\n",
        "\n",
        "if(X<Y):\n",
        "    print('X is less than Y')\n",
        "elif(X>Y):\n",
        "    print('X is greater than Y')\n",
        "else:\n",
        "    print('X and Y are equal')\n",
        "\n",
        "# If else statement\n",
        "a=30\n",
        "\n",
        "if(a<10):\n",
        "    print(\"Less than 10\")\n",
        "if(10<=a<=25):\n",
        "    print(\"In between 10 and 25\")\n",
        "else:\n",
        "    print(\"Greater than 25\")\n",
        "\n",
        "# if elif else\n",
        "\n",
        "marks=70\n",
        "if(marks<40):\n",
        "    print(\"Fail\")\n",
        "\n",
        "elif(40<marks<=60):\n",
        "    print(\"Average\")\n",
        "\n",
        "else:\n",
        "    print(\"Congratulations!! Well done\")"
      ]
    },
    {
      "cell_type": "code",
      "source": [
        "A={'Age':24, 'Name':'John'}\n",
        "\n",
        "print(A)"
      ],
      "metadata": {
        "id": "boFHnge1rErS",
        "colab": {
          "base_uri": "https://localhost:8080/"
        },
        "outputId": "c3e4bd79-82dd-40f7-9059-a2583db5188e"
      },
      "execution_count": 3,
      "outputs": [
        {
          "output_type": "stream",
          "name": "stdout",
          "text": [
            "{'Age': 24, 'Name': 'John'}\n"
          ]
        }
      ]
    },
    {
      "cell_type": "code",
      "source": [
        "fruits=['Banana','Apple','Grapes']\n",
        "\n",
        "for index in range(len(fruits)):\n",
        "    print(fruits[index])\n",
        "\n",
        "\n",
        "#Example\n",
        "\n",
        "list1=[1,2,3,\"Python\"]\n",
        "\n",
        "for i in list1:\n",
        "    print(i)"
      ],
      "metadata": {
        "id": "7UjQ0GSlrIZm",
        "colab": {
          "base_uri": "https://localhost:8080/"
        },
        "outputId": "9b2fb63e-2eef-491a-9d17-ec1a7cb0b894"
      },
      "execution_count": 2,
      "outputs": [
        {
          "output_type": "stream",
          "name": "stdout",
          "text": [
            "Banana\n",
            "Apple\n",
            "Grapes\n",
            "1\n",
            "2\n",
            "3\n",
            "Python\n"
          ]
        }
      ]
    },
    {
      "cell_type": "code",
      "source": [
        "print(\"Hello World\")\n",
        "print(\"Welcome to Edureka\")\n",
        "\n",
        "\n",
        "print(\"Happy Learning \\nWelcome to Python\")X=10\n",
        "Y=12\n",
        "\n",
        "if(X<Y):\n",
        "    print('X is less than Y')\n",
        "elif(X>Y):\n",
        "    print('X is greater than Y')\n",
        "else:\n",
        "    print('X and Y are equal')\n",
        "\n",
        "# If else statement\n",
        "a=30\n",
        "\n",
        "if(a<10):\n",
        "    print(\"Less than 10\")\n",
        "if(10<=a<=25):\n",
        "    print(\"In between 10 and 25\")\n",
        "else:\n",
        "    print(\"Greater than 25\")\n",
        "\n",
        "# if elif else\n",
        "\n",
        "marks=70\n",
        "if(marks<40):\n",
        "    print(\"Fail\")\n",
        "elif(40<marks<=60):\n",
        "    print(\"Average\")\n",
        "else:\n",
        "    print(\"Congratulations!! Well done\")\n"
      ],
      "metadata": {
        "id": "krrgci-2rMhU"
      },
      "execution_count": null,
      "outputs": []
    },
    {
      "cell_type": "code",
      "source": [
        "# Arithmetic operators\n",
        "a=50\n",
        "b=40\n",
        "print(a+b)\n",
        "\n",
        "print(a-b)\n",
        "\n",
        "print(a*b)\n",
        "\n",
        "print(a/b)\n",
        "\n",
        "print(a%b)\n",
        "\n",
        "print(a//b)\n",
        "\n",
        "print(a**b)\n",
        "\n",
        "\n",
        "#Assignment Operators\n",
        "\n",
        "a=30\n",
        "b=30\n",
        "a=b\n",
        "print(a)\n",
        "\n",
        "a+=b\n",
        "print(a)\n",
        "\n",
        "a-=b\n",
        "print(a)\n",
        "\n",
        "a*=b\n",
        "print(a)\n",
        "\n",
        "a/=b\n",
        "print(a)\n",
        "\n",
        "a**=b\n",
        "print(a)\n",
        "\n",
        "a//=b\n",
        "print(a)\n",
        "\n",
        "# Comparison Operator\n",
        "a=50\n",
        "b=100\n",
        "print(a==b)\n",
        "print(a!=b)\n",
        "print(a>b)\n",
        "print(a<b)\n",
        "print(a>=b)\n",
        "print(a<=b)\n",
        "\n",
        "#Logical Operators\n",
        "\n",
        "a=10\n",
        "b=50\n",
        "\n",
        "print(a and b)\n",
        "print(a or b)\n",
        "print(not a)\n",
        "\n",
        "\n",
        "#Bitwise Operators\n",
        "a=10\n",
        "b=35\n",
        "\n",
        "print(a&b)\n",
        "print(a|b)\n",
        "print(a^b)\n",
        "print(~a)\n",
        "print(a<<2)\n",
        "print(a>>b)\n",
        "\n",
        "#Identity Operators\n",
        "\n",
        "a=[1,3,5,7,'Python']\n",
        "a=b\n",
        "print(b is a)\n",
        "\n",
        "print(a is not b)\n",
        "\n",
        "# Membership Operators\n",
        "\n",
        "list1=[1,10,100,\"Data Science\"]\n",
        "print(30 in list1)\n",
        "print(20 not in list1)\n",
        "\n",
        "X=10\n",
        "Y=12\n",
        "\n",
        "if(X<Y):\n",
        "    print('X is less than Y')\n",
        "elif(X>Y):\n",
        "    print('X is greater than Y')\n",
        "else:\n",
        "    print('X and Y are equal')\n",
        "\n",
        "# If else statement\n",
        "a=30\n",
        "\n",
        "if(a<10):\n",
        "    print(\"Less than 10\")\n",
        "if(10<=a<=25):\n",
        "    print(\"In between 10 and 25\")\n",
        "else:\n",
        "    print(\"Greater than 25\")\n",
        "\n",
        "# if elif else\n",
        "\n",
        "marks=70\n",
        "if(marks<40):\n",
        "    print(\"Fail\")\n",
        "elif(40<marks<=60):\n",
        "    print(\"Average\")\n",
        "else:\n",
        "    print(\"Congratulations!! Well done\")"
      ],
      "metadata": {
        "id": "dnMR98K_q0HQ"
      },
      "execution_count": null,
      "outputs": []
    },
    {
      "cell_type": "code",
      "source": [
        "A=[1,2,3.15,'edureka!']\n",
        "\n",
        "print(A)"
      ],
      "metadata": {
        "id": "Jb7jEhJpq1Qt"
      },
      "execution_count": null,
      "outputs": []
    },
    {
      "cell_type": "code",
      "source": [
        "for i in range(10,50):\n",
        "    print(i)\n",
        "    if(i==30):\n",
        "        break\n",
        "\n",
        "for j in range(1,11):\n",
        "    print(j)\n",
        "    if(j==5):\n",
        "        continue\n",
        "\n",
        "\n",
        "\n",
        "for k in range(1,3):\n",
        "    pass\n",
        "print(\"Loop ends here\")"
      ],
      "metadata": {
        "id": "XRYVZ0sargqn"
      },
      "execution_count": null,
      "outputs": []
    },
    {
      "cell_type": "code",
      "source": [
        "count=1\n",
        "for i in range(10):\n",
        "    print(str(i)*i)\n",
        "\n",
        "    for j in range(0,i):\n",
        "        count=count+1\n",
        "\n",
        "#nested loops\n",
        "for i in range(1,3):\n",
        "    for j in range(1,2):\n",
        "        print(\"*\")"
      ],
      "metadata": {
        "id": "NZI2-uZwrjJB"
      },
      "execution_count": null,
      "outputs": []
    },
    {
      "cell_type": "code",
      "source": [
        "A=10\n",
        "\n",
        "B=10.65\n",
        "\n",
        "C=10+6j\n",
        "\n",
        "print(A,B,C)\n"
      ],
      "metadata": {
        "id": "XOkFOq9Crmn9"
      },
      "execution_count": null,
      "outputs": []
    },
    {
      "cell_type": "code",
      "source": [
        "# Arithmetic operators\n",
        "a=50\n",
        "b=40\n",
        "print(a+b)\n",
        "\n",
        "print(a-b)\n",
        "\n",
        "print(a*b)\n",
        "\n",
        "print(a/b)\n",
        "\n",
        "print(a%b)\n",
        "\n",
        "print(a//b)\n",
        "\n",
        "print(a**b)\n",
        "\n",
        "\n",
        "#Assignment Operators\n",
        "\n",
        "a=30\n",
        "b=30\n",
        "a=b\n",
        "print(a)\n",
        "\n",
        "a+=b\n",
        "print(a)\n",
        "\n",
        "a-=b\n",
        "print(a)\n",
        "\n",
        "a*=b\n",
        "print(a)\n",
        "\n",
        "a/=b\n",
        "print(a)\n",
        "\n",
        "a**=b\n",
        "print(a)\n"
      ],
      "metadata": {
        "id": "RedRGfTmtdqq"
      },
      "execution_count": null,
      "outputs": []
    },
    {
      "cell_type": "code",
      "source": [
        "A={1,2,3,3}\n",
        "\n",
        "print(A)"
      ],
      "metadata": {
        "id": "xnAisfUPtgWx"
      },
      "execution_count": null,
      "outputs": []
    },
    {
      "cell_type": "code",
      "source": [
        "A='Welcome To edureka!'\n",
        "\n",
        "B=\"Python is Great\"\n",
        "\n",
        "print(A)\n",
        "\n",
        "print(B)\n"
      ],
      "metadata": {
        "id": "MN9kcygVtj4c"
      },
      "execution_count": null,
      "outputs": []
    },
    {
      "cell_type": "code",
      "source": [
        "A=(1,2,3.15,'edureka!')\n",
        "\n",
        "print(A)"
      ],
      "metadata": {
        "id": "S7jnBFmetm_s"
      },
      "execution_count": null,
      "outputs": []
    },
    {
      "cell_type": "code",
      "source": [
        "A=10\n",
        "B='edureka!'\n",
        "\n",
        "print(A,B)\n",
        "\n",
        "\n",
        "#another example\n",
        "\n",
        "x,y,z=10,20,30\n",
        "\n",
        "print(x)\n",
        "print(y)\n",
        "print(z)"
      ],
      "metadata": {
        "id": "gGmb4vy1uLWi"
      },
      "execution_count": null,
      "outputs": []
    },
    {
      "cell_type": "code",
      "source": [
        "count=0\n",
        "while(count<5):\n",
        "    print(count)\n",
        "    count=count+1\n",
        "\n",
        "print(\"Good bye!\")\n",
        "\n",
        "#Example\n",
        "rank=5\n",
        "while(rank!=12):\n",
        "    print(\"Rank is \",rank)\n",
        "    rank+=1"
      ],
      "metadata": {
        "id": "TdIIH4f0uMQo"
      },
      "execution_count": null,
      "outputs": []
    }
  ]
}