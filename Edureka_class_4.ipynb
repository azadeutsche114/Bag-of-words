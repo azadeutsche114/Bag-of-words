{
  "nbformat": 4,
  "nbformat_minor": 0,
  "metadata": {
    "colab": {
      "provenance": [],
      "collapsed_sections": [],
      "authorship_tag": "ABX9TyMCh+1XWAaFrKhwTr5xZKwx",
      "include_colab_link": true
    },
    "kernelspec": {
      "name": "python3",
      "display_name": "Python 3"
    },
    "language_info": {
      "name": "python"
    }
  },
  "cells": [
    {
      "cell_type": "markdown",
      "metadata": {
        "id": "view-in-github",
        "colab_type": "text"
      },
      "source": [
        "<a href=\"https://colab.research.google.com/github/azadeutsche114/Bag-of-words/blob/main/Edureka_class_4.ipynb\" target=\"_parent\"><img src=\"https://colab.research.google.com/assets/colab-badge.svg\" alt=\"Open In Colab\"/></a>"
      ]
    },
    {
      "cell_type": "code",
      "execution_count": null,
      "metadata": {
        "id": "5-7xcq4Q2pCt"
      },
      "outputs": [],
      "source": [
        "import numpy as np\n",
        "a = np.array([1, 2, 3])\n",
        "print(a)"
      ]
    },
    {
      "cell_type": "code",
      "source": [
        "import numpy as np\n",
        "a = np.array([[1, 2], [3, 4]])\n",
        "print(a)"
      ],
      "metadata": {
        "id": "cxtM5jMJ3Ron"
      },
      "execution_count": null,
      "outputs": []
    },
    {
      "cell_type": "code",
      "source": [
        "import numpy as np\n",
        "\n",
        "list1 = [1, 2, 3, 4, 5]\n",
        "arr = np.array(list1)\n",
        "print(arr)"
      ],
      "metadata": {
        "id": "ihB3Gas23XQU"
      },
      "execution_count": null,
      "outputs": []
    },
    {
      "cell_type": "code",
      "source": [
        "import numpy as np\n",
        "arr = np.arange(10, 100)\n",
        "print(arr)"
      ],
      "metadata": {
        "id": "4cOmJp7w3auz"
      },
      "execution_count": null,
      "outputs": []
    },
    {
      "cell_type": "code",
      "source": [
        "import numpy as np\n",
        "\n",
        "arr = np.zeros((5,5))\n",
        "print(arr)"
      ],
      "metadata": {
        "id": "3GM2s6tL3k5l"
      },
      "execution_count": null,
      "outputs": []
    },
    {
      "cell_type": "code",
      "source": [
        "import numpy as np\n",
        "\n",
        "vector = np.linspace(0, 20, 5)\n",
        "print(vector)"
      ],
      "metadata": {
        "id": "wMlRIcmA3nyg"
      },
      "execution_count": null,
      "outputs": []
    },
    {
      "cell_type": "code",
      "source": [
        "import numpy as np\n",
        "x=[1,2,3]\n",
        "a=np.asarray(x)\n",
        "print(a)\n"
      ],
      "metadata": {
        "id": "G50YN9UD3qTy"
      },
      "execution_count": null,
      "outputs": []
    },
    {
      "cell_type": "code",
      "source": [
        "import numpy as np\n",
        "arr=np.zeros(8)\n",
        "arr3d=arr.reshape((2,2,2))\n",
        "print(arr3d)"
      ],
      "metadata": {
        "id": "r-LFXW7v3s2h"
      },
      "execution_count": null,
      "outputs": []
    },
    {
      "cell_type": "code",
      "source": [
        "import numpy as np\n",
        "arr=np.zeros(8)\n",
        "arr3d=arr.reshape((2,2,2))\n",
        "arr=arr3d.ravel()\n",
        "print(arr)"
      ],
      "metadata": {
        "id": "fke7MPlC3vy0"
      },
      "execution_count": null,
      "outputs": []
    },
    {
      "cell_type": "code",
      "source": [
        "import numpy as np\n",
        "arr=np.arange(20)\n",
        "arr_slice=slice(1,10,2)\n",
        "element=arr[6]\n",
        "print(arr[arr_slice])"
      ],
      "metadata": {
        "id": "Q_LKkZ3g4wgi"
      },
      "execution_count": null,
      "outputs": []
    },
    {
      "cell_type": "code",
      "source": [
        "import numpy as np\n",
        "arr=np.arange(20)\n",
        "print(arr[2:])\n",
        "\n",
        "import numpy as np\n",
        "arr=np.arange(20)\n",
        "print(arr[:15])\n"
      ],
      "metadata": {
        "id": "SSZ7HchR4zYq"
      },
      "execution_count": null,
      "outputs": []
    },
    {
      "cell_type": "code",
      "source": [
        "import numpy as np\n",
        "a=np.array([[1,2,3],[3,4,5],[4,5,6]])\n",
        "print(a[0:2,0:2])\n"
      ],
      "metadata": {
        "id": "Lh323uX540Rp"
      },
      "execution_count": null,
      "outputs": []
    },
    {
      "cell_type": "code",
      "source": [
        "import numpy as np\n",
        "x=np.empty([3,2],dtype=int)\n",
        "print(x)"
      ],
      "metadata": {
        "id": "I7RaQWOS5Olv"
      },
      "execution_count": null,
      "outputs": []
    },
    {
      "cell_type": "code",
      "source": [
        "import numpy as np\n",
        "x=np.zeros(5)\n",
        "print(x)\n"
      ],
      "metadata": {
        "id": "rmAr8gIB5Ron"
      },
      "execution_count": null,
      "outputs": []
    },
    {
      "cell_type": "code",
      "source": [
        "import numpy as np\n",
        "a=np.array([[1,2,3],[3,4,5],[4,5,6]])\n",
        "print(a.shape)\n",
        "print(a.ndim)\n",
        "print(a.itemsize)\n"
      ],
      "metadata": {
        "id": "yThBjDf35VfR"
      },
      "execution_count": null,
      "outputs": []
    },
    {
      "cell_type": "code",
      "source": [
        "import pandas\n",
        "series = pandas.Series()\n",
        "print(series)"
      ],
      "metadata": {
        "id": "wUguibU-5Zdp"
      },
      "execution_count": null,
      "outputs": []
    },
    {
      "cell_type": "code",
      "source": [
        "import pandas, numpy\n",
        "\n",
        "arr = numpy.array([10, 20, 30, 40, 50])\n",
        "series = pandas.Series(arr)\n",
        "print(series)"
      ],
      "metadata": {
        "id": "CWPLyMAb5cZ8"
      },
      "execution_count": null,
      "outputs": []
    },
    {
      "cell_type": "code",
      "source": [
        "import pandas\n",
        "\n",
        "data = {'a':10, 'b':20, 'c':30}\n",
        "series = pandas.Series(data)\n",
        "print(series)"
      ],
      "metadata": {
        "id": "1gLWoMjk5fx0"
      },
      "execution_count": null,
      "outputs": []
    },
    {
      "cell_type": "code",
      "source": [
        "import pandas\n",
        "\n",
        "s = pandas.Series([10, 20, 30, 40, 50])\n",
        "\n",
        "print(s[1:4])"
      ],
      "metadata": {
        "id": "mPdU67ZG5jUT"
      },
      "execution_count": null,
      "outputs": []
    },
    {
      "cell_type": "code",
      "source": [
        "import pandas\n",
        "\n",
        "data = {'one': pandas.Series([1, 2, 3], index=['a', 'b', 'c']),\n",
        "        'two': pandas.Series([1, 2, 3, 4], index=['a', 'b', 'c', 'd'])}\n",
        "table = pandas.DataFrame(data)\n",
        "table['three'] = pandas.Series([10, 20, 30], index=['a', 'b', 'c'])\n",
        "del(table['one'])\n",
        "print(table)"
      ],
      "metadata": {
        "id": "vxtfirsO5nQh"
      },
      "execution_count": null,
      "outputs": []
    },
    {
      "cell_type": "code",
      "source": [
        "import pandas\n",
        "\n",
        "data = [{'a':1, 'b':2}, {'a':2, 'b':4, 'c':8}]\n",
        "table = pandas.DataFrame(data, index=['first', 'second'])\n",
        "print(table)"
      ],
      "metadata": {
        "id": "ntzylHlH5qF9"
      },
      "execution_count": null,
      "outputs": []
    },
    {
      "cell_type": "code",
      "source": [
        "import pandas\n",
        "\n",
        "data = {'one': pandas.Series([1, 2, 3], index=['a', 'b', 'c']),\n",
        "        'two': pandas.Series([1, 2, 3, 4], index=['a', 'b', 'c', 'd'])}\n",
        "table = pandas.DataFrame(data)\n",
        "table['three'] = pandas.Series([10, 20, 30], index=['a', 'b', 'c'])\n",
        "\n",
        "\n",
        "print(table)\n",
        "print(table.loc['c'])\n",
        "print(table.iloc[2])\n",
        "table.pop('one')\n",
        "print(table)\n",
        "\n",
        "del table['one']\n",
        "print(table)\n"
      ],
      "metadata": {
        "id": "qQC8gtuy5uDO"
      },
      "execution_count": null,
      "outputs": []
    },
    {
      "cell_type": "code",
      "source": [
        "import pandas\n",
        "\n",
        "data = {'one': pandas.Series([1, 2, 3], index=['a', 'b', 'c']),\n",
        "        'two': pandas.Series([1, 2, 3, 4], index=['a', 'b', 'c', 'd'])}\n",
        "table = pandas.DataFrame(data)\n",
        "print(table)"
      ],
      "metadata": {
        "id": "NtYKp3nF5wm8"
      },
      "execution_count": null,
      "outputs": []
    },
    {
      "cell_type": "code",
      "source": [
        "import pandas\n",
        "\n",
        "data = {'one': pandas.Series([1, 2, 3], index=['a', 'b', 'c']),\n",
        "        'two': pandas.Series([1, 2, 3, 4], index=['a', 'b', 'c', 'd'])}\n",
        "table = pandas.DataFrame(data)\n",
        "table['three'] = pandas.Series([10, 20, 30], index=['a', 'b', 'c'])"
      ],
      "metadata": {
        "id": "jbaXMKy45z2E"
      },
      "execution_count": null,
      "outputs": []
    },
    {
      "cell_type": "code",
      "source": [
        "import pandas\n",
        "\n",
        "data = {'one': pandas.Series([1, 2, 3], index=['a', 'b', 'c']),\n",
        "        'two': pandas.Series([1, 2, 3, 4], index=['a', 'b', 'c', 'd'])}\n",
        "table = pandas.DataFrame(data)\n",
        "row  = pandas.DataFrame([[11, 13], [17, 19]], columns=['two', 'three'])\n",
        "table = table.append(row)\n",
        "table = table.drop('a')\n",
        "\n",
        "print(table)"
      ],
      "metadata": {
        "id": "UNX4TaOK52Ro"
      },
      "execution_count": null,
      "outputs": []
    },
    {
      "cell_type": "code",
      "source": [
        "import pandas\n",
        "\n",
        "data = {'one': pandas.Series([1, 2, 3], index=['a', 'b', 'c']),\n",
        "        'two': pandas.Series([1, 2, 3, 4], index=['a', 'b', 'c', 'd'])}\n",
        "table = pandas.DataFrame(data)\n",
        "table['three'] = pandas.Series([10, 20, 30], index=['a', 'b', 'c'])\n",
        "\n",
        "\n",
        "row  = pandas.DataFrame([[11, 13], [17, 19]], columns=['two', 'three'])\n",
        "table = table.append(row)\n",
        "\n",
        "print(table)"
      ],
      "metadata": {
        "id": "1OosAO-g54sb"
      },
      "execution_count": null,
      "outputs": []
    }
  ]
}