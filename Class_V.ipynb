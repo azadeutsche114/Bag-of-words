{
  "nbformat": 4,
  "nbformat_minor": 0,
  "metadata": {
    "colab": {
      "provenance": [],
      "collapsed_sections": [],
      "authorship_tag": "ABX9TyNfbSbjGU4xyWK64wj/92iG",
      "include_colab_link": true
    },
    "kernelspec": {
      "name": "python3",
      "display_name": "Python 3"
    },
    "language_info": {
      "name": "python"
    }
  },
  "cells": [
    {
      "cell_type": "markdown",
      "metadata": {
        "id": "view-in-github",
        "colab_type": "text"
      },
      "source": [
        "<a href=\"https://colab.research.google.com/github/azadeutsche114/Bag-of-words/blob/main/Class_V.ipynb\" target=\"_parent\"><img src=\"https://colab.research.google.com/assets/colab-badge.svg\" alt=\"Open In Colab\"/></a>"
      ]
    },
    {
      "cell_type": "code",
      "execution_count": null,
      "metadata": {
        "id": "yy6JZ5Rn6JkU"
      },
      "outputs": [],
      "source": [
        "import pandas as pd\n",
        "import numpy as np\n",
        "\n",
        "df = pd.Series(np.arange(1, 51))\n",
        "print(df.axes)\n"
      ]
    },
    {
      "cell_type": "code",
      "source": [
        "import pandas as pd\n",
        "import numpy as np\n",
        "\n",
        "df = pd.Series(np.arange(1, 51))\n",
        "print(df.head(6))"
      ],
      "metadata": {
        "id": "rSXOREkm6OJS"
      },
      "execution_count": null,
      "outputs": []
    },
    {
      "cell_type": "code",
      "source": [
        "import pandas as pd\n",
        "import numpy as np\n",
        "\n",
        "df =pd.DataFrame(np.random.rand(5, 4), columns=['col1', 'col2', 'col3', 'col4'])\n",
        "for key, value in df.iteritems():\n",
        "    print(key, value)"
      ],
      "metadata": {
        "id": "ZWmfo6cb6aTo"
      },
      "execution_count": null,
      "outputs": []
    },
    {
      "cell_type": "code",
      "source": [
        "import pandas as pd\n",
        "import numpy as np\n",
        "\n",
        "df =pd.DataFrame(np.random.rand(5, 4), columns=['col1', 'col2', 'col3', 'col4'])\n",
        "for row in df.itertuples():\n",
        "    print(row)"
      ],
      "metadata": {
        "id": "fYKi2prz6gQK"
      },
      "execution_count": null,
      "outputs": []
    },
    {
      "cell_type": "code",
      "source": [
        "import pandas as pd\n",
        "import numpy as np\n",
        "\n",
        "df = pd.Series(np.arange(1, 51))\n",
        "print(df.ndim)"
      ],
      "metadata": {
        "id": "zimEGDuV6jMZ"
      },
      "execution_count": null,
      "outputs": []
    },
    {
      "cell_type": "code",
      "source": [
        "import pandas as pd\n",
        "import numpy as np\n",
        "\n",
        "df=pd.Series(np.arange(1,51))\n",
        "print(df.ndim)\n",
        "\n",
        "import pandas as pd\n",
        "import numpy as np\n",
        "\n",
        "df=pd.Series(np.arange(1,51))\n",
        "print(df.axes)\n",
        "\n",
        "import pandas as pd\n",
        "import numpy as np\n",
        "\n",
        "df=pd.Series(np.arange(1,51))\n",
        "print(df.values)\n",
        "\n",
        "import pandas as pd\n",
        "import numpy as np\n",
        "\n",
        "df=pd.Series(np.arange(1,51))\n",
        "print(df.head(6))\n",
        "\n",
        "\n",
        "import pandas as pd\n",
        "import numpy as np\n",
        "\n",
        "df=pd.Series(np.arange(1,51))\n",
        "print(df.tail(6))\n",
        "\n",
        "import pandas as pd\n",
        "import numpy as np\n",
        "\n",
        "d={'odd':np.arange(1, 100, 2),\n",
        "   'even':np.arange(0, 100, 2)}\n",
        "print(d['odd'])\n",
        "print(d['even'])\n",
        "df=pd.DataFrame(d)\n",
        "\n",
        "import pandas as pd\n",
        "import numpy as np\n",
        "\n",
        "d={'odd':np.arange(1,100,2),\n",
        "   'even':np.arange(0,100,2)}\n",
        "print(d['odd'])\n",
        "print(d['even'])\n",
        "df=pd.DataFrame(d)\n",
        "print(df.sum())\n",
        "\n",
        "\n",
        "import pandas as pd\n",
        "import numpy as np\n",
        "\n",
        "d={'odd':np.arange(1,100,2),\n",
        "   'even':np.arange(0,100,2)}\n",
        "print(d['odd'])\n",
        "print(d['even'])\n",
        "df=pd.DataFrame(d)\n",
        "print(df.std())\n"
      ],
      "metadata": {
        "id": "UidntnUX6rL0"
      },
      "execution_count": null,
      "outputs": []
    },
    {
      "cell_type": "code",
      "source": [
        "import pandas as pd\n",
        "\n",
        "world_cup={'Team':['West Indies','West indies','India','Australia','Pakistan','Sri Lanka','Australia','Australia','Australia','Insia','Australia'],\n",
        "           'Rank':[7,7,2,1,6,4,1,1,1,2,1],\n",
        "           'Year':[1975,1979,1983,1987,1992,1996,1999,2003,2007,2011,2015]}\n",
        "df=pd.DataFrame(world_cup)\n",
        "print(df)\n",
        "print(df.groupby('Team').groups)\n",
        "print(df.groupby('Team','Rank').groups)\n",
        "\n",
        "grouped=df.groupby('Team')\n",
        "for name,group in grouped:\n",
        "    print(name)\n",
        "\n",
        "\n",
        "grouped = df.groupby('Team')\n",
        "print(grouped.get_group('India'))\n",
        "\n",
        "import pandas\n",
        "world_champions={'Team':['India','Australia','West Indies','Pakistan','Sri Lanka'],\n",
        "           'ICC_rank':[2,3,7,8,4],\n",
        "           'World_champions_Year':[2011,2015,1979,1992,1996],\n",
        "           'Points':[874,787,753,673,855]}\n",
        "\n",
        "chokers={'Team':['South Africa','New Zealand','Zimbabwe'],\n",
        "           'ICC_rank':[1,5,9],\n",
        "           'Points':[895,764,656]}\n",
        "\n",
        "df1=pandas.DataFrame(world_champions)\n",
        "df2=pandas.DataFrame(chokers)\n",
        "\n",
        "import pandas\n",
        "world_champions={'Team':['India','Australia','West Indies','Pakistan','Sri Lanka'],\n",
        "           'ICC_rank':[2,3,7,8,4],\n",
        "           'World_champions_Year':[2011,2015,1979,1992,1996],\n",
        "           'Points':[874,787,753,673,855]}\n",
        "\n",
        "chokers={'Team':['South Africa','New Zealand','Zimbabwe'],\n",
        "           'ICC_rank':[1,5,9],\n",
        "           'Points':[895,764,656]}\n",
        "\n",
        "df1=pandas.DataFrame(world_champions)\n",
        "df2=pandas.DataFrame(chokers)\n",
        "print(pandas.merge(df1,df2,on='Team',how='left'))\n",
        "\n",
        "print(pandas.concat([df1,df2],axis=1))\n",
        "print(df1.append(df2))\n",
        "print(pandas.concat([df1,df2]))\n",
        "print(pandas.concat([df1,df2],axis=1))\n",
        "\n",
        "\n",
        "\n",
        "\n",
        "import pandas\n",
        "champion_stats={'Team':['India','Australia','West Indies','Pakistan','Sri Lanka'],\n",
        "           'ICC_rank':[2,3,7,8,4],\n",
        "           'World_champions_Year':[2011,2015,1979,1992,1996],\n",
        "           'Points':[874,787,753,673,855]}\n",
        "\n",
        "match_stats={'Team':['India','Australia','West Indies','Pakistan','Sri Lanka'],\n",
        "             'World_cup_played':[11,10,11,9,8],\n",
        "             'ODIs_played':[733,988,712,679,662]}\n",
        "\n",
        "\n",
        "df1=pandas.DataFrame(champion_stats)\n",
        "df2=pandas.DataFrame(match_stats)\n",
        "\n",
        "print(df1)\n",
        "print(df2)\n",
        "print(pandas.merge(df1,df2,on='Team'))"
      ],
      "metadata": {
        "id": "84cZ4RV56sH3"
      },
      "execution_count": null,
      "outputs": []
    },
    {
      "cell_type": "code",
      "source": [
        "import pandas as pd\n",
        "dataset=pd.read_csv(\"AllCountries.csv\")\n",
        "print(dataset.shape)\n",
        "\n",
        "\n",
        "import pandas as pd\n",
        "dataset=pd.read_csv(\"AllCountries.csv\")\n",
        "print(dataset.dtypes)\n",
        "\n",
        "\n",
        "import pandas as pd\n",
        "dataset=pd.read_csv(\"AllCountries.csv\")\n",
        "print(dataset.head(5))\n",
        "\n",
        "\n",
        "import pandas as pd\n",
        "dataset=pd.read_csv(\"AllCountries.csv\")\n",
        "print(dataset.describe())\n",
        "\n",
        "\n",
        "import pandas as pd\n",
        "dataset=pd.read_csv(\"AllCountries.csv\")\n",
        "selected_data=dataset.loc[:,['Country','LandArea']]\n",
        "for i in selected_data.itertuples():\n",
        "    if i[2]>2000:\n",
        "        print(i)\n",
        "\n",
        "\n",
        "\n",
        "import pandas\n",
        "import numpy\n",
        "import matplotlib.pyplot as plt\n",
        "plt.figure(figsize=(50,50))\n",
        "dataset=pandas.read_csv(\"AllCountries.csv\")\n",
        "selected_data=dataset.loc[:,['Country','GDP','BirthRate']]\n",
        "x=numpy.array(selected_data[\"GDP\"])\n",
        "y=numpy.array(selected_data['BirthRate'])\n",
        "print(x,y)\n",
        "plt.scatter(x,y)\n",
        "plt.xlim(0,20000)\n",
        "plt.show()\n",
        "\n",
        "\n",
        "\n",
        "import pandas\n",
        "import matplotlib.pyplot as plt\n",
        "plt.figure(figsize=(50,50))\n",
        "dataset=pandas.read_csv(\"AllCountries.csv\")\n",
        "selected_data=dataset.loc[:,['Country','GDP','BirthRate']]\n",
        "sorted_data=selected_data.sort_index(by='GDP',ascending=False)\n",
        "selected_sorted_data=sorted_data.iloc[:10]\u000bprint(selected_sorted_data)\n",
        "plt.pie(selected_sorted_data['GDP'],labels=selected_sorted_data['Country'])\n",
        "plt.show()\n",
        "\n",
        "\n",
        "\n",
        "\n",
        "\n"
      ],
      "metadata": {
        "id": "grjLX8v46yNq"
      },
      "execution_count": null,
      "outputs": []
    },
    {
      "cell_type": "code",
      "source": [
        "import pandas as pd\n",
        "import numpy as np\n",
        "\n",
        "d = {'odd': np.arange(1, 100, 2), 'even': np.arange(0, 100, 2)}\n",
        "print(d['odd'])\n",
        "print(d['even'])\n",
        "df = pd.DataFrame(d)\n",
        "print(df.std())"
      ],
      "metadata": {
        "id": "UVpDGcCc61eZ"
      },
      "execution_count": null,
      "outputs": []
    },
    {
      "cell_type": "code",
      "source": [
        "import pandas as pd\n",
        "import numpy as np\n",
        "\n",
        "d = {'odd': np.arange(1, 100, 2), 'even': np.arange(0, 100, 2)}\n",
        "print(d['odd'])\n",
        "print(d['even'])\n",
        "df = pd.DataFrame(d)\n",
        "print(df.sum())"
      ],
      "metadata": {
        "id": "0SWG1o9H6_fE"
      },
      "execution_count": null,
      "outputs": []
    },
    {
      "cell_type": "code",
      "source": [
        "import pandas as pd\n",
        "import numpy as np\n",
        "\n",
        "df = pd.Series(np.arange(1, 51))\n",
        "print(df.tail(6))"
      ],
      "metadata": {
        "id": "9Qf3lxos7F9B"
      },
      "execution_count": null,
      "outputs": []
    },
    {
      "cell_type": "code",
      "source": [
        "import pandas as pd\n",
        "import numpy as np\n",
        "\n",
        "df = pd.Series(np.arange(1, 51))\n",
        "print(df.values)"
      ],
      "metadata": {
        "id": "z6fntGYR7Jcn"
      },
      "execution_count": null,
      "outputs": []
    }
  ]
}